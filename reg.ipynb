{
 "cells": [
  {
   "cell_type": "code",
   "execution_count": 1,
   "metadata": {},
   "outputs": [
    {
     "name": "stdout",
     "output_type": "stream",
     "text": [
      "1,ashok,ashok@gmail.com,9676622023\n",
      "2,PAVAN,PAVAN1@gmail.com,9676622024\n",
      "3,suresh,suresh2@gmail.com,9676622025\n",
      "4,jay,jay3@gmail.com,9676622026\n",
      "\n"
     ]
    }
   ],
   "source": [
    "s=\"1,ashok,ashok@gmail.com,9676622023\\n\\\n",
    "2,PAVAN,PAVAN1@gmail.com,9676622024\\n\\\n",
    "3,suresh,suresh2@gmail.com,9676622025\\n\\\n",
    "4,jay,jay3@gmail.com,9676622026\\n\\\n",
    "\"\n",
    "print s"
   ]
  },
  {
   "cell_type": "code",
   "execution_count": 2,
   "metadata": {},
   "outputs": [
    {
     "name": "stdout",
     "output_type": "stream",
     "text": [
      "9676622023\n",
      "9676622024\n",
      "9676622025\n",
      "9676622026\n"
     ]
    }
   ],
   "source": [
    "for row in s.splitlines():\n",
    "    print row.split(\",\")[-1]"
   ]
  },
  {
   "cell_type": "code",
   "execution_count": 4,
   "metadata": {},
   "outputs": [
    {
     "name": "stdout",
     "output_type": "stream",
     "text": [
      "1,ashok,ashok@gmail.com,9676622023\n",
      "9676622024,2,PAVAN,PAVAN1@gmail.com\n",
      "suresh2@gmail.com,3,suresh,9676622025\n",
      "jay,4,jay3@gmail.com,9676622026\n",
      "\n",
      "9676622023\n",
      "PAVAN1@gmail.com\n",
      "9676622025\n",
      "9676622026\n"
     ]
    }
   ],
   "source": [
    "s=\"1,ashok,ashok@gmail.com,9676622023\\n\\\n",
    "9676622024,2,PAVAN,PAVAN1@gmail.com\\n\\\n",
    "suresh2@gmail.com,3,suresh,9676622025\\n\\\n",
    "jay,4,jay3@gmail.com,9676622026\\n\\\n",
    "\"\n",
    "print s\n",
    "for row in s.splitlines():\n",
    "    print row.split(\",\")[-1]"
   ]
  },
  {
   "cell_type": "code",
   "execution_count": 5,
   "metadata": {},
   "outputs": [
    {
     "name": "stdout",
     "output_type": "stream",
     "text": [
      "['9676622023', '9676622024', '9676622025', '9676622026']\n"
     ]
    }
   ],
   "source": [
    "s=\"1,ashok,ashok@gmail.com,9676622023\\n\\\n",
    "9676622024,2,PAVAN,PAVAN1@gmail.com\\n\\\n",
    "suresh2@gmail.com,3,suresh,9676622025\\n\\\n",
    "jay,4,jay3@gmail.com,9676622026\\n\\\n",
    "\"\n",
    "import re\n",
    "print re.findall(\"[0-9]{10}\",s)"
   ]
  },
  {
   "cell_type": "code",
   "execution_count": 6,
   "metadata": {},
   "outputs": [
    {
     "name": "stdout",
     "output_type": "stream",
     "text": [
      "['a', 'a', 'a', 'c', 'a', 'c', 'a', 'c', 'a', 'a', 'a', 'c']\n"
     ]
    }
   ],
   "source": [
    "s=\"1,ashok,ashok@gmail.com,9676622023\\n\\\n",
    "9676622024,2,PAVAN,PAVAN1@gmail.com\\n\\\n",
    "suresh2@gmail.com,3,suresh,9676622025\\n\\\n",
    "jay,4,jay3@gmail.com,9676622026\\n\\\n",
    "\"\n",
    "import re\n",
    "print re.findall(\"[abcd]\",s)"
   ]
  },
  {
   "cell_type": "code",
   "execution_count": 7,
   "metadata": {},
   "outputs": [
    {
     "name": "stdout",
     "output_type": "stream",
     "text": [
      "['a', 'a', 'a', 'c', 'A', 'A', 'A', 'A', 'a', 'c', 'a', 'c', 'a', 'a', 'a', 'c']\n"
     ]
    }
   ],
   "source": [
    "s=\"1,ashok,ashok@gmail.com,9676622023\\n\\\n",
    "9676622024,2,PAVAN,PAVAN1@gmail.com\\n\\\n",
    "suresh2@gmail.com,3,suresh,9676622025\\n\\\n",
    "jay,4,jay3@gmail.com,9676622026\\n\\\n",
    "\"\n",
    "import re\n",
    "print re.findall(\"[abcd]\",s,re.I)"
   ]
  },
  {
   "cell_type": "code",
   "execution_count": 8,
   "metadata": {},
   "outputs": [
    {
     "name": "stdout",
     "output_type": "stream",
     "text": [
      "['a', 's', 'h', 'o', 'k', 'a', 's', 'h', 'o', 'k', 'g', 'm', 'a', 'i', 'l', 'c', 'o', 'm', 'P', 'A', 'V', 'A', 'N', 'P', 'A', 'V', 'A', 'N', 'g', 'm', 'a', 'i', 'l', 'c', 'o', 'm', 's', 'u', 'r', 'e', 's', 'h', 'g', 'm', 'a', 'i', 'l', 'c', 'o', 'm', 's', 'u', 'r', 'e', 's', 'h', 'j', 'a', 'y', 'j', 'a', 'y', 'g', 'm', 'a', 'i', 'l', 'c', 'o', 'm']\n"
     ]
    }
   ],
   "source": [
    "s=\"1,ashok,ashok@gmail.com,9676622023\\n\\\n",
    "9676622024,2,PAVAN,PAVAN1@gmail.com\\n\\\n",
    "suresh2@gmail.com,3,suresh,9676622025\\n\\\n",
    "jay,4,jay3@gmail.com,9676622026\\n\\\n",
    "\"\n",
    "import re\n",
    "print re.findall(\"[a-z]\",s,re.I)"
   ]
  },
  {
   "cell_type": "code",
   "execution_count": 9,
   "metadata": {},
   "outputs": [
    {
     "name": "stdout",
     "output_type": "stream",
     "text": [
      "['1', '9', '6', '7', '6', '6', '2', '2', '0', '2', '3', '9', '6', '7', '6', '6', '2', '2', '0', '2', '4', '2', '1', '2', '3', '9', '6', '7', '6', '6', '2', '2', '0', '2', '5', '4', '3', '9', '6', '7', '6', '6', '2', '2', '0', '2', '6']\n"
     ]
    }
   ],
   "source": [
    "s=\"1,ashok,ashok@gmail.com,9676622023\\n\\\n",
    "9676622024,2,PAVAN,PAVAN1@gmail.com\\n\\\n",
    "suresh2@gmail.com,3,suresh,9676622025\\n\\\n",
    "jay,4,jay3@gmail.com,9676622026\\n\\\n",
    "\"\n",
    "import re\n",
    "print re.findall(\"[0-9]\",s,re.I)"
   ]
  },
  {
   "cell_type": "code",
   "execution_count": 10,
   "metadata": {},
   "outputs": [
    {
     "name": "stdout",
     "output_type": "stream",
     "text": [
      "['N1', 'h2', 'y3']\n"
     ]
    }
   ],
   "source": [
    "s=\"1,ashok,ashok@gmail.com,9676622023\\n\\\n",
    "9676622024,2,PAVAN,PAVAN1@gmail.com\\n\\\n",
    "suresh2@gmail.com,3,suresh,9676622025\\n\\\n",
    "jay,4,jay3@gmail.com,9676622026\\n\\\n",
    "\"\n",
    "import re\n",
    "print re.findall(\"[a-z][0-9]\",s,re.I)"
   ]
  },
  {
   "cell_type": "code",
   "execution_count": 11,
   "metadata": {},
   "outputs": [
    {
     "name": "stdout",
     "output_type": "stream",
     "text": [
      "['96', '76', '62', '20', '23', '96', '76', '62', '20', '24', '96', '76', '62', '20', '25', '96', '76', '62', '20', '26']\n"
     ]
    }
   ],
   "source": [
    "s=\"1,ashok,ashok@gmail.com,9676622023\\n\\\n",
    "9676622024,2,PAVAN,PAVAN1@gmail.com\\n\\\n",
    "suresh2@gmail.com,3,suresh,9676622025\\n\\\n",
    "jay,4,jay3@gmail.com,9676622026\\n\\\n",
    "\"\n",
    "import re\n",
    "print re.findall(\"[0-9][0-9]\",s,re.I)"
   ]
  },
  {
   "cell_type": "code",
   "execution_count": 12,
   "metadata": {},
   "outputs": [
    {
     "name": "stdout",
     "output_type": "stream",
     "text": [
      "['967', '662', '202', '967', '662', '202', '967', '662', '202', '967', '662', '202']\n"
     ]
    }
   ],
   "source": [
    "s=\"1,ashok,ashok@gmail.com,9676622023\\n\\\n",
    "9676622024,2,PAVAN,PAVAN1@gmail.com\\n\\\n",
    "suresh2@gmail.com,3,suresh,9676622025\\n\\\n",
    "jay,4,jay3@gmail.com,9676622026\\n\\\n",
    "\"\n",
    "import re\n",
    "print re.findall(\"[0-9][0-9][0-9]\",s,re.I)"
   ]
  },
  {
   "cell_type": "code",
   "execution_count": 13,
   "metadata": {},
   "outputs": [
    {
     "name": "stdout",
     "output_type": "stream",
     "text": [
      "['9676', '6220', '9676', '6220', '9676', '6220', '9676', '6220']\n"
     ]
    }
   ],
   "source": [
    "s=\"1,ashok,ashok@gmail.com,9676622023\\n\\\n",
    "9676622024,2,PAVAN,PAVAN1@gmail.com\\n\\\n",
    "suresh2@gmail.com,3,suresh,9676622025\\n\\\n",
    "jay,4,jay3@gmail.com,9676622026\\n\\\n",
    "\"\n",
    "import re\n",
    "print re.findall(\"[0-9][0-9][0-9][0-9]\",s,re.I)"
   ]
  },
  {
   "cell_type": "code",
   "execution_count": 14,
   "metadata": {},
   "outputs": [
    {
     "name": "stdout",
     "output_type": "stream",
     "text": [
      "['9676622023', '9676622024', '9676622025', '9676622026']\n"
     ]
    }
   ],
   "source": [
    "s=\"1,ashok,ashok@gmail.com,9676622023\\n\\\n",
    "9676622024,2,PAVAN,PAVAN1@gmail.com\\n\\\n",
    "suresh2@gmail.com,3,suresh,9676622025\\n\\\n",
    "jay,4,jay3@gmail.com,9676622026\\n\\\n",
    "\"\n",
    "import re\n",
    "print re.findall(\"[0-9]{10}\",s,re.I)"
   ]
  },
  {
   "cell_type": "code",
   "execution_count": 15,
   "metadata": {},
   "outputs": [
    {
     "name": "stdout",
     "output_type": "stream",
     "text": [
      "['1', '9676622023', '9676622024', '2', '1', '2', '3', '9676622025', '4', '3', '9676622026']\n"
     ]
    }
   ],
   "source": [
    "s=\"1,ashok,ashok@gmail.com,9676622023\\n\\\n",
    "9676622024,2,PAVAN,PAVAN1@gmail.com\\n\\\n",
    "suresh2@gmail.com,3,suresh,9676622025\\n\\\n",
    "jay,4,jay3@gmail.com,9676622026\\n\\\n",
    "\"\n",
    "import re\n",
    "print re.findall(\"[0-9]{1,10}\",s,re.I)"
   ]
  },
  {
   "cell_type": "code",
   "execution_count": 16,
   "metadata": {},
   "outputs": [
    {
     "name": "stdout",
     "output_type": "stream",
     "text": [
      "['1', '9', '6', '7', '6', '6', '2', '2', '0', '2', '3', '9', '6', '7', '6', '6', '2', '2', '0', '2', '4', '2', '1', '2', '3', '9', '6', '7', '6', '6', '2', '2', '0', '2', '5', '4', '3', '9', '6', '7', '6', '6', '2', '2', '0', '2', '6']\n"
     ]
    }
   ],
   "source": [
    "s=\"1,ashok,ashok@gmail.com,9676622023\\n\\\n",
    "9676622024,2,PAVAN,PAVAN1@gmail.com\\n\\\n",
    "suresh2@gmail.com,3,suresh,9676622025\\n\\\n",
    "jay,4,jay3@gmail.com,9676622026\\n\\\n",
    "\"\n",
    "import re\n",
    "print re.findall(\"[0-9]{1}\",s,re.I)"
   ]
  },
  {
   "cell_type": "code",
   "execution_count": 17,
   "metadata": {},
   "outputs": [
    {
     "name": "stdout",
     "output_type": "stream",
     "text": [
      "['9676622023', '20000', '9676622024', '30000', '40000', '9676622025', '50000', '9676622026']\n"
     ]
    }
   ],
   "source": [
    "s=\"1,ashok,ashok@gmail.com,9676622023,20000\\n\\\n",
    "9676622024,2,PAVAN,30000,PAVAN1@gmail.com\\n\\\n",
    "40000,suresh2@gmail.com,3,suresh,9676622025\\n\\\n",
    "jay,4,50000,jay3@gmail.com,9676622026\\n\\\n",
    "\"\n",
    "import re\n",
    "print re.findall(\"[0-9]{3,10}\",s,re.I)"
   ]
  },
  {
   "cell_type": "code",
   "execution_count": 18,
   "metadata": {},
   "outputs": [
    {
     "name": "stdout",
     "output_type": "stream",
     "text": [
      "['967', '662', '202', '200', '967', '662', '202', '300', '400', '967', '662', '202', '500', '967', '662', '202']\n"
     ]
    }
   ],
   "source": [
    "s=\"1,ashok,ashok@gmail.com,9676622023,20000\\n\\\n",
    "9676622024,2,PAVAN,30000,PAVAN1@gmail.com\\n\\\n",
    "40000,suresh2@gmail.com,3,suresh,9676622025\\n\\\n",
    "jay,4,50000,jay3@gmail.com,9676622026\\n\\\n",
    "\"\n",
    "import re\n",
    "print re.findall(\"[0-9]{3}\",s,re.I)"
   ]
  },
  {
   "cell_type": "code",
   "execution_count": 19,
   "metadata": {},
   "outputs": [
    {
     "name": "stdout",
     "output_type": "stream",
     "text": [
      "['9676622023', '20000', '9676622024', '30000', '40000', '9676622025', '50000', '9676622026']\n"
     ]
    }
   ],
   "source": [
    "s=\"1,ashok,ashok@gmail.com,9676622023,20000\\n\\\n",
    "9676622024,2,PAVAN,30000,PAVAN1@gmail.com\\n\\\n",
    "40000,suresh2@gmail.com,3,suresh,9676622025\\n\\\n",
    "jay,4,50000,jay3@gmail.com,9676622026\\n\\\n",
    "\"\n",
    "import re\n",
    "print re.findall(\"[0-9]{3,}\",s,re.I)"
   ]
  },
  {
   "cell_type": "code",
   "execution_count": 20,
   "metadata": {},
   "outputs": [
    {
     "name": "stdout",
     "output_type": "stream",
     "text": [
      "['1', '', '', '', '', '', '', '', '', '', '', '', '', '', '', '', '', '', '', '', '', '', '', '', '9676622023', '', '20000', '', '9676622024', '', '2', '', '', '', '', '', '', '', '30000', '', '', '', '', '', '', '1', '', '', '', '', '', '', '', '', '', '', '', '40000', '', '', '', '', '', '', '', '2', '', '', '', '', '', '', '', '', '', '', '', '3', '', '', '', '', '', '', '', '', '9676622025', '', '', '', '', '', '4', '', '50000', '', '', '', '', '3', '', '', '', '', '', '', '', '', '', '', '', '9676622026', '', '']\n"
     ]
    }
   ],
   "source": [
    "s=\"1,ashok,ashok@gmail.com,9676622023,20000\\n\\\n",
    "9676622024,2,PAVAN,30000,PAVAN1@gmail.com\\n\\\n",
    "40000,suresh2@gmail.com,3,suresh,9676622025\\n\\\n",
    "jay,4,50000,jay3@gmail.com,9676622026\\n\\\n",
    "\"\n",
    "import re\n",
    "print re.findall(\"[0-9]{,10}\",s,re.I)"
   ]
  },
  {
   "cell_type": "code",
   "execution_count": 21,
   "metadata": {},
   "outputs": [
    {
     "name": "stdout",
     "output_type": "stream",
     "text": [
      "['1', '9676622023', '20000', '9676622024', '2', '30000', '1', '40000', '2', '3', '9676622025', '4', '50000', '3', '9676622026']\n"
     ]
    }
   ],
   "source": [
    "s=\"1,ashok,ashok@gmail.com,9676622023,20000\\n\\\n",
    "9676622024,2,PAVAN,30000,PAVAN1@gmail.com\\n\\\n",
    "40000,suresh2@gmail.com,3,suresh,9676622025\\n\\\n",
    "jay,4,50000,jay3@gmail.com,9676622026\\n\\\n",
    "\"\n",
    "import re\n",
    "print re.findall(\"[0-9]{1,10}\",s,re.I)"
   ]
  },
  {
   "cell_type": "code",
   "execution_count": 22,
   "metadata": {},
   "outputs": [
    {
     "name": "stdout",
     "output_type": "stream",
     "text": [
      "['1', '9676622023', '20000', '9676622024', '2', '30000', '1', '40000', '2', '3', '9676622025', '4', '50000', '3', '9676622026']\n"
     ]
    }
   ],
   "source": [
    "s=\"1,ashok,ashok@gmail.com,9676622023,20000\\n\\\n",
    "9676622024,2,PAVAN,30000,PAVAN1@gmail.com\\n\\\n",
    "40000,suresh2@gmail.com,3,suresh,9676622025\\n\\\n",
    "jay,4,50000,jay3@gmail.com,9676622026\\n\\\n",
    "\"\n",
    "import re\n",
    "print re.findall(\"[0-9]{1,}\",s,re.I)"
   ]
  },
  {
   "cell_type": "code",
   "execution_count": 23,
   "metadata": {},
   "outputs": [
    {
     "name": "stdout",
     "output_type": "stream",
     "text": [
      "['1', '9676622023', '20000', '9676622024', '2', '30000', '1', '40000', '2', '3', '9676622025', '4', '50000', '3', '9676622026']\n"
     ]
    }
   ],
   "source": [
    "s=\"1,ashok,ashok@gmail.com,9676622023,20000\\n\\\n",
    "9676622024,2,PAVAN,30000,PAVAN1@gmail.com\\n\\\n",
    "40000,suresh2@gmail.com,3,suresh,9676622025\\n\\\n",
    "jay,4,50000,jay3@gmail.com,9676622026\\n\\\n",
    "\"\n",
    "import re\n",
    "print re.findall(\"[0-9]+\",s,re.I)"
   ]
  },
  {
   "cell_type": "code",
   "execution_count": 24,
   "metadata": {},
   "outputs": [
    {
     "name": "stdout",
     "output_type": "stream",
     "text": [
      "['1', '', '', '', '', '', '', '', '', '', '', '', '', '', '', '', '', '', '', '', '', '', '', '', '9676622023', '', '20000', '', '9676622024', '', '2', '', '', '', '', '', '', '', '30000', '', '', '', '', '', '', '1', '', '', '', '', '', '', '', '', '', '', '', '40000', '', '', '', '', '', '', '', '2', '', '', '', '', '', '', '', '', '', '', '', '3', '', '', '', '', '', '', '', '', '9676622025', '', '', '', '', '', '4', '', '50000', '', '', '', '', '3', '', '', '', '', '', '', '', '', '', '', '', '9676622026', '', '']\n"
     ]
    }
   ],
   "source": [
    "s=\"1,ashok,ashok@gmail.com,9676622023,20000\\n\\\n",
    "9676622024,2,PAVAN,30000,PAVAN1@gmail.com\\n\\\n",
    "40000,suresh2@gmail.com,3,suresh,9676622025\\n\\\n",
    "jay,4,50000,jay3@gmail.com,9676622026\\n\\\n",
    "\"\n",
    "import re\n",
    "print re.findall(\"[0-9]{0,}\",s,re.I)"
   ]
  },
  {
   "cell_type": "code",
   "execution_count": 25,
   "metadata": {},
   "outputs": [
    {
     "name": "stdout",
     "output_type": "stream",
     "text": [
      "['1', '', '', '', '', '', '', '', '', '', '', '', '', '', '', '', '', '', '', '', '', '', '', '', '9676622023', '', '20000', '', '9676622024', '', '2', '', '', '', '', '', '', '', '30000', '', '', '', '', '', '', '1', '', '', '', '', '', '', '', '', '', '', '', '40000', '', '', '', '', '', '', '', '2', '', '', '', '', '', '', '', '', '', '', '', '3', '', '', '', '', '', '', '', '', '9676622025', '', '', '', '', '', '4', '', '50000', '', '', '', '', '3', '', '', '', '', '', '', '', '', '', '', '', '9676622026', '', '']\n"
     ]
    }
   ],
   "source": [
    "s=\"1,ashok,ashok@gmail.com,9676622023,20000\\n\\\n",
    "9676622024,2,PAVAN,30000,PAVAN1@gmail.com\\n\\\n",
    "40000,suresh2@gmail.com,3,suresh,9676622025\\n\\\n",
    "jay,4,50000,jay3@gmail.com,9676622026\\n\\\n",
    "\"\n",
    "import re\n",
    "print re.findall(\"[0-9]*\",s,re.I)"
   ]
  },
  {
   "cell_type": "code",
   "execution_count": 26,
   "metadata": {},
   "outputs": [
    {
     "name": "stdout",
     "output_type": "stream",
     "text": [
      "['1', '9', '6', '7', '6', '6', '2', '2', '0', '2', '3', '2', '0', '0', '0', '0', '9', '6', '7', '6', '6', '2', '2', '0', '2', '4', '2', '3', '0', '0', '0', '0', '1', '4', '0', '0', '0', '0', '2', '3', '9', '6', '7', '6', '6', '2', '2', '0', '2', '5', '4', '5', '0', '0', '0', '0', '3', '9', '6', '7', '6', '6', '2', '2', '0', '2', '6']\n"
     ]
    }
   ],
   "source": [
    "s=\"1,ashok,ashok@gmail.com,9676622023,20000\\n\\\n",
    "9676622024,2,PAVAN,30000,PAVAN1@gmail.com\\n\\\n",
    "40000,suresh2@gmail.com,3,suresh,9676622025\\n\\\n",
    "jay,4,50000,jay3@gmail.com,9676622026\\n\\\n",
    "\"\n",
    "import re\n",
    "print re.findall(\"[0-9]{1}\",s,re.I)"
   ]
  },
  {
   "cell_type": "code",
   "execution_count": 27,
   "metadata": {},
   "outputs": [
    {
     "name": "stdout",
     "output_type": "stream",
     "text": [
      "['1', '', '', '', '', '', '', '', '', '', '', '', '', '', '', '', '', '', '', '', '', '', '', '', '9', '6', '7', '6', '6', '2', '2', '0', '2', '3', '', '2', '0', '0', '0', '0', '', '9', '6', '7', '6', '6', '2', '2', '0', '2', '4', '', '2', '', '', '', '', '', '', '', '3', '0', '0', '0', '0', '', '', '', '', '', '', '1', '', '', '', '', '', '', '', '', '', '', '', '4', '0', '0', '0', '0', '', '', '', '', '', '', '', '2', '', '', '', '', '', '', '', '', '', '', '', '3', '', '', '', '', '', '', '', '', '9', '6', '7', '6', '6', '2', '2', '0', '2', '5', '', '', '', '', '', '4', '', '5', '0', '0', '0', '0', '', '', '', '', '3', '', '', '', '', '', '', '', '', '', '', '', '9', '6', '7', '6', '6', '2', '2', '0', '2', '6', '', '']\n"
     ]
    }
   ],
   "source": [
    "s=\"1,ashok,ashok@gmail.com,9676622023,20000\\n\\\n",
    "9676622024,2,PAVAN,30000,PAVAN1@gmail.com\\n\\\n",
    "40000,suresh2@gmail.com,3,suresh,9676622025\\n\\\n",
    "jay,4,50000,jay3@gmail.com,9676622026\\n\\\n",
    "\"\n",
    "import re\n",
    "print re.findall(\"[0-9]?\",s,re.I)"
   ]
  },
  {
   "cell_type": "code",
   "execution_count": 28,
   "metadata": {},
   "outputs": [
    {
     "name": "stdout",
     "output_type": "stream",
     "text": [
      "['1', '9', '6', '7', '6', '6', '2', '2', '0', '2', '3', '2', '0', '0', '0', '0', '9', '6', '7', '6', '6', '2', '2', '0', '2', '4', '2', '3', '0', '0', '0', '0', '1', '4', '0', '0', '0', '0', '2', '3', '9', '6', '7', '6', '6', '2', '2', '0', '2', '5', '4', '5', '0', '0', '0', '0', '3', '9', '6', '7', '6', '6', '2', '2', '0', '2', '6']\n"
     ]
    }
   ],
   "source": [
    "s=\"1,ashok,ashok@gmail.com,9676622023,20000\\n\\\n",
    "9676622024,2,PAVAN,30000,PAVAN1@gmail.com\\n\\\n",
    "40000,suresh2@gmail.com,3,suresh,9676622025\\n\\\n",
    "jay,4,50000,jay3@gmail.com,9676622026\\n\\\n",
    "\"\n",
    "import re\n",
    "print re.findall(\"[0-9]\",s,re.I)"
   ]
  },
  {
   "cell_type": "code",
   "execution_count": 29,
   "metadata": {},
   "outputs": [
    {
     "name": "stdout",
     "output_type": "stream",
     "text": [
      "[',', 'a', 's', 'h', 'o', 'k', ',', 'a', 's', 'h', 'o', 'k', '@', 'g', 'm', 'a', 'i', 'l', '.', 'c', 'o', 'm', ',', ',', '\\n', ',', ',', 'P', 'A', 'V', 'A', 'N', ',', ',', 'P', 'A', 'V', 'A', 'N', '@', 'g', 'm', 'a', 'i', 'l', '.', 'c', 'o', 'm', '\\n', ',', 's', 'u', 'r', 'e', 's', 'h', '@', 'g', 'm', 'a', 'i', 'l', '.', 'c', 'o', 'm', ',', ',', 's', 'u', 'r', 'e', 's', 'h', ',', '\\n', 'j', 'a', 'y', ',', ',', ',', 'j', 'a', 'y', '@', 'g', 'm', 'a', 'i', 'l', '.', 'c', 'o', 'm', ',', '\\n']\n"
     ]
    }
   ],
   "source": [
    "s=\"1,ashok,ashok@gmail.com,9676622023,20000\\n\\\n",
    "9676622024,2,PAVAN,30000,PAVAN1@gmail.com\\n\\\n",
    "40000,suresh2@gmail.com,3,suresh,9676622025\\n\\\n",
    "jay,4,50000,jay3@gmail.com,9676622026\\n\\\n",
    "\"\n",
    "import re\n",
    "print re.findall(\"[^0-9]\",s,re.I)"
   ]
  },
  {
   "cell_type": "code",
   "execution_count": 30,
   "metadata": {},
   "outputs": [
    {
     "name": "stdout",
     "output_type": "stream",
     "text": [
      "['1']\n"
     ]
    }
   ],
   "source": [
    "s=\"1,ashok,ashok@gmail.com,9676622023,20000\\n\\\n",
    "9676622024,2,PAVAN,30000,PAVAN1@gmail.com\\n\\\n",
    "40000,suresh2@gmail.com,3,suresh,9676622025\\n\\\n",
    "jay,4,50000,jay3@gmail.com,9676622026\\n\\\n",
    "\"\n",
    "import re\n",
    "print re.findall(\"^[0-9]\",s,re.I)"
   ]
  },
  {
   "cell_type": "code",
   "execution_count": 31,
   "metadata": {},
   "outputs": [
    {
     "name": "stdout",
     "output_type": "stream",
     "text": [
      "[]\n"
     ]
    }
   ],
   "source": [
    "s=\"1,ashok,ashok@gmail.com,9676622023,20000\\n\\\n",
    "9676622024,2,PAVAN,30000,PAVAN1@gmail.com\\n\\\n",
    "40000,suresh2@gmail.com,3,suresh,9676622025\\n\\\n",
    "jay,4,50000,jay3@gmail.com,9676622026\\n\\\n",
    "\"\n",
    "import re\n",
    "print re.findall(\"^[a-z]\",s,re.I)"
   ]
  },
  {
   "cell_type": "code",
   "execution_count": 32,
   "metadata": {},
   "outputs": [
    {
     "name": "stdout",
     "output_type": "stream",
     "text": [
      "['6']\n"
     ]
    }
   ],
   "source": [
    "s=\"1,ashok,ashok@gmail.com,9676622023,20000\\n\\\n",
    "9676622024,2,PAVAN,30000,PAVAN1@gmail.com\\n\\\n",
    "40000,suresh2@gmail.com,3,suresh,9676622025\\n\\\n",
    "jay,4,50000,jay3@gmail.com,9676622026\\n\\\n",
    "\"\n",
    "import re\n",
    "print re.findall(\"[0-9]$\",s,re.I)"
   ]
  },
  {
   "cell_type": "code",
   "execution_count": 33,
   "metadata": {},
   "outputs": [
    {
     "name": "stdout",
     "output_type": "stream",
     "text": [
      "[]\n"
     ]
    }
   ],
   "source": [
    "s=\"1,ashok,ashok@gmail.com,9676622023,20000\\n\\\n",
    "9676622024,2,PAVAN,30000,PAVAN1@gmail.com\\n\\\n",
    "40000,suresh2@gmail.com,3,suresh,9676622025\\n\\\n",
    "jay,4,50000,jay3@gmail.com,9676622026\\n\\\n",
    "\"\n",
    "import re\n",
    "print re.findall(\"[a-z]$\",s,re.I)"
   ]
  },
  {
   "cell_type": "code",
   "execution_count": 34,
   "metadata": {},
   "outputs": [
    {
     "name": "stdout",
     "output_type": "stream",
     "text": [
      "['1']\n"
     ]
    }
   ],
   "source": [
    "s=\"1,ashok,ashok@gmail.com,9676622023,20000\\n\\\n",
    "9676622024,2,PAVAN,30000,PAVAN1@gmail.com\\n\\\n",
    "40000,suresh2@gmail.com,3,suresh,9676622025\\n\\\n",
    "jay,4,50000,jay3@gmail.com,9676622026\\n\\\n",
    "\"\n",
    "import re\n",
    "print re.findall(\"^[0-9]\",s,re.I)"
   ]
  },
  {
   "cell_type": "code",
   "execution_count": 35,
   "metadata": {},
   "outputs": [
    {
     "name": "stdout",
     "output_type": "stream",
     "text": [
      "['1', '9', '4']\n"
     ]
    }
   ],
   "source": [
    "s=\"1,ashok,ashok@gmail.com,9676622023,20000\\n\\\n",
    "9676622024,2,PAVAN,30000,PAVAN1@gmail.com\\n\\\n",
    "40000,suresh2@gmail.com,3,suresh,9676622025\\n\\\n",
    "jay,4,50000,jay3@gmail.com,9676622026\\n\\\n",
    "\"\n",
    "import re\n",
    "print re.findall(\"^[0-9]\",s,re.M)"
   ]
  },
  {
   "cell_type": "code",
   "execution_count": 36,
   "metadata": {},
   "outputs": [
    {
     "name": "stdout",
     "output_type": "stream",
     "text": [
      "['0', '5', '6']\n"
     ]
    }
   ],
   "source": [
    "s=\"1,ashok,ashok@gmail.com,9676622023,20000\\n\\\n",
    "9676622024,2,PAVAN,30000,PAVAN1@gmail.com\\n\\\n",
    "40000,suresh2@gmail.com,3,suresh,9676622025\\n\\\n",
    "jay,4,50000,jay3@gmail.com,9676622026\\n\\\n",
    "\"\n",
    "import re\n",
    "print re.findall(\"[0-9]$\",s,re.M)"
   ]
  },
  {
   "cell_type": "code",
   "execution_count": 38,
   "metadata": {},
   "outputs": [
    {
     "name": "stdout",
     "output_type": "stream",
     "text": [
      "['1', ',', 'a', 's', 'h', 'o', 'k', ',', 'a', 's', 'h', 'o', 'k', '@', 'g', 'm', 'a', 'i', 'l', '.', 'c', 'o', 'm', ',', '9', '6', '7', '6', '6', '2', '2', '0', '2', '3', ',', '2', '0', '0', '0', '0', '9', '6', '7', '6', '6', '2', '2', '0', '2', '4', ',', '2', ',', 'P', 'A', 'V', 'A', 'N', ',', '3', '0', '0', '0', '0', ',', 'P', 'A', 'V', 'A', 'N', '1', '@', 'g', 'm', 'a', 'i', 'l', '.', 'c', 'o', 'm', '4', '0', '0', '0', '0', ',', 's', 'u', 'r', 'e', 's', 'h', '2', '@', 'g', 'm', 'a', 'i', 'l', '.', 'c', 'o', 'm', ',', '3', ',', 's', 'u', 'r', 'e', 's', 'h', ',', '9', '6', '7', '6', '6', '2', '2', '0', '2', '5', 'j', 'a', 'y', ',', '4', ',', '5', '0', '0', '0', '0', ',', 'j', 'a', 'y', '3', '@', 'g', 'm', 'a', 'i', 'l', '.', 'c', 'o', 'm', ',', '9', '6', '7', '6', '6', '2', '2', '0', '2', '6']\n"
     ]
    }
   ],
   "source": [
    "s=\"1,ashok,ashok@gmail.com,9676622023,20000\\n\\\n",
    "9676622024,2,PAVAN,30000,PAVAN1@gmail.com\\n\\\n",
    "40000,suresh2@gmail.com,3,suresh,9676622025\\n\\\n",
    "jay,4,50000,jay3@gmail.com,9676622026\\n\\\n",
    "\"\n",
    "import re\n",
    "print re.findall(\".\",s)"
   ]
  },
  {
   "cell_type": "code",
   "execution_count": 39,
   "metadata": {},
   "outputs": [
    {
     "name": "stdout",
     "output_type": "stream",
     "text": [
      "['1,a', 'sho', 'k,a', 'sho', 'k@g', 'mai', 'l.c', 'om,', '967', '662', '202', '3,2', '000', '967', '662', '202', '4,2', ',PA', 'VAN', ',30', '000', ',PA', 'VAN', '1@g', 'mai', 'l.c', '400', '00,', 'sur', 'esh', '2@g', 'mai', 'l.c', 'om,', '3,s', 'ure', 'sh,', '967', '662', '202', 'jay', ',4,', '500', '00,', 'jay', '3@g', 'mai', 'l.c', 'om,', '967', '662', '202']\n"
     ]
    }
   ],
   "source": [
    "s=\"1,ashok,ashok@gmail.com,9676622023,20000\\n\\\n",
    "9676622024,2,PAVAN,30000,PAVAN1@gmail.com\\n\\\n",
    "40000,suresh2@gmail.com,3,suresh,9676622025\\n\\\n",
    "jay,4,50000,jay3@gmail.com,9676622026\\n\\\n",
    "\"\n",
    "import re\n",
    "print re.findall(\".{3}\",s)"
   ]
  },
  {
   "cell_type": "code",
   "execution_count": 40,
   "metadata": {},
   "outputs": [
    {
     "name": "stdout",
     "output_type": "stream",
     "text": [
      "['1', ',', 'a', 's', 'h', 'o', 'k', ',', 'a', 's', 'h', 'o', 'k', '@', 'g', 'm', 'a', 'i', 'l', '.', 'c', 'o', 'm', ',', '9', '6', '7', '6', '6', '2', '2', '0', '2', '3', ',', '2', '0', '0', '0', '0', '9', '6', '7', '6', '6', '2', '2', '0', '2', '4', ',', '2', ',', 'P', 'A', 'V', 'A', 'N', ',', '3', '0', '0', '0', '0', ',', 'P', 'A', 'V', 'A', 'N', '1', '@', 'g', 'm', 'a', 'i', 'l', '.', 'c', 'o', 'm', '4', '0', '0', '0', '0', ',', 's', 'u', 'r', 'e', 's', 'h', '2', '@', 'g', 'm', 'a', 'i', 'l', '.', 'c', 'o', 'm', ',', '3', ',', 's', 'u', 'r', 'e', 's', 'h', ',', '9', '6', '7', '6', '6', '2', '2', '0', '2', '5', 'j', 'a', 'y', ',', '4', ',', '5', '0', '0', '0', '0', ',', 'j', 'a', 'y', '3', '@', 'g', 'm', 'a', 'i', 'l', '.', 'c', 'o', 'm', ',', '9', '6', '7', '6', '6', '2', '2', '0', '2', '6']\n"
     ]
    }
   ],
   "source": [
    "s=\"1,ashok,ashok@gmail.com,9676622023,20000\\n\\\n",
    "9676622024,2,PAVAN,30000,PAVAN1@gmail.com\\n\\\n",
    "40000,suresh2@gmail.com,3,suresh,9676622025\\n\\\n",
    "jay,4,50000,jay3@gmail.com,9676622026\\n\\\n",
    "\"\n",
    "import re\n",
    "print re.findall(\".\",s)"
   ]
  },
  {
   "cell_type": "code",
   "execution_count": 41,
   "metadata": {},
   "outputs": [
    {
     "name": "stdout",
     "output_type": "stream",
     "text": [
      "['1', ',', 'a', 's', 'h', 'o', 'k', ',', 'a', 's', 'h', 'o', 'k', '@', 'g', 'm', 'a', 'i', 'l', '.', 'c', 'o', 'm', ',', '9', '6', '7', '6', '6', '2', '2', '0', '2', '3', ',', '2', '0', '0', '0', '0', '\\n', '9', '6', '7', '6', '6', '2', '2', '0', '2', '4', ',', '2', ',', 'P', 'A', 'V', 'A', 'N', ',', '3', '0', '0', '0', '0', ',', 'P', 'A', 'V', 'A', 'N', '1', '@', 'g', 'm', 'a', 'i', 'l', '.', 'c', 'o', 'm', '\\n', '4', '0', '0', '0', '0', ',', 's', 'u', 'r', 'e', 's', 'h', '2', '@', 'g', 'm', 'a', 'i', 'l', '.', 'c', 'o', 'm', ',', '3', ',', 's', 'u', 'r', 'e', 's', 'h', ',', '9', '6', '7', '6', '6', '2', '2', '0', '2', '5', '\\n', 'j', 'a', 'y', ',', '4', ',', '5', '0', '0', '0', '0', ',', 'j', 'a', 'y', '3', '@', 'g', 'm', 'a', 'i', 'l', '.', 'c', 'o', 'm', ',', '9', '6', '7', '6', '6', '2', '2', '0', '2', '6', '\\n']\n"
     ]
    }
   ],
   "source": [
    "s=\"1,ashok,ashok@gmail.com,9676622023,20000\\n\\\n",
    "9676622024,2,PAVAN,30000,PAVAN1@gmail.com\\n\\\n",
    "40000,suresh2@gmail.com,3,suresh,9676622025\\n\\\n",
    "jay,4,50000,jay3@gmail.com,9676622026\\n\\\n",
    "\"\n",
    "import re\n",
    "print re.findall(\".\",s,re.DOTALL)"
   ]
  },
  {
   "cell_type": "code",
   "execution_count": 44,
   "metadata": {},
   "outputs": [
    {
     "name": "stdout",
     "output_type": "stream",
     "text": [
      "[a-z0-9]+@[a-z]+\\.[com.in]+\n",
      "['ashok@gmail.com', '1@yahoo.com', 'suresh2@redif.co.in', 'jay3@microsoft.com']\n"
     ]
    }
   ],
   "source": [
    "s=\"1,ashok,ashok@gmail.com,9676622023,20000\\n\\\n",
    "9676622024,2,PAVAN,30000,PAVAN1@yahoo.com\\n\\\n",
    "40000,suresh2@redif.co.in,3,suresh,9676622025\\n\\\n",
    "jay,4,50000,jay3@microsoft.com,9676622026\\n\\\n",
    "\"\n",
    "# username @ domain extension\n",
    "# username: may be alphabets, it may contains numbers. atleast one element should match\n",
    "user=\"[a-z0-9]+\"\n",
    "at=\"@\"\n",
    "domain=\"[a-z]+\"\n",
    "dot=\"\\.\"\n",
    "ext=\"[com.in]+\"\n",
    "email_reg=user+at+domain+dot+ext\n",
    "print email_reg\n",
    "import re\n",
    "print re.findall(email_reg,s)"
   ]
  },
  {
   "cell_type": "code",
   "execution_count": 45,
   "metadata": {},
   "outputs": [
    {
     "name": "stdout",
     "output_type": "stream",
     "text": [
      "[a-z0-9]+@[a-z]+\\.[com.in]+\n",
      "['ashok@gmail.com', 'PAVAN1@yahoo.com', 'suresh2@redif.co.in', 'jay3@microsoft.com']\n"
     ]
    }
   ],
   "source": [
    "s=\"1,ashok,ashok@gmail.com,9676622023,20000\\n\\\n",
    "9676622024,2,PAVAN,30000,PAVAN1@yahoo.com\\n\\\n",
    "40000,suresh2@redif.co.in,3,suresh,9676622025\\n\\\n",
    "jay,4,50000,jay3@microsoft.com,9676622026\\n\\\n",
    "\"\n",
    "# username @ domain extension\n",
    "# username: may be alphabets, it may contains numbers. atleast one element should match\n",
    "user=\"[a-z0-9]+\"\n",
    "at=\"@\"\n",
    "domain=\"[a-z]+\"\n",
    "dot=\"\\.\"\n",
    "ext=\"[com.in]+\"\n",
    "email_reg=user+at+domain+dot+ext\n",
    "print email_reg\n",
    "import re\n",
    "print re.findall(email_reg,s,re.I)"
   ]
  },
  {
   "cell_type": "code",
   "execution_count": 46,
   "metadata": {},
   "outputs": [
    {
     "name": "stdout",
     "output_type": "stream",
     "text": [
      "[a-z0-9]+@[a-z]+\\.[com.in]+\n",
      "<_sre.SRE_Match object at 0x7f91bc155718>\n",
      "<_sre.SRE_Match object at 0x7f91bc155370>\n",
      "<_sre.SRE_Match object at 0x7f91bc155718>\n",
      "<_sre.SRE_Match object at 0x7f91bc155370>\n"
     ]
    }
   ],
   "source": [
    "s=\"1,ashok,ashok@gmail.com,9676622023,20000\\n\\\n",
    "9676622024,2,PAVAN,30000,PAVAN1@yahoo.com\\n\\\n",
    "40000,suresh2@redif.co.in,3,suresh,9676622025\\n\\\n",
    "jay,4,50000,jay3@microsoft.com,9676622026\\n\\\n",
    "\"\n",
    "# username @ domain extension\n",
    "# username: may be alphabets, it may contains numbers. atleast one element should match\n",
    "user=\"[a-z0-9]+\"\n",
    "at=\"@\"\n",
    "domain=\"[a-z]+\"\n",
    "dot=\"\\.\"\n",
    "ext=\"[com.in]+\"\n",
    "email_reg=user+at+domain+dot+ext\n",
    "print email_reg\n",
    "import re\n",
    "emails_gen = re.finditer(email_reg,s,re.I)\n",
    "for i in emails_gen:\n",
    "    print i"
   ]
  },
  {
   "cell_type": "code",
   "execution_count": 47,
   "metadata": {},
   "outputs": [
    {
     "name": "stdout",
     "output_type": "stream",
     "text": [
      "[a-z0-9]+@[a-z]+\\.[com.in]+\n",
      "ashok@gmail.com\n",
      "PAVAN1@yahoo.com\n",
      "suresh2@redif.co.in\n",
      "jay3@microsoft.com\n"
     ]
    }
   ],
   "source": [
    "s=\"1,ashok,ashok@gmail.com,9676622023,20000\\n\\\n",
    "9676622024,2,PAVAN,30000,PAVAN1@yahoo.com\\n\\\n",
    "40000,suresh2@redif.co.in,3,suresh,9676622025\\n\\\n",
    "jay,4,50000,jay3@microsoft.com,9676622026\\n\\\n",
    "\"\n",
    "# username @ domain extension\n",
    "# username: may be alphabets, it may contains numbers. atleast one element should match\n",
    "user=\"[a-z0-9]+\"\n",
    "at=\"@\"\n",
    "domain=\"[a-z]+\"\n",
    "dot=\"\\.\"\n",
    "ext=\"[com.in]+\"\n",
    "email_reg=user+at+domain+dot+ext\n",
    "print email_reg\n",
    "import re\n",
    "emails_gen = re.finditer(email_reg,s,re.I)\n",
    "for i in emails_gen:\n",
    "    print i.group(0)"
   ]
  },
  {
   "cell_type": "code",
   "execution_count": 48,
   "metadata": {},
   "outputs": [
    {
     "name": "stdout",
     "output_type": "stream",
     "text": [
      "ashok@gmail.com\n",
      "1@yahoo.com\n",
      "suresh2@redif.co.in\n",
      "jay3@microsoft.com\n"
     ]
    }
   ],
   "source": [
    "s=\"1,ashok,ashok@gmail.com,9676622023,20000\\n\\\n",
    "9676622024,2,PAVAN,30000,PAVAN1@yahoo.com\\n\\\n",
    "40000,suresh2@redif.co.in,3,suresh,9676622025\\n\\\n",
    "jay,4,50000,jay3@microsoft.com,9676622026\\n\\\n",
    "\"\n",
    "# username @ domain extension\n",
    "# username: may be alphabets, it may contains numbers. atleast one element should match\n",
    "user=\"[a-z0-9]+\"\n",
    "at=\"@\"\n",
    "domain=\"[a-z]+\"\n",
    "dot=\"\\.\"\n",
    "ext=\"[com.in]+\"\n",
    "email_exp=user+at+domain+dot+ext\n",
    "email_reg=re.compile(email_exp)\n",
    "import re\n",
    "emails_gen = email_reg.finditer(s,re.I)\n",
    "for i in emails_gen:\n",
    "    print i.group(0)"
   ]
  },
  {
   "cell_type": "code",
   "execution_count": 49,
   "metadata": {},
   "outputs": [
    {
     "name": "stdout",
     "output_type": "stream",
     "text": [
      "None\n"
     ]
    }
   ],
   "source": [
    "s=\"1,ashok,ashok@gmail.com,9676622023,20000\\n\\\n",
    "9676622024,2,PAVAN,30000,PAVAN1@yahoo.com\\n\\\n",
    "40000,suresh2@redif.co.in,3,suresh,9676622025\\n\\\n",
    "jay,4,50000,jay3@microsoft.com,9676622026\\n\\\n",
    "\"\n",
    "email_reg=re.compile(\"[a-z0-9]+@[a-z]+\\.[com.in]+\")\n",
    "print email_reg.match(s)"
   ]
  },
  {
   "cell_type": "code",
   "execution_count": 50,
   "metadata": {},
   "outputs": [
    {
     "name": "stdout",
     "output_type": "stream",
     "text": [
      "<_sre.SRE_Match object at 0x7f91bc1554a8>\n"
     ]
    }
   ],
   "source": [
    "s=\"1,ashok,ashok@gmail.com,9676622023,20000\\n\\\n",
    "9676622024,2,PAVAN,30000,PAVAN1@yahoo.com\\n\\\n",
    "40000,suresh2@redif.co.in,3,suresh,9676622025\\n\\\n",
    "jay,4,50000,jay3@microsoft.com,9676622026\\n\\\n",
    "\"\n",
    "email_reg=re.compile(\"[a-z0-9]+@[a-z]+\\.[com.in]+\")\n",
    "print email_reg.search(s)"
   ]
  },
  {
   "cell_type": "code",
   "execution_count": 51,
   "metadata": {},
   "outputs": [
    {
     "name": "stdout",
     "output_type": "stream",
     "text": [
      "<_sre.SRE_Match object at 0x7f91bc155920>\n"
     ]
    }
   ],
   "source": [
    "s=\"1,ashok,ashok@gmail.com,9676622023,20000\\n\\\n",
    "9676622024,2,PAVAN,30000,PAVAN1@yahoo.com\\n\\\n",
    "40000,suresh2@redif.co.in,3,suresh,9676622025\\n\\\n",
    "jay,4,50000,jay3@microsoft.com,9676622026\\n\\\n",
    "\"\n",
    "email_reg=re.compile(\"[0-9]\")\n",
    "print email_reg.match(s)"
   ]
  },
  {
   "cell_type": "code",
   "execution_count": 53,
   "metadata": {},
   "outputs": [
    {
     "name": "stdout",
     "output_type": "stream",
     "text": [
      "['ashok@gmail.com', 'PAVAN1@yahoo.com', 'suresh2@redif.co.in', 'jay3@microsoft.com']\n"
     ]
    }
   ],
   "source": [
    "s=\"1,ashok,ashok@gmail.com,9676622023,20000\\n\\\n",
    "9676622024,2,PAVAN,30000,PAVAN1@yahoo.com\\n\\\n",
    "40000,suresh2@redif.co.in,3,suresh,9676622025\\n\\\n",
    "jay,4,50000,jay3@microsoft.com,9676622026\\n\\\n",
    "\"\n",
    "email_reg=re.compile(\"\\w+@[a-z]+\\.[com.in]+\")\n",
    "print email_reg.findall(s,re.I)"
   ]
  },
  {
   "cell_type": "code",
   "execution_count": null,
   "metadata": {
    "collapsed": true
   },
   "outputs": [],
   "source": [
    "s=\"1,ashok,ashok@gmail.com,9676622023,20000\\n\\\n",
    "9676622024,2,PAVAN,30000,PAVAN1@yahoo.com\\n\\\n",
    "40000,suresh2@redif.co.in,3,suresh,9676622025\\n\\\n",
    "jay,4,50000,jay3@microsoft.com,9676622026\\n\\\n",
    "\"\n",
    "email_reg=re.compile(\"\\w+@[a-z]+\\.[com.in]+\")\n",
    "print email_reg.findall(s,re.I)"
   ]
  }
 ],
 "metadata": {
  "kernelspec": {
   "display_name": "Python 2",
   "language": "python",
   "name": "python2"
  },
  "language_info": {
   "codemirror_mode": {
    "name": "ipython",
    "version": 2
   },
   "file_extension": ".py",
   "mimetype": "text/x-python",
   "name": "python",
   "nbconvert_exporter": "python",
   "pygments_lexer": "ipython2",
   "version": "2.7.14"
  }
 },
 "nbformat": 4,
 "nbformat_minor": 2
}
