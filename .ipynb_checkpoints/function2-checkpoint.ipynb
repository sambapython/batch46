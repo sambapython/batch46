{
 "cells": [
  {
   "cell_type": "code",
   "execution_count": 2,
   "metadata": {},
   "outputs": [
    {
     "name": "stdout",
     "output_type": "stream",
     "text": [
      "before call a=1000, b=2000\n",
      "a inside fun: 3000\n",
      "c1=1000, c2=2000\n",
      "res= 3000\n",
      "after call a=1000, b=2000\n"
     ]
    }
   ],
   "source": [
    "a=1000\n",
    "b=2000\n",
    "print \"before call a=%s, b=%s\"%(a,b)\n",
    "def fun(c1,c2):\n",
    "    a=3000\n",
    "    print \"a inside fun:\",a\n",
    "    print \"c1=%s, c2=%s\"%(c1,c2)\n",
    "    c=c1+c2\n",
    "    return c\n",
    "res=fun(a,b)\n",
    "print \"res=\",res\n",
    "print \"after call a=%s, b=%s\"%(a,b)\n"
   ]
  },
  {
   "cell_type": "code",
   "execution_count": null,
   "metadata": {
    "collapsed": true
   },
   "outputs": [],
   "source": [
    "a=1000\n",
    "b=2000\n",
    "def fun(c1,c2):\n",
    "    a=3000\n",
    "    c=c1+c2\n",
    "    return c\n",
    "res=fun(a,b)\n",
    "\n"
   ]
  },
  {
   "cell_type": "code",
   "execution_count": 3,
   "metadata": {},
   "outputs": [
    {
     "name": "stdout",
     "output_type": "stream",
     "text": [
      "before call a=1000, b=2000\n",
      "a inside fun: 3000\n",
      "c1=1000, c2=2000\n",
      "res= 3000\n",
      "after call a=1000, b=2000\n",
      "c="
     ]
    },
    {
     "ename": "NameError",
     "evalue": "name 'c' is not defined",
     "output_type": "error",
     "traceback": [
      "\u001b[0;31m---------------------------------------------------------------------------\u001b[0m",
      "\u001b[0;31mNameError\u001b[0m                                 Traceback (most recent call last)",
      "\u001b[0;32m<ipython-input-3-36ddcb2ae988>\u001b[0m in \u001b[0;36m<module>\u001b[0;34m()\u001b[0m\n\u001b[1;32m     11\u001b[0m \u001b[0;32mprint\u001b[0m \u001b[0;34m\"res=\"\u001b[0m\u001b[0;34m,\u001b[0m\u001b[0mres\u001b[0m\u001b[0;34m\u001b[0m\u001b[0m\n\u001b[1;32m     12\u001b[0m \u001b[0;32mprint\u001b[0m \u001b[0;34m\"after call a=%s, b=%s\"\u001b[0m\u001b[0;34m%\u001b[0m\u001b[0;34m(\u001b[0m\u001b[0ma\u001b[0m\u001b[0;34m,\u001b[0m\u001b[0mb\u001b[0m\u001b[0;34m)\u001b[0m\u001b[0;34m\u001b[0m\u001b[0m\n\u001b[0;32m---> 13\u001b[0;31m \u001b[0;32mprint\u001b[0m \u001b[0;34m\"c=\"\u001b[0m\u001b[0;34m,\u001b[0m\u001b[0mc\u001b[0m\u001b[0;34m\u001b[0m\u001b[0m\n\u001b[0m",
      "\u001b[0;31mNameError\u001b[0m: name 'c' is not defined"
     ]
    }
   ],
   "source": [
    "a=1000\n",
    "b=2000\n",
    "print \"before call a=%s, b=%s\"%(a,b)\n",
    "def fun(c1,c2):\n",
    "    a=3000\n",
    "    print \"a inside fun:\",a\n",
    "    print \"c1=%s, c2=%s\"%(c1,c2)\n",
    "    c=c1+c2\n",
    "    return c\n",
    "res=fun(a,b)\n",
    "print \"res=\",res\n",
    "print \"after call a=%s, b=%s\"%(a,b)\n",
    "print \"c=\",c"
   ]
  },
  {
   "cell_type": "code",
   "execution_count": 4,
   "metadata": {},
   "outputs": [
    {
     "name": "stdout",
     "output_type": "stream",
     "text": [
      " before call a=1000, b=2000\n",
      "a inside fun: 3000\n",
      "c1=1000, c2=2000\n",
      "res= 3000\n",
      "after call a=1000, b=2000\n",
      "a inside fun: 3000\n",
      "c1=3000, c2=4000\n",
      "res1= 7000\n",
      "some statements\n",
      "a inside fun: 3000\n",
      "c1=10, c2=20\n",
      "res2= 30\n"
     ]
    }
   ],
   "source": [
    "a=1000\n",
    "b=2000\n",
    "print \"before call a=%s, b=%s\"%(a,b)\n",
    "def fun(c1,c2):\n",
    "    a=3000\n",
    "    print \"a inside fun:\",a\n",
    "    print \"c1=%s, c2=%s\"%(c1,c2)\n",
    "    c=c1+c2\n",
    "    return c\n",
    "res=fun(a,b)\n",
    "print \"res=\",res\n",
    "print \"after call a=%s, b=%s\"%(a,b)\n",
    "res1=fun(3000,4000)\n",
    "print \"res1=\",res1\n",
    "print \"some statements\"\n",
    "res2=fun(10,20)\n",
    "print \"res2=\",res2"
   ]
  },
  {
   "cell_type": "code",
   "execution_count": 1,
   "metadata": {},
   "outputs": [
    {
     "name": "stdout",
     "output_type": "stream",
     "text": [
      "a= 200\n",
      "b= 300\n",
      "c1= 1000\n"
     ]
    }
   ],
   "source": [
    "a=100\n",
    "b=300\n",
    "def fun(c1):\n",
    "    a=200\n",
    "    print \"a=\",a\n",
    "    print \"b=\",b\n",
    "    print \"c1=\",c1\n",
    "fun(1000)"
   ]
  },
  {
   "cell_type": "code",
   "execution_count": 3,
   "metadata": {},
   "outputs": [
    {
     "name": "stdout",
     "output_type": "stream",
     "text": [
      "a before call: 100\n",
      "a inside fun 200\n",
      "b= 300\n",
      "c1= 1000\n",
      "a after call: 200\n"
     ]
    }
   ],
   "source": [
    "a=100\n",
    "b=300\n",
    "print \"a before call:\",a\n",
    "def fun(c1):\n",
    "    global a\n",
    "    a=200\n",
    "    print \"a inside fun\",a\n",
    "    print \"b=\",b\n",
    "    print \"c1=\",c1\n",
    "fun(1000)\n",
    "print \"a after call:\",a"
   ]
  },
  {
   "cell_type": "code",
   "execution_count": 4,
   "metadata": {},
   "outputs": [
    {
     "name": "stdout",
     "output_type": "stream",
     "text": [
      "a before call: 100\n",
      "a inside fun 200\n",
      "b= 300\n",
      "c1= 1000\n",
      "a after call: 100\n"
     ]
    }
   ],
   "source": [
    "a=100\n",
    "b=300\n",
    "print \"a before call:\",a\n",
    "def fun(c1):\n",
    "    a=200\n",
    "    print \"a inside fun\",a\n",
    "    print \"b=\",b\n",
    "    print \"c1=\",c1\n",
    "fun(1000)\n",
    "print \"a after call:\",a"
   ]
  },
  {
   "cell_type": "code",
   "execution_count": 5,
   "metadata": {},
   "outputs": [
    {
     "ename": "NameError",
     "evalue": "name 'add' is not defined",
     "output_type": "error",
     "traceback": [
      "\u001b[0;31m---------------------------------------------------------------------------\u001b[0m",
      "\u001b[0;31mNameError\u001b[0m                                 Traceback (most recent call last)",
      "\u001b[0;32m<ipython-input-5-16ce35ec090d>\u001b[0m in \u001b[0;36m<module>\u001b[0;34m()\u001b[0m\n\u001b[0;32m----> 1\u001b[0;31m \u001b[0madd\u001b[0m\u001b[0;34m(\u001b[0m\u001b[0;36m10\u001b[0m\u001b[0;34m,\u001b[0m\u001b[0;36m20\u001b[0m\u001b[0;34m)\u001b[0m\u001b[0;34m\u001b[0m\u001b[0m\n\u001b[0m\u001b[1;32m      2\u001b[0m \u001b[0;32mdef\u001b[0m \u001b[0madd\u001b[0m\u001b[0;34m(\u001b[0m\u001b[0ma\u001b[0m\u001b[0;34m,\u001b[0m\u001b[0mb\u001b[0m\u001b[0;34m)\u001b[0m\u001b[0;34m:\u001b[0m\u001b[0;34m\u001b[0m\u001b[0m\n\u001b[1;32m      3\u001b[0m     \u001b[0;32mprint\u001b[0m \u001b[0;34m\"a=%s, b=%s\"\u001b[0m\u001b[0;34m%\u001b[0m\u001b[0;34m(\u001b[0m\u001b[0ma\u001b[0m\u001b[0;34m,\u001b[0m\u001b[0mb\u001b[0m\u001b[0;34m)\u001b[0m\u001b[0;34m\u001b[0m\u001b[0m\n\u001b[1;32m      4\u001b[0m     \u001b[0mres\u001b[0m\u001b[0;34m=\u001b[0m\u001b[0ma\u001b[0m\u001b[0;34m+\u001b[0m\u001b[0mb\u001b[0m\u001b[0;34m\u001b[0m\u001b[0m\n\u001b[1;32m      5\u001b[0m \u001b[0mr1\u001b[0m\u001b[0;34m=\u001b[0m\u001b[0madd\u001b[0m\u001b[0;34m(\u001b[0m\u001b[0;36m100\u001b[0m\u001b[0;34m,\u001b[0m\u001b[0;36m200\u001b[0m\u001b[0;34m)\u001b[0m\u001b[0;34m\u001b[0m\u001b[0m\n",
      "\u001b[0;31mNameError\u001b[0m: name 'add' is not defined"
     ]
    }
   ],
   "source": [
    "add(10,20)\n",
    "def add(a,b):\n",
    "    print \"a=%s, b=%s\"%(a,b)\n",
    "    res=a+b\n",
    "r1=add(100,200)\n",
    "print \"r1=\",r1"
   ]
  },
  {
   "cell_type": "code",
   "execution_count": 7,
   "metadata": {},
   "outputs": [
    {
     "name": "stdout",
     "output_type": "stream",
     "text": [
      "add= <function add at 0x7f36c0326938>\n",
      "r1= <function add at 0x7f36c0326938>\n"
     ]
    }
   ],
   "source": [
    "def add(a,b):\n",
    "    print \"a=%s, b=%s\"%(a,b)\n",
    "    res=a+b\n",
    "r1=add\n",
    "print \"add=\",add\n",
    "print \"r1=\",r1"
   ]
  },
  {
   "cell_type": "code",
   "execution_count": 11,
   "metadata": {},
   "outputs": [
    {
     "name": "stdout",
     "output_type": "stream",
     "text": [
      "add= <function add at 0x7f36c0326b18>\n",
      "r1= <function add at 0x7f36c0326b18>\n",
      "a=10, b=20\n",
      "r2= None\n"
     ]
    }
   ],
   "source": [
    "def add(a,b):\n",
    "    print \"a=%s, b=%s\"%(a,b)\n",
    "    res=a+b\n",
    "r1=add\n",
    "print \"add=\",add\n",
    "print \"r1=\",r1\n",
    "r2=add(10,20)\n",
    "print \"r2=\",r2"
   ]
  },
  {
   "cell_type": "code",
   "execution_count": 13,
   "metadata": {},
   "outputs": [
    {
     "name": "stdout",
     "output_type": "stream",
     "text": [
      "a=100, b=200\n",
      "r2= 300\n",
      "a=10, b=20\n",
      "r3= 30\n"
     ]
    }
   ],
   "source": [
    "def add(a,b):\n",
    "    print \"a=%s, b=%s\"%(a,b)\n",
    "    res=a+b\n",
    "    return res\n",
    "r1=add\n",
    "r2=r1(100,200)\n",
    "print \"r2=\",r2\n",
    "r3=add(10,20)\n",
    "print \"r3=\",r3"
   ]
  },
  {
   "cell_type": "code",
   "execution_count": 14,
   "metadata": {},
   "outputs": [
    {
     "name": "stdout",
     "output_type": "stream",
     "text": [
      "139873129491704\n"
     ]
    }
   ],
   "source": [
    "def add(a,b):\n",
    "    print \"a=%s, b=%s\"%(a,b)\n",
    "    res=a+b\n",
    "    return res\n",
    "print id(add)"
   ]
  },
  {
   "cell_type": "code",
   "execution_count": 15,
   "metadata": {},
   "outputs": [
    {
     "name": "stdout",
     "output_type": "stream",
     "text": [
      "139873129491944\n",
      "139873129491944\n"
     ]
    }
   ],
   "source": [
    "def add(a,b):\n",
    "    print \"a=%s, b=%s\"%(a,b)\n",
    "    res=a+b\n",
    "    return res\n",
    "print id(add)\n",
    "ref1=add\n",
    "print id(ref1)"
   ]
  },
  {
   "cell_type": "code",
   "execution_count": 1,
   "metadata": {},
   "outputs": [
    {
     "name": "stdout",
     "output_type": "stream",
     "text": [
      "res= 300\n"
     ]
    }
   ],
   "source": [
    "def fun(a,b):\n",
    "    c=a+b\n",
    "    return c\n",
    "res=fun(100,200)\n",
    "print \"res=\",res"
   ]
  },
  {
   "cell_type": "code",
   "execution_count": 2,
   "metadata": {},
   "outputs": [
    {
     "ename": "TypeError",
     "evalue": "fun() takes exactly 2 arguments (3 given)",
     "output_type": "error",
     "traceback": [
      "\u001b[0;31m---------------------------------------------------------------------------\u001b[0m",
      "\u001b[0;31mTypeError\u001b[0m                                 Traceback (most recent call last)",
      "\u001b[0;32m<ipython-input-2-c3232ccb4eb0>\u001b[0m in \u001b[0;36m<module>\u001b[0;34m()\u001b[0m\n\u001b[1;32m      3\u001b[0m     \u001b[0;32mreturn\u001b[0m \u001b[0mc\u001b[0m\u001b[0;34m\u001b[0m\u001b[0m\n\u001b[1;32m      4\u001b[0m \u001b[0mres\u001b[0m\u001b[0;34m=\u001b[0m\u001b[0mfun\u001b[0m\u001b[0;34m(\u001b[0m\u001b[0;36m100\u001b[0m\u001b[0;34m,\u001b[0m\u001b[0;36m200\u001b[0m\u001b[0;34m)\u001b[0m\u001b[0;34m\u001b[0m\u001b[0m\n\u001b[0;32m----> 5\u001b[0;31m \u001b[0mfun\u001b[0m\u001b[0;34m(\u001b[0m\u001b[0;36m100\u001b[0m\u001b[0;34m,\u001b[0m\u001b[0;36m200\u001b[0m\u001b[0;34m,\u001b[0m\u001b[0;36m300\u001b[0m\u001b[0;34m)\u001b[0m\u001b[0;34m\u001b[0m\u001b[0m\n\u001b[0m",
      "\u001b[0;31mTypeError\u001b[0m: fun() takes exactly 2 arguments (3 given)"
     ]
    }
   ],
   "source": [
    "def fun(a,b):\n",
    "    c=a+b\n",
    "    return c\n",
    "res=fun(100,200)\n",
    "fun(100,200,300)"
   ]
  },
  {
   "cell_type": "code",
   "execution_count": 3,
   "metadata": {},
   "outputs": [
    {
     "ename": "TypeError",
     "evalue": "fun() takes exactly 2 arguments (1 given)",
     "output_type": "error",
     "traceback": [
      "\u001b[0;31m---------------------------------------------------------------------------\u001b[0m",
      "\u001b[0;31mTypeError\u001b[0m                                 Traceback (most recent call last)",
      "\u001b[0;32m<ipython-input-3-c79d53b443e6>\u001b[0m in \u001b[0;36m<module>\u001b[0;34m()\u001b[0m\n\u001b[1;32m      3\u001b[0m     \u001b[0;32mreturn\u001b[0m \u001b[0mc\u001b[0m\u001b[0;34m\u001b[0m\u001b[0m\n\u001b[1;32m      4\u001b[0m \u001b[0mres\u001b[0m\u001b[0;34m=\u001b[0m\u001b[0mfun\u001b[0m\u001b[0;34m(\u001b[0m\u001b[0;36m100\u001b[0m\u001b[0;34m,\u001b[0m\u001b[0;36m200\u001b[0m\u001b[0;34m)\u001b[0m\u001b[0;34m\u001b[0m\u001b[0m\n\u001b[0;32m----> 5\u001b[0;31m \u001b[0mfun\u001b[0m\u001b[0;34m(\u001b[0m\u001b[0;36m100\u001b[0m\u001b[0;34m)\u001b[0m\u001b[0;34m\u001b[0m\u001b[0m\n\u001b[0m",
      "\u001b[0;31mTypeError\u001b[0m: fun() takes exactly 2 arguments (1 given)"
     ]
    }
   ],
   "source": [
    "def fun(a,b):\n",
    "    c=a+b\n",
    "    return c\n",
    "res=fun(100,200)\n",
    "fun(100)"
   ]
  },
  {
   "cell_type": "code",
   "execution_count": 5,
   "metadata": {},
   "outputs": [
    {
     "name": "stdout",
     "output_type": "stream",
     "text": [
      "a=10, b=20, c=30, d=40,e=50,f=60\n",
      "210\n"
     ]
    }
   ],
   "source": [
    "# 2,3,4,5,6\n",
    "def add(a,b,c,d,e,f):\n",
    "    print \"a=%s, b=%s, c=%s, d=%s,e=%s,f=%s\"%(a,b,c,d,e,f)\n",
    "    res=a+b+c+d+e+f\n",
    "    return res\n",
    "print add(10,20,30,40,50,60)"
   ]
  },
  {
   "cell_type": "code",
   "execution_count": 6,
   "metadata": {},
   "outputs": [
    {
     "name": "stdout",
     "output_type": "stream",
     "text": [
      "a=10, b=20, c=30, d=40,e=50,f=60\n",
      "210\n"
     ]
    },
    {
     "ename": "TypeError",
     "evalue": "add() takes exactly 6 arguments (5 given)",
     "output_type": "error",
     "traceback": [
      "\u001b[0;31m---------------------------------------------------------------------------\u001b[0m",
      "\u001b[0;31mTypeError\u001b[0m                                 Traceback (most recent call last)",
      "\u001b[0;32m<ipython-input-6-44b2e3fd7a97>\u001b[0m in \u001b[0;36m<module>\u001b[0;34m()\u001b[0m\n\u001b[1;32m      5\u001b[0m     \u001b[0;32mreturn\u001b[0m \u001b[0mres\u001b[0m\u001b[0;34m\u001b[0m\u001b[0m\n\u001b[1;32m      6\u001b[0m \u001b[0;32mprint\u001b[0m \u001b[0madd\u001b[0m\u001b[0;34m(\u001b[0m\u001b[0;36m10\u001b[0m\u001b[0;34m,\u001b[0m\u001b[0;36m20\u001b[0m\u001b[0;34m,\u001b[0m\u001b[0;36m30\u001b[0m\u001b[0;34m,\u001b[0m\u001b[0;36m40\u001b[0m\u001b[0;34m,\u001b[0m\u001b[0;36m50\u001b[0m\u001b[0;34m,\u001b[0m\u001b[0;36m60\u001b[0m\u001b[0;34m)\u001b[0m\u001b[0;34m\u001b[0m\u001b[0m\n\u001b[0;32m----> 7\u001b[0;31m \u001b[0;32mprint\u001b[0m \u001b[0madd\u001b[0m\u001b[0;34m(\u001b[0m\u001b[0;36m10\u001b[0m\u001b[0;34m,\u001b[0m\u001b[0;36m20\u001b[0m\u001b[0;34m,\u001b[0m\u001b[0;36m30\u001b[0m\u001b[0;34m,\u001b[0m\u001b[0;36m40\u001b[0m\u001b[0;34m,\u001b[0m\u001b[0;36m50\u001b[0m\u001b[0;34m)\u001b[0m\u001b[0;34m\u001b[0m\u001b[0m\n\u001b[0m\u001b[1;32m      8\u001b[0m \u001b[0;32mprint\u001b[0m \u001b[0madd\u001b[0m\u001b[0;34m(\u001b[0m\u001b[0;36m10\u001b[0m\u001b[0;34m,\u001b[0m\u001b[0;36m20\u001b[0m\u001b[0;34m,\u001b[0m\u001b[0;36m30\u001b[0m\u001b[0;34m,\u001b[0m\u001b[0;36m40\u001b[0m\u001b[0;34m)\u001b[0m\u001b[0;34m\u001b[0m\u001b[0m\n\u001b[1;32m      9\u001b[0m \u001b[0;32mprint\u001b[0m \u001b[0madd\u001b[0m\u001b[0;34m(\u001b[0m\u001b[0;36m10\u001b[0m\u001b[0;34m,\u001b[0m\u001b[0;36m20\u001b[0m\u001b[0;34m,\u001b[0m\u001b[0;36m30\u001b[0m\u001b[0;34m)\u001b[0m\u001b[0;34m\u001b[0m\u001b[0m\n",
      "\u001b[0;31mTypeError\u001b[0m: add() takes exactly 6 arguments (5 given)"
     ]
    }
   ],
   "source": [
    "# 2,3,4,5,6\n",
    "def add(a,b,c,d,e,f):\n",
    "    print \"a=%s, b=%s, c=%s, d=%s,e=%s,f=%s\"%(a,b,c,d,e,f)\n",
    "    res=a+b+c+d+e+f\n",
    "    return res\n",
    "print add(10,20,30,40,50,60)\n",
    "print add(10,20,30,40,50)\n",
    "print add(10,20,30,40)\n",
    "print add(10,20,30)\n",
    "print add(10,20)\n",
    "print add(10)"
   ]
  },
  {
   "cell_type": "code",
   "execution_count": 7,
   "metadata": {},
   "outputs": [
    {
     "name": "stdout",
     "output_type": "stream",
     "text": [
      "a=10, b=20, c=30, d=40,e=50,f=60\n",
      "210\n",
      "a=10, b=20, c=30, d=40,e=50,f=0\n",
      "150\n",
      "a=10, b=20, c=30, d=40,e=0,f=0\n",
      "100\n",
      "a=10, b=20, c=30, d=0,e=0,f=0\n",
      "60\n",
      "a=10, b=20, c=0, d=0,e=0,f=0\n",
      "30\n",
      "a=10, b=0, c=0, d=0,e=0,f=0\n",
      "10\n"
     ]
    }
   ],
   "source": [
    "# 2,3,4,5,6\n",
    "# default arguments\n",
    "def add(a,b=0,c=0,d=0,e=0,f=0):\n",
    "    print \"a=%s, b=%s, c=%s, d=%s,e=%s,f=%s\"%(a,b,c,d,e,f)\n",
    "    res=a+b+c+d+e+f\n",
    "    return res\n",
    "print add(10,20,30,40,50,60)\n",
    "print add(10,20,30,40,50)\n",
    "print add(10,20,30,40)\n",
    "print add(10,20,30)\n",
    "print add(10,20)\n",
    "print add(10)"
   ]
  },
  {
   "cell_type": "code",
   "execution_count": 9,
   "metadata": {},
   "outputs": [
    {
     "name": "stdout",
     "output_type": "stream",
     "text": [
      "a=10, b=20, c=30, d=40,e=50,f=60\n",
      "210\n",
      "a=10, b=20, c=30, d=40,e=50,f=0\n",
      "150\n",
      "a=10, b=20, c=30, d=40,e=0,f=0\n",
      "100\n",
      "a=10, b=20, c=30, d=0,e=0,f=0\n",
      "60\n",
      "a=10, b=20, c=0, d=0,e=0,f=0\n",
      "30\n",
      "a=10, b=0, c=0, d=0,e=0,f=0\n",
      "10\n"
     ]
    },
    {
     "ename": "TypeError",
     "evalue": "add() takes at least 1 argument (0 given)",
     "output_type": "error",
     "traceback": [
      "\u001b[0;31m---------------------------------------------------------------------------\u001b[0m",
      "\u001b[0;31mTypeError\u001b[0m                                 Traceback (most recent call last)",
      "\u001b[0;32m<ipython-input-9-ba915ce73890>\u001b[0m in \u001b[0;36m<module>\u001b[0;34m()\u001b[0m\n\u001b[1;32m     11\u001b[0m \u001b[0;32mprint\u001b[0m \u001b[0madd\u001b[0m\u001b[0;34m(\u001b[0m\u001b[0;36m10\u001b[0m\u001b[0;34m,\u001b[0m\u001b[0;36m20\u001b[0m\u001b[0;34m)\u001b[0m\u001b[0;34m\u001b[0m\u001b[0m\n\u001b[1;32m     12\u001b[0m \u001b[0;32mprint\u001b[0m \u001b[0madd\u001b[0m\u001b[0;34m(\u001b[0m\u001b[0;36m10\u001b[0m\u001b[0;34m)\u001b[0m\u001b[0;34m\u001b[0m\u001b[0m\n\u001b[0;32m---> 13\u001b[0;31m \u001b[0;32mprint\u001b[0m \u001b[0madd\u001b[0m\u001b[0;34m(\u001b[0m\u001b[0;34m)\u001b[0m\u001b[0;34m\u001b[0m\u001b[0m\n\u001b[0m",
      "\u001b[0;31mTypeError\u001b[0m: add() takes at least 1 argument (0 given)"
     ]
    }
   ],
   "source": [
    "# 2,3,4,5,6\n",
    "# default arguments\n",
    "def add(a,b=0,c=0,d=0,e=0,f=0):\n",
    "    print \"a=%s, b=%s, c=%s, d=%s,e=%s,f=%s\"%(a,b,c,d,e,f)\n",
    "    res=a+b+c+d+e+f\n",
    "    return res\n",
    "print add(10,20,30,40,50,60)\n",
    "print add(10,20,30,40,50)\n",
    "print add(10,20,30,40)\n",
    "print add(10,20,30)\n",
    "print add(10,20)\n",
    "print add(10)\n",
    "print add()"
   ]
  },
  {
   "cell_type": "code",
   "execution_count": 10,
   "metadata": {},
   "outputs": [
    {
     "name": "stdout",
     "output_type": "stream",
     "text": [
      "a=10, b=20, c=30, d=40,e=50,f=60\n",
      "210\n",
      "a=10, b=20, c=30, d=40,e=50,f=0\n",
      "150\n",
      "a=10, b=20, c=30, d=40,e=0,f=0\n",
      "100\n",
      "a=10, b=20, c=30, d=0,e=0,f=0\n",
      "60\n",
      "a=10, b=20, c=0, d=0,e=0,f=0\n",
      "30\n",
      "a=10, b=0, c=0, d=0,e=0,f=0\n",
      "10\n",
      "a=0, b=0, c=0, d=0,e=0,f=0\n",
      "0\n"
     ]
    }
   ],
   "source": [
    "# 2,3,4,5,6\n",
    "# default arguments\n",
    "def add(a=0,b=0,c=0,d=0,e=0,f=0):\n",
    "    print \"a=%s, b=%s, c=%s, d=%s,e=%s,f=%s\"%(a,b,c,d,e,f)\n",
    "    res=a+b+c+d+e+f\n",
    "    return res\n",
    "print add(10,20,30,40,50,60)\n",
    "print add(10,20,30,40,50)\n",
    "print add(10,20,30,40)\n",
    "print add(10,20,30)\n",
    "print add(10,20)\n",
    "print add(10)\n",
    "print add()"
   ]
  },
  {
   "cell_type": "code",
   "execution_count": 11,
   "metadata": {},
   "outputs": [
    {
     "name": "stdout",
     "output_type": "stream",
     "text": [
      "a=10, b=20, c=30, d=0,e=0,f=0\n",
      "60\n"
     ]
    }
   ],
   "source": [
    "# 2,3,4,5,6\n",
    "# default arguments\n",
    "def add(a=0,b=0,c=0,d=0,e=0,f=0):\n",
    "    print \"a=%s, b=%s, c=%s, d=%s,e=%s,f=%s\"%(a,b,c,d,e,f)\n",
    "    res=a+b+c+d+e+f\n",
    "    return res\n",
    "print add(10,20,30)\n"
   ]
  },
  {
   "cell_type": "code",
   "execution_count": 12,
   "metadata": {},
   "outputs": [
    {
     "name": "stdout",
     "output_type": "stream",
     "text": [
      "a=10, b=0, c=0, d=20,e=30,f=0\n",
      "60\n"
     ]
    }
   ],
   "source": [
    "# 2,3,4,5,6\n",
    "# default arguments\n",
    "def add(a=0,b=0,c=0,d=0,e=0,f=0):\n",
    "    print \"a=%s, b=%s, c=%s, d=%s,e=%s,f=%s\"%(a,b,c,d,e,f)\n",
    "    res=a+b+c+d+e+f\n",
    "    return res\n",
    "print add(10,0,0,20,30)\n"
   ]
  },
  {
   "cell_type": "code",
   "execution_count": 13,
   "metadata": {
    "collapsed": true
   },
   "outputs": [],
   "source": [
    "import pandas as pd\n",
    "pd.read_csv?"
   ]
  },
  {
   "cell_type": "code",
   "execution_count": 14,
   "metadata": {},
   "outputs": [
    {
     "name": "stdout",
     "output_type": "stream",
     "text": [
      "a=10, b=0, c=0, d=20,e=30,f=0\n",
      "60\n"
     ]
    }
   ],
   "source": [
    "# 2,3,4,5,6\n",
    "# default arguments\n",
    "def add(a,b=0,c=0,d=0,e=0,f=0):\n",
    "    print \"a=%s, b=%s, c=%s, d=%s,e=%s,f=%s\"%(a,b,c,d,e,f)\n",
    "    res=a+b+c+d+e+f\n",
    "    return res\n",
    "# keyword arguments\n",
    "print add(a=10,d=20,e=30)"
   ]
  },
  {
   "cell_type": "code",
   "execution_count": 15,
   "metadata": {},
   "outputs": [
    {
     "name": "stdout",
     "output_type": "stream",
     "text": [
      "a=30, b=50, c=0, d=500,e=0,f=0\n",
      "580\n"
     ]
    }
   ],
   "source": [
    "# 2,3,4,5,6\n",
    "# default arguments\n",
    "def add(a,b=0,c=0,d=0,e=0,f=0):\n",
    "    print \"a=%s, b=%s, c=%s, d=%s,e=%s,f=%s\"%(a,b,c,d,e,f)\n",
    "    res=a+b+c+d+e+f\n",
    "    return res\n",
    "# keyword arguments\n",
    "print add(d=500,a=30,b=50)"
   ]
  },
  {
   "cell_type": "code",
   "execution_count": 16,
   "metadata": {},
   "outputs": [
    {
     "ename": "TypeError",
     "evalue": "add() takes at least 1 argument (2 given)",
     "output_type": "error",
     "traceback": [
      "\u001b[0;31m---------------------------------------------------------------------------\u001b[0m",
      "\u001b[0;31mTypeError\u001b[0m                                 Traceback (most recent call last)",
      "\u001b[0;32m<ipython-input-16-a7756bdd1c1c>\u001b[0m in \u001b[0;36m<module>\u001b[0;34m()\u001b[0m\n\u001b[1;32m      6\u001b[0m     \u001b[0;32mreturn\u001b[0m \u001b[0mres\u001b[0m\u001b[0;34m\u001b[0m\u001b[0m\n\u001b[1;32m      7\u001b[0m \u001b[0;31m# keyword arguments\u001b[0m\u001b[0;34m\u001b[0m\u001b[0;34m\u001b[0m\u001b[0m\n\u001b[0;32m----> 8\u001b[0;31m \u001b[0;32mprint\u001b[0m \u001b[0madd\u001b[0m\u001b[0;34m(\u001b[0m\u001b[0md\u001b[0m\u001b[0;34m=\u001b[0m\u001b[0;36m500\u001b[0m\u001b[0;34m,\u001b[0m\u001b[0mb\u001b[0m\u001b[0;34m=\u001b[0m\u001b[0;36m50\u001b[0m\u001b[0;34m)\u001b[0m\u001b[0;34m\u001b[0m\u001b[0m\n\u001b[0m",
      "\u001b[0;31mTypeError\u001b[0m: add() takes at least 1 argument (2 given)"
     ]
    }
   ],
   "source": [
    "# 2,3,4,5,6\n",
    "# default arguments\n",
    "def add(a,b=0,c=0,d=0,e=0,f=0):\n",
    "    print \"a=%s, b=%s, c=%s, d=%s,e=%s,f=%s\"%(a,b,c,d,e,f)\n",
    "    res=a+b+c+d+e+f\n",
    "    return res\n",
    "# keyword arguments\n",
    "print add(d=500,b=50)"
   ]
  },
  {
   "cell_type": "code",
   "execution_count": 17,
   "metadata": {},
   "outputs": [
    {
     "name": "stdout",
     "output_type": "stream",
     "text": [
      "() <type 'tuple'>\n",
      "None\n",
      "(10, 20) <type 'tuple'>\n",
      "None\n",
      "(10, 20, 30) <type 'tuple'>\n",
      "None\n",
      "(10, 20, 30, 40, 50, 60, 70, 80, 90, 100, 200, 300, 400, 500, 60078) <type 'tuple'>\n",
      "None\n"
     ]
    }
   ],
   "source": [
    "# 2,3,4,5,6\n",
    "# *args\n",
    "def add(*a):\n",
    "    print a, type(a)\n",
    "    \n",
    "print add()\n",
    "print add(10,20)\n",
    "print add(10,20,30)\n",
    "print add(10,20,30,40,50,60,70,80,90,100,200,300,400,500,60078)"
   ]
  },
  {
   "cell_type": "code",
   "execution_count": 18,
   "metadata": {},
   "outputs": [
    {
     "name": "stdout",
     "output_type": "stream",
     "text": [
      "a=%s, b=%s\n",
      "() <type 'tuple'>\n",
      "None\n"
     ]
    }
   ],
   "source": [
    "# *args\n",
    "def add(a,b,*c):\n",
    "    print \"a=%s, b=%s\"\n",
    "    print c, type(c)\n",
    "    \n",
    "print add(10,20)"
   ]
  },
  {
   "cell_type": "code",
   "execution_count": null,
   "metadata": {
    "collapsed": true
   },
   "outputs": [],
   "source": []
  }
 ],
 "metadata": {
  "kernelspec": {
   "display_name": "Python 2",
   "language": "python",
   "name": "python2"
  },
  "language_info": {
   "codemirror_mode": {
    "name": "ipython",
    "version": 2
   },
   "file_extension": ".py",
   "mimetype": "text/x-python",
   "name": "python",
   "nbconvert_exporter": "python",
   "pygments_lexer": "ipython2",
   "version": "2.7.14"
  }
 },
 "nbformat": 4,
 "nbformat_minor": 2
}
