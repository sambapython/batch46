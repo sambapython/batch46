{
 "cells": [
  {
   "cell_type": "code",
   "execution_count": null,
   "metadata": {
    "collapsed": true
   },
   "outputs": [],
   "source": [
    "import random\n",
    "customers=map(lambda x:\"customer\"+x,range(100))\n",
    "invoices=[120,130,2300,6000,5000,3560,6500,4567]\n",
    "data=[]\n",
    "for i in range(100):\n",
    "    data.append({\"cust\":random.choice(customers),\n",
    "                \"inv\":random.choice(invoices)})\n"
   ]
  }
 ],
 "metadata": {
  "kernelspec": {
   "display_name": "Python 2",
   "language": "python",
   "name": "python2"
  },
  "language_info": {
   "codemirror_mode": {
    "name": "ipython",
    "version": 2
   },
   "file_extension": ".py",
   "mimetype": "text/x-python",
   "name": "python",
   "nbconvert_exporter": "python",
   "pygments_lexer": "ipython2",
   "version": "2.7.14"
  }
 },
 "nbformat": 4,
 "nbformat_minor": 2
}
