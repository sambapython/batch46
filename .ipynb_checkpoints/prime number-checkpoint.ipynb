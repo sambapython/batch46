{
 "cells": [
  {
   "cell_type": "code",
   "execution_count": 1,
   "metadata": {},
   "outputs": [
    {
     "name": "stdout",
     "output_type": "stream",
     "text": [
      "enter number7\n",
      "2\n",
      "3\n",
      "4\n",
      "5\n",
      "6\n"
     ]
    }
   ],
   "source": [
    "# take a number from the user, decide it is prime or not\n",
    "'''\n",
    "7\n",
    "7/1,7/7(7/2,7/3,7/4,7/5,7/6)\n",
    "'''\n",
    "number=raw_input(\"enter number\")\n",
    "number=int(number)\n",
    "for i in range(2, number):\n",
    "    print i"
   ]
  },
  {
   "cell_type": "code",
   "execution_count": 2,
   "metadata": {},
   "outputs": [
    {
     "name": "stdout",
     "output_type": "stream",
     "text": [
      "enter number8\n",
      "2\n",
      "3\n",
      "4\n",
      "5\n",
      "6\n",
      "7\n"
     ]
    }
   ],
   "source": [
    "# take a number from the user, decide it is prime or not\n",
    "'''\n",
    "7\n",
    "7/1,7/7(7/2,7/3,7/4,7/5,7/6)\n",
    "'''\n",
    "number=raw_input(\"enter number\")\n",
    "number=int(number)\n",
    "for i in range(2, number):\n",
    "    print i"
   ]
  },
  {
   "cell_type": "code",
   "execution_count": 4,
   "metadata": {},
   "outputs": [
    {
     "name": "stdout",
     "output_type": "stream",
     "text": [
      "enter number7\n",
      "2\n",
      "3\n",
      "4\n",
      "5\n",
      "6\n",
      "count= 0\n",
      "prime number\n"
     ]
    }
   ],
   "source": [
    "# take a number from the user, decide it is prime or not\n",
    "'''\n",
    "7\n",
    "7/1,7/7(7/2,7/3,7/4,7/5,7/6)\n",
    "'''\n",
    "number=raw_input(\"enter number\")\n",
    "number=int(number)\n",
    "count=0\n",
    "for i in range(2, number):\n",
    "    print i\n",
    "    if number%i==0:\n",
    "        count=count+1\n",
    "print \"count=\",count\n",
    "if count>0:\n",
    "    print \"it's not a prime number\"\n",
    "else:\n",
    "    print \"prime number\"\n",
    "        "
   ]
  },
  {
   "cell_type": "code",
   "execution_count": 5,
   "metadata": {},
   "outputs": [
    {
     "name": "stdout",
     "output_type": "stream",
     "text": [
      "enter number8\n",
      "2\n",
      "3\n",
      "4\n",
      "5\n",
      "6\n",
      "7\n",
      "count= 2\n",
      "it's not a prime number\n"
     ]
    }
   ],
   "source": [
    "# take a number from the user, decide it is prime or not\n",
    "'''\n",
    "7\n",
    "7/1,7/7(7/2,7/3,7/4,7/5,7/6)\n",
    "'''\n",
    "number=raw_input(\"enter number\")\n",
    "number=int(number)\n",
    "count=0\n",
    "for i in range(2, number):\n",
    "    print i\n",
    "    if number%i==0:\n",
    "        count=count+1\n",
    "print \"count=\",count\n",
    "if count>0:\n",
    "    print \"it's not a prime number\"\n",
    "else:\n",
    "    print \"prime number\"\n",
    "        "
   ]
  },
  {
   "cell_type": "code",
   "execution_count": 6,
   "metadata": {},
   "outputs": [
    {
     "name": "stdout",
     "output_type": "stream",
     "text": [
      "i outside loop: 1\n"
     ]
    }
   ],
   "source": [
    "i=0\n",
    "while i<10:\n",
    "    i=i+1\n",
    "    break\n",
    "print \"i outside loop:\",i"
   ]
  },
  {
   "cell_type": "code",
   "execution_count": 7,
   "metadata": {},
   "outputs": [
    {
     "name": "stdout",
     "output_type": "stream",
     "text": [
      "i outside loop: 0\n"
     ]
    }
   ],
   "source": [
    "i=0\n",
    "while i>10:\n",
    "    i=i+1\n",
    "    break\n",
    "print \"i outside loop:\",i"
   ]
  },
  {
   "cell_type": "code",
   "execution_count": 8,
   "metadata": {},
   "outputs": [
    {
     "name": "stdout",
     "output_type": "stream",
     "text": [
      "i outside loop: 10\n"
     ]
    }
   ],
   "source": [
    "i=0\n",
    "while i<10:\n",
    "    i=i+1\n",
    "    continue\n",
    "print \"i outside loop:\",i"
   ]
  },
  {
   "cell_type": "code",
   "execution_count": 9,
   "metadata": {},
   "outputs": [
    {
     "name": "stdout",
     "output_type": "stream",
     "text": [
      "i outside loop: 0\n"
     ]
    }
   ],
   "source": [
    "i=0\n",
    "while i>10:\n",
    "    i=i+1\n",
    "    continue\n",
    "print \"i outside loop:\",i"
   ]
  },
  {
   "cell_type": "code",
   "execution_count": 10,
   "metadata": {},
   "outputs": [
    {
     "name": "stdout",
     "output_type": "stream",
     "text": [
      "5\n"
     ]
    }
   ],
   "source": [
    "# even number count\n",
    "even_count=0\n",
    "for i in range(10,20):\n",
    "    if i%2==0:\n",
    "        even_count=even_count+1\n",
    "print even_count\n",
    "        "
   ]
  },
  {
   "cell_type": "code",
   "execution_count": 12,
   "metadata": {},
   "outputs": [
    {
     "name": "stdout",
     "output_type": "stream",
     "text": [
      "10\n",
      "EVEN incrementing the count\n",
      "11\n",
      "12\n",
      "EVEN incrementing the count\n",
      "13\n",
      "14\n",
      "EVEN incrementing the count\n",
      "15\n",
      "16\n",
      "EVEN incrementing the count\n",
      "17\n",
      "18\n",
      "EVEN incrementing the count\n",
      "19\n",
      "5\n"
     ]
    }
   ],
   "source": [
    "# even number count\n",
    "even_count=0\n",
    "for i in range(10,20):\n",
    "    print i\n",
    "    if i%2==0:\n",
    "        print \"EVEN incrementing the count\"\n",
    "        even_count=even_count+1\n",
    "print even_count\n",
    "        "
   ]
  },
  {
   "cell_type": "code",
   "execution_count": 13,
   "metadata": {},
   "outputs": [
    {
     "name": "stdout",
     "output_type": "stream",
     "text": [
      "enter number7\n",
      "2\n",
      "count= 0\n",
      "prime number\n"
     ]
    }
   ],
   "source": [
    "# take a number from the user, decide it is prime or not\n",
    "'''\n",
    "7\n",
    "7/1,7/7(7/2,7/3)\n",
    "'''\n",
    "number=raw_input(\"enter number\")\n",
    "number=int(number)\n",
    "count=0\n",
    "for i in range(2, number/2):\n",
    "    print i\n",
    "    if number%i==0:\n",
    "        count=count+1\n",
    "print \"count=\",count\n",
    "if count>0:\n",
    "    print \"it's not a prime number\"\n",
    "else:\n",
    "    print \"prime number\"\n",
    "        "
   ]
  },
  {
   "cell_type": "code",
   "execution_count": 14,
   "metadata": {},
   "outputs": [
    {
     "name": "stdout",
     "output_type": "stream",
     "text": [
      "enter number8\n",
      "2\n",
      "3\n",
      "count= 1\n",
      "it's not a prime number\n"
     ]
    }
   ],
   "source": [
    "# take a number from the user, decide it is prime or not\n",
    "'''\n",
    "7\n",
    "7/1,7/7(7/2,7/3)\n",
    "'''\n",
    "number=raw_input(\"enter number\")\n",
    "number=int(number)\n",
    "count=0\n",
    "for i in range(2, number/2):\n",
    "    print i\n",
    "    if number%i==0:\n",
    "        count=count+1\n",
    "print \"count=\",count\n",
    "if count>0:\n",
    "    print \"it's not a prime number\"\n",
    "else:\n",
    "    print \"prime number\""
   ]
  },
  {
   "cell_type": "code",
   "execution_count": 16,
   "metadata": {},
   "outputs": [
    {
     "name": "stdout",
     "output_type": "stream",
     "text": [
      "enter number245678\n",
      "2\n",
      "count= 1\n",
      "it's not a prime number\n"
     ]
    }
   ],
   "source": [
    "# take a number from the user, decide it is prime or not\n",
    "'''\n",
    "7\n",
    "7/1,7/7(7/2,7/3)\n",
    "'''\n",
    "number=raw_input(\"enter number\")\n",
    "number=int(number)\n",
    "count=0\n",
    "for i in range(2, number/2):\n",
    "    print i\n",
    "    if number%i==0:\n",
    "        count=count+1\n",
    "        break\n",
    "print \"count=\",count\n",
    "if count>0:\n",
    "    print \"it's not a prime number\"\n",
    "else:\n",
    "    print \"prime number\""
   ]
  },
  {
   "cell_type": "code",
   "execution_count": 17,
   "metadata": {},
   "outputs": [
    {
     "name": "stdout",
     "output_type": "stream",
     "text": [
      "enter number8\n",
      "2\n",
      "it's not a primenumber\n"
     ]
    }
   ],
   "source": [
    "# take a number from the user, decide it is prime or not\n",
    "'''\n",
    "7\n",
    "7/1,7/7(7/2,7/3)\n",
    "'''\n",
    "number=raw_input(\"enter number\")\n",
    "number=int(number)\n",
    "for i in range(2, number/2):\n",
    "    print i\n",
    "    if number%i==0:\n",
    "        print \"it's not a primenumber\"\n",
    "        break\n",
    "else:\n",
    "    print \"it's a prime number\"\n",
    "    "
   ]
  },
  {
   "cell_type": "code",
   "execution_count": 18,
   "metadata": {},
   "outputs": [
    {
     "name": "stdout",
     "output_type": "stream",
     "text": [
      "enter number7\n",
      "2\n",
      "it's a prime number\n"
     ]
    }
   ],
   "source": [
    "# take a number from the user, decide it is prime or not\n",
    "'''\n",
    "7\n",
    "7/1,7/7(7/2,7/3)\n",
    "'''\n",
    "number=raw_input(\"enter number\")\n",
    "number=int(number)\n",
    "for i in range(2, number/2):\n",
    "    print i\n",
    "    if number%i==0:\n",
    "        print \"it's not a primenumber\"\n",
    "        break\n",
    "else:\n",
    "    print \"it's a prime number\"\n",
    "    "
   ]
  },
  {
   "cell_type": "code",
   "execution_count": 19,
   "metadata": {},
   "outputs": [
    {
     "name": "stdout",
     "output_type": "stream",
     "text": [
      "enter number11\n",
      "2\n",
      "3\n",
      "4\n",
      "it's a prime number\n"
     ]
    }
   ],
   "source": [
    "# take a number from the user, decide it is prime or not\n",
    "'''\n",
    "7\n",
    "7/1,7/7(7/2,7/3)\n",
    "'''\n",
    "number=raw_input(\"enter number\")\n",
    "number=int(number)\n",
    "for i in range(2, number/2):\n",
    "    print i\n",
    "    if number%i==0:\n",
    "        print \"it's not a primenumber\"\n",
    "        break\n",
    "else:\n",
    "    print \"it's a prime number\"\n",
    "    "
   ]
  },
  {
   "cell_type": "code",
   "execution_count": 20,
   "metadata": {},
   "outputs": [
    {
     "name": "stdout",
     "output_type": "stream",
     "text": [
      "enter number11\n",
      "2\n",
      "3\n",
      "4\n",
      "5\n",
      "it's a prime number\n"
     ]
    }
   ],
   "source": [
    "# take a number from the user, decide it is prime or not\n",
    "'''\n",
    "7\n",
    "7/1,7/7(7/2,7/3)\n",
    "'''\n",
    "number=raw_input(\"enter number\")\n",
    "number=int(number)\n",
    "for i in range(2, (number/2)+1):\n",
    "    print i\n",
    "    if number%i==0:\n",
    "        print \"it's not a primenumber\"\n",
    "        break\n",
    "else:\n",
    "    print \"it's a prime number\"\n",
    "    "
   ]
  },
  {
   "cell_type": "code",
   "execution_count": 21,
   "metadata": {},
   "outputs": [
    {
     "name": "stdout",
     "output_type": "stream",
     "text": [
      "enter number234568\n",
      "2\n",
      "it's not a primenumber\n"
     ]
    }
   ],
   "source": [
    "# take a number from the user, decide it is prime or not\n",
    "'''\n",
    "7\n",
    "7/1,7/7(7/2,7/3)\n",
    "'''\n",
    "number=raw_input(\"enter number\")\n",
    "number=int(number)\n",
    "for i in range(2, (number/2)+1):\n",
    "    print i\n",
    "    if number%i==0:\n",
    "        print \"it's not a primenumber\"\n",
    "        break\n",
    "else:\n",
    "    print \"it's a prime number\"\n",
    "    "
   ]
  },
  {
   "cell_type": "code",
   "execution_count": null,
   "metadata": {
    "collapsed": true
   },
   "outputs": [],
   "source": [
    "i=0\n",
    "while i<10:\n",
    "    i=i-1\n",
    "print \"i outside:\",i"
   ]
  },
  {
   "cell_type": "code",
   "execution_count": 22,
   "metadata": {},
   "outputs": [
    {
     "name": "stdout",
     "output_type": "stream",
     "text": [
      "PYTHON\n"
     ]
    }
   ],
   "source": [
    "#Convert the total string in to upper case. Without using upper() function.\n",
    "s=\"python\"\n",
    "print s.upper()"
   ]
  },
  {
   "cell_type": "code",
   "execution_count": 23,
   "metadata": {},
   "outputs": [
    {
     "name": "stdout",
     "output_type": "stream",
     "text": [
      "97\n"
     ]
    }
   ],
   "source": [
    "s=\"python\"\n",
    "print ord(\"a\")"
   ]
  },
  {
   "cell_type": "code",
   "execution_count": 24,
   "metadata": {},
   "outputs": [
    {
     "name": "stdout",
     "output_type": "stream",
     "text": [
      "65\n"
     ]
    }
   ],
   "source": [
    "s=\"python\"\n",
    "print ord(\"A\")"
   ]
  },
  {
   "cell_type": "code",
   "execution_count": 25,
   "metadata": {},
   "outputs": [
    {
     "data": {
      "text/plain": [
       "32"
      ]
     },
     "execution_count": 25,
     "metadata": {},
     "output_type": "execute_result"
    }
   ],
   "source": [
    "97-65"
   ]
  },
  {
   "cell_type": "code",
   "execution_count": 26,
   "metadata": {},
   "outputs": [
    {
     "data": {
      "text/plain": [
       "65"
      ]
     },
     "execution_count": 26,
     "metadata": {},
     "output_type": "execute_result"
    }
   ],
   "source": [
    "ord(\"a\")-32"
   ]
  },
  {
   "cell_type": "code",
   "execution_count": 27,
   "metadata": {},
   "outputs": [
    {
     "data": {
      "text/plain": [
       "'A'"
      ]
     },
     "execution_count": 27,
     "metadata": {},
     "output_type": "execute_result"
    }
   ],
   "source": [
    "chr(ord(\"a\")-32)"
   ]
  },
  {
   "cell_type": "code",
   "execution_count": 28,
   "metadata": {},
   "outputs": [
    {
     "name": "stdout",
     "output_type": "stream",
     "text": [
      "PYTHON\n"
     ]
    }
   ],
   "source": [
    "s=\"python\"\n",
    "res=\"\"\n",
    "for i in s:\n",
    "    res=res+chr(ord(i)-32)\n",
    "print res"
   ]
  },
  {
   "cell_type": "code",
   "execution_count": 29,
   "metadata": {},
   "outputs": [
    {
     "name": "stdout",
     "output_type": "stream",
     "text": [
      "PYT(ON\n"
     ]
    }
   ],
   "source": [
    "s=\"pytHon\"\n",
    "res=\"\"\n",
    "for i in s:\n",
    "    res=res+chr(ord(i)-32)\n",
    "print res"
   ]
  },
  {
   "cell_type": "code",
   "execution_count": 30,
   "metadata": {},
   "outputs": [
    {
     "data": {
      "text/plain": [
       "97"
      ]
     },
     "execution_count": 30,
     "metadata": {},
     "output_type": "execute_result"
    }
   ],
   "source": [
    "ord(\"a\")"
   ]
  },
  {
   "cell_type": "code",
   "execution_count": 31,
   "metadata": {},
   "outputs": [
    {
     "data": {
      "text/plain": [
       "122"
      ]
     },
     "execution_count": 31,
     "metadata": {},
     "output_type": "execute_result"
    }
   ],
   "source": [
    "ord(\"z\")"
   ]
  },
  {
   "cell_type": "code",
   "execution_count": 33,
   "metadata": {},
   "outputs": [
    {
     "name": "stdout",
     "output_type": "stream",
     "text": [
      "PYTHON\n"
     ]
    }
   ],
   "source": [
    "s=\"pytHon\"\n",
    "res=\"\"\n",
    "for i in s:\n",
    "    if ord(i)>=97 and ord(i)<=122:\n",
    "        res=res+chr(ord(i)-32)\n",
    "    else:\n",
    "        res=res+i\n",
    "print res"
   ]
  },
  {
   "cell_type": "code",
   "execution_count": 34,
   "metadata": {},
   "outputs": [
    {
     "name": "stdout",
     "output_type": "stream",
     "text": [
      "PYTHON$%^&1234\n"
     ]
    }
   ],
   "source": [
    "s=\"pytHon$%^&1234\"\n",
    "res=\"\"\n",
    "for i in s:\n",
    "    if ord(i)>=97 and ord(i)<=122:\n",
    "        res=res+chr(ord(i)-32)\n",
    "    else:\n",
    "        res=res+i\n",
    "print res"
   ]
  },
  {
   "cell_type": "code",
   "execution_count": 35,
   "metadata": {},
   "outputs": [
    {
     "data": {
      "text/plain": [
       "49"
      ]
     },
     "execution_count": 35,
     "metadata": {},
     "output_type": "execute_result"
    }
   ],
   "source": [
    "ord(\"1\")"
   ]
  },
  {
   "cell_type": "code",
   "execution_count": 36,
   "metadata": {},
   "outputs": [
    {
     "data": {
      "text/plain": [
       "57"
      ]
     },
     "execution_count": 36,
     "metadata": {},
     "output_type": "execute_result"
    }
   ],
   "source": [
    "ord(\"9\")"
   ]
  },
  {
   "cell_type": "code",
   "execution_count": 37,
   "metadata": {},
   "outputs": [
    {
     "name": "stdout",
     "output_type": "stream",
     "text": [
      "it contains numbers\n"
     ]
    }
   ],
   "source": [
    "s=\"wer234@#$%\"\n",
    "for i in s:\n",
    "    if ord(i)>=49 and ord(i)<=57:\n",
    "        print \"it contains numbers\"\n",
    "        break\n",
    "else:\n",
    "    print \"Does not contains numbers\""
   ]
  },
  {
   "cell_type": "code",
   "execution_count": 38,
   "metadata": {},
   "outputs": [
    {
     "name": "stdout",
     "output_type": "stream",
     "text": [
      "Does not contains numbers\n"
     ]
    }
   ],
   "source": [
    "s=\"we@#$%\"\n",
    "for i in s:\n",
    "    if ord(i)>=49 and ord(i)<=57:\n",
    "        print \"it contains numbers\"\n",
    "        break\n",
    "else:\n",
    "    print \"Does not contains numbers\""
   ]
  },
  {
   "cell_type": "code",
   "execution_count": null,
   "metadata": {
    "collapsed": true
   },
   "outputs": [],
   "source": []
  }
 ],
 "metadata": {
  "kernelspec": {
   "display_name": "Python 2",
   "language": "python",
   "name": "python2"
  },
  "language_info": {
   "codemirror_mode": {
    "name": "ipython",
    "version": 2
   },
   "file_extension": ".py",
   "mimetype": "text/x-python",
   "name": "python",
   "nbconvert_exporter": "python",
   "pygments_lexer": "ipython2",
   "version": "2.7.14"
  }
 },
 "nbformat": 4,
 "nbformat_minor": 2
}
