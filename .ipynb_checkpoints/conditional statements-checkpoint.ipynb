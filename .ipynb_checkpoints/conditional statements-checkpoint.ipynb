{
 "cells": [
  {
   "cell_type": "code",
   "execution_count": 1,
   "metadata": {},
   "outputs": [
    {
     "name": "stdout",
     "output_type": "stream",
     "text": [
      "program started\n",
      "a is big\n",
      "b is big\n",
      "other statements in program\n",
      "program ended\n"
     ]
    }
   ],
   "source": [
    "# if .. if else... if elif .... if elif else\n",
    "print \"program started\"\n",
    "a=10\n",
    "b=20\n",
    "print \"a is big\"\n",
    "print \"b is big\"\n",
    "print \"other statements in program\"\n",
    "print \"program ended\""
   ]
  },
  {
   "cell_type": "code",
   "execution_count": 2,
   "metadata": {},
   "outputs": [
    {
     "name": "stdout",
     "output_type": "stream",
     "text": [
      "program started\n",
      "False\n",
      "b is big\n",
      "other statements in program\n",
      "program ended\n"
     ]
    }
   ],
   "source": [
    "# if .. if else... if elif .... if elif else\n",
    "print \"program started\"\n",
    "a=10\n",
    "b=20\n",
    "print a>b\n",
    "if a>b:\n",
    "    print \"a is big\"\n",
    "print \"b is big\"\n",
    "print \"other statements in program\"\n",
    "print \"program ended\""
   ]
  },
  {
   "cell_type": "code",
   "execution_count": 3,
   "metadata": {},
   "outputs": [
    {
     "name": "stdout",
     "output_type": "stream",
     "text": [
      "program started\n",
      "True\n",
      "a is big\n",
      "b is big\n",
      "other statements in program\n",
      "program ended\n"
     ]
    }
   ],
   "source": [
    "# if .. if else... if elif .... if elif else\n",
    "print \"program started\"\n",
    "a=100\n",
    "b=20\n",
    "print a>b\n",
    "if a>b:\n",
    "    print \"a is big\"\n",
    "print \"b is big\"\n",
    "print \"other statements in program\"\n",
    "print \"program ended\""
   ]
  },
  {
   "cell_type": "code",
   "execution_count": 4,
   "metadata": {},
   "outputs": [
    {
     "name": "stdout",
     "output_type": "stream",
     "text": [
      "program started\n",
      "True\n",
      "a is big\n",
      "other statements in program\n",
      "program ended\n"
     ]
    }
   ],
   "source": [
    "# if .. if else... if elif .... if elif else\n",
    "print \"program started\"\n",
    "a=100\n",
    "b=20\n",
    "print a>b\n",
    "if a>b:\n",
    "    print \"a is big\"\n",
    "if b>a:\n",
    "    print \"b is big\"\n",
    "print \"other statements in program\"\n",
    "print \"program ended\""
   ]
  },
  {
   "cell_type": "code",
   "execution_count": 5,
   "metadata": {},
   "outputs": [
    {
     "name": "stdout",
     "output_type": "stream",
     "text": [
      "program started\n",
      "True\n",
      "a is big\n",
      "other statements in program\n",
      "program ended\n"
     ]
    }
   ],
   "source": [
    "# if .. if else... if elif .... if elif else\n",
    "print \"program started\"\n",
    "a=100\n",
    "b=20\n",
    "print a>b\n",
    "if a>b:\n",
    "    print \"a is big\"\n",
    "else:\n",
    "    print \"b is big\"\n",
    "print \"other statements in program\"\n",
    "print \"program ended\""
   ]
  },
  {
   "cell_type": "code",
   "execution_count": 6,
   "metadata": {},
   "outputs": [
    {
     "name": "stdout",
     "output_type": "stream",
     "text": [
      "program started\n",
      "False\n",
      "b is big\n",
      "other statements in program\n",
      "program ended\n"
     ]
    }
   ],
   "source": [
    "# if .. if else... if elif .... if elif else\n",
    "print \"program started\"\n",
    "a=100\n",
    "b=200\n",
    "print a>b\n",
    "if a>b:\n",
    "    print \"a is big\"\n",
    "else:\n",
    "    print \"b is big\"\n",
    "print \"other statements in program\"\n",
    "print \"program ended\""
   ]
  },
  {
   "cell_type": "code",
   "execution_count": 7,
   "metadata": {},
   "outputs": [
    {
     "name": "stdout",
     "output_type": "stream",
     "text": [
      "program started\n",
      "False\n",
      "else block started\n",
      "b is big\n",
      "else block ended\n",
      "other statements in program\n",
      "program ended\n"
     ]
    }
   ],
   "source": [
    "# if .. if else... if elif .... if elif else\n",
    "print \"program started\"\n",
    "a=100\n",
    "b=200\n",
    "print a>b\n",
    "if a>b:\n",
    "    print \"if block started\"\n",
    "    print \"a is big\"\n",
    "    print \"if block ended\"\n",
    "else:\n",
    "    print \"else block started\"\n",
    "    print \"b is big\"\n",
    "    print \"else block ended\"\n",
    "print \"other statements in program\"\n",
    "print \"program ended\""
   ]
  },
  {
   "cell_type": "code",
   "execution_count": 8,
   "metadata": {},
   "outputs": [
    {
     "name": "stdout",
     "output_type": "stream",
     "text": [
      "program started\n",
      "False\n",
      "else block started\n",
      "b is big\n",
      "else block ended\n",
      "other statements in program\n",
      "program ended\n"
     ]
    }
   ],
   "source": [
    "# if .. if else... if elif .... if elif else\n",
    "print \"program started\"\n",
    "a=100\n",
    "b=200\n",
    "print a>b\n",
    "if a>b:\n",
    "    print \"if block started\"\n",
    "    print \"a is big\"\n",
    "    print \"if block ended\"\n",
    "else:\n",
    "    print \"else block started\"\n",
    "    print \"b is big\"\n",
    "print \"else block ended\"\n",
    "print \"other statements in program\"\n",
    "print \"program ended\""
   ]
  },
  {
   "cell_type": "code",
   "execution_count": 9,
   "metadata": {},
   "outputs": [
    {
     "name": "stdout",
     "output_type": "stream",
     "text": [
      "program started\n",
      "True\n",
      "if block started\n",
      "a is big\n",
      "if block ended\n",
      "else block ended\n",
      "other statements in program\n",
      "program ended\n"
     ]
    }
   ],
   "source": [
    "# if .. if else... if elif .... if elif else\n",
    "print \"program started\"\n",
    "a=1000\n",
    "b=200\n",
    "print a>b\n",
    "if a>b:\n",
    "    print \"if block started\"\n",
    "    print \"a is big\"\n",
    "    print \"if block ended\"\n",
    "else:\n",
    "    print \"else block started\"\n",
    "    print \"b is big\"\n",
    "print \"else block ended\"\n",
    "print \"other statements in program\"\n",
    "print \"program ended\""
   ]
  },
  {
   "cell_type": "code",
   "execution_count": 10,
   "metadata": {},
   "outputs": [
    {
     "name": "stdout",
     "output_type": "stream",
     "text": [
      "program started\n",
      "True\n",
      "if block started\n",
      "a is big\n",
      "if block ended\n",
      "other statements in program\n",
      "program ended\n"
     ]
    }
   ],
   "source": [
    "# if .. if else... if elif .... if elif else\n",
    "print \"program started\"\n",
    "a=1000\n",
    "b=200\n",
    "print a>b\n",
    "if a>b:\n",
    "    print \"if block started\"\n",
    "    print \"a is big\"\n",
    "    print \"if block ended\"\n",
    "else:\n",
    " print \"else block started\"\n",
    " print \"b is big\"\n",
    " print \"else block ended\"\n",
    "print \"other statements in program\"\n",
    "print \"program ended\""
   ]
  },
  {
   "cell_type": "code",
   "execution_count": 11,
   "metadata": {},
   "outputs": [
    {
     "name": "stdout",
     "output_type": "stream",
     "text": [
      "program started\n",
      "False\n",
      "else block started\n",
      "b is big\n",
      "else block ended\n",
      "other statements in program\n",
      "program ended\n"
     ]
    }
   ],
   "source": [
    "# if .. if else... if elif .... if elif else\n",
    "print \"program started\"\n",
    "a=100\n",
    "b=200\n",
    "print a>b\n",
    "if a>b:\n",
    "    print \"if block started\"\n",
    "    print \"a is big\"\n",
    "    print \"if block ended\"\n",
    "else:\n",
    " print \"else block started\"\n",
    " print \"b is big\"\n",
    " print \"else block ended\"\n",
    "print \"other statements in program\"\n",
    "print \"program ended\""
   ]
  },
  {
   "cell_type": "code",
   "execution_count": 12,
   "metadata": {},
   "outputs": [
    {
     "name": "stdout",
     "output_type": "stream",
     "text": [
      "program started\n",
      "False\n",
      "else block started\n",
      "b is big\n",
      "else block ended\n",
      "other statements in program\n",
      "program ended\n"
     ]
    }
   ],
   "source": [
    "# if .. if else... if elif .... if elif else\n",
    "print \"program started\"\n",
    "a=100\n",
    "b=200\n",
    "print a>b\n",
    "if a>b:\n",
    "    print \"if block started\"\n",
    "    print \"a is big\"\n",
    "    print \"if block ended\"\n",
    "else:\n",
    "    print \"else block started\"\n",
    "    print \"b is big\"\n",
    "    print \"else block ended\"\n",
    "print \"other statements in program\"\n",
    "print \"program ended\""
   ]
  },
  {
   "cell_type": "code",
   "execution_count": 13,
   "metadata": {},
   "outputs": [
    {
     "ename": "IndentationError",
     "evalue": "unindent does not match any outer indentation level (<ipython-input-13-f31b22a2c662>, line 12)",
     "output_type": "error",
     "traceback": [
      "\u001b[0;36m  File \u001b[0;32m\"<ipython-input-13-f31b22a2c662>\"\u001b[0;36m, line \u001b[0;32m12\u001b[0m\n\u001b[0;31m    print \"b is big\"\u001b[0m\n\u001b[0m                    ^\u001b[0m\n\u001b[0;31mIndentationError\u001b[0m\u001b[0;31m:\u001b[0m unindent does not match any outer indentation level\n"
     ]
    }
   ],
   "source": [
    "# if .. if else... if elif .... if elif else\n",
    "print \"program started\"\n",
    "a=100\n",
    "b=200\n",
    "print a>b\n",
    "if a>b:\n",
    "    print \"if block started\"\n",
    "    print \"a is big\"\n",
    "    print \"if block ended\"\n",
    "else:\n",
    "    print \"else block started\"\n",
    "  print \"b is big\"\n",
    "    print \"else block ended\"\n",
    "print \"other statements in program\"\n",
    "print \"program ended\""
   ]
  },
  {
   "cell_type": "code",
   "execution_count": 14,
   "metadata": {},
   "outputs": [
    {
     "name": "stdout",
     "output_type": "stream",
     "text": [
      "program started\n",
      "False\n",
      "else block started\n",
      "b is big\n",
      "else block ended\n",
      "other statements in program\n",
      "program ended\n"
     ]
    }
   ],
   "source": [
    "# if .. if else... if elif .... if elif else\n",
    "print \"program started\"\n",
    "a=100\n",
    "b=200\n",
    "print a>b\n",
    "if a>b:\n",
    "    print \"if block started\"\n",
    "    print \"a is big\"\n",
    "    print \"if block ended\"\n",
    "else:\n",
    "    print \"else block started\"\n",
    "    print \"b is big\"\n",
    "    print \"else block ended\"\n",
    "print \"other statements in program\"\n",
    "print \"program ended\""
   ]
  },
  {
   "cell_type": "code",
   "execution_count": 15,
   "metadata": {},
   "outputs": [
    {
     "ename": "IndentationError",
     "evalue": "unexpected indent (<ipython-input-15-f08c5b1cb79a>, line 13)",
     "output_type": "error",
     "traceback": [
      "\u001b[0;36m  File \u001b[0;32m\"<ipython-input-15-f08c5b1cb79a>\"\u001b[0;36m, line \u001b[0;32m13\u001b[0m\n\u001b[0;31m    print \"else block ended\"\u001b[0m\n\u001b[0m    ^\u001b[0m\n\u001b[0;31mIndentationError\u001b[0m\u001b[0;31m:\u001b[0m unexpected indent\n"
     ]
    }
   ],
   "source": [
    "# if .. if else... if elif .... if elif else\n",
    "print \"program started\"\n",
    "a=100\n",
    "b=200\n",
    "print a>b\n",
    "if a>b:\n",
    "    print \"if block started\"\n",
    "    print \"a is big\"\n",
    "    print \"if block ended\"\n",
    "else:\n",
    "    print \"else block started\"\n",
    "print \"b is big\"\n",
    "    print \"else block ended\"\n",
    "print \"other statements in program\"\n",
    "print \"program ended\""
   ]
  },
  {
   "cell_type": "code",
   "execution_count": 16,
   "metadata": {},
   "outputs": [
    {
     "ename": "IndentationError",
     "evalue": "unexpected indent (<ipython-input-16-1c08fe7d9e5a>, line 2)",
     "output_type": "error",
     "traceback": [
      "\u001b[0;36m  File \u001b[0;32m\"<ipython-input-16-1c08fe7d9e5a>\"\u001b[0;36m, line \u001b[0;32m2\u001b[0m\n\u001b[0;31m    print \"program started\"\u001b[0m\n\u001b[0m    ^\u001b[0m\n\u001b[0;31mIndentationError\u001b[0m\u001b[0;31m:\u001b[0m unexpected indent\n"
     ]
    }
   ],
   "source": [
    "# if .. if else... if elif .... if elif else\n",
    "    print \"program started\"\n",
    "a=100\n",
    "b=200\n",
    "print a>b\n",
    "if a>b:\n",
    "    print \"if block started\"\n",
    "    print \"a is big\"\n",
    "    print \"if block ended\"\n",
    "else:\n",
    "    print \"else block started\"\n",
    "    print \"b is big\"\n",
    "    print \"else block ended\"\n",
    "print \"other statements in program\"\n",
    "print \"program ended\""
   ]
  },
  {
   "cell_type": "code",
   "execution_count": 17,
   "metadata": {},
   "outputs": [
    {
     "name": "stdout",
     "output_type": "stream",
     "text": [
      "program started\n",
      "False\n",
      "other statements in program\n",
      "program ended\n"
     ]
    }
   ],
   "source": [
    "# if .. if else... if elif .... if elif else\n",
    "print \"program started\"\n",
    "a=100\n",
    "b=200\n",
    "print a>b\n",
    "if a>b:\n",
    "    print \"if block started\"\n",
    "    print \"a is big\"\n",
    "    print \"if block ended\"\n",
    "\n",
    "print \"other statements in program\"\n",
    "print \"program ended\""
   ]
  },
  {
   "cell_type": "code",
   "execution_count": 19,
   "metadata": {},
   "outputs": [
    {
     "name": "stdout",
     "output_type": "stream",
     "text": [
      "program started\n",
      "True\n",
      "if block started\n",
      "a is big\n",
      "if block ended\n",
      "other statements in program\n",
      "program ended\n"
     ]
    }
   ],
   "source": [
    "# if .. if else... if elif .... if elif else\n",
    "print \"program started\"\n",
    "a=1000\n",
    "b=200\n",
    "print a>b\n",
    "if a>b:\n",
    "    print \"if block started\"\n",
    "    print \"a is big\"\n",
    "    print \"if block ended\"\n",
    "\n",
    "print \"other statements in program\"\n",
    "print \"program ended\""
   ]
  },
  {
   "cell_type": "code",
   "execution_count": 20,
   "metadata": {},
   "outputs": [
    {
     "ename": "SyntaxError",
     "evalue": "invalid syntax (<ipython-input-20-bfc31ae2dafc>, line 12)",
     "output_type": "error",
     "traceback": [
      "\u001b[0;36m  File \u001b[0;32m\"<ipython-input-20-bfc31ae2dafc>\"\u001b[0;36m, line \u001b[0;32m12\u001b[0m\n\u001b[0;31m    else:\u001b[0m\n\u001b[0m       ^\u001b[0m\n\u001b[0;31mSyntaxError\u001b[0m\u001b[0;31m:\u001b[0m invalid syntax\n"
     ]
    }
   ],
   "source": [
    "# if .. if else... if elif .... if elif else\n",
    "print \"program started\"\n",
    "a=100\n",
    "b=200\n",
    "print a>b\n",
    "if a>b:\n",
    "    print \"if block started\"\n",
    "    print \"a is big\"\n",
    "\n",
    "print \"if block ended\"\n",
    "\n",
    "else:\n",
    "    print \"else block started\"\n",
    "    print \"b is big\"\n",
    "    print \"else block ended\"\n",
    "print \"other statements in program\"\n",
    "print \"program ended\""
   ]
  },
  {
   "cell_type": "code",
   "execution_count": 21,
   "metadata": {},
   "outputs": [
    {
     "name": "stdout",
     "output_type": "stream",
     "text": [
      "program started\n",
      "False\n",
      "else block started\n",
      "b is big\n",
      "else block ended\n",
      "other statements in program\n",
      "program ended\n"
     ]
    }
   ],
   "source": [
    "# if .. if else... if elif .... if elif else\n",
    "print \"program started\"\n",
    "a=100\n",
    "b=200\n",
    "print a>b\n",
    "if a>b:\n",
    "    print \"if block started\"\n",
    "    print \"a is big\"\n",
    "    print \"if block ended\"\n",
    "else:\n",
    "    print \"else block started\"\n",
    "    print \"b is big\"\n",
    "    print \"else block ended\"\n",
    "print \"other statements in program\"\n",
    "print \"program ended\""
   ]
  },
  {
   "cell_type": "code",
   "execution_count": 22,
   "metadata": {},
   "outputs": [
    {
     "name": "stdout",
     "output_type": "stream",
     "text": [
      "OPERATIONS\n",
      "\t1.ADD\n",
      "\t2.MUL\n",
      "\t3.SUB\n",
      "\t4.DIV\n"
     ]
    }
   ],
   "source": [
    "a=10\n",
    "b=20\n",
    "print \"OPERATIONS\\n\\t1.ADD\\n\\t2.MUL\\n\\t3.SUB\\n\\t4.DIV\""
   ]
  },
  {
   "cell_type": "code",
   "execution_count": 23,
   "metadata": {},
   "outputs": [
    {
     "name": "stdout",
     "output_type": "stream",
     "text": [
      "OPERATIONS\n",
      "\t1.ADD\n",
      "\t2.MUL\n",
      "\t3.SUB\n",
      "\t4.DIV\n",
      "Enter an option:1\n"
     ]
    }
   ],
   "source": [
    "a=10\n",
    "b=20\n",
    "opt=raw_input(\"OPERATIONS\\n\\t1.ADD\\n\\t2.MUL\\n\\t3.SUB\\n\\t4.DIV\\nEnter an option:\")\n"
   ]
  },
  {
   "cell_type": "code",
   "execution_count": 25,
   "metadata": {},
   "outputs": [
    {
     "name": "stdout",
     "output_type": "stream",
     "text": [
      "OPERATIONS\n",
      "\t1.ADD\n",
      "\t2.MUL\n",
      "\t3.SUB\n",
      "\t4.DIV\n",
      "Enter an option:1\n",
      "Thank you.. Have a nice day..\n"
     ]
    }
   ],
   "source": [
    "a=10\n",
    "b=20\n",
    "opt=raw_input(\"OPERATIONS\\n\\t1.ADD\\n\\t2.MUL\\n\\t3.SUB\\n\\t4.DIV\\nEnter an option:\")\n",
    "if opt==1:\n",
    "    print \"Adding a=%s, b=%s values:\"%(a,b)\n",
    "    res=a+b\n",
    "    print \"resul=%s\"%res\n",
    "if opt==2:\n",
    "    print \"multiplying a=%s, b=%s values:\"%(a,b)\n",
    "    res=a*b\n",
    "    print \"resul=%s\"%res\n",
    "if opt==3:\n",
    "    print \"substracting a=%s, b=%s values:\"%(a,b)\n",
    "    res=a+b\n",
    "    print \"resul=%s\"%res\n",
    "if opt==4:\n",
    "    print \"dividing a=%s, b=%s values:\"%(a,b)\n",
    "    res=a+b\n",
    "    print \"resul=%s\"%res\n",
    "print \"Thank you.. Have a nice day..\""
   ]
  },
  {
   "cell_type": "code",
   "execution_count": 26,
   "metadata": {},
   "outputs": [
    {
     "name": "stdout",
     "output_type": "stream",
     "text": [
      "OPERATIONS\n",
      "\t1.ADD\n",
      "\t2.MUL\n",
      "\t3.SUB\n",
      "\t4.DIV\n",
      "Enter an option:1\n",
      "Adding a=10, b=20 values:\n",
      "resul=30\n",
      "Thank you.. Have a nice day..\n"
     ]
    }
   ],
   "source": [
    "a=10\n",
    "b=20\n",
    "opt=raw_input(\"OPERATIONS\\n\\t1.ADD\\n\\t2.MUL\\n\\t3.SUB\\n\\t4.DIV\\nEnter an option:\")\n",
    "if opt==\"1\":\n",
    "    print \"Adding a=%s, b=%s values:\"%(a,b)\n",
    "    res=a+b\n",
    "    print \"resul=%s\"%res\n",
    "if opt==\"2\":\n",
    "    print \"multiplying a=%s, b=%s values:\"%(a,b)\n",
    "    res=a*b\n",
    "    print \"resul=%s\"%res\n",
    "if opt==\"3\":\n",
    "    print \"substracting a=%s, b=%s values:\"%(a,b)\n",
    "    res=a+b\n",
    "    print \"resul=%s\"%res\n",
    "if opt==\"4\":\n",
    "    print \"dividing a=%s, b=%s values:\"%(a,b)\n",
    "    res=a+b\n",
    "    print \"resul=%s\"%res\n",
    "print \"Thank you.. Have a nice day..\""
   ]
  },
  {
   "cell_type": "code",
   "execution_count": 27,
   "metadata": {},
   "outputs": [
    {
     "name": "stdout",
     "output_type": "stream",
     "text": [
      "OPERATIONS\n",
      "\t1.ADD\n",
      "\t2.MUL\n",
      "\t3.SUB\n",
      "\t4.DIV\n",
      "Enter an option:2\n",
      "multiplying a=10, b=20 values:\n",
      "resul=200\n",
      "Thank you.. Have a nice day..\n"
     ]
    }
   ],
   "source": [
    "a=10\n",
    "b=20\n",
    "opt=raw_input(\"OPERATIONS\\n\\t1.ADD\\n\\t2.MUL\\n\\t3.SUB\\n\\t4.DIV\\nEnter an option:\")\n",
    "if opt==\"1\":\n",
    "    print \"Adding a=%s, b=%s values:\"%(a,b)\n",
    "    res=a+b\n",
    "    print \"resul=%s\"%res\n",
    "if opt==\"2\":\n",
    "    print \"multiplying a=%s, b=%s values:\"%(a,b)\n",
    "    res=a*b\n",
    "    print \"resul=%s\"%res\n",
    "if opt==\"3\":\n",
    "    print \"substracting a=%s, b=%s values:\"%(a,b)\n",
    "    res=a+b\n",
    "    print \"resul=%s\"%res\n",
    "if opt==\"4\":\n",
    "    print \"dividing a=%s, b=%s values:\"%(a,b)\n",
    "    res=a+b\n",
    "    print \"resul=%s\"%res\n",
    "print \"Thank you.. Have a nice day..\""
   ]
  },
  {
   "cell_type": "code",
   "execution_count": 29,
   "metadata": {},
   "outputs": [
    {
     "name": "stdout",
     "output_type": "stream",
     "text": [
      "OPERATIONS\n",
      "\t1.ADD\n",
      "\t2.MUL\n",
      "\t3.SUB\n",
      "\t4.DIV\n",
      "Enter an option:3\n",
      "substracting a=10, b=20 values:\n",
      "resul=-10\n",
      "Thank you.. Have a nice day..\n"
     ]
    }
   ],
   "source": [
    "a=10\n",
    "b=20\n",
    "opt=raw_input(\"OPERATIONS\\n\\t1.ADD\\n\\t2.MUL\\n\\t3.SUB\\n\\t4.DIV\\nEnter an option:\")\n",
    "if opt==\"1\":\n",
    "    print \"Adding a=%s, b=%s values:\"%(a,b)\n",
    "    res=a+b\n",
    "    print \"resul=%s\"%res\n",
    "if opt==\"2\":\n",
    "    print \"multiplying a=%s, b=%s values:\"%(a,b)\n",
    "    res=a*b\n",
    "    print \"resul=%s\"%res\n",
    "if opt==\"3\":\n",
    "    print \"substracting a=%s, b=%s values:\"%(a,b)\n",
    "    res=a-b\n",
    "    print \"resul=%s\"%res\n",
    "if opt==\"4\":\n",
    "    print \"dividing a=%s, b=%s values:\"%(a,b)\n",
    "    res=a/b\n",
    "    print \"resul=%s\"%res\n",
    "print \"Thank you.. Have a nice day..\""
   ]
  },
  {
   "cell_type": "code",
   "execution_count": 30,
   "metadata": {},
   "outputs": [
    {
     "name": "stdout",
     "output_type": "stream",
     "text": [
      "OPERATIONS\n",
      "\t1.ADD\n",
      "\t2.MUL\n",
      "\t3.SUB\n",
      "\t4.DIV\n",
      "Enter an option:4\n",
      "dividing a=10, b=20 values:\n",
      "resul=0\n",
      "Thank you.. Have a nice day..\n"
     ]
    }
   ],
   "source": [
    "a=10\n",
    "b=20\n",
    "opt=raw_input(\"OPERATIONS\\n\\t1.ADD\\n\\t2.MUL\\n\\t3.SUB\\n\\t4.DIV\\nEnter an option:\")\n",
    "if opt==\"1\":\n",
    "    print \"Adding a=%s, b=%s values:\"%(a,b)\n",
    "    res=a+b\n",
    "    print \"resul=%s\"%res\n",
    "if opt==\"2\":\n",
    "    print \"multiplying a=%s, b=%s values:\"%(a,b)\n",
    "    res=a*b\n",
    "    print \"resul=%s\"%res\n",
    "if opt==\"3\":\n",
    "    print \"substracting a=%s, b=%s values:\"%(a,b)\n",
    "    res=a-b\n",
    "    print \"resul=%s\"%res\n",
    "if opt==\"4\":\n",
    "    print \"dividing a=%s, b=%s values:\"%(a,b)\n",
    "    res=a/b\n",
    "    print \"resul=%s\"%res\n",
    "print \"Thank you.. Have a nice day..\""
   ]
  },
  {
   "cell_type": "code",
   "execution_count": 31,
   "metadata": {},
   "outputs": [
    {
     "name": "stdout",
     "output_type": "stream",
     "text": [
      "OPERATIONS\n",
      "\t1.ADD\n",
      "\t2.MUL\n",
      "\t3.SUB\n",
      "\t4.DIV\n",
      "Enter an option:4\n",
      "dividing a=10, b=20 values:\n",
      "resul=0.5\n",
      "Thank you.. Have a nice day..\n"
     ]
    }
   ],
   "source": [
    "a=10\n",
    "b=20\n",
    "opt=raw_input(\"OPERATIONS\\n\\t1.ADD\\n\\t2.MUL\\n\\t3.SUB\\n\\t4.DIV\\nEnter an option:\")\n",
    "if opt==\"1\":\n",
    "    print \"Adding a=%s, b=%s values:\"%(a,b)\n",
    "    res=a+b\n",
    "    print \"resul=%s\"%res\n",
    "if opt==\"2\":\n",
    "    print \"multiplying a=%s, b=%s values:\"%(a,b)\n",
    "    res=a*b\n",
    "    print \"resul=%s\"%res\n",
    "if opt==\"3\":\n",
    "    print \"substracting a=%s, b=%s values:\"%(a,b)\n",
    "    res=a-b\n",
    "    print \"resul=%s\"%res\n",
    "if opt==\"4\":\n",
    "    print \"dividing a=%s, b=%s values:\"%(a,b)\n",
    "    res=a/float(b)\n",
    "    print \"resul=%s\"%res\n",
    "print \"Thank you.. Have a nice day..\""
   ]
  },
  {
   "cell_type": "code",
   "execution_count": 32,
   "metadata": {},
   "outputs": [
    {
     "name": "stdout",
     "output_type": "stream",
     "text": [
      "OPERATIONS\n",
      "\t1.ADD\n",
      "\t2.MUL\n",
      "\t3.SUB\n",
      "\t4.DIV\n",
      "Enter an option:5\n",
      "Thank you.. Have a nice day..\n"
     ]
    }
   ],
   "source": [
    "a=10\n",
    "b=20\n",
    "opt=raw_input(\"OPERATIONS\\n\\t1.ADD\\n\\t2.MUL\\n\\t3.SUB\\n\\t4.DIV\\nEnter an option:\")\n",
    "if opt==\"1\":\n",
    "    print \"Adding a=%s, b=%s values:\"%(a,b)\n",
    "    res=a+b\n",
    "    print \"resul=%s\"%res\n",
    "if opt==\"2\":\n",
    "    print \"multiplying a=%s, b=%s values:\"%(a,b)\n",
    "    res=a*b\n",
    "    print \"resul=%s\"%res\n",
    "if opt==\"3\":\n",
    "    print \"substracting a=%s, b=%s values:\"%(a,b)\n",
    "    res=a-b\n",
    "    print \"resul=%s\"%res\n",
    "if opt==\"4\":\n",
    "    print \"dividing a=%s, b=%s values:\"%(a,b)\n",
    "    res=a/float(b)\n",
    "    print \"resul=%s\"%res\n",
    "print \"Thank you.. Have a nice day..\""
   ]
  },
  {
   "cell_type": "code",
   "execution_count": 33,
   "metadata": {},
   "outputs": [
    {
     "name": "stdout",
     "output_type": "stream",
     "text": [
      "OPERATIONS\n",
      "\t1.ADD\n",
      "\t2.MUL\n",
      "\t3.SUB\n",
      "\t4.DIV\n",
      "Enter an option:1\n",
      "Adding a=10, b=20 values:\n",
      "resul=30\n",
      "choose 1 or 2 or 3 or 4\n",
      "Thank you.. Have a nice day..\n"
     ]
    }
   ],
   "source": [
    "a=10\n",
    "b=20\n",
    "opt=raw_input(\"OPERATIONS\\n\\t1.ADD\\n\\t2.MUL\\n\\t3.SUB\\n\\t4.DIV\\nEnter an option:\")\n",
    "if opt==\"1\":\n",
    "    print \"Adding a=%s, b=%s values:\"%(a,b)\n",
    "    res=a+b\n",
    "    print \"resul=%s\"%res\n",
    "if opt==\"2\":\n",
    "    print \"multiplying a=%s, b=%s values:\"%(a,b)\n",
    "    res=a*b\n",
    "    print \"resul=%s\"%res\n",
    "if opt==\"3\":\n",
    "    print \"substracting a=%s, b=%s values:\"%(a,b)\n",
    "    res=a-b\n",
    "    print \"resul=%s\"%res\n",
    "if opt==\"4\":\n",
    "    print \"dividing a=%s, b=%s values:\"%(a,b)\n",
    "    res=a/float(b)\n",
    "    print \"resul=%s\"%res\n",
    "print \"choose 1 or 2 or 3 or 4\"\n",
    "print \"Thank you.. Have a nice day..\""
   ]
  },
  {
   "cell_type": "code",
   "execution_count": 34,
   "metadata": {},
   "outputs": [
    {
     "name": "stdout",
     "output_type": "stream",
     "text": [
      "OPERATIONS\n",
      "\t1.ADD\n",
      "\t2.MUL\n",
      "\t3.SUB\n",
      "\t4.DIV\n",
      "Enter an option:5\n",
      "choose 1 or 2 or 3 or 4\n",
      "Thank you.. Have a nice day..\n"
     ]
    }
   ],
   "source": [
    "a=10\n",
    "b=20\n",
    "opt=raw_input(\"OPERATIONS\\n\\t1.ADD\\n\\t2.MUL\\n\\t3.SUB\\n\\t4.DIV\\nEnter an option:\")\n",
    "if opt==\"1\":\n",
    "    print \"Adding a=%s, b=%s values:\"%(a,b)\n",
    "    res=a+b\n",
    "    print \"resul=%s\"%res\n",
    "if opt==\"2\":\n",
    "    print \"multiplying a=%s, b=%s values:\"%(a,b)\n",
    "    res=a*b\n",
    "    print \"resul=%s\"%res\n",
    "if opt==\"3\":\n",
    "    print \"substracting a=%s, b=%s values:\"%(a,b)\n",
    "    res=a-b\n",
    "    print \"resul=%s\"%res\n",
    "if opt==\"4\":\n",
    "    print \"dividing a=%s, b=%s values:\"%(a,b)\n",
    "    res=a/float(b)\n",
    "    print \"resul=%s\"%res\n",
    "print \"choose 1 or 2 or 3 or 4\"\n",
    "print \"Thank you.. Have a nice day..\""
   ]
  },
  {
   "cell_type": "code",
   "execution_count": 35,
   "metadata": {},
   "outputs": [
    {
     "name": "stdout",
     "output_type": "stream",
     "text": [
      "OPERATIONS\n",
      "\t1.ADD\n",
      "\t2.MUL\n",
      "\t3.SUB\n",
      "\t4.DIV\n",
      "Enter an option:3\n",
      "substracting a=10, b=20 values:\n",
      "resul=-10\n",
      "choose 1 or 2 or 3 or 4\n",
      "Thank you.. Have a nice day..\n"
     ]
    }
   ],
   "source": [
    "a=10\n",
    "b=20\n",
    "opt=raw_input(\"OPERATIONS\\n\\t1.ADD\\n\\t2.MUL\\n\\t3.SUB\\n\\t4.DIV\\nEnter an option:\")\n",
    "if opt==\"1\":\n",
    "    print \"Adding a=%s, b=%s values:\"%(a,b)\n",
    "    res=a+b\n",
    "    print \"resul=%s\"%res\n",
    "if opt==\"2\":\n",
    "    print \"multiplying a=%s, b=%s values:\"%(a,b)\n",
    "    res=a*b\n",
    "    print \"resul=%s\"%res\n",
    "if opt==\"3\":\n",
    "    print \"substracting a=%s, b=%s values:\"%(a,b)\n",
    "    res=a-b\n",
    "    print \"resul=%s\"%res\n",
    "if opt==\"4\":\n",
    "    print \"dividing a=%s, b=%s values:\"%(a,b)\n",
    "    res=a/float(b)\n",
    "    print \"resul=%s\"%res\n",
    "print \"choose 1 or 2 or 3 or 4\"\n",
    "print \"Thank you.. Have a nice day..\""
   ]
  },
  {
   "cell_type": "code",
   "execution_count": 36,
   "metadata": {},
   "outputs": [
    {
     "name": "stdout",
     "output_type": "stream",
     "text": [
      "OPERATIONS\n",
      "\t1.ADD\n",
      "\t2.MUL\n",
      "\t3.SUB\n",
      "\t4.DIV\n",
      "Enter an option:5\n",
      "choose 1 or 2 or 3 or 4\n",
      "Thank you.. Have a nice day..\n"
     ]
    }
   ],
   "source": [
    "a=10\n",
    "b=20\n",
    "opt=raw_input(\"OPERATIONS\\n\\t1.ADD\\n\\t2.MUL\\n\\t3.SUB\\n\\t4.DIV\\nEnter an option:\")\n",
    "if opt==\"1\":\n",
    "    print \"Adding a=%s, b=%s values:\"%(a,b)\n",
    "    res=a+b\n",
    "    print \"resul=%s\"%res\n",
    "if opt==\"2\":\n",
    "    print \"multiplying a=%s, b=%s values:\"%(a,b)\n",
    "    res=a*b\n",
    "    print \"resul=%s\"%res\n",
    "if opt==\"3\":\n",
    "    print \"substracting a=%s, b=%s values:\"%(a,b)\n",
    "    res=a-b\n",
    "    print \"resul=%s\"%res\n",
    "if opt==\"4\":\n",
    "    print \"dividing a=%s, b=%s values:\"%(a,b)\n",
    "    res=a/float(b)\n",
    "    print \"resul=%s\"%res\n",
    "else:\n",
    "    print \"choose 1 or 2 or 3 or 4\"\n",
    "print \"Thank you.. Have a nice day..\""
   ]
  },
  {
   "cell_type": "code",
   "execution_count": 37,
   "metadata": {},
   "outputs": [
    {
     "name": "stdout",
     "output_type": "stream",
     "text": [
      "OPERATIONS\n",
      "\t1.ADD\n",
      "\t2.MUL\n",
      "\t3.SUB\n",
      "\t4.DIV\n",
      "Enter an option:4\n",
      "dividing a=10, b=20 values:\n",
      "resul=0.5\n",
      "Thank you.. Have a nice day..\n"
     ]
    }
   ],
   "source": [
    "a=10\n",
    "b=20\n",
    "opt=raw_input(\"OPERATIONS\\n\\t1.ADD\\n\\t2.MUL\\n\\t3.SUB\\n\\t4.DIV\\nEnter an option:\")\n",
    "if opt==\"1\":\n",
    "    print \"Adding a=%s, b=%s values:\"%(a,b)\n",
    "    res=a+b\n",
    "    print \"resul=%s\"%res\n",
    "if opt==\"2\":\n",
    "    print \"multiplying a=%s, b=%s values:\"%(a,b)\n",
    "    res=a*b\n",
    "    print \"resul=%s\"%res\n",
    "if opt==\"3\":\n",
    "    print \"substracting a=%s, b=%s values:\"%(a,b)\n",
    "    res=a-b\n",
    "    print \"resul=%s\"%res\n",
    "if opt==\"4\":\n",
    "    print \"dividing a=%s, b=%s values:\"%(a,b)\n",
    "    res=a/float(b)\n",
    "    print \"resul=%s\"%res\n",
    "else:\n",
    "    print \"choose 1 or 2 or 3 or 4\"\n",
    "print \"Thank you.. Have a nice day..\""
   ]
  },
  {
   "cell_type": "code",
   "execution_count": 38,
   "metadata": {},
   "outputs": [
    {
     "name": "stdout",
     "output_type": "stream",
     "text": [
      "OPERATIONS\n",
      "\t1.ADD\n",
      "\t2.MUL\n",
      "\t3.SUB\n",
      "\t4.DIV\n",
      "Enter an option:3\n",
      "substracting a=10, b=20 values:\n",
      "resul=-10\n",
      "choose 1 or 2 or 3 or 4\n",
      "Thank you.. Have a nice day..\n"
     ]
    }
   ],
   "source": [
    "a=10\n",
    "b=20\n",
    "opt=raw_input(\"OPERATIONS\\n\\t1.ADD\\n\\t2.MUL\\n\\t3.SUB\\n\\t4.DIV\\nEnter an option:\")\n",
    "if opt==\"1\":\n",
    "    print \"Adding a=%s, b=%s values:\"%(a,b)\n",
    "    res=a+b\n",
    "    print \"resul=%s\"%res\n",
    "if opt==\"2\":\n",
    "    print \"multiplying a=%s, b=%s values:\"%(a,b)\n",
    "    res=a*b\n",
    "    print \"resul=%s\"%res\n",
    "if opt==\"3\":\n",
    "    print \"substracting a=%s, b=%s values:\"%(a,b)\n",
    "    res=a-b\n",
    "    print \"resul=%s\"%res\n",
    "if opt==\"4\":\n",
    "    print \"dividing a=%s, b=%s values:\"%(a,b)\n",
    "    res=a/float(b)\n",
    "    print \"resul=%s\"%res\n",
    "else:\n",
    "    print \"choose 1 or 2 or 3 or 4\"\n",
    "print \"Thank you.. Have a nice day..\""
   ]
  },
  {
   "cell_type": "code",
   "execution_count": 39,
   "metadata": {},
   "outputs": [
    {
     "name": "stdout",
     "output_type": "stream",
     "text": [
      "OPERATIONS\n",
      "\t1.ADD\n",
      "\t2.MUL\n",
      "\t3.SUB\n",
      "\t4.DIV\n",
      "Enter an option:5\n",
      "Chose  2 or 3 \n",
      "Thank you.. Have a nice day..\n"
     ]
    }
   ],
   "source": [
    "a=10\n",
    "b=20\n",
    "opt=raw_input(\"OPERATIONS\\n\\t1.ADD\\n\\t2.MUL\\n\\t3.SUB\\n\\t4.DIV\\nEnter an option:\")\n",
    "if opt not in [\"1\",\"2\",\"3\",\"4\"]:\n",
    "    print \"Chose  1 or 2 or 3 or 4\"\n",
    "if opt==\"1\":\n",
    "    print \"Adding a=%s, b=%s values:\"%(a,b)\n",
    "    res=a+b\n",
    "    print \"resul=%s\"%res\n",
    "if opt==\"2\":\n",
    "    print \"multiplying a=%s, b=%s values:\"%(a,b)\n",
    "    res=a*b\n",
    "    print \"resul=%s\"%res\n",
    "if opt==\"3\":\n",
    "    print \"substracting a=%s, b=%s values:\"%(a,b)\n",
    "    res=a-b\n",
    "    print \"resul=%s\"%res\n",
    "if opt==\"4\":\n",
    "    print \"dividing a=%s, b=%s values:\"%(a,b)\n",
    "    res=a/float(b)\n",
    "    print \"resul=%s\"%res\n",
    "\n",
    "print \"Thank you.. Have a nice day..\""
   ]
  },
  {
   "cell_type": "code",
   "execution_count": null,
   "metadata": {
    "collapsed": true
   },
   "outputs": [],
   "source": []
  }
 ],
 "metadata": {
  "kernelspec": {
   "display_name": "Python 2",
   "language": "python",
   "name": "python2"
  },
  "language_info": {
   "codemirror_mode": {
    "name": "ipython",
    "version": 2
   },
   "file_extension": ".py",
   "mimetype": "text/x-python",
   "name": "python",
   "nbconvert_exporter": "python",
   "pygments_lexer": "ipython2",
   "version": "2.7.14"
  }
 },
 "nbformat": 4,
 "nbformat_minor": 2
}
