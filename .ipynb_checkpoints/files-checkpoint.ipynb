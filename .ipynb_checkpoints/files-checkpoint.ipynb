{
 "cells": [
  {
   "cell_type": "code",
   "execution_count": 2,
   "metadata": {},
   "outputs": [
    {
     "name": "stdout",
     "output_type": "stream",
     "text": [
      "data/data.csv\n"
     ]
    }
   ],
   "source": [
    "import os\n",
    "print os.path.join(\"data\",\"data.csv\")"
   ]
  },
  {
   "cell_type": "code",
   "execution_count": 3,
   "metadata": {
    "collapsed": true
   },
   "outputs": [],
   "source": [
    "f=open(\"data.csv\",\"w\")"
   ]
  },
  {
   "cell_type": "code",
   "execution_count": 4,
   "metadata": {
    "collapsed": true
   },
   "outputs": [],
   "source": [
    "f.write(\"this is first line in files\")"
   ]
  },
  {
   "cell_type": "code",
   "execution_count": 5,
   "metadata": {
    "collapsed": true
   },
   "outputs": [],
   "source": [
    "f.close()"
   ]
  },
  {
   "cell_type": "code",
   "execution_count": 6,
   "metadata": {},
   "outputs": [
    {
     "ename": "ValueError",
     "evalue": "I/O operation on closed file",
     "output_type": "error",
     "traceback": [
      "\u001b[0;31m---------------------------------------------------------------------------\u001b[0m",
      "\u001b[0;31mValueError\u001b[0m                                Traceback (most recent call last)",
      "\u001b[0;32m<ipython-input-6-9a2840a7edad>\u001b[0m in \u001b[0;36m<module>\u001b[0;34m()\u001b[0m\n\u001b[0;32m----> 1\u001b[0;31m \u001b[0mf\u001b[0m\u001b[0;34m.\u001b[0m\u001b[0mwrite\u001b[0m\u001b[0;34m(\u001b[0m\u001b[0;34m\"\\n this is second line in files\"\u001b[0m\u001b[0;34m)\u001b[0m\u001b[0;34m\u001b[0m\u001b[0m\n\u001b[0m",
      "\u001b[0;31mValueError\u001b[0m: I/O operation on closed file"
     ]
    }
   ],
   "source": [
    "f.write(\"\\n this is second line in files\")"
   ]
  },
  {
   "cell_type": "code",
   "execution_count": 7,
   "metadata": {
    "collapsed": true
   },
   "outputs": [],
   "source": [
    "f=open(\"data.csv\",\"w\")"
   ]
  },
  {
   "cell_type": "code",
   "execution_count": 8,
   "metadata": {
    "collapsed": true
   },
   "outputs": [],
   "source": [
    "f=open(\"data.csv\",\"w\")\n",
    "f.write(\"this is first line in files\")\n",
    "f.write(\"\\n this is second line in files\")\n",
    "f.close()"
   ]
  },
  {
   "cell_type": "code",
   "execution_count": 9,
   "metadata": {
    "collapsed": true
   },
   "outputs": [],
   "source": [
    "f=open(\"data.csv\",\"w\")\n",
    "f.write(\"\\nthis is third line in files\")\n",
    "\n",
    "f.close()"
   ]
  },
  {
   "cell_type": "code",
   "execution_count": 10,
   "metadata": {
    "collapsed": true
   },
   "outputs": [],
   "source": [
    "f=open(\"data.csv\",\"a\")\n",
    "f.write(\"\\nthis is first line in files\")\n",
    "f.write(\"\\nthis is second line in files\")\n",
    "f.flush()"
   ]
  },
  {
   "cell_type": "code",
   "execution_count": 11,
   "metadata": {
    "collapsed": true
   },
   "outputs": [],
   "source": [
    "f.write(\"\\nthis is fourth line in files\")"
   ]
  },
  {
   "cell_type": "code",
   "execution_count": 12,
   "metadata": {
    "collapsed": true
   },
   "outputs": [],
   "source": [
    "f.close()"
   ]
  },
  {
   "cell_type": "code",
   "execution_count": 13,
   "metadata": {},
   "outputs": [
    {
     "ename": "ValueError",
     "evalue": "I/O operation on closed file",
     "output_type": "error",
     "traceback": [
      "\u001b[0;31m---------------------------------------------------------------------------\u001b[0m",
      "\u001b[0;31mValueError\u001b[0m                                Traceback (most recent call last)",
      "\u001b[0;32m<ipython-input-13-50f20b1a3e0c>\u001b[0m in \u001b[0;36m<module>\u001b[0;34m()\u001b[0m\n\u001b[0;32m----> 1\u001b[0;31m \u001b[0mf\u001b[0m\u001b[0;34m.\u001b[0m\u001b[0mwrite\u001b[0m\u001b[0;34m(\u001b[0m\u001b[0;34m\"sdfsdf\"\u001b[0m\u001b[0;34m)\u001b[0m\u001b[0;34m\u001b[0m\u001b[0m\n\u001b[0m",
      "\u001b[0;31mValueError\u001b[0m: I/O operation on closed file"
     ]
    }
   ],
   "source": [
    "f.write(\"sdfsdf\")"
   ]
  },
  {
   "cell_type": "code",
   "execution_count": 14,
   "metadata": {},
   "outputs": [
    {
     "ename": "TypeError",
     "evalue": "expected a string or other character buffer object",
     "output_type": "error",
     "traceback": [
      "\u001b[0;31m---------------------------------------------------------------------------\u001b[0m",
      "\u001b[0;31mTypeError\u001b[0m                                 Traceback (most recent call last)",
      "\u001b[0;32m<ipython-input-14-9242ff3ed05b>\u001b[0m in \u001b[0;36m<module>\u001b[0;34m()\u001b[0m\n\u001b[1;32m      1\u001b[0m \u001b[0mf\u001b[0m\u001b[0;34m=\u001b[0m\u001b[0mopen\u001b[0m\u001b[0;34m(\u001b[0m\u001b[0;34m\"data.csv\"\u001b[0m\u001b[0;34m,\u001b[0m\u001b[0;34m\"w\"\u001b[0m\u001b[0;34m)\u001b[0m\u001b[0;34m\u001b[0m\u001b[0m\n\u001b[1;32m      2\u001b[0m \u001b[0ml\u001b[0m\u001b[0;34m=\u001b[0m\u001b[0;34m[\u001b[0m\u001b[0;34m\"1,name1,23\"\u001b[0m\u001b[0;34m,\u001b[0m\u001b[0;34m\"2,name2,24\"\u001b[0m\u001b[0;34m,\u001b[0m\u001b[0;34m\"3,name4,25\"\u001b[0m\u001b[0;34m]\u001b[0m\u001b[0;34m\u001b[0m\u001b[0m\n\u001b[0;32m----> 3\u001b[0;31m \u001b[0mf\u001b[0m\u001b[0;34m.\u001b[0m\u001b[0mwrite\u001b[0m\u001b[0;34m(\u001b[0m\u001b[0ml\u001b[0m\u001b[0;34m)\u001b[0m\u001b[0;34m\u001b[0m\u001b[0m\n\u001b[0m\u001b[1;32m      4\u001b[0m \u001b[0mf\u001b[0m\u001b[0;34m.\u001b[0m\u001b[0mclose\u001b[0m\u001b[0;34m(\u001b[0m\u001b[0;34m)\u001b[0m\u001b[0;34m\u001b[0m\u001b[0m\n",
      "\u001b[0;31mTypeError\u001b[0m: expected a string or other character buffer object"
     ]
    }
   ],
   "source": [
    "f=open(\"data.csv\",\"w\")\n",
    "l=[\"1,name1,23\",\"2,name2,24\",\"3,name4,25\"]\n",
    "f.write(l)\n",
    "f.close()"
   ]
  },
  {
   "cell_type": "code",
   "execution_count": 16,
   "metadata": {
    "collapsed": true
   },
   "outputs": [],
   "source": [
    "f=open(\"data.csv\",\"w\")\n",
    "l=[\"1,name1,23\",\"\\n2,name2,24\",\"\\n3,name4,25\"]\n",
    "f.writelines(l)\n",
    "f.close()"
   ]
  },
  {
   "cell_type": "code",
   "execution_count": 17,
   "metadata": {},
   "outputs": [
    {
     "ename": "TypeError",
     "evalue": "writelines() argument must be a sequence of strings",
     "output_type": "error",
     "traceback": [
      "\u001b[0;31m---------------------------------------------------------------------------\u001b[0m",
      "\u001b[0;31mTypeError\u001b[0m                                 Traceback (most recent call last)",
      "\u001b[0;32m<ipython-input-17-6acf26f54a27>\u001b[0m in \u001b[0;36m<module>\u001b[0;34m()\u001b[0m\n\u001b[1;32m      1\u001b[0m \u001b[0mf\u001b[0m\u001b[0;34m=\u001b[0m\u001b[0mopen\u001b[0m\u001b[0;34m(\u001b[0m\u001b[0;34m\"data.csv\"\u001b[0m\u001b[0;34m,\u001b[0m\u001b[0;34m\"w\"\u001b[0m\u001b[0;34m)\u001b[0m\u001b[0;34m\u001b[0m\u001b[0m\n\u001b[1;32m      2\u001b[0m \u001b[0ml\u001b[0m\u001b[0;34m=\u001b[0m\u001b[0;34m[\u001b[0m\u001b[0;34m\"1,name1,23\"\u001b[0m\u001b[0;34m,\u001b[0m\u001b[0;34m\"\\n2,name2,24\"\u001b[0m\u001b[0;34m,\u001b[0m\u001b[0;34m\"\\n3,name4,25\"\u001b[0m\u001b[0;34m,\u001b[0m\u001b[0;36m234\u001b[0m\u001b[0;34m,\u001b[0m\u001b[0;36m566\u001b[0m\u001b[0;34m]\u001b[0m\u001b[0;34m\u001b[0m\u001b[0m\n\u001b[0;32m----> 3\u001b[0;31m \u001b[0mf\u001b[0m\u001b[0;34m.\u001b[0m\u001b[0mwritelines\u001b[0m\u001b[0;34m(\u001b[0m\u001b[0ml\u001b[0m\u001b[0;34m)\u001b[0m\u001b[0;34m\u001b[0m\u001b[0m\n\u001b[0m\u001b[1;32m      4\u001b[0m \u001b[0mf\u001b[0m\u001b[0;34m.\u001b[0m\u001b[0mclose\u001b[0m\u001b[0;34m(\u001b[0m\u001b[0;34m)\u001b[0m\u001b[0;34m\u001b[0m\u001b[0m\n",
      "\u001b[0;31mTypeError\u001b[0m: writelines() argument must be a sequence of strings"
     ]
    }
   ],
   "source": [
    "f=open(\"data.csv\",\"w\")\n",
    "l=[\"1,name1,23\",\"\\n2,name2,24\",\"\\n3,name4,25\",234,566]\n",
    "f.writelines(l)\n",
    "f.close()"
   ]
  },
  {
   "cell_type": "code",
   "execution_count": 18,
   "metadata": {},
   "outputs": [
    {
     "name": "stdout",
     "output_type": "stream",
     "text": [
      "[24, 25, 26, 27, 28, 29]\n",
      "[30000, 40000, 50000, 60000, 70000, 80000]\n"
     ]
    }
   ],
   "source": [
    "names=[\"jayaram\",\"kiran\",\"danush\",\"karthikeya\",\"shruthi\",\"thrishanth\"]\n",
    "ages=range(24,30)\n",
    "sals=range(30000,90000,10000)\n",
    "print ages\n",
    "print sals"
   ]
  },
  {
   "cell_type": "code",
   "execution_count": 19,
   "metadata": {},
   "outputs": [
    {
     "data": {
      "text/plain": [
       "True"
      ]
     },
     "execution_count": 19,
     "metadata": {},
     "output_type": "execute_result"
    }
   ],
   "source": [
    "names=[\"jayaram\",\"kiran\",\"danush\",\"karthikeya\",\"shruthi\",\"thrishanth\"]\n",
    "ages=range(24,30)\n",
    "sals=range(30000,90000,10000)\n",
    "import os\n",
    "os.path.isfile(\"data.csv\")"
   ]
  },
  {
   "cell_type": "code",
   "execution_count": 20,
   "metadata": {},
   "outputs": [
    {
     "data": {
      "text/plain": [
       "False"
      ]
     },
     "execution_count": 20,
     "metadata": {},
     "output_type": "execute_result"
    }
   ],
   "source": [
    "names=[\"jayaram\",\"kiran\",\"danush\",\"karthikeya\",\"shruthi\",\"thrishanth\"]\n",
    "ages=range(24,30)\n",
    "sals=range(30000,90000,10000)\n",
    "import os\n",
    "os.path.isfile(\"data1.csv\")"
   ]
  },
  {
   "cell_type": "code",
   "execution_count": 21,
   "metadata": {},
   "outputs": [
    {
     "name": "stdout",
     "output_type": "stream",
     "text": [
      "jayaram,29,30000\n",
      "shruthi,26,80000\n",
      "jayaram,29,60000\n",
      "kiran,27,70000\n",
      "jayaram,28,40000\n",
      "karthikeya,29,40000\n",
      "thrishanth,25,40000\n",
      "danush,26,30000\n",
      "thrishanth,26,60000\n",
      "jayaram,29,30000\n",
      "shruthi,27,40000\n",
      "shruthi,27,70000\n",
      "thrishanth,27,70000\n",
      "shruthi,26,40000\n",
      "kiran,26,40000\n",
      "karthikeya,28,40000\n",
      "kiran,29,70000\n",
      "karthikeya,29,60000\n",
      "thrishanth,25,60000\n",
      "kiran,27,50000\n",
      "danush,25,40000\n",
      "thrishanth,24,80000\n",
      "shruthi,24,40000\n",
      "shruthi,27,70000\n",
      "karthikeya,27,40000\n",
      "karthikeya,29,70000\n",
      "karthikeya,28,40000\n",
      "jayaram,24,50000\n",
      "karthikeya,27,60000\n",
      "karthikeya,24,30000\n",
      "danush,25,30000\n",
      "shruthi,24,30000\n",
      "shruthi,28,30000\n",
      "jayaram,29,40000\n",
      "karthikeya,24,30000\n",
      "danush,25,30000\n",
      "karthikeya,25,50000\n",
      "kiran,24,50000\n",
      "kiran,29,40000\n",
      "kiran,27,60000\n",
      "karthikeya,25,30000\n",
      "danush,24,30000\n",
      "kiran,24,60000\n",
      "kiran,26,60000\n",
      "thrishanth,25,40000\n",
      "karthikeya,25,70000\n",
      "thrishanth,25,40000\n",
      "danush,27,80000\n",
      "danush,27,60000\n",
      "thrishanth,25,30000\n",
      "shruthi,27,40000\n",
      "kiran,24,60000\n",
      "jayaram,27,60000\n",
      "jayaram,26,30000\n",
      "jayaram,25,30000\n",
      "thrishanth,28,30000\n",
      "kiran,24,70000\n",
      "shruthi,26,40000\n",
      "thrishanth,28,50000\n",
      "jayaram,24,80000\n",
      "kiran,24,30000\n",
      "thrishanth,26,70000\n",
      "kiran,24,80000\n",
      "kiran,28,50000\n",
      "kiran,27,70000\n",
      "karthikeya,28,50000\n",
      "jayaram,26,70000\n",
      "thrishanth,28,70000\n",
      "kiran,26,70000\n",
      "danush,26,30000\n",
      "karthikeya,25,80000\n",
      "karthikeya,26,50000\n",
      "karthikeya,25,80000\n",
      "karthikeya,26,40000\n",
      "karthikeya,26,60000\n",
      "jayaram,24,70000\n",
      "kiran,24,40000\n",
      "thrishanth,29,60000\n",
      "kiran,26,80000\n",
      "shruthi,29,60000\n",
      "shruthi,28,70000\n",
      "danush,27,40000\n",
      "karthikeya,24,80000\n",
      "danush,29,80000\n",
      "danush,24,60000\n",
      "karthikeya,27,40000\n",
      "danush,28,80000\n",
      "jayaram,27,50000\n",
      "shruthi,27,60000\n",
      "jayaram,25,40000\n",
      "kiran,24,80000\n",
      "jayaram,26,40000\n",
      "jayaram,25,80000\n",
      "danush,27,60000\n",
      "kiran,29,50000\n",
      "danush,24,70000\n",
      "karthikeya,28,80000\n",
      "jayaram,28,50000\n",
      "kiran,25,50000\n",
      "karthikeya,27,50000\n"
     ]
    }
   ],
   "source": [
    "import random as r\n",
    "names=[\"jayaram\",\"kiran\",\"danush\",\"karthikeya\",\"shruthi\",\"thrishanth\"]\n",
    "ages=xrange(24,30)\n",
    "sals=xrange(30000,90000,10000)\n",
    "f=open(\"data.csv\",\"w\")\n",
    "for i in xrange(100):\n",
    "    row=\"%s,%s,%s\"%(r.choice(names),r.choice(ages),r.choice(sals))\n",
    "    print row"
   ]
  },
  {
   "cell_type": "code",
   "execution_count": 23,
   "metadata": {
    "collapsed": true
   },
   "outputs": [],
   "source": [
    "import random as r\n",
    "names=[\"jayaram\",\"kiran\",\"danush\",\"karthikeya\",\"shruthi\",\"thrishanth\"]\n",
    "ages=xrange(24,30)\n",
    "sals=xrange(30000,90000,10000)\n",
    "f=open(\"data.csv\",\"w\")\n",
    "for i in xrange(100):\n",
    "    row=\"%s,%s,%s\\n\"%(r.choice(names),r.choice(ages),r.choice(sals))\n",
    "    f.write(row)\n",
    "f.close()"
   ]
  },
  {
   "cell_type": "code",
   "execution_count": 25,
   "metadata": {},
   "outputs": [
    {
     "name": "stdout",
     "output_type": "stream",
     "text": [
      "danush,29,60000\n",
      "karthikeya,26,30000\n",
      "kiran,27,50000\n",
      "danush,26,60000\n",
      "jayaram,28,70000\n",
      "shruthi,27,50000\n",
      "shruthi,27,50000\n",
      "kiran,25,60000\n",
      "karthikeya,26,70000\n",
      "danush,25,70000\n",
      "karthikeya,26,40000\n",
      "kiran,26,40000\n",
      "shruthi,29,60000\n",
      "jayaram,29,80000\n",
      "jayaram,25,50000\n",
      "danush,24,70000\n",
      "shruthi,26,60000\n",
      "thrishanth,28,50000\n",
      "kiran,26,30000\n",
      "kiran,26,60000\n",
      "jayaram,27,80000\n",
      "kiran,26,60000\n",
      "karthikeya,29,40000\n",
      "danush,28,80000\n",
      "kiran,28,60000\n",
      "jayaram,24,50000\n",
      "karthikeya,25,80000\n",
      "kiran,25,60000\n",
      "kiran,29,70000\n",
      "thrishanth,29,30000\n",
      "karthikeya,25,50000\n",
      "thrishanth,25,80000\n",
      "jayaram,29,60000\n",
      "shruthi,25,50000\n",
      "jayaram,27,60000\n",
      "jayaram,27,40000\n",
      "thrishanth,24,70000\n",
      "karthikeya,25,50000\n",
      "karthikeya,28,50000\n",
      "shruthi,26,30000\n",
      "danush,28,40000\n",
      "thrishanth,29,30000\n",
      "thrishanth,28,60000\n",
      "thrishanth,24,80000\n",
      "jayaram,24,60000\n",
      "shruthi,25,60000\n",
      "jayaram,26,60000\n",
      "kiran,26,80000\n",
      "kiran,27,30000\n",
      "thrishanth,27,70000\n",
      "jayaram,28,60000\n",
      "jayaram,24,40000\n",
      "danush,27,30000\n",
      "jayaram,29,50000\n",
      "danush,27,30000\n",
      "karthikeya,25,40000\n",
      "thrishanth,29,80000\n",
      "shruthi,26,60000\n",
      "shruthi,28,70000\n",
      "kiran,27,70000\n",
      "kiran,28,60000\n",
      "thrishanth,25,40000\n",
      "kiran,24,60000\n",
      "danush,27,50000\n",
      "kiran,29,60000\n",
      "kiran,29,50000\n",
      "jayaram,26,30000\n",
      "karthikeya,27,80000\n",
      "kiran,26,40000\n",
      "karthikeya,28,40000\n",
      "kiran,29,50000\n",
      "karthikeya,29,80000\n",
      "shruthi,27,60000\n",
      "danush,24,40000\n",
      "danush,25,80000\n",
      "kiran,25,50000\n",
      "thrishanth,25,50000\n",
      "karthikeya,26,80000\n",
      "kiran,26,80000\n",
      "kiran,26,60000\n",
      "danush,27,60000\n",
      "karthikeya,24,70000\n",
      "karthikeya,28,50000\n",
      "thrishanth,29,50000\n",
      "thrishanth,24,80000\n",
      "danush,24,70000\n",
      "danush,29,40000\n",
      "jayaram,25,60000\n",
      "shruthi,25,50000\n",
      "kiran,27,60000\n",
      "danush,27,50000\n",
      "jayaram,28,80000\n",
      "danush,29,40000\n",
      "thrishanth,28,40000\n",
      "kiran,28,70000\n",
      "kiran,29,40000\n",
      "danush,26,80000\n",
      "shruthi,26,80000\n",
      "danush,27,40000\n",
      "kiran,25,70000\n",
      "\n"
     ]
    }
   ],
   "source": [
    "f=open(\"data.csv\",\"r\")\n",
    "data=f.read()\n",
    "print data"
   ]
  },
  {
   "cell_type": "code",
   "execution_count": 27,
   "metadata": {},
   "outputs": [
    {
     "name": "stdout",
     "output_type": "stream",
     "text": [
      "danush,29,\n"
     ]
    }
   ],
   "source": [
    "f=open(\"data.csv\",\"r\")\n",
    "data=f.read(10)\n",
    "print data\n"
   ]
  },
  {
   "cell_type": "code",
   "execution_count": 28,
   "metadata": {},
   "outputs": [
    {
     "name": "stdout",
     "output_type": "stream",
     "text": [
      "60000\n",
      "kart\n"
     ]
    }
   ],
   "source": [
    "data1=f.read(10)\n",
    "print data1"
   ]
  },
  {
   "cell_type": "code",
   "execution_count": 29,
   "metadata": {},
   "outputs": [
    {
     "name": "stdout",
     "output_type": "stream",
     "text": [
      "hikeya,26,\n"
     ]
    }
   ],
   "source": [
    "data1=f.read(10)\n",
    "print data1"
   ]
  },
  {
   "cell_type": "code",
   "execution_count": 31,
   "metadata": {},
   "outputs": [
    {
     "name": "stdout",
     "output_type": "stream",
     "text": [
      "30000\n",
      "kira\n"
     ]
    }
   ],
   "source": [
    "data1=f.read(10)\n",
    "print data1"
   ]
  },
  {
   "cell_type": "code",
   "execution_count": 32,
   "metadata": {},
   "outputs": [
    {
     "name": "stdout",
     "output_type": "stream",
     "text": [
      "danush,29,60000\n",
      "\n",
      "karthikeya,26,30000\n",
      "\n",
      "kiran,27,50000\n",
      "\n",
      "danush,26,60000\n",
      "\n"
     ]
    }
   ],
   "source": [
    "f=open(\"data.csv\",\"r\")\n",
    "print f.readline()\n",
    "print f.readline()\n",
    "print f.readline()\n",
    "print f.readline()"
   ]
  },
  {
   "cell_type": "code",
   "execution_count": 33,
   "metadata": {},
   "outputs": [
    {
     "name": "stdout",
     "output_type": "stream",
     "text": [
      "['jayaram,28,70000\\n', 'shruthi,27,50000\\n', 'shruthi,27,50000\\n', 'kiran,25,60000\\n', 'karthikeya,26,70000\\n', 'danush,25,70000\\n', 'karthikeya,26,40000\\n', 'kiran,26,40000\\n', 'shruthi,29,60000\\n', 'jayaram,29,80000\\n', 'jayaram,25,50000\\n', 'danush,24,70000\\n', 'shruthi,26,60000\\n', 'thrishanth,28,50000\\n', 'kiran,26,30000\\n', 'kiran,26,60000\\n', 'jayaram,27,80000\\n', 'kiran,26,60000\\n', 'karthikeya,29,40000\\n', 'danush,28,80000\\n', 'kiran,28,60000\\n', 'jayaram,24,50000\\n', 'karthikeya,25,80000\\n', 'kiran,25,60000\\n', 'kiran,29,70000\\n', 'thrishanth,29,30000\\n', 'karthikeya,25,50000\\n', 'thrishanth,25,80000\\n', 'jayaram,29,60000\\n', 'shruthi,25,50000\\n', 'jayaram,27,60000\\n', 'jayaram,27,40000\\n', 'thrishanth,24,70000\\n', 'karthikeya,25,50000\\n', 'karthikeya,28,50000\\n', 'shruthi,26,30000\\n', 'danush,28,40000\\n', 'thrishanth,29,30000\\n', 'thrishanth,28,60000\\n', 'thrishanth,24,80000\\n', 'jayaram,24,60000\\n', 'shruthi,25,60000\\n', 'jayaram,26,60000\\n', 'kiran,26,80000\\n', 'kiran,27,30000\\n', 'thrishanth,27,70000\\n', 'jayaram,28,60000\\n', 'jayaram,24,40000\\n', 'danush,27,30000\\n', 'jayaram,29,50000\\n', 'danush,27,30000\\n', 'karthikeya,25,40000\\n', 'thrishanth,29,80000\\n', 'shruthi,26,60000\\n', 'shruthi,28,70000\\n', 'kiran,27,70000\\n', 'kiran,28,60000\\n', 'thrishanth,25,40000\\n', 'kiran,24,60000\\n', 'danush,27,50000\\n', 'kiran,29,60000\\n', 'kiran,29,50000\\n', 'jayaram,26,30000\\n', 'karthikeya,27,80000\\n', 'kiran,26,40000\\n', 'karthikeya,28,40000\\n', 'kiran,29,50000\\n', 'karthikeya,29,80000\\n', 'shruthi,27,60000\\n', 'danush,24,40000\\n', 'danush,25,80000\\n', 'kiran,25,50000\\n', 'thrishanth,25,50000\\n', 'karthikeya,26,80000\\n', 'kiran,26,80000\\n', 'kiran,26,60000\\n', 'danush,27,60000\\n', 'karthikeya,24,70000\\n', 'karthikeya,28,50000\\n', 'thrishanth,29,50000\\n', 'thrishanth,24,80000\\n', 'danush,24,70000\\n', 'danush,29,40000\\n', 'jayaram,25,60000\\n', 'shruthi,25,50000\\n', 'kiran,27,60000\\n', 'danush,27,50000\\n', 'jayaram,28,80000\\n', 'danush,29,40000\\n', 'thrishanth,28,40000\\n', 'kiran,28,70000\\n', 'kiran,29,40000\\n', 'danush,26,80000\\n', 'shruthi,26,80000\\n', 'danush,27,40000\\n', 'kiran,25,70000\\n']\n"
     ]
    }
   ],
   "source": [
    "data=f.readlines()\n",
    "print data"
   ]
  },
  {
   "cell_type": "code",
   "execution_count": 34,
   "metadata": {},
   "outputs": [
    {
     "name": "stdout",
     "output_type": "stream",
     "text": [
      "danush,29,60000\n",
      "\n",
      "karthikeya,26,30000\n",
      "\n",
      "kiran,27,50000\n",
      "\n",
      "danush,26,60000\n",
      "\n",
      "jayaram,28,70000\n",
      "\n",
      "shruthi,27,50000\n",
      "\n",
      "shruthi,27,50000\n",
      "\n",
      "kiran,25,60000\n",
      "\n",
      "karthikeya,26,70000\n",
      "\n",
      "danush,25,70000\n",
      "\n",
      "karthikeya,26,40000\n",
      "\n",
      "kiran,26,40000\n",
      "\n",
      "shruthi,29,60000\n",
      "\n",
      "jayaram,29,80000\n",
      "\n",
      "jayaram,25,50000\n",
      "\n",
      "danush,24,70000\n",
      "\n",
      "shruthi,26,60000\n",
      "\n",
      "thrishanth,28,50000\n",
      "\n",
      "kiran,26,30000\n",
      "\n",
      "kiran,26,60000\n",
      "\n",
      "jayaram,27,80000\n",
      "\n",
      "kiran,26,60000\n",
      "\n",
      "karthikeya,29,40000\n",
      "\n",
      "danush,28,80000\n",
      "\n",
      "kiran,28,60000\n",
      "\n",
      "jayaram,24,50000\n",
      "\n",
      "karthikeya,25,80000\n",
      "\n",
      "kiran,25,60000\n",
      "\n",
      "kiran,29,70000\n",
      "\n",
      "thrishanth,29,30000\n",
      "\n",
      "karthikeya,25,50000\n",
      "\n",
      "thrishanth,25,80000\n",
      "\n",
      "jayaram,29,60000\n",
      "\n",
      "shruthi,25,50000\n",
      "\n",
      "jayaram,27,60000\n",
      "\n",
      "jayaram,27,40000\n",
      "\n",
      "thrishanth,24,70000\n",
      "\n",
      "karthikeya,25,50000\n",
      "\n",
      "karthikeya,28,50000\n",
      "\n",
      "shruthi,26,30000\n",
      "\n",
      "danush,28,40000\n",
      "\n",
      "thrishanth,29,30000\n",
      "\n",
      "thrishanth,28,60000\n",
      "\n",
      "thrishanth,24,80000\n",
      "\n",
      "jayaram,24,60000\n",
      "\n",
      "shruthi,25,60000\n",
      "\n",
      "jayaram,26,60000\n",
      "\n",
      "kiran,26,80000\n",
      "\n",
      "kiran,27,30000\n",
      "\n",
      "thrishanth,27,70000\n",
      "\n",
      "jayaram,28,60000\n",
      "\n",
      "jayaram,24,40000\n",
      "\n",
      "danush,27,30000\n",
      "\n",
      "jayaram,29,50000\n",
      "\n",
      "danush,27,30000\n",
      "\n",
      "karthikeya,25,40000\n",
      "\n",
      "thrishanth,29,80000\n",
      "\n",
      "shruthi,26,60000\n",
      "\n",
      "shruthi,28,70000\n",
      "\n",
      "kiran,27,70000\n",
      "\n",
      "kiran,28,60000\n",
      "\n",
      "thrishanth,25,40000\n",
      "\n",
      "kiran,24,60000\n",
      "\n",
      "danush,27,50000\n",
      "\n",
      "kiran,29,60000\n",
      "\n",
      "kiran,29,50000\n",
      "\n",
      "jayaram,26,30000\n",
      "\n",
      "karthikeya,27,80000\n",
      "\n",
      "kiran,26,40000\n",
      "\n",
      "karthikeya,28,40000\n",
      "\n",
      "kiran,29,50000\n",
      "\n",
      "karthikeya,29,80000\n",
      "\n",
      "shruthi,27,60000\n",
      "\n",
      "danush,24,40000\n",
      "\n",
      "danush,25,80000\n",
      "\n",
      "kiran,25,50000\n",
      "\n",
      "thrishanth,25,50000\n",
      "\n",
      "karthikeya,26,80000\n",
      "\n",
      "kiran,26,80000\n",
      "\n",
      "kiran,26,60000\n",
      "\n",
      "danush,27,60000\n",
      "\n",
      "karthikeya,24,70000\n",
      "\n",
      "karthikeya,28,50000\n",
      "\n",
      "thrishanth,29,50000\n",
      "\n",
      "thrishanth,24,80000\n",
      "\n",
      "danush,24,70000\n",
      "\n",
      "danush,29,40000\n",
      "\n",
      "jayaram,25,60000\n",
      "\n",
      "shruthi,25,50000\n",
      "\n",
      "kiran,27,60000\n",
      "\n",
      "danush,27,50000\n",
      "\n",
      "jayaram,28,80000\n",
      "\n",
      "danush,29,40000\n",
      "\n",
      "thrishanth,28,40000\n",
      "\n",
      "kiran,28,70000\n",
      "\n",
      "kiran,29,40000\n",
      "\n",
      "danush,26,80000\n",
      "\n",
      "shruthi,26,80000\n",
      "\n",
      "danush,27,40000\n",
      "\n",
      "kiran,25,70000\n",
      "\n"
     ]
    }
   ],
   "source": [
    "f=open(\"data.csv\",\"r\")\n",
    "for i in f:\n",
    "    print i"
   ]
  },
  {
   "cell_type": "code",
   "execution_count": 35,
   "metadata": {},
   "outputs": [
    {
     "name": "stdout",
     "output_type": "stream",
     "text": [
      "dat1= \n"
     ]
    }
   ],
   "source": [
    "f=open(\"data.csv\",\"r\")\n",
    "data=f.read()\n",
    "data1=f.read()\n",
    "print \"dat1=\",data1"
   ]
  },
  {
   "cell_type": "code",
   "execution_count": 36,
   "metadata": {},
   "outputs": [
    {
     "name": "stdout",
     "output_type": "stream",
     "text": [
      "0\n",
      "1719\n",
      "1719\n",
      "dat1= \n"
     ]
    }
   ],
   "source": [
    "f=open(\"data.csv\")\n",
    "print f.tell()\n",
    "data=f.read()\n",
    "print f.tell()\n",
    "data1=f.read()\n",
    "print f.tell()\n",
    "print \"dat1=\",data1"
   ]
  },
  {
   "cell_type": "code",
   "execution_count": 37,
   "metadata": {},
   "outputs": [
    {
     "name": "stdout",
     "output_type": "stream",
     "text": [
      "0\n",
      "1500\n",
      "1719\n",
      "dat1= ,40000\n",
      "jayaram,25,60000\n",
      "shruthi,25,50000\n",
      "kiran,27,60000\n",
      "danush,27,50000\n",
      "jayaram,28,80000\n",
      "danush,29,40000\n",
      "thrishanth,28,40000\n",
      "kiran,28,70000\n",
      "kiran,29,40000\n",
      "danush,26,80000\n",
      "shruthi,26,80000\n",
      "danush,27,40000\n",
      "kiran,25,70000\n",
      "\n"
     ]
    }
   ],
   "source": [
    "f=open(\"data.csv\")\n",
    "print f.tell()\n",
    "data=f.read(1500)\n",
    "print f.tell()\n",
    "data1=f.read()\n",
    "print f.tell()\n",
    "print \"dat1=\",data1"
   ]
  },
  {
   "cell_type": "code",
   "execution_count": 38,
   "metadata": {},
   "outputs": [
    {
     "name": "stdout",
     "output_type": "stream",
     "text": [
      "0\n",
      "1500\n",
      "100\n",
      "1719\n",
      "dat1= \n",
      "shruthi,27,50000\n",
      "kiran,25,60000\n",
      "karthikeya,26,70000\n",
      "danush,25,70000\n",
      "karthikeya,26,40000\n",
      "kiran,26,40000\n",
      "shruthi,29,60000\n",
      "jayaram,29,80000\n",
      "jayaram,25,50000\n",
      "danush,24,70000\n",
      "shruthi,26,60000\n",
      "thrishanth,28,50000\n",
      "kiran,26,30000\n",
      "kiran,26,60000\n",
      "jayaram,27,80000\n",
      "kiran,26,60000\n",
      "karthikeya,29,40000\n",
      "danush,28,80000\n",
      "kiran,28,60000\n",
      "jayaram,24,50000\n",
      "karthikeya,25,80000\n",
      "kiran,25,60000\n",
      "kiran,29,70000\n",
      "thrishanth,29,30000\n",
      "karthikeya,25,50000\n",
      "thrishanth,25,80000\n",
      "jayaram,29,60000\n",
      "shruthi,25,50000\n",
      "jayaram,27,60000\n",
      "jayaram,27,40000\n",
      "thrishanth,24,70000\n",
      "karthikeya,25,50000\n",
      "karthikeya,28,50000\n",
      "shruthi,26,30000\n",
      "danush,28,40000\n",
      "thrishanth,29,30000\n",
      "thrishanth,28,60000\n",
      "thrishanth,24,80000\n",
      "jayaram,24,60000\n",
      "shruthi,25,60000\n",
      "jayaram,26,60000\n",
      "kiran,26,80000\n",
      "kiran,27,30000\n",
      "thrishanth,27,70000\n",
      "jayaram,28,60000\n",
      "jayaram,24,40000\n",
      "danush,27,30000\n",
      "jayaram,29,50000\n",
      "danush,27,30000\n",
      "karthikeya,25,40000\n",
      "thrishanth,29,80000\n",
      "shruthi,26,60000\n",
      "shruthi,28,70000\n",
      "kiran,27,70000\n",
      "kiran,28,60000\n",
      "thrishanth,25,40000\n",
      "kiran,24,60000\n",
      "danush,27,50000\n",
      "kiran,29,60000\n",
      "kiran,29,50000\n",
      "jayaram,26,30000\n",
      "karthikeya,27,80000\n",
      "kiran,26,40000\n",
      "karthikeya,28,40000\n",
      "kiran,29,50000\n",
      "karthikeya,29,80000\n",
      "shruthi,27,60000\n",
      "danush,24,40000\n",
      "danush,25,80000\n",
      "kiran,25,50000\n",
      "thrishanth,25,50000\n",
      "karthikeya,26,80000\n",
      "kiran,26,80000\n",
      "kiran,26,60000\n",
      "danush,27,60000\n",
      "karthikeya,24,70000\n",
      "karthikeya,28,50000\n",
      "thrishanth,29,50000\n",
      "thrishanth,24,80000\n",
      "danush,24,70000\n",
      "danush,29,40000\n",
      "jayaram,25,60000\n",
      "shruthi,25,50000\n",
      "kiran,27,60000\n",
      "danush,27,50000\n",
      "jayaram,28,80000\n",
      "danush,29,40000\n",
      "thrishanth,28,40000\n",
      "kiran,28,70000\n",
      "kiran,29,40000\n",
      "danush,26,80000\n",
      "shruthi,26,80000\n",
      "danush,27,40000\n",
      "kiran,25,70000\n",
      "\n"
     ]
    }
   ],
   "source": [
    "f=open(\"data.csv\")\n",
    "print f.tell()\n",
    "data=f.read(1500)\n",
    "print f.tell()\n",
    "f.seek(100)\n",
    "print f.tell()\n",
    "data1=f.read()\n",
    "print f.tell()\n",
    "print \"dat1=\",data1"
   ]
  },
  {
   "cell_type": "code",
   "execution_count": 1,
   "metadata": {},
   "outputs": [
    {
     "name": "stdout",
     "output_type": "stream",
     "text": [
      "danush,29,60000\n",
      "karthikeya,26,30000\n",
      "kiran,27,50000\n",
      "danush,26,60000\n",
      "jayaram,28,70000\n",
      "shruthi,27,50000\n"
     ]
    }
   ],
   "source": [
    "f=open(\"data.csv\")\n",
    "data=f.read()\n",
    "print data[:100]"
   ]
  },
  {
   "cell_type": "code",
   "execution_count": 2,
   "metadata": {},
   "outputs": [
    {
     "name": "stdout",
     "output_type": "stream",
     "text": [
      "danush,29,60000\n"
     ]
    }
   ],
   "source": [
    "f=open(\"data.csv\")\n",
    "data=f.read()\n",
    "for row in data.splitlines():\n",
    "    print row\n",
    "    break"
   ]
  },
  {
   "cell_type": "code",
   "execution_count": 4,
   "metadata": {},
   "outputs": [
    {
     "name": "stdout",
     "output_type": "stream",
     "text": [
      "['danush', '29', '60000']\n"
     ]
    }
   ],
   "source": [
    "f=open(\"data.csv\")\n",
    "data=f.read()\n",
    "for row in data.splitlines():\n",
    "    print row.split(\",\")\n",
    "    break"
   ]
  },
  {
   "cell_type": "code",
   "execution_count": 5,
   "metadata": {},
   "outputs": [
    {
     "name": "stdout",
     "output_type": "stream",
     "text": [
      "60000\n"
     ]
    }
   ],
   "source": [
    "f=open(\"data.csv\")\n",
    "data=f.read()\n",
    "for row in data.splitlines():\n",
    "    print row.split(\",\")[-1]\n",
    "    break"
   ]
  },
  {
   "cell_type": "code",
   "execution_count": 6,
   "metadata": {
    "collapsed": true
   },
   "outputs": [],
   "source": [
    "f=open(\"data.csv\")\n",
    "import csv"
   ]
  },
  {
   "cell_type": "code",
   "execution_count": 7,
   "metadata": {},
   "outputs": [
    {
     "data": {
      "text/plain": [
       "['Dialect',\n",
       " 'DictReader',\n",
       " 'DictWriter',\n",
       " 'Error',\n",
       " 'QUOTE_ALL',\n",
       " 'QUOTE_MINIMAL',\n",
       " 'QUOTE_NONE',\n",
       " 'QUOTE_NONNUMERIC',\n",
       " 'Sniffer',\n",
       " 'StringIO',\n",
       " '_Dialect',\n",
       " '__all__',\n",
       " '__builtins__',\n",
       " '__doc__',\n",
       " '__file__',\n",
       " '__name__',\n",
       " '__package__',\n",
       " '__version__',\n",
       " 'excel',\n",
       " 'excel_tab',\n",
       " 'field_size_limit',\n",
       " 'get_dialect',\n",
       " 'list_dialects',\n",
       " 're',\n",
       " 'reader',\n",
       " 'reduce',\n",
       " 'register_dialect',\n",
       " 'unregister_dialect',\n",
       " 'writer']"
      ]
     },
     "execution_count": 7,
     "metadata": {},
     "output_type": "execute_result"
    }
   ],
   "source": [
    "dir(csv)"
   ]
  },
  {
   "cell_type": "code",
   "execution_count": 8,
   "metadata": {
    "collapsed": true
   },
   "outputs": [],
   "source": [
    "csv.reader?"
   ]
  },
  {
   "cell_type": "code",
   "execution_count": 9,
   "metadata": {},
   "outputs": [
    {
     "name": "stdout",
     "output_type": "stream",
     "text": [
      "danush,29,60000\n",
      "\n"
     ]
    }
   ],
   "source": [
    "f=open(\"data.csv\")\n",
    "for i in f:\n",
    "    print i\n",
    "    break"
   ]
  },
  {
   "cell_type": "code",
   "execution_count": 10,
   "metadata": {},
   "outputs": [
    {
     "name": "stdout",
     "output_type": "stream",
     "text": [
      "<_csv.reader object at 0x7f907dc778a0>\n"
     ]
    }
   ],
   "source": [
    "f=open(\"data.csv\")\n",
    "data=csv.reader(f)\n",
    "print data"
   ]
  },
  {
   "cell_type": "code",
   "execution_count": 11,
   "metadata": {},
   "outputs": [
    {
     "data": {
      "text/plain": [
       "['__class__',\n",
       " '__delattr__',\n",
       " '__doc__',\n",
       " '__format__',\n",
       " '__getattribute__',\n",
       " '__hash__',\n",
       " '__init__',\n",
       " '__iter__',\n",
       " '__new__',\n",
       " '__reduce__',\n",
       " '__reduce_ex__',\n",
       " '__repr__',\n",
       " '__setattr__',\n",
       " '__sizeof__',\n",
       " '__str__',\n",
       " '__subclasshook__',\n",
       " 'dialect',\n",
       " 'line_num',\n",
       " 'next']"
      ]
     },
     "execution_count": 11,
     "metadata": {},
     "output_type": "execute_result"
    }
   ],
   "source": [
    "dir(data)"
   ]
  },
  {
   "cell_type": "code",
   "execution_count": 12,
   "metadata": {},
   "outputs": [
    {
     "data": {
      "text/plain": [
       "['danush', '29', '60000']"
      ]
     },
     "execution_count": 12,
     "metadata": {},
     "output_type": "execute_result"
    }
   ],
   "source": [
    "data.next()"
   ]
  },
  {
   "cell_type": "code",
   "execution_count": 13,
   "metadata": {},
   "outputs": [
    {
     "name": "stdout",
     "output_type": "stream",
     "text": [
      "['danush', '29', '60000']\n",
      "['karthikeya', '26', '30000']\n",
      "['kiran', '27', '50000']\n",
      "['danush', '26', '60000']\n",
      "['jayaram', '28', '70000']\n",
      "['shruthi', '27', '50000']\n",
      "['shruthi', '27', '50000']\n",
      "['kiran', '25', '60000']\n",
      "['karthikeya', '26', '70000']\n",
      "['danush', '25', '70000']\n",
      "['karthikeya', '26', '40000']\n",
      "['kiran', '26', '40000']\n",
      "['shruthi', '29', '60000']\n",
      "['jayaram', '29', '80000']\n",
      "['jayaram', '25', '50000']\n",
      "['danush', '24', '70000']\n",
      "['shruthi', '26', '60000']\n",
      "['thrishanth', '28', '50000']\n",
      "['kiran', '26', '30000']\n",
      "['kiran', '26', '60000']\n",
      "['jayaram', '27', '80000']\n",
      "['kiran', '26', '60000']\n",
      "['karthikeya', '29', '40000']\n",
      "['danush', '28', '80000']\n",
      "['kiran', '28', '60000']\n",
      "['jayaram', '24', '50000']\n",
      "['karthikeya', '25', '80000']\n",
      "['kiran', '25', '60000']\n",
      "['kiran', '29', '70000']\n",
      "['thrishanth', '29', '30000']\n",
      "['karthikeya', '25', '50000']\n",
      "['thrishanth', '25', '80000']\n",
      "['jayaram', '29', '60000']\n",
      "['shruthi', '25', '50000']\n",
      "['jayaram', '27', '60000']\n",
      "['jayaram', '27', '40000']\n",
      "['thrishanth', '24', '70000']\n",
      "['karthikeya', '25', '50000']\n",
      "['karthikeya', '28', '50000']\n",
      "['shruthi', '26', '30000']\n",
      "['danush', '28', '40000']\n",
      "['thrishanth', '29', '30000']\n",
      "['thrishanth', '28', '60000']\n",
      "['thrishanth', '24', '80000']\n",
      "['jayaram', '24', '60000']\n",
      "['shruthi', '25', '60000']\n",
      "['jayaram', '26', '60000']\n",
      "['kiran', '26', '80000']\n",
      "['kiran', '27', '30000']\n",
      "['thrishanth', '27', '70000']\n",
      "['jayaram', '28', '60000']\n",
      "['jayaram', '24', '40000']\n",
      "['danush', '27', '30000']\n",
      "['jayaram', '29', '50000']\n",
      "['danush', '27', '30000']\n",
      "['karthikeya', '25', '40000']\n",
      "['thrishanth', '29', '80000']\n",
      "['shruthi', '26', '60000']\n",
      "['shruthi', '28', '70000']\n",
      "['kiran', '27', '70000']\n",
      "['kiran', '28', '60000']\n",
      "['thrishanth', '25', '40000']\n",
      "['kiran', '24', '60000']\n",
      "['danush', '27', '50000']\n",
      "['kiran', '29', '60000']\n",
      "['kiran', '29', '50000']\n",
      "['jayaram', '26', '30000']\n",
      "['karthikeya', '27', '80000']\n",
      "['kiran', '26', '40000']\n",
      "['karthikeya', '28', '40000']\n",
      "['kiran', '29', '50000']\n",
      "['karthikeya', '29', '80000']\n",
      "['shruthi', '27', '60000']\n",
      "['danush', '24', '40000']\n",
      "['danush', '25', '80000']\n",
      "['kiran', '25', '50000']\n",
      "['thrishanth', '25', '50000']\n",
      "['karthikeya', '26', '80000']\n",
      "['kiran', '26', '80000']\n",
      "['kiran', '26', '60000']\n",
      "['danush', '27', '60000']\n",
      "['karthikeya', '24', '70000']\n",
      "['karthikeya', '28', '50000']\n",
      "['thrishanth', '29', '50000']\n",
      "['thrishanth', '24', '80000']\n",
      "['danush', '24', '70000']\n",
      "['danush', '29', '40000']\n",
      "['jayaram', '25', '60000']\n",
      "['shruthi', '25', '50000']\n",
      "['kiran', '27', '60000']\n",
      "['danush', '27', '50000']\n",
      "['jayaram', '28', '80000']\n",
      "['danush', '29', '40000']\n",
      "['thrishanth', '28', '40000']\n",
      "['kiran', '28', '70000']\n",
      "['kiran', '29', '40000']\n",
      "['danush', '26', '80000']\n",
      "['shruthi', '26', '80000']\n",
      "['danush', '27', '40000']\n",
      "['kiran', '25', '70000']\n"
     ]
    }
   ],
   "source": [
    "f=open(\"data.csv\")\n",
    "data=csv.reader(f)\n",
    "for row in data:\n",
    "    print row"
   ]
  },
  {
   "cell_type": "code",
   "execution_count": 15,
   "metadata": {
    "collapsed": true
   },
   "outputs": [],
   "source": [
    "data = csv.DictReader(f)"
   ]
  },
  {
   "cell_type": "code",
   "execution_count": 16,
   "metadata": {},
   "outputs": [
    {
     "name": "stdout",
     "output_type": "stream",
     "text": [
      "<csv.DictReader instance at 0x7f907d1f9290>\n"
     ]
    }
   ],
   "source": [
    "print data"
   ]
  },
  {
   "cell_type": "code",
   "execution_count": 17,
   "metadata": {
    "collapsed": true
   },
   "outputs": [],
   "source": [
    "for row in data:\n",
    "    print row"
   ]
  },
  {
   "cell_type": "code",
   "execution_count": 18,
   "metadata": {},
   "outputs": [
    {
     "name": "stdout",
     "output_type": "stream",
     "text": [
      "{'60000': '30000', 'danush': 'karthikeya', '29': '26'}\n"
     ]
    }
   ],
   "source": [
    "f=open(\"data.csv\")\n",
    "data = csv.DictReader(f)\n",
    "for row in data:\n",
    "    print row\n",
    "    break"
   ]
  },
  {
   "cell_type": "code",
   "execution_count": 19,
   "metadata": {},
   "outputs": [
    {
     "name": "stdout",
     "output_type": "stream",
     "text": [
      "{'age': '29', 'name': 'danush', 'sal': '60000'}\n"
     ]
    }
   ],
   "source": [
    "f=open(\"data.csv\")\n",
    "data = csv.DictReader(f)\n",
    "for row in data:\n",
    "    print row\n",
    "    break"
   ]
  },
  {
   "cell_type": "code",
   "execution_count": 21,
   "metadata": {},
   "outputs": [
    {
     "name": "stdout",
     "output_type": "stream",
     "text": [
      "{u'glossary': {u'GlossDiv': {u'GlossList': {u'GlossEntry': {u'GlossDef': {u'GlossSeeAlso': [u'GML', u'XML'], u'para': u'A meta-markup language, used to create markup languages such as DocBook.'}, u'GlossSee': u'markup', u'Acronym': u'SGML', u'GlossTerm': u'Standard Generalized Markup Language', u'Abbrev': u'ISO 8879:1986', u'SortAs': u'SGML', u'ID': u'SGML'}}, u'title': u'S'}, u'title': u'example glossary'}}\n"
     ]
    }
   ],
   "source": [
    "import json\n",
    "f=open(\"data.json\")\n",
    "data = json.load(f)\n",
    "print data"
   ]
  },
  {
   "cell_type": "code",
   "execution_count": 22,
   "metadata": {},
   "outputs": [
    {
     "name": "stdout",
     "output_type": "stream",
     "text": [
      "{'environment': 'production', 'classes': {'nfs::server': {'exports': ['/srv/share1', '/srv/share3']}}, 'parameters': None}\n"
     ]
    }
   ],
   "source": [
    "import yaml\n",
    "f=open(\"data.yaml\")\n",
    "data = yaml.load(f)\n",
    "print data"
   ]
  },
  {
   "cell_type": "code",
   "execution_count": 23,
   "metadata": {
    "collapsed": true
   },
   "outputs": [],
   "source": [
    "f=open(\"data1.csv\",\"w\")\n",
    "f.write(\"sdfdsf\")"
   ]
  },
  {
   "cell_type": "code",
   "execution_count": null,
   "metadata": {
    "collapsed": true
   },
   "outputs": [],
   "source": [
    "p=[{'age': '29', 'name': 'danush', 'sal': '60000'},\n",
    "   {'age': '28', 'name': 'thrishanth', 'sal': '70000'},\n",
    "  ]"
   ]
  }
 ],
 "metadata": {
  "kernelspec": {
   "display_name": "Python 2",
   "language": "python",
   "name": "python2"
  },
  "language_info": {
   "codemirror_mode": {
    "name": "ipython",
    "version": 2
   },
   "file_extension": ".py",
   "mimetype": "text/x-python",
   "name": "python",
   "nbconvert_exporter": "python",
   "pygments_lexer": "ipython2",
   "version": "2.7.14"
  }
 },
 "nbformat": 4,
 "nbformat_minor": 2
}
