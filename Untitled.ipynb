{
 "cells": [
  {
   "cell_type": "code",
   "execution_count": 1,
   "metadata": {},
   "outputs": [
    {
     "name": "stdout",
     "output_type": "stream",
     "text": [
      "sfsdf\n"
     ]
    }
   ],
   "source": [
    "print \"sfsdf\""
   ]
  },
  {
   "cell_type": "code",
   "execution_count": 2,
   "metadata": {
    "collapsed": true
   },
   "outputs": [],
   "source": [
    "a=10"
   ]
  },
  {
   "cell_type": "code",
   "execution_count": 3,
   "metadata": {
    "collapsed": true
   },
   "outputs": [],
   "source": [
    "b=20"
   ]
  },
  {
   "cell_type": "code",
   "execution_count": 4,
   "metadata": {},
   "outputs": [
    {
     "name": "stdout",
     "output_type": "stream",
     "text": [
      "30\n"
     ]
    }
   ],
   "source": [
    "print a+b"
   ]
  },
  {
   "cell_type": "code",
   "execution_count": 5,
   "metadata": {},
   "outputs": [
    {
     "ename": "ZeroDivisionError",
     "evalue": "integer division or modulo by zero",
     "output_type": "error",
     "traceback": [
      "\u001b[0;31m---------------------------------------------------------------------------\u001b[0m",
      "\u001b[0;31mZeroDivisionError\u001b[0m                         Traceback (most recent call last)",
      "\u001b[0;32m<ipython-input-5-e19d6e6ac7e1>\u001b[0m in \u001b[0;36m<module>\u001b[0;34m()\u001b[0m\n\u001b[0;32m----> 1\u001b[0;31m \u001b[0;32mprint\u001b[0m \u001b[0;36m1\u001b[0m\u001b[0;34m/\u001b[0m\u001b[0;36m0\u001b[0m\u001b[0;34m\u001b[0m\u001b[0m\n\u001b[0m",
      "\u001b[0;31mZeroDivisionError\u001b[0m: integer division or modulo by zero"
     ]
    }
   ],
   "source": [
    "\"\"\"\n",
    "\n",
    "\"\"\"\n",
    "print 1/0"
   ]
  },
  {
   "cell_type": "code",
   "execution_count": 6,
   "metadata": {},
   "outputs": [
    {
     "ename": "TypeError",
     "evalue": "cannot concatenate 'str' and 'int' objects",
     "output_type": "error",
     "traceback": [
      "\u001b[0;31m---------------------------------------------------------------------------\u001b[0m",
      "\u001b[0;31mTypeError\u001b[0m                                 Traceback (most recent call last)",
      "\u001b[0;32m<ipython-input-6-09e603ede33f>\u001b[0m in \u001b[0;36m<module>\u001b[0;34m()\u001b[0m\n\u001b[0;32m----> 1\u001b[0;31m \u001b[0;34m\"asfdsf\"\u001b[0m\u001b[0;34m+\u001b[0m\u001b[0;36m12\u001b[0m\u001b[0;34m\u001b[0m\u001b[0m\n\u001b[0m",
      "\u001b[0;31mTypeError\u001b[0m: cannot concatenate 'str' and 'int' objects"
     ]
    }
   ],
   "source": [
    "\"asfdsf\"+12"
   ]
  },
  {
   "cell_type": "code",
   "execution_count": 7,
   "metadata": {},
   "outputs": [
    {
     "data": {
      "text/plain": [
       "60"
      ]
     },
     "execution_count": 7,
     "metadata": {},
     "output_type": "execute_result"
    }
   ],
   "source": [
    "10+20+30"
   ]
  },
  {
   "cell_type": "code",
   "execution_count": 8,
   "metadata": {},
   "outputs": [
    {
     "data": {
      "text/plain": [
       "14"
      ]
     },
     "execution_count": 8,
     "metadata": {},
     "output_type": "execute_result"
    }
   ],
   "source": [
    "10+20/5"
   ]
  },
  {
   "cell_type": "code",
   "execution_count": 9,
   "metadata": {},
   "outputs": [
    {
     "name": "stdout",
     "output_type": "stream",
     "text": [
      "1000 1000 1000\n"
     ]
    }
   ],
   "source": [
    "a=1000\n",
    "b=a\n",
    "c=1000\n",
    "print a,b,c"
   ]
  },
  {
   "cell_type": "code",
   "execution_count": 10,
   "metadata": {},
   "outputs": [
    {
     "name": "stdout",
     "output_type": "stream",
     "text": [
      "st1\n",
      "st2\n",
      "st3\n",
      "st4\n"
     ]
    }
   ],
   "source": [
    "# if \n",
    "#if else \n",
    "#if elif else\n",
    "print \"st1\"\n",
    "print \"st2\"\n",
    "print \"st3\"\n",
    "print \"st4\""
   ]
  },
  {
   "cell_type": "code",
   "execution_count": 11,
   "metadata": {},
   "outputs": [
    {
     "name": "stdout",
     "output_type": "stream",
     "text": [
      "Enter a value:12\n",
      "enter b value:89\n",
      "a is big\n",
      "b is big\n"
     ]
    }
   ],
   "source": [
    "# to decide which is maximum in two numners\n",
    "a=input(\"Enter a value:\")\n",
    "b=input(\"enter b value:\")\n",
    "print \"a is big\"\n",
    "print \"b is big\""
   ]
  },
  {
   "cell_type": "code",
   "execution_count": 12,
   "metadata": {},
   "outputs": [
    {
     "name": "stdout",
     "output_type": "stream",
     "text": [
      "Enter a value:12\n",
      "enter b value:34\n",
      "b is big\n"
     ]
    }
   ],
   "source": [
    "# to decide which is maximum in two numners\n",
    "a=input(\"Enter a value:\")\n",
    "b=input(\"enter b value:\")\n",
    "if a>b:\n",
    "    print \"a is big\"\n",
    "else:\n",
    "    print \"b is big\""
   ]
  },
  {
   "cell_type": "code",
   "execution_count": null,
   "metadata": {
    "collapsed": true
   },
   "outputs": [],
   "source": []
  },
  {
   "cell_type": "code",
   "execution_count": 13,
   "metadata": {},
   "outputs": [
    {
     "name": "stdout",
     "output_type": "stream",
     "text": [
      "st1\n",
      "st2\n",
      "st3\n",
      "st4\n"
     ]
    }
   ],
   "source": [
    "#looping\n",
    "# while, for: continue, break, else pass\n",
    "print \"st1\"\n",
    "print \"st2\"\n",
    "print \"st3\"\n",
    "print \"st4\""
   ]
  },
  {
   "cell_type": "code",
   "execution_count": 14,
   "metadata": {},
   "outputs": [
    {
     "name": "stdout",
     "output_type": "stream",
     "text": [
      "st1\n",
      "st2\n",
      "st3\n",
      "st4\n"
     ]
    }
   ],
   "source": [
    "for i in range(1,5):\n",
    "    print \"st\"+str(i)"
   ]
  },
  {
   "cell_type": "code",
   "execution_count": 15,
   "metadata": {},
   "outputs": [
    {
     "ename": "MemoryError",
     "evalue": "",
     "output_type": "error",
     "traceback": [
      "\u001b[0;31m---------------------------------------------------------------------------\u001b[0m",
      "\u001b[0;31mMemoryError\u001b[0m                               Traceback (most recent call last)",
      "\u001b[0;32m<ipython-input-15-989f3f930a9c>\u001b[0m in \u001b[0;36m<module>\u001b[0;34m()\u001b[0m\n\u001b[0;32m----> 1\u001b[0;31m \u001b[0mrange\u001b[0m\u001b[0;34m(\u001b[0m\u001b[0;36m1320000000\u001b[0m\u001b[0;34m)\u001b[0m\u001b[0;34m\u001b[0m\u001b[0m\n\u001b[0m",
      "\u001b[0;31mMemoryError\u001b[0m: "
     ]
    }
   ],
   "source": [
    "range(1320000000)"
   ]
  },
  {
   "cell_type": "code",
   "execution_count": 16,
   "metadata": {},
   "outputs": [
    {
     "data": {
      "text/plain": [
       "xrange(1320000000)"
      ]
     },
     "execution_count": 16,
     "metadata": {},
     "output_type": "execute_result"
    }
   ],
   "source": [
    "xrange(1320000000)"
   ]
  },
  {
   "cell_type": "code",
   "execution_count": 1,
   "metadata": {},
   "outputs": [
    {
     "name": "stdout",
     "output_type": "stream",
     "text": [
      "30\n"
     ]
    }
   ],
   "source": [
    "a=10\n",
    "b=20\n",
    "print a+b"
   ]
  },
  {
   "cell_type": "code",
   "execution_count": 2,
   "metadata": {},
   "outputs": [
    {
     "name": "stdout",
     "output_type": "stream",
     "text": [
      "program started\n",
      "a=10, b=20\n",
      "res= 30\n",
      "some statements\n",
      "a=100, b=200\n",
      "res= 300\n",
      "some other statements\n",
      "a=1000, b=2000\n",
      "res= 3000\n",
      "some more statements\n",
      "a=10000, b=20000\n",
      "res= 30000\n",
      "program ended\n"
     ]
    }
   ],
   "source": [
    "print \"program started\"\n",
    "a=10\n",
    "b=20\n",
    "print \"a=%s, b=%s\"%(a,b)\n",
    "res=a+b\n",
    "print \"res=\",res\n",
    "print \"some statements\"\n",
    "a=100\n",
    "b=200\n",
    "print \"a=%s, b=%s\"%(a,b)\n",
    "res=a+b\n",
    "print \"res=\",res\n",
    "print \"some other statements\"\n",
    "a=1000\n",
    "b=2000\n",
    "print \"a=%s, b=%s\"%(a,b)\n",
    "res=a+b\n",
    "print \"res=\",res\n",
    "print \"some more statements\"\n",
    "a=10000\n",
    "b=20000\n",
    "print \"a=%s, b=%s\"%(a,b)\n",
    "res=a+b\n",
    "print \"res=\",res\n",
    "print \"program ended\""
   ]
  },
  {
   "cell_type": "code",
   "execution_count": 3,
   "metadata": {},
   "outputs": [
    {
     "name": "stdout",
     "output_type": "stream",
     "text": [
      "program started\n",
      "a=10, b=20\n",
      "res= 30\n",
      "some statements\n",
      "a=100, b=200\n",
      "res= 300\n",
      "some other statements\n",
      "a=1000, b=2000\n",
      "res= 3000\n",
      "some more statements\n",
      "a=10000, b=20000\n",
      "res= 30000\n",
      "program ended\n"
     ]
    }
   ],
   "source": [
    "def fun(a,b):\n",
    "    print \"a=%s, b=%s\"%(a,b)\n",
    "    res=a+b\n",
    "    print \"res=\",res\n",
    "    \n",
    "print \"program started\"\n",
    "fun(10,20)\n",
    "print \"some statements\"\n",
    "fun(100,200)\n",
    "print \"some other statements\"\n",
    "fun(1000,2000)\n",
    "print \"some more statements\"\n",
    "fun(10000,20000)\n",
    "print \"program ended\"\n"
   ]
  },
  {
   "cell_type": "code",
   "execution_count": 5,
   "metadata": {},
   "outputs": [
    {
     "name": "stdout",
     "output_type": "stream",
     "text": [
      "program started\n",
      "st1\n",
      "11\n",
      "st2\n",
      "12\n",
      "st3\n",
      "13\n",
      "st4\n",
      "14\n",
      "other statements\n",
      "st5\n",
      "15\n",
      "program ended\n"
     ]
    }
   ],
   "source": [
    "print \"program started\"\n",
    "for i in range(1,5):\n",
    "    print \"st\"+str(i)\n",
    "    print 10+i\n",
    "print \"other statements\"\n",
    "print \"st5\"\n",
    "print 10+5\n",
    "print \"program ended\""
   ]
  },
  {
   "cell_type": "code",
   "execution_count": 6,
   "metadata": {},
   "outputs": [
    {
     "name": "stdout",
     "output_type": "stream",
     "text": [
      "program started\n",
      "st1\n",
      "11\n",
      "st2\n",
      "12\n",
      "st3\n",
      "13\n",
      "st4\n",
      "14\n",
      "other statements\n",
      "st5\n",
      "15\n",
      "program ended\n"
     ]
    }
   ],
   "source": [
    "print \"program started\"\n",
    "for i in range(1,5):\n",
    "    print \"st\"+str(i)\n",
    "    print 10+i\n",
    "print \"other statements\"\n",
    "print \"st5\"\n",
    "print 10+5\n",
    "print \"program ended\""
   ]
  },
  {
   "cell_type": "code",
   "execution_count": 7,
   "metadata": {},
   "outputs": [
    {
     "name": "stdout",
     "output_type": "stream",
     "text": [
      "program started\n",
      "a=10, b=20\n",
      "res= 30\n",
      "some statements\n",
      "a=100, b=200\n",
      "res= 300\n",
      "some other statements\n",
      "a=1000, b=2000\n",
      "res= 3000\n",
      "some more statements\n",
      "a=10000, b=20000\n",
      "res= 30000\n",
      "program ended\n"
     ]
    }
   ],
   "source": [
    "print \"program started\"\n",
    "a=10\n",
    "b=20\n",
    "print \"a=%s, b=%s\"%(a,b)\n",
    "res=a+b\n",
    "print \"res=\",res\n",
    "print \"some statements\"\n",
    "a=100\n",
    "b=200\n",
    "print \"a=%s, b=%s\"%(a,b)\n",
    "res=a+b\n",
    "print \"res=\",res\n",
    "print \"some other statements\"\n",
    "a=1000\n",
    "b=2000\n",
    "print \"a=%s, b=%s\"%(a,b)\n",
    "res=a+b\n",
    "print \"res=\",res\n",
    "print \"some more statements\"\n",
    "a=10000\n",
    "b=20000\n",
    "print \"a=%s, b=%s\"%(a,b)\n",
    "res=a+b\n",
    "print \"res=\",res\n",
    "print \"program ended\""
   ]
  },
  {
   "cell_type": "code",
   "execution_count": 8,
   "metadata": {},
   "outputs": [
    {
     "name": "stdout",
     "output_type": "stream",
     "text": [
      "program started\n",
      "a=10, b=20\n",
      "sum= 30\n",
      "some statements\n",
      "a=100, b=200\n",
      "sum= 300\n",
      "some other statements\n",
      "a=1000, b=2000\n",
      "sum= 3000\n",
      "some more statements\n",
      "a=10000, b=20000\n",
      "sum= 30000\n",
      "program ended\n"
     ]
    }
   ],
   "source": [
    "print \"program started\"\n",
    "a=10\n",
    "b=20\n",
    "print \"a=%s, b=%s\"%(a,b)\n",
    "res=a+b\n",
    "print \"sum=\",res\n",
    "print \"some statements\"\n",
    "a=100\n",
    "b=200\n",
    "print \"a=%s, b=%s\"%(a,b)\n",
    "res=a+b\n",
    "print \"sum=\",res\n",
    "print \"some other statements\"\n",
    "a=1000\n",
    "b=2000\n",
    "print \"a=%s, b=%s\"%(a,b)\n",
    "res=a+b\n",
    "print \"sum=\",res\n",
    "print \"some more statements\"\n",
    "a=10000\n",
    "b=20000\n",
    "print \"a=%s, b=%s\"%(a,b)\n",
    "res=a+b\n",
    "print \"sum=\",res\n",
    "print \"program ended\""
   ]
  },
  {
   "cell_type": "code",
   "execution_count": 9,
   "metadata": {},
   "outputs": [
    {
     "name": "stdout",
     "output_type": "stream",
     "text": [
      "program started\n",
      "a=10, b=20\n",
      "sum= 30\n",
      "some statements\n",
      "a=100, b=200\n",
      "sum= 300\n",
      "some other statements\n",
      "a=1000, b=2000\n",
      "sum= 3000\n",
      "some more statements\n",
      "a=10000, b=20000\n",
      "sum= 30000\n",
      "program ended\n"
     ]
    }
   ],
   "source": [
    "def fun(a,b):\n",
    "    print \"a=%s, b=%s\"%(a,b)\n",
    "    res=a+b\n",
    "    print \"sum=\",res\n",
    "    \n",
    "print \"program started\"\n",
    "fun(10,20)\n",
    "print \"some statements\"\n",
    "fun(100,200)\n",
    "print \"some other statements\"\n",
    "fun(1000,2000)\n",
    "print \"some more statements\"\n",
    "fun(10000,20000)\n",
    "print \"program ended\""
   ]
  },
  {
   "cell_type": "code",
   "execution_count": 11,
   "metadata": {},
   "outputs": [
    {
     "name": "stdout",
     "output_type": "stream",
     "text": [
      "Enter a value:10\n"
     ]
    }
   ],
   "source": [
    "#version 1 code\n",
    "#400, 380, 20=400\n",
    "a=raw_input(\"Enter a value:\")"
   ]
  },
  {
   "cell_type": "code",
   "execution_count": 12,
   "metadata": {
    "collapsed": true
   },
   "outputs": [],
   "source": [
    "#version 2 code\n",
    "#400, 380, 20,3=403\n",
    "def fun():\n",
    "    a=raw_input(\"Enter a value:\")\n",
    "    return a"
   ]
  },
  {
   "cell_type": "code",
   "execution_count": 13,
   "metadata": {
    "collapsed": true
   },
   "outputs": [],
   "source": [
    "#datastructures. list, set, tuple, dict\n",
    "#module\n"
   ]
  },
  {
   "cell_type": "code",
   "execution_count": null,
   "metadata": {
    "collapsed": true
   },
   "outputs": [],
   "source": []
  }
 ],
 "metadata": {
  "kernelspec": {
   "display_name": "Python 2",
   "language": "python",
   "name": "python2"
  },
  "language_info": {
   "codemirror_mode": {
    "name": "ipython",
    "version": 2
   },
   "file_extension": ".py",
   "mimetype": "text/x-python",
   "name": "python",
   "nbconvert_exporter": "python",
   "pygments_lexer": "ipython2",
   "version": "2.7.14"
  }
 },
 "nbformat": 4,
 "nbformat_minor": 2
}
