{
 "cells": [
  {
   "cell_type": "code",
   "execution_count": 1,
   "metadata": {},
   "outputs": [
    {
     "name": "stdout",
     "output_type": "stream",
     "text": [
      "program started\n",
      "Enter a value:12\n",
      "Enter b value:34\n",
      "before conversion a=12,b=34\n",
      "after conversion a=12,b=34\n",
      "result=46\n",
      "other statements in program\n",
      "program ended\n"
     ]
    }
   ],
   "source": [
    "print \"program started\"\n",
    "a=raw_input(\"Enter a value:\")\n",
    "b=raw_input(\"Enter b value:\")\n",
    "print \"before conversion a=%s,b=%s\"%(a,b)\n",
    "a=int(a)\n",
    "b=int(b)\n",
    "print \"after conversion a=%s,b=%s\"%(a,b)\n",
    "res=a+b\n",
    "print \"result=%s\"%res\n",
    "print \"other statements in program\"\n",
    "print \"program ended\""
   ]
  },
  {
   "cell_type": "code",
   "execution_count": 2,
   "metadata": {},
   "outputs": [
    {
     "name": "stdout",
     "output_type": "stream",
     "text": [
      "program started\n",
      "Enter a value:1.2\n",
      "Enter b value:3.4\n",
      "before conversion a=1.2,b=3.4\n"
     ]
    },
    {
     "ename": "ValueError",
     "evalue": "invalid literal for int() with base 10: '1.2'",
     "output_type": "error",
     "traceback": [
      "\u001b[0;31m---------------------------------------------------------------------------\u001b[0m",
      "\u001b[0;31mValueError\u001b[0m                                Traceback (most recent call last)",
      "\u001b[0;32m<ipython-input-2-defc13eef48a>\u001b[0m in \u001b[0;36m<module>\u001b[0;34m()\u001b[0m\n\u001b[1;32m      3\u001b[0m \u001b[0mb\u001b[0m\u001b[0;34m=\u001b[0m\u001b[0mraw_input\u001b[0m\u001b[0;34m(\u001b[0m\u001b[0;34m\"Enter b value:\"\u001b[0m\u001b[0;34m)\u001b[0m\u001b[0;34m\u001b[0m\u001b[0m\n\u001b[1;32m      4\u001b[0m \u001b[0;32mprint\u001b[0m \u001b[0;34m\"before conversion a=%s,b=%s\"\u001b[0m\u001b[0;34m%\u001b[0m\u001b[0;34m(\u001b[0m\u001b[0ma\u001b[0m\u001b[0;34m,\u001b[0m\u001b[0mb\u001b[0m\u001b[0;34m)\u001b[0m\u001b[0;34m\u001b[0m\u001b[0m\n\u001b[0;32m----> 5\u001b[0;31m \u001b[0ma\u001b[0m\u001b[0;34m=\u001b[0m\u001b[0mint\u001b[0m\u001b[0;34m(\u001b[0m\u001b[0ma\u001b[0m\u001b[0;34m)\u001b[0m\u001b[0;34m\u001b[0m\u001b[0m\n\u001b[0m\u001b[1;32m      6\u001b[0m \u001b[0mb\u001b[0m\u001b[0;34m=\u001b[0m\u001b[0mint\u001b[0m\u001b[0;34m(\u001b[0m\u001b[0mb\u001b[0m\u001b[0;34m)\u001b[0m\u001b[0;34m\u001b[0m\u001b[0m\n\u001b[1;32m      7\u001b[0m \u001b[0;32mprint\u001b[0m \u001b[0;34m\"after conversion a=%s,b=%s\"\u001b[0m\u001b[0;34m%\u001b[0m\u001b[0;34m(\u001b[0m\u001b[0ma\u001b[0m\u001b[0;34m,\u001b[0m\u001b[0mb\u001b[0m\u001b[0;34m)\u001b[0m\u001b[0;34m\u001b[0m\u001b[0m\n",
      "\u001b[0;31mValueError\u001b[0m: invalid literal for int() with base 10: '1.2'"
     ]
    }
   ],
   "source": [
    "print \"program started\"\n",
    "a=raw_input(\"Enter a value:\")\n",
    "b=raw_input(\"Enter b value:\")\n",
    "print \"before conversion a=%s,b=%s\"%(a,b)\n",
    "a=int(a)\n",
    "b=int(b)\n",
    "print \"after conversion a=%s,b=%s\"%(a,b)\n",
    "res=a+b\n",
    "print \"result=%s\"%res\n",
    "print \"other statements in program\"\n",
    "print \"program ended\""
   ]
  },
  {
   "cell_type": "code",
   "execution_count": 3,
   "metadata": {},
   "outputs": [
    {
     "ename": "ValueError",
     "evalue": "invalid literal for int() with base 10: '1.2'",
     "output_type": "error",
     "traceback": [
      "\u001b[0;31m---------------------------------------------------------------------------\u001b[0m",
      "\u001b[0;31mValueError\u001b[0m                                Traceback (most recent call last)",
      "\u001b[0;32m<ipython-input-3-b441890430b0>\u001b[0m in \u001b[0;36m<module>\u001b[0;34m()\u001b[0m\n\u001b[0;32m----> 1\u001b[0;31m \u001b[0mint\u001b[0m\u001b[0;34m(\u001b[0m\u001b[0;34m\"1.2\"\u001b[0m\u001b[0;34m)\u001b[0m\u001b[0;34m\u001b[0m\u001b[0m\n\u001b[0m",
      "\u001b[0;31mValueError\u001b[0m: invalid literal for int() with base 10: '1.2'"
     ]
    }
   ],
   "source": [
    "int(\"1.2\")"
   ]
  },
  {
   "cell_type": "code",
   "execution_count": 5,
   "metadata": {},
   "outputs": [
    {
     "name": "stdout",
     "output_type": "stream",
     "text": [
      "program started\n",
      "Enter a value:12\n",
      "Enter b value:0\n",
      "before conversion a=12,b=0\n",
      "after conversion a=12,b=0\n"
     ]
    },
    {
     "ename": "ZeroDivisionError",
     "evalue": "integer division or modulo by zero",
     "output_type": "error",
     "traceback": [
      "\u001b[0;31m---------------------------------------------------------------------------\u001b[0m",
      "\u001b[0;31mZeroDivisionError\u001b[0m                         Traceback (most recent call last)",
      "\u001b[0;32m<ipython-input-5-7b0caf6166f3>\u001b[0m in \u001b[0;36m<module>\u001b[0;34m()\u001b[0m\n\u001b[1;32m      6\u001b[0m \u001b[0mb\u001b[0m\u001b[0;34m=\u001b[0m\u001b[0mint\u001b[0m\u001b[0;34m(\u001b[0m\u001b[0mb\u001b[0m\u001b[0;34m)\u001b[0m\u001b[0;34m\u001b[0m\u001b[0m\n\u001b[1;32m      7\u001b[0m \u001b[0;32mprint\u001b[0m \u001b[0;34m\"after conversion a=%s,b=%s\"\u001b[0m\u001b[0;34m%\u001b[0m\u001b[0;34m(\u001b[0m\u001b[0ma\u001b[0m\u001b[0;34m,\u001b[0m\u001b[0mb\u001b[0m\u001b[0;34m)\u001b[0m\u001b[0;34m\u001b[0m\u001b[0m\n\u001b[0;32m----> 8\u001b[0;31m \u001b[0mres\u001b[0m\u001b[0;34m=\u001b[0m\u001b[0ma\u001b[0m\u001b[0;34m/\u001b[0m\u001b[0mb\u001b[0m\u001b[0;34m\u001b[0m\u001b[0m\n\u001b[0m\u001b[1;32m      9\u001b[0m \u001b[0;32mprint\u001b[0m \u001b[0;34m\"result=%s\"\u001b[0m\u001b[0;34m%\u001b[0m\u001b[0mres\u001b[0m\u001b[0;34m\u001b[0m\u001b[0m\n\u001b[1;32m     10\u001b[0m \u001b[0;32mprint\u001b[0m \u001b[0;34m\"other statements in program\"\u001b[0m\u001b[0;34m\u001b[0m\u001b[0m\n",
      "\u001b[0;31mZeroDivisionError\u001b[0m: integer division or modulo by zero"
     ]
    }
   ],
   "source": [
    "print \"program started\"\n",
    "a=raw_input(\"Enter a value:\")\n",
    "b=raw_input(\"Enter b value:\")\n",
    "print \"before conversion a=%s,b=%s\"%(a,b)\n",
    "a=int(a)\n",
    "b=int(b)\n",
    "print \"after conversion a=%s,b=%s\"%(a,b)\n",
    "res=a/b\n",
    "print \"result=%s\"%res\n",
    "print \"other statements in program\"\n",
    "print \"program ended\""
   ]
  },
  {
   "cell_type": "code",
   "execution_count": 6,
   "metadata": {},
   "outputs": [
    {
     "name": "stdout",
     "output_type": "stream",
     "text": [
      "program started\n",
      "Enter a value:qwe\n",
      "Enter b value:qwer\n",
      "before conversion a=qwe,b=qwer\n"
     ]
    },
    {
     "ename": "ValueError",
     "evalue": "invalid literal for int() with base 10: 'qwe'",
     "output_type": "error",
     "traceback": [
      "\u001b[0;31m---------------------------------------------------------------------------\u001b[0m",
      "\u001b[0;31mValueError\u001b[0m                                Traceback (most recent call last)",
      "\u001b[0;32m<ipython-input-6-7b0caf6166f3>\u001b[0m in \u001b[0;36m<module>\u001b[0;34m()\u001b[0m\n\u001b[1;32m      3\u001b[0m \u001b[0mb\u001b[0m\u001b[0;34m=\u001b[0m\u001b[0mraw_input\u001b[0m\u001b[0;34m(\u001b[0m\u001b[0;34m\"Enter b value:\"\u001b[0m\u001b[0;34m)\u001b[0m\u001b[0;34m\u001b[0m\u001b[0m\n\u001b[1;32m      4\u001b[0m \u001b[0;32mprint\u001b[0m \u001b[0;34m\"before conversion a=%s,b=%s\"\u001b[0m\u001b[0;34m%\u001b[0m\u001b[0;34m(\u001b[0m\u001b[0ma\u001b[0m\u001b[0;34m,\u001b[0m\u001b[0mb\u001b[0m\u001b[0;34m)\u001b[0m\u001b[0;34m\u001b[0m\u001b[0m\n\u001b[0;32m----> 5\u001b[0;31m \u001b[0ma\u001b[0m\u001b[0;34m=\u001b[0m\u001b[0mint\u001b[0m\u001b[0;34m(\u001b[0m\u001b[0ma\u001b[0m\u001b[0;34m)\u001b[0m\u001b[0;34m\u001b[0m\u001b[0m\n\u001b[0m\u001b[1;32m      6\u001b[0m \u001b[0mb\u001b[0m\u001b[0;34m=\u001b[0m\u001b[0mint\u001b[0m\u001b[0;34m(\u001b[0m\u001b[0mb\u001b[0m\u001b[0;34m)\u001b[0m\u001b[0;34m\u001b[0m\u001b[0m\n\u001b[1;32m      7\u001b[0m \u001b[0;32mprint\u001b[0m \u001b[0;34m\"after conversion a=%s,b=%s\"\u001b[0m\u001b[0;34m%\u001b[0m\u001b[0;34m(\u001b[0m\u001b[0ma\u001b[0m\u001b[0;34m,\u001b[0m\u001b[0mb\u001b[0m\u001b[0;34m)\u001b[0m\u001b[0;34m\u001b[0m\u001b[0m\n",
      "\u001b[0;31mValueError\u001b[0m: invalid literal for int() with base 10: 'qwe'"
     ]
    }
   ],
   "source": [
    "print \"program started\"\n",
    "a=raw_input(\"Enter a value:\")\n",
    "b=raw_input(\"Enter b value:\")\n",
    "print \"before conversion a=%s,b=%s\"%(a,b)\n",
    "a=int(a)\n",
    "b=int(b)\n",
    "print \"after conversion a=%s,b=%s\"%(a,b)\n",
    "res=a/b\n",
    "print \"result=%s\"%res\n",
    "print \"other statements in program\"\n",
    "print \"program ended\""
   ]
  },
  {
   "cell_type": "code",
   "execution_count": 7,
   "metadata": {},
   "outputs": [
    {
     "name": "stdout",
     "output_type": "stream",
     "text": [
      "program started\n",
      "Enter a value:12\n",
      "Enter b value:34\n",
      "before conversion a=12,b=34\n",
      "after conversion a=12.0,b=34.0\n",
      "result=0.352941176471\n",
      "other statements in program\n",
      "program ended\n"
     ]
    }
   ],
   "source": [
    "print \"program started\"\n",
    "a=raw_input(\"Enter a value:\")\n",
    "b=raw_input(\"Enter b value:\")\n",
    "print \"before conversion a=%s,b=%s\"%(a,b)\n",
    "a=float(a)\n",
    "b=float(b)\n",
    "print \"after conversion a=%s,b=%s\"%(a,b)\n",
    "res=a/b\n",
    "print \"result=%s\"%res\n",
    "print \"other statements in program\"\n",
    "print \"program ended\""
   ]
  },
  {
   "cell_type": "code",
   "execution_count": 8,
   "metadata": {},
   "outputs": [
    {
     "name": "stdout",
     "output_type": "stream",
     "text": [
      "program started\n",
      "Enter a value:1.2\n",
      "Enter b value:3.4\n",
      "before conversion a=1.2,b=3.4\n",
      "after conversion a=1.2,b=3.4\n",
      "result=0.352941176471\n",
      "other statements in program\n",
      "program ended\n"
     ]
    }
   ],
   "source": [
    "print \"program started\"\n",
    "a=raw_input(\"Enter a value:\")\n",
    "b=raw_input(\"Enter b value:\")\n",
    "print \"before conversion a=%s,b=%s\"%(a,b)\n",
    "a=float(a)\n",
    "b=float(b)\n",
    "print \"after conversion a=%s,b=%s\"%(a,b)\n",
    "res=a/b\n",
    "print \"result=%s\"%res\n",
    "print \"other statements in program\"\n",
    "print \"program ended\""
   ]
  },
  {
   "cell_type": "code",
   "execution_count": 9,
   "metadata": {},
   "outputs": [
    {
     "name": "stdout",
     "output_type": "stream",
     "text": [
      "program started\n",
      "Enter a value:123we\n",
      "Enter b value:we23\n",
      "before conversion a=123we,b=we23\n"
     ]
    },
    {
     "ename": "ValueError",
     "evalue": "invalid literal for float(): 123we",
     "output_type": "error",
     "traceback": [
      "\u001b[0;31m---------------------------------------------------------------------------\u001b[0m",
      "\u001b[0;31mValueError\u001b[0m                                Traceback (most recent call last)",
      "\u001b[0;32m<ipython-input-9-dfdf66587a49>\u001b[0m in \u001b[0;36m<module>\u001b[0;34m()\u001b[0m\n\u001b[1;32m      3\u001b[0m \u001b[0mb\u001b[0m\u001b[0;34m=\u001b[0m\u001b[0mraw_input\u001b[0m\u001b[0;34m(\u001b[0m\u001b[0;34m\"Enter b value:\"\u001b[0m\u001b[0;34m)\u001b[0m\u001b[0;34m\u001b[0m\u001b[0m\n\u001b[1;32m      4\u001b[0m \u001b[0;32mprint\u001b[0m \u001b[0;34m\"before conversion a=%s,b=%s\"\u001b[0m\u001b[0;34m%\u001b[0m\u001b[0;34m(\u001b[0m\u001b[0ma\u001b[0m\u001b[0;34m,\u001b[0m\u001b[0mb\u001b[0m\u001b[0;34m)\u001b[0m\u001b[0;34m\u001b[0m\u001b[0m\n\u001b[0;32m----> 5\u001b[0;31m \u001b[0ma\u001b[0m\u001b[0;34m=\u001b[0m\u001b[0mfloat\u001b[0m\u001b[0;34m(\u001b[0m\u001b[0ma\u001b[0m\u001b[0;34m)\u001b[0m\u001b[0;34m\u001b[0m\u001b[0m\n\u001b[0m\u001b[1;32m      6\u001b[0m \u001b[0mb\u001b[0m\u001b[0;34m=\u001b[0m\u001b[0mfloat\u001b[0m\u001b[0;34m(\u001b[0m\u001b[0mb\u001b[0m\u001b[0;34m)\u001b[0m\u001b[0;34m\u001b[0m\u001b[0m\n\u001b[1;32m      7\u001b[0m \u001b[0;32mprint\u001b[0m \u001b[0;34m\"after conversion a=%s,b=%s\"\u001b[0m\u001b[0;34m%\u001b[0m\u001b[0;34m(\u001b[0m\u001b[0ma\u001b[0m\u001b[0;34m,\u001b[0m\u001b[0mb\u001b[0m\u001b[0;34m)\u001b[0m\u001b[0;34m\u001b[0m\u001b[0m\n",
      "\u001b[0;31mValueError\u001b[0m: invalid literal for float(): 123we"
     ]
    }
   ],
   "source": [
    "print \"program started\"\n",
    "a=raw_input(\"Enter a value:\")\n",
    "b=raw_input(\"Enter b value:\")\n",
    "print \"before conversion a=%s,b=%s\"%(a,b)\n",
    "a=float(a)\n",
    "b=float(b)\n",
    "print \"after conversion a=%s,b=%s\"%(a,b)\n",
    "res=a/b\n",
    "print \"result=%s\"%res\n",
    "print \"other statements in program\"\n",
    "print \"program ended\""
   ]
  },
  {
   "cell_type": "code",
   "execution_count": 10,
   "metadata": {},
   "outputs": [
    {
     "name": "stdout",
     "output_type": "stream",
     "text": [
      "program started\n",
      "Enter a value:12\n",
      "Enter b value:0\n",
      "before conversion a=12,b=0\n",
      "after conversion a=12.0,b=0.0\n"
     ]
    },
    {
     "ename": "ZeroDivisionError",
     "evalue": "float division by zero",
     "output_type": "error",
     "traceback": [
      "\u001b[0;31m---------------------------------------------------------------------------\u001b[0m",
      "\u001b[0;31mZeroDivisionError\u001b[0m                         Traceback (most recent call last)",
      "\u001b[0;32m<ipython-input-10-dfdf66587a49>\u001b[0m in \u001b[0;36m<module>\u001b[0;34m()\u001b[0m\n\u001b[1;32m      6\u001b[0m \u001b[0mb\u001b[0m\u001b[0;34m=\u001b[0m\u001b[0mfloat\u001b[0m\u001b[0;34m(\u001b[0m\u001b[0mb\u001b[0m\u001b[0;34m)\u001b[0m\u001b[0;34m\u001b[0m\u001b[0m\n\u001b[1;32m      7\u001b[0m \u001b[0;32mprint\u001b[0m \u001b[0;34m\"after conversion a=%s,b=%s\"\u001b[0m\u001b[0;34m%\u001b[0m\u001b[0;34m(\u001b[0m\u001b[0ma\u001b[0m\u001b[0;34m,\u001b[0m\u001b[0mb\u001b[0m\u001b[0;34m)\u001b[0m\u001b[0;34m\u001b[0m\u001b[0m\n\u001b[0;32m----> 8\u001b[0;31m \u001b[0mres\u001b[0m\u001b[0;34m=\u001b[0m\u001b[0ma\u001b[0m\u001b[0;34m/\u001b[0m\u001b[0mb\u001b[0m\u001b[0;34m\u001b[0m\u001b[0m\n\u001b[0m\u001b[1;32m      9\u001b[0m \u001b[0;32mprint\u001b[0m \u001b[0;34m\"result=%s\"\u001b[0m\u001b[0;34m%\u001b[0m\u001b[0mres\u001b[0m\u001b[0;34m\u001b[0m\u001b[0m\n\u001b[1;32m     10\u001b[0m \u001b[0;32mprint\u001b[0m \u001b[0;34m\"other statements in program\"\u001b[0m\u001b[0;34m\u001b[0m\u001b[0m\n",
      "\u001b[0;31mZeroDivisionError\u001b[0m: float division by zero"
     ]
    }
   ],
   "source": [
    "print \"program started\"\n",
    "a=raw_input(\"Enter a value:\")\n",
    "b=raw_input(\"Enter b value:\")\n",
    "print \"before conversion a=%s,b=%s\"%(a,b)\n",
    "a=float(a)\n",
    "b=float(b)\n",
    "print \"after conversion a=%s,b=%s\"%(a,b)\n",
    "res=a/b\n",
    "print \"result=%s\"%res\n",
    "print \"other statements in program\"\n",
    "print \"program ended\""
   ]
  },
  {
   "cell_type": "code",
   "execution_count": 11,
   "metadata": {},
   "outputs": [
    {
     "name": "stdout",
     "output_type": "stream",
     "text": [
      "program started\n",
      "Enter a value:12\n",
      "Enter b value:2\n",
      "before conversion a=12,b=2\n",
      "after conversion a=12.0,b=2.0\n",
      "result=6.0\n",
      "other statements in program\n",
      "program ended\n",
      "main block\n"
     ]
    }
   ],
   "source": [
    "try:\n",
    "    print \"program started\"\n",
    "    a=raw_input(\"Enter a value:\")\n",
    "    b=raw_input(\"Enter b value:\")\n",
    "    print \"before conversion a=%s,b=%s\"%(a,b)\n",
    "    a=float(a)\n",
    "    b=float(b)\n",
    "    print \"after conversion a=%s,b=%s\"%(a,b)\n",
    "    res=a/b\n",
    "    print \"result=%s\"%res\n",
    "    print \"other statements in program\"\n",
    "    print \"program ended\"\n",
    "except:\n",
    "    print \"some error\"\n",
    "print \"main block\""
   ]
  },
  {
   "cell_type": "code",
   "execution_count": 13,
   "metadata": {},
   "outputs": [
    {
     "name": "stdout",
     "output_type": "stream",
     "text": [
      "program started\n",
      "Enter a value:12\n",
      "Enter b value:0\n",
      "before conversion a=12,b=0\n",
      "after conversion a=12.0,b=0.0\n",
      "some error\n",
      "main block\n"
     ]
    }
   ],
   "source": [
    "try:\n",
    "    print \"program started\"\n",
    "    a=raw_input(\"Enter a value:\")\n",
    "    b=raw_input(\"Enter b value:\")\n",
    "    print \"before conversion a=%s,b=%s\"%(a,b)\n",
    "    a=float(a)\n",
    "    b=float(b)\n",
    "    print \"after conversion a=%s,b=%s\"%(a,b)\n",
    "    res=a/b\n",
    "    print \"result=%s\"%res\n",
    "    print \"other statements in program\"\n",
    "    print \"program ended\"\n",
    "except:\n",
    "    print \"some error\"\n",
    "print \"main block\""
   ]
  },
  {
   "cell_type": "code",
   "execution_count": 14,
   "metadata": {},
   "outputs": [
    {
     "name": "stdout",
     "output_type": "stream",
     "text": [
      "program started\n",
      "Enter a value:12\n",
      "Enter b value:wert\n",
      "before conversion a=12,b=wert\n",
      "some error\n",
      "main block\n"
     ]
    }
   ],
   "source": [
    "try:\n",
    "    print \"program started\"\n",
    "    a=raw_input(\"Enter a value:\")\n",
    "    b=raw_input(\"Enter b value:\")\n",
    "    print \"before conversion a=%s,b=%s\"%(a,b)\n",
    "    a=float(a)\n",
    "    b=float(b)\n",
    "    print \"after conversion a=%s,b=%s\"%(a,b)\n",
    "    res=a/b\n",
    "    print \"result=%s\"%res\n",
    "    print \"other statements in program\"\n",
    "    print \"program ended\"\n",
    "except:\n",
    "    print \"some error\"\n",
    "print \"main block\""
   ]
  },
  {
   "cell_type": "code",
   "execution_count": 15,
   "metadata": {},
   "outputs": [
    {
     "name": "stdout",
     "output_type": "stream",
     "text": [
      "program started\n",
      "Enter a value:12\n",
      "Enter b value:6\n",
      "before conversion a=12,b=6\n",
      "after conversion a=12.0,b=6.0\n",
      "result=2.0\n",
      "other statements in program\n",
      "program ended\n",
      "main block\n"
     ]
    }
   ],
   "source": [
    "print \"program started\"\n",
    "a=raw_input(\"Enter a value:\")\n",
    "b=raw_input(\"Enter b value:\")\n",
    "print \"before conversion a=%s,b=%s\"%(a,b)\n",
    "try:\n",
    "    a=float(a)\n",
    "    b=float(b)\n",
    "    print \"after conversion a=%s,b=%s\"%(a,b)\n",
    "    res=a/b\n",
    "    print \"result=%s\"%res\n",
    "except:\n",
    "    print \"some error\"\n",
    "print \"other statements in program\"\n",
    "print \"program ended\"\n",
    "print \"main block\""
   ]
  },
  {
   "cell_type": "code",
   "execution_count": 16,
   "metadata": {},
   "outputs": [
    {
     "name": "stdout",
     "output_type": "stream",
     "text": [
      "program started\n",
      "Enter a value:12\n",
      "Enter b value:0\n",
      "before conversion a=12,b=0\n",
      "after conversion a=12.0,b=0.0\n",
      "some error\n",
      "other statements in program\n",
      "program ended\n",
      "main block\n"
     ]
    }
   ],
   "source": [
    "print \"program started\"\n",
    "a=raw_input(\"Enter a value:\")\n",
    "b=raw_input(\"Enter b value:\")\n",
    "print \"before conversion a=%s,b=%s\"%(a,b)\n",
    "try:\n",
    "    a=float(a)\n",
    "    b=float(b)\n",
    "    print \"after conversion a=%s,b=%s\"%(a,b)\n",
    "    res=a/b\n",
    "    print \"result=%s\"%res\n",
    "except:\n",
    "    print \"some error\"\n",
    "print \"other statements in program\"\n",
    "print \"program ended\"\n",
    "print \"main block\""
   ]
  },
  {
   "cell_type": "code",
   "execution_count": 17,
   "metadata": {},
   "outputs": [
    {
     "name": "stdout",
     "output_type": "stream",
     "text": [
      "program started\n",
      "Enter a value:12\n",
      "Enter b value:6\n",
      "before conversion a=12,b=6\n",
      "after conversion a=12.0,b=6.0\n",
      "result=2.0\n",
      "other statements in program\n",
      "program ended\n",
      "main block\n"
     ]
    }
   ],
   "source": [
    "print \"program started\"\n",
    "a=raw_input(\"Enter a value:\")\n",
    "b=raw_input(\"Enter b value:\")\n",
    "print \"before conversion a=%s,b=%s\"%(a,b)\n",
    "try:\n",
    "    a=float(a)\n",
    "    b=float(b)\n",
    "    print \"after conversion a=%s,b=%s\"%(a,b)\n",
    "    res=a/b\n",
    "    print \"result=%s\"%res\n",
    "except Exception as err:\n",
    "    print \"ERROR:\",err\n",
    "    print \"some error\"\n",
    "print \"other statements in program\"\n",
    "print \"program ended\"\n",
    "print \"main block\""
   ]
  },
  {
   "cell_type": "code",
   "execution_count": 18,
   "metadata": {},
   "outputs": [
    {
     "name": "stdout",
     "output_type": "stream",
     "text": [
      "program started\n",
      "Enter a value:12\n",
      "Enter b value:0\n",
      "before conversion a=12,b=0\n",
      "after conversion a=12.0,b=0.0\n",
      "ERROR: float division by zero\n",
      "some error\n",
      "other statements in program\n",
      "program ended\n",
      "main block\n"
     ]
    }
   ],
   "source": [
    "print \"program started\"\n",
    "a=raw_input(\"Enter a value:\")\n",
    "b=raw_input(\"Enter b value:\")\n",
    "print \"before conversion a=%s,b=%s\"%(a,b)\n",
    "try:\n",
    "    a=float(a)\n",
    "    b=float(b)\n",
    "    print \"after conversion a=%s,b=%s\"%(a,b)\n",
    "    res=a/b\n",
    "    print \"result=%s\"%res\n",
    "except Exception as err:\n",
    "    print \"ERROR:\",err\n",
    "    print \"some error\"\n",
    "print \"other statements in program\"\n",
    "print \"program ended\"\n",
    "print \"main block\""
   ]
  },
  {
   "cell_type": "code",
   "execution_count": 19,
   "metadata": {},
   "outputs": [
    {
     "name": "stdout",
     "output_type": "stream",
     "text": [
      "program started\n",
      "Enter a value:qw\n",
      "Enter b value:qwer\n",
      "before conversion a=qw,b=qwer\n",
      "ERROR: could not convert string to float: qw\n",
      "some error\n",
      "other statements in program\n",
      "program ended\n",
      "main block\n"
     ]
    }
   ],
   "source": [
    "print \"program started\"\n",
    "a=raw_input(\"Enter a value:\")\n",
    "b=raw_input(\"Enter b value:\")\n",
    "print \"before conversion a=%s,b=%s\"%(a,b)\n",
    "try:\n",
    "    a=float(a)\n",
    "    b=float(b)\n",
    "    print \"after conversion a=%s,b=%s\"%(a,b)\n",
    "    res=a/b\n",
    "    print \"result=%s\"%res\n",
    "except Exception as err:\n",
    "    print \"ERROR:\",err\n",
    "    print \"some error\"\n",
    "print \"other statements in program\"\n",
    "print \"program ended\"\n",
    "print \"main block\""
   ]
  },
  {
   "cell_type": "code",
   "execution_count": 20,
   "metadata": {},
   "outputs": [
    {
     "name": "stdout",
     "output_type": "stream",
     "text": [
      "program started\n",
      "Enter a value:12\n",
      "Enter b value:6\n",
      "before conversion a=12,b=6\n",
      "after conversion a=12.0,b=6.0\n",
      "result=2.0\n",
      "other statements in program\n",
      "program ended\n",
      "main block\n"
     ]
    }
   ],
   "source": [
    "print \"program started\"\n",
    "a=raw_input(\"Enter a value:\")\n",
    "b=raw_input(\"Enter b value:\")\n",
    "print \"before conversion a=%s,b=%s\"%(a,b)\n",
    "try:\n",
    "    a=float(a)\n",
    "    b=float(b)\n",
    "    print \"after conversion a=%s,b=%s\"%(a,b)\n",
    "    res=a/b\n",
    "    print \"result=%s\"%res\n",
    "except ZeroDivisionError as err:\n",
    "    print \"ERROR:%s\"%err\n",
    "    print \"Enter b value not equal to zero\"    \n",
    "except Exception as err:\n",
    "    print \"ERROR:\",err\n",
    "    print \"some error\"\n",
    "print \"other statements in program\"\n",
    "print \"program ended\"\n",
    "print \"main block\""
   ]
  },
  {
   "cell_type": "code",
   "execution_count": 21,
   "metadata": {},
   "outputs": [
    {
     "name": "stdout",
     "output_type": "stream",
     "text": [
      "program started\n",
      "Enter a value:12\n",
      "Enter b value:0\n",
      "before conversion a=12,b=0\n",
      "after conversion a=12.0,b=0.0\n",
      "ERROR:float division by zero\n",
      "Enter b value not equal to zero\n",
      "other statements in program\n",
      "program ended\n",
      "main block\n"
     ]
    }
   ],
   "source": [
    "print \"program started\"\n",
    "a=raw_input(\"Enter a value:\")\n",
    "b=raw_input(\"Enter b value:\")\n",
    "print \"before conversion a=%s,b=%s\"%(a,b)\n",
    "try:\n",
    "    a=float(a)\n",
    "    b=float(b)\n",
    "    print \"after conversion a=%s,b=%s\"%(a,b)\n",
    "    res=a/b\n",
    "    print \"result=%s\"%res\n",
    "except ZeroDivisionError as err:\n",
    "    print \"ERROR:%s\"%err\n",
    "    print \"Enter b value not equal to zero\"    \n",
    "except Exception as err:\n",
    "    print \"ERROR:%s\"%,err\n",
    "    print \"some error\"\n",
    "print \"other statements in program\"\n",
    "print \"program ended\"\n",
    "print \"main block\""
   ]
  },
  {
   "cell_type": "code",
   "execution_count": 23,
   "metadata": {},
   "outputs": [
    {
     "name": "stdout",
     "output_type": "stream",
     "text": [
      "program started\n",
      "Enter a value:12\n",
      "Enter b value:qwert\n",
      "before conversion a=12,b=qwert\n",
      "ERROR:could not convert string to float: qwert\n",
      "some error\n",
      "other statements in program\n",
      "program ended\n",
      "main block\n"
     ]
    }
   ],
   "source": [
    "print \"program started\"\n",
    "a=raw_input(\"Enter a value:\")\n",
    "b=raw_input(\"Enter b value:\")\n",
    "print \"before conversion a=%s,b=%s\"%(a,b)\n",
    "try:\n",
    "    a=float(a)\n",
    "    b=float(b)\n",
    "    print \"after conversion a=%s,b=%s\"%(a,b)\n",
    "    res=a/b\n",
    "    print \"result=%s\"%res\n",
    "except ZeroDivisionError as err:\n",
    "    print \"ERROR:%s\"%err\n",
    "    print \"Enter b value not equal to zero\"    \n",
    "except Exception as err:\n",
    "    print \"ERROR:%s\"%err\n",
    "    print \"some error\"\n",
    "print \"other statements in program\"\n",
    "print \"program ended\"\n",
    "print \"main block\""
   ]
  },
  {
   "cell_type": "code",
   "execution_count": 24,
   "metadata": {},
   "outputs": [
    {
     "name": "stdout",
     "output_type": "stream",
     "text": [
      "program started\n",
      "Enter a value:12\n",
      "Enter b value:6\n",
      "before conversion a=12,b=6\n",
      "after conversion a=12.0,b=6.0\n",
      "result=2.0\n",
      "other statements in program\n",
      "program ended\n",
      "main block\n"
     ]
    }
   ],
   "source": [
    "print \"program started\"\n",
    "a=raw_input(\"Enter a value:\")\n",
    "b=raw_input(\"Enter b value:\")\n",
    "print \"before conversion a=%s,b=%s\"%(a,b)\n",
    "try:\n",
    "    a=float(a)\n",
    "    b=float(b)\n",
    "    print \"after conversion a=%s,b=%s\"%(a,b)\n",
    "    res=a/b\n",
    "    print \"result=%s\"%res\n",
    "except ZeroDivisionError as err:\n",
    "    print \"ERROR:%s\"%err\n",
    "    print \"Enter b value not equal to zero\"    \n",
    "except ValueError as err:\n",
    "    print err\n",
    "    print \"Expecting only digits\"\n",
    "except Exception as err:\n",
    "    print \"ERROR:%s\"%err\n",
    "    print \"some error\"\n",
    "print \"other statements in program\"\n",
    "print \"program ended\"\n",
    "print \"main block\""
   ]
  },
  {
   "cell_type": "code",
   "execution_count": 25,
   "metadata": {},
   "outputs": [
    {
     "name": "stdout",
     "output_type": "stream",
     "text": [
      "program started\n",
      "Enter a value:12\n",
      "Enter b value:0\n",
      "before conversion a=12,b=0\n",
      "after conversion a=12.0,b=0.0\n",
      "ERROR:float division by zero\n",
      "Enter b value not equal to zero\n",
      "other statements in program\n",
      "program ended\n",
      "main block\n"
     ]
    }
   ],
   "source": [
    "print \"program started\"\n",
    "a=raw_input(\"Enter a value:\")\n",
    "b=raw_input(\"Enter b value:\")\n",
    "print \"before conversion a=%s,b=%s\"%(a,b)\n",
    "try:\n",
    "    a=float(a)\n",
    "    b=float(b)\n",
    "    print \"after conversion a=%s,b=%s\"%(a,b)\n",
    "    res=a/b\n",
    "    print \"result=%s\"%res\n",
    "except ZeroDivisionError as err:\n",
    "    print \"ERROR:%s\"%err\n",
    "    print \"Enter b value not equal to zero\"    \n",
    "except ValueError as err:\n",
    "    print err\n",
    "    print \"Expecting only digits\"\n",
    "except Exception as err:\n",
    "    print \"ERROR:%s\"%err\n",
    "    print \"some error\"\n",
    "print \"other statements in program\"\n",
    "print \"program ended\"\n",
    "print \"main block\""
   ]
  },
  {
   "cell_type": "code",
   "execution_count": 26,
   "metadata": {},
   "outputs": [
    {
     "name": "stdout",
     "output_type": "stream",
     "text": [
      "program started\n",
      "Enter a value:12\n",
      "Enter b value:werty\n",
      "before conversion a=12,b=werty\n",
      "could not convert string to float: werty\n",
      "Expecting only digits\n",
      "other statements in program\n",
      "program ended\n",
      "main block\n"
     ]
    }
   ],
   "source": [
    "print \"program started\"\n",
    "a=raw_input(\"Enter a value:\")\n",
    "b=raw_input(\"Enter b value:\")\n",
    "print \"before conversion a=%s,b=%s\"%(a,b)\n",
    "try:\n",
    "    a=float(a)\n",
    "    b=float(b)\n",
    "    print \"after conversion a=%s,b=%s\"%(a,b)\n",
    "    res=a/b\n",
    "    print \"result=%s\"%res\n",
    "except ZeroDivisionError as err:\n",
    "    print \"ERROR:%s\"%err\n",
    "    print \"Enter b value not equal to zero\"    \n",
    "except ValueError as err:\n",
    "    print err\n",
    "    print \"Expecting only digits\"\n",
    "except Exception as err:\n",
    "    print \"ERROR:%s\"%err\n",
    "    print \"some error\"\n",
    "print \"other statements in program\"\n",
    "print \"program ended\"\n",
    "print \"main block\""
   ]
  },
  {
   "cell_type": "code",
   "execution_count": 27,
   "metadata": {},
   "outputs": [
    {
     "name": "stdout",
     "output_type": "stream",
     "text": [
      "program started\n",
      "Enter a value:12\n",
      "Enter b value:0\n",
      "before conversion a=12,b=0\n",
      "after conversion a=12.0,b=0.0\n",
      "ERROR:float division by zero\n",
      "Enter b value not equal to zero\n",
      "other statements in program\n",
      "program ended\n",
      "main block\n"
     ]
    }
   ],
   "source": [
    "print \"program started\"\n",
    "a=raw_input(\"Enter a value:\")\n",
    "b=raw_input(\"Enter b value:\")\n",
    "print \"before conversion a=%s,b=%s\"%(a,b)\n",
    "try:\n",
    "    a=float(a)\n",
    "    b=float(b)\n",
    "except Exception as err:\n",
    "    print err\n",
    "try:\n",
    "    print \"after conversion a=%s,b=%s\"%(a,b)\n",
    "    res=a/b\n",
    "    print \"result=%s\"%res\n",
    "\n",
    "except ZeroDivisionError as err:\n",
    "    print \"ERROR:%s\"%err\n",
    "    print \"Enter b value not equal to zero\"    \n",
    "except ValueError as err:\n",
    "    print err\n",
    "    print \"Expecting only digits\"\n",
    "except Exception as err:\n",
    "    print \"ERROR:%s\"%err\n",
    "    print \"some error\"\n",
    "print \"other statements in program\"\n",
    "print \"program ended\"\n",
    "print \"main block\""
   ]
  },
  {
   "cell_type": "code",
   "execution_count": 29,
   "metadata": {},
   "outputs": [
    {
     "name": "stdout",
     "output_type": "stream",
     "text": [
      "program started\n",
      "try\n",
      "finally\n",
      "program ended\n"
     ]
    }
   ],
   "source": [
    "print \"program started\"\n",
    "try:\n",
    "    print \"try\"\n",
    "except:\n",
    "    print \"error\"\n",
    "finally:\n",
    "    print \"finally\"\n",
    "print \"program ended\""
   ]
  },
  {
   "cell_type": "code",
   "execution_count": 30,
   "metadata": {},
   "outputs": [
    {
     "name": "stdout",
     "output_type": "stream",
     "text": [
      "program started\n",
      "try\n",
      "error\n",
      "finally\n",
      "program ended\n"
     ]
    }
   ],
   "source": [
    "print \"program started\"\n",
    "try:\n",
    "    print \"try\"\n",
    "    print 1/0\n",
    "except:\n",
    "    print \"error\"\n",
    "finally:\n",
    "    print \"finally\"\n",
    "print \"program ended\""
   ]
  },
  {
   "cell_type": "code",
   "execution_count": 31,
   "metadata": {},
   "outputs": [
    {
     "name": "stdout",
     "output_type": "stream",
     "text": [
      "program started\n",
      "try\n",
      "error\n",
      "finally\n",
      "program ended\n"
     ]
    }
   ],
   "source": [
    "print \"program started\"\n",
    "try:\n",
    "    print \"try\"\n",
    "    print 1/0\n",
    "except:\n",
    "    print \"error\"\n",
    "print \"finally\"\n",
    "print \"program ended\""
   ]
  },
  {
   "cell_type": "code",
   "execution_count": 32,
   "metadata": {},
   "outputs": [
    {
     "name": "stdout",
     "output_type": "stream",
     "text": [
      "program started\n",
      "try\n",
      "finally\n",
      "program ended\n"
     ]
    }
   ],
   "source": [
    "print \"program started\"\n",
    "try:\n",
    "    print \"try\"\n",
    "except:\n",
    "    print \"error\"\n",
    "print \"finally\"\n",
    "print \"program ended\""
   ]
  },
  {
   "cell_type": "code",
   "execution_count": 33,
   "metadata": {},
   "outputs": [
    {
     "name": "stdout",
     "output_type": "stream",
     "text": [
      "program started\n",
      "try\n",
      "error\n",
      "finally\n"
     ]
    },
    {
     "ename": "ZeroDivisionError",
     "evalue": "integer division or modulo by zero",
     "output_type": "error",
     "traceback": [
      "\u001b[0;31m---------------------------------------------------------------------------\u001b[0m",
      "\u001b[0;31mZeroDivisionError\u001b[0m                         Traceback (most recent call last)",
      "\u001b[0;32m<ipython-input-33-d4709bb3cce8>\u001b[0m in \u001b[0;36m<module>\u001b[0;34m()\u001b[0m\n\u001b[1;32m      7\u001b[0m \u001b[0;32mfinally\u001b[0m\u001b[0;34m:\u001b[0m\u001b[0;34m\u001b[0m\u001b[0m\n\u001b[1;32m      8\u001b[0m     \u001b[0;32mprint\u001b[0m \u001b[0;34m\"finally\"\u001b[0m\u001b[0;34m\u001b[0m\u001b[0m\n\u001b[0;32m----> 9\u001b[0;31m     \u001b[0;32mprint\u001b[0m \u001b[0;36m1\u001b[0m\u001b[0;34m/\u001b[0m\u001b[0;36m0\u001b[0m\u001b[0;34m\u001b[0m\u001b[0m\n\u001b[0m\u001b[1;32m     10\u001b[0m \u001b[0;32mprint\u001b[0m \u001b[0;34m\"program ended\"\u001b[0m\u001b[0;34m\u001b[0m\u001b[0m\n",
      "\u001b[0;31mZeroDivisionError\u001b[0m: integer division or modulo by zero"
     ]
    }
   ],
   "source": [
    "print \"program started\"\n",
    "try:\n",
    "    print \"try\"\n",
    "    print 1/0\n",
    "except:\n",
    "    print \"error\"\n",
    "finally:\n",
    "    print \"finally\"\n",
    "    print 1/0\n",
    "print \"program ended\""
   ]
  },
  {
   "cell_type": "code",
   "execution_count": 34,
   "metadata": {},
   "outputs": [
    {
     "name": "stdout",
     "output_type": "stream",
     "text": [
      "program started\n",
      "try\n"
     ]
    },
    {
     "ename": "ZeroDivisionError",
     "evalue": "integer division or modulo by zero",
     "output_type": "error",
     "traceback": [
      "\u001b[0;31m---------------------------------------------------------------------------\u001b[0m",
      "\u001b[0;31mZeroDivisionError\u001b[0m                         Traceback (most recent call last)",
      "\u001b[0;32m<ipython-input-34-e1e4e9a9d6e6>\u001b[0m in \u001b[0;36m<module>\u001b[0;34m()\u001b[0m\n\u001b[1;32m      1\u001b[0m \u001b[0;32mprint\u001b[0m \u001b[0;34m\"program started\"\u001b[0m\u001b[0;34m\u001b[0m\u001b[0m\n\u001b[1;32m      2\u001b[0m \u001b[0;32mprint\u001b[0m \u001b[0;34m\"try\"\u001b[0m\u001b[0;34m\u001b[0m\u001b[0m\n\u001b[0;32m----> 3\u001b[0;31m \u001b[0;32mprint\u001b[0m \u001b[0;36m1\u001b[0m\u001b[0;34m/\u001b[0m\u001b[0;36m0\u001b[0m\u001b[0;34m\u001b[0m\u001b[0m\n\u001b[0m\u001b[1;32m      4\u001b[0m \u001b[0;32mprint\u001b[0m \u001b[0;34m\"finally\"\u001b[0m\u001b[0;34m\u001b[0m\u001b[0m\n\u001b[1;32m      5\u001b[0m \u001b[0;32mprint\u001b[0m \u001b[0;34m\"program ended\"\u001b[0m\u001b[0;34m\u001b[0m\u001b[0m\n",
      "\u001b[0;31mZeroDivisionError\u001b[0m: integer division or modulo by zero"
     ]
    }
   ],
   "source": [
    "print \"program started\"\n",
    "print \"try\"\n",
    "print 1/0\n",
    "print \"finally\"\n",
    "print \"program ended\""
   ]
  },
  {
   "cell_type": "code",
   "execution_count": 35,
   "metadata": {},
   "outputs": [
    {
     "name": "stdout",
     "output_type": "stream",
     "text": [
      "program started\n",
      "try\n",
      "finally\n"
     ]
    },
    {
     "ename": "ZeroDivisionError",
     "evalue": "integer division or modulo by zero",
     "output_type": "error",
     "traceback": [
      "\u001b[0;31m---------------------------------------------------------------------------\u001b[0m",
      "\u001b[0;31mZeroDivisionError\u001b[0m                         Traceback (most recent call last)",
      "\u001b[0;32m<ipython-input-35-e39bf15f3d9c>\u001b[0m in \u001b[0;36m<module>\u001b[0;34m()\u001b[0m\n\u001b[1;32m      2\u001b[0m \u001b[0;32mtry\u001b[0m\u001b[0;34m:\u001b[0m\u001b[0;34m\u001b[0m\u001b[0m\n\u001b[1;32m      3\u001b[0m     \u001b[0;32mprint\u001b[0m \u001b[0;34m\"try\"\u001b[0m\u001b[0;34m\u001b[0m\u001b[0m\n\u001b[0;32m----> 4\u001b[0;31m     \u001b[0;32mprint\u001b[0m \u001b[0;36m1\u001b[0m\u001b[0;34m/\u001b[0m\u001b[0;36m0\u001b[0m\u001b[0;34m\u001b[0m\u001b[0m\n\u001b[0m\u001b[1;32m      5\u001b[0m \u001b[0;32mfinally\u001b[0m\u001b[0;34m:\u001b[0m\u001b[0;34m\u001b[0m\u001b[0m\n\u001b[1;32m      6\u001b[0m     \u001b[0;32mprint\u001b[0m \u001b[0;34m\"finally\"\u001b[0m\u001b[0;34m\u001b[0m\u001b[0m\n",
      "\u001b[0;31mZeroDivisionError\u001b[0m: integer division or modulo by zero"
     ]
    }
   ],
   "source": [
    "print \"program started\"\n",
    "try:\n",
    "    print \"try\"\n",
    "    print 1/0\n",
    "finally:\n",
    "    print \"finally\"\n",
    "print \"program ended\""
   ]
  },
  {
   "cell_type": "code",
   "execution_count": 36,
   "metadata": {},
   "outputs": [
    {
     "name": "stdout",
     "output_type": "stream",
     "text": [
      "st1\n",
      "res=10\n"
     ]
    }
   ],
   "source": [
    "def fun():\n",
    "    print \"st1\"\n",
    "    return 10\n",
    "    print \"st2\"\n",
    "    return 20\n",
    "res=fun()\n",
    "print \"res=%s\"%res"
   ]
  },
  {
   "cell_type": "code",
   "execution_count": 38,
   "metadata": {},
   "outputs": [
    {
     "name": "stdout",
     "output_type": "stream",
     "text": [
      "try\n",
      "finally\n",
      "res=10\n"
     ]
    }
   ],
   "source": [
    "def fun():\n",
    "    try:\n",
    "        print \"try\"\n",
    "        return 10\n",
    "    except:\n",
    "        print \"error\"\n",
    "        return 20\n",
    "    finally:\n",
    "        print \"finally\"\n",
    "    print \"function block statements\"\n",
    "res=fun()\n",
    "print \"res=%s\"%res"
   ]
  },
  {
   "cell_type": "code",
   "execution_count": 39,
   "metadata": {},
   "outputs": [
    {
     "name": "stdout",
     "output_type": "stream",
     "text": [
      "try\n",
      "finally\n",
      "res=30\n"
     ]
    }
   ],
   "source": [
    "def fun():\n",
    "    try:\n",
    "        print \"try\"\n",
    "        return 10\n",
    "    except:\n",
    "        print \"error\"\n",
    "        return 20\n",
    "    finally:\n",
    "        print \"finally\"\n",
    "        return 30\n",
    "    print \"function block statements\"\n",
    "res=fun()\n",
    "print \"res=%s\"%res"
   ]
  },
  {
   "cell_type": "code",
   "execution_count": 40,
   "metadata": {},
   "outputs": [
    {
     "name": "stdout",
     "output_type": "stream",
     "text": [
      "res=<generator object fun at 0x7f8b9c2aad20>\n"
     ]
    }
   ],
   "source": [
    "def fun():\n",
    "    try:\n",
    "        for i in range(10):\n",
    "            yield i\n",
    "    except:\n",
    "        print \"error\"\n",
    "    finally:\n",
    "        print \"finally\"\n",
    "res=fun()\n",
    "print \"res=%s\"%res"
   ]
  },
  {
   "cell_type": "code",
   "execution_count": 41,
   "metadata": {},
   "outputs": [
    {
     "name": "stdout",
     "output_type": "stream",
     "text": [
      "res=<generator object fun at 0x7f8b9c2aab90>\n",
      "0\n",
      "1\n",
      "2\n",
      "3\n",
      "4\n",
      "5\n",
      "6\n",
      "7\n",
      "8\n",
      "9\n",
      "finally\n"
     ]
    }
   ],
   "source": [
    "def fun():\n",
    "    try:\n",
    "        for i in range(10):\n",
    "            yield i\n",
    "    except:\n",
    "        print \"error\"\n",
    "    finally:\n",
    "        print \"finally\"\n",
    "res=fun()\n",
    "print \"res=%s\"%res\n",
    "for i in res:\n",
    "    print i"
   ]
  },
  {
   "cell_type": "code",
   "execution_count": 42,
   "metadata": {},
   "outputs": [
    {
     "name": "stdout",
     "output_type": "stream",
     "text": [
      "res=<generator object fun at 0x7f8b9c2aaa00>\n",
      "0\n",
      "1\n",
      "2\n",
      "3\n",
      "4\n",
      "5\n",
      "6\n",
      "7\n",
      "8\n",
      "9\n",
      "finally\n",
      "19\n"
     ]
    }
   ],
   "source": [
    "def fun():\n",
    "    try:\n",
    "        for i in range(10):\n",
    "            yield i\n",
    "    except:\n",
    "        print \"error\"\n",
    "    finally:\n",
    "        print \"finally\"\n",
    "        yield i+10\n",
    "res=fun()\n",
    "print \"res=%s\"%res\n",
    "for i in res:\n",
    "    print i"
   ]
  },
  {
   "cell_type": "code",
   "execution_count": 45,
   "metadata": {},
   "outputs": [
    {
     "name": "stdout",
     "output_type": "stream",
     "text": [
      "res=<generator object fun at 0x7f8b9c2aa460>\n",
      "10\n",
      "20\n",
      "30\n",
      "iteration \n",
      "10\n",
      "finally\n",
      "iteration \n",
      "3000\n"
     ]
    }
   ],
   "source": [
    "def fun():\n",
    "    try:\n",
    "        print 10\n",
    "        print 20\n",
    "        print 30 \n",
    "        yield 10\n",
    "    except:\n",
    "        print \"error\"\n",
    "    finally:\n",
    "        print \"finally\"\n",
    "        yield 3000\n",
    "res=fun()\n",
    "print \"res=%s\"%res\n",
    "for i in res:\n",
    "    print \"iteration \"\n",
    "    print i"
   ]
  },
  {
   "cell_type": "code",
   "execution_count": 46,
   "metadata": {},
   "outputs": [
    {
     "name": "stdout",
     "output_type": "stream",
     "text": [
      "res=<generator object fun at 0x7f8b9c2aa3c0>\n",
      "10\n",
      "20\n",
      "30\n",
      "r1= 10\n"
     ]
    }
   ],
   "source": [
    "def fun():\n",
    "    try:\n",
    "        print 10\n",
    "        print 20\n",
    "        print 30 \n",
    "        yield 10\n",
    "    except:\n",
    "        print \"error\"\n",
    "    \n",
    "    finally:\n",
    "        print \"finally\"\n",
    "        yield 3000\n",
    "res=fun()\n",
    "print \"res=%s\"%res\n",
    "r1=res.next()\n",
    "print \"r1=\",r1"
   ]
  },
  {
   "cell_type": "code",
   "execution_count": 47,
   "metadata": {},
   "outputs": [
    {
     "name": "stdout",
     "output_type": "stream",
     "text": [
      "finally\n",
      "r2= 3000\n"
     ]
    }
   ],
   "source": [
    "r2=res.next()\n",
    "print \"r2=\",r2"
   ]
  },
  {
   "cell_type": "code",
   "execution_count": 48,
   "metadata": {},
   "outputs": [
    {
     "name": "stdout",
     "output_type": "stream",
     "text": [
      "main1\n",
      "try block\n",
      "else block\n",
      "finally\n",
      "main2\n"
     ]
    }
   ],
   "source": [
    "print \"main1\"\n",
    "try:\n",
    "    print \"try block\"\n",
    "except Exception as err:\n",
    "    print \"except block\"\n",
    "    print err\n",
    "else:\n",
    "    print \"else block\"\n",
    "finally:\n",
    "    print \"finally\"\n",
    "print \"main2\""
   ]
  },
  {
   "cell_type": "code",
   "execution_count": 49,
   "metadata": {},
   "outputs": [
    {
     "name": "stdout",
     "output_type": "stream",
     "text": [
      "main1\n",
      "try block\n",
      "except block\n",
      "integer division or modulo by zero\n",
      "finally\n",
      "main2\n"
     ]
    }
   ],
   "source": [
    "print \"main1\"\n",
    "try:\n",
    "    print \"try block\"\n",
    "    print 1/0\n",
    "except Exception as err:\n",
    "    print \"except block\"\n",
    "    print err\n",
    "else:\n",
    "    print \"else block\"\n",
    "finally:\n",
    "    print \"finally\"\n",
    "print \"main2\""
   ]
  },
  {
   "cell_type": "code",
   "execution_count": null,
   "metadata": {
    "collapsed": true
   },
   "outputs": [],
   "source": [
    "def fun():\n",
    "    try:\n",
    "        print \"try\"\n",
    "    except:\n",
    "        print \"error\"\n",
    "    finally:\n",
    "        print \"finally\"\n",
    "    return 20\n",
    "    print \"function block statements\"\n",
    "res=fun()\n",
    "print \"res=%s\"%res"
   ]
  }
 ],
 "metadata": {
  "kernelspec": {
   "display_name": "Python 2",
   "language": "python",
   "name": "python2"
  },
  "language_info": {
   "codemirror_mode": {
    "name": "ipython",
    "version": 2
   },
   "file_extension": ".py",
   "mimetype": "text/x-python",
   "name": "python",
   "nbconvert_exporter": "python",
   "pygments_lexer": "ipython2",
   "version": "2.7.14"
  }
 },
 "nbformat": 4,
 "nbformat_minor": 2
}
