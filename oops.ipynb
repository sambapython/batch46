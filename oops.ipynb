{
 "cells": [
  {
   "cell_type": "code",
   "execution_count": 1,
   "metadata": {
    "collapsed": true
   },
   "outputs": [],
   "source": [
    "# inheritance, encapsulation, abstraction, polymorphism, databinding\n",
    "def sal(emp):\n",
    "    print emp\n",
    "    cal_sal=\"\"\n",
    "def leaves(emp):\n",
    "    print emp\n",
    "    \n",
    "def IT(emp):\n",
    "    print emp\n",
    "emp1={\"name\":\"EMP name\",\"age\":23,\"sal\":2345,\"leave\":[]}\n"
   ]
  },
  {
   "cell_type": "code",
   "execution_count": 2,
   "metadata": {},
   "outputs": [
    {
     "name": "stdout",
     "output_type": "stream",
     "text": [
      "this is class\n"
     ]
    }
   ],
   "source": [
    "def fun():\n",
    "    print \"this is function\"\n",
    "class EmpCompany:\n",
    "    print \"this is class\""
   ]
  },
  {
   "cell_type": "code",
   "execution_count": 5,
   "metadata": {},
   "outputs": [
    {
     "name": "stdout",
     "output_type": "stream",
     "text": [
      "this is class\n"
     ]
    }
   ],
   "source": [
    "def fun():\n",
    "    print \"this is function\"\n",
    "    c=100\n",
    "    d=200\n",
    "class EmpCompany:\n",
    "    print \"this is class\"\n",
    "    a=10\n",
    "    b=20"
   ]
  },
  {
   "cell_type": "code",
   "execution_count": 6,
   "metadata": {},
   "outputs": [
    {
     "name": "stdout",
     "output_type": "stream",
     "text": [
      "this is class\n",
      "10\n",
      "20\n"
     ]
    }
   ],
   "source": [
    "def fun():\n",
    "    print \"this is function\"\n",
    "    c=100\n",
    "    d=200\n",
    "class EmpCompany:\n",
    "    print \"this is class\"\n",
    "    a=10\n",
    "    b=20\n",
    "print EmpCompany.a\n",
    "print EmpCompany.b"
   ]
  },
  {
   "cell_type": "code",
   "execution_count": 7,
   "metadata": {},
   "outputs": [
    {
     "name": "stdout",
     "output_type": "stream",
     "text": [
      "this is class\n",
      "10\n",
      "20\n"
     ]
    },
    {
     "ename": "TypeError",
     "evalue": "unbound method sal_cal() must be called with EmpCompany instance as first argument (got dict instance instead)",
     "output_type": "error",
     "traceback": [
      "\u001b[0;31m---------------------------------------------------------------------------\u001b[0m",
      "\u001b[0;31mTypeError\u001b[0m                                 Traceback (most recent call last)",
      "\u001b[0;32m<ipython-input-7-48f1770f7174>\u001b[0m in \u001b[0;36m<module>\u001b[0;34m()\u001b[0m\n\u001b[1;32m     12\u001b[0m \u001b[0;32mprint\u001b[0m \u001b[0mEmpCompany\u001b[0m\u001b[0;34m.\u001b[0m\u001b[0ma\u001b[0m\u001b[0;34m\u001b[0m\u001b[0m\n\u001b[1;32m     13\u001b[0m \u001b[0;32mprint\u001b[0m \u001b[0mEmpCompany\u001b[0m\u001b[0;34m.\u001b[0m\u001b[0mb\u001b[0m\u001b[0;34m\u001b[0m\u001b[0m\n\u001b[0;32m---> 14\u001b[0;31m \u001b[0mEmpCompany\u001b[0m\u001b[0;34m.\u001b[0m\u001b[0msal_cal\u001b[0m\u001b[0;34m(\u001b[0m\u001b[0;34m{\u001b[0m\u001b[0;34m\"emp\"\u001b[0m\u001b[0;34m:\u001b[0m\u001b[0;34m\"details\"\u001b[0m\u001b[0;34m}\u001b[0m\u001b[0;34m)\u001b[0m\u001b[0;34m\u001b[0m\u001b[0m\n\u001b[0m",
      "\u001b[0;31mTypeError\u001b[0m: unbound method sal_cal() must be called with EmpCompany instance as first argument (got dict instance instead)"
     ]
    }
   ],
   "source": [
    "def fun():\n",
    "    print \"this is function\"\n",
    "    c=100\n",
    "    d=200\n",
    "class EmpCompany:\n",
    "    print \"this is class\"\n",
    "    a=10\n",
    "    b=20\n",
    "    def sal_cal(emp):\n",
    "        print \"this is method inside the class\"\n",
    "        print emp\n",
    "print EmpCompany.a\n",
    "print EmpCompany.b\n",
    "EmpCompany.sal_cal({\"emp\":\"details\"})"
   ]
  },
  {
   "cell_type": "code",
   "execution_count": 8,
   "metadata": {},
   "outputs": [
    {
     "name": "stdout",
     "output_type": "stream",
     "text": [
      "this is class\n",
      "10\n",
      "20\n"
     ]
    },
    {
     "ename": "TypeError",
     "evalue": "unbound method sal_cal() must be called with EmpCompany instance as first argument (got dict instance instead)",
     "output_type": "error",
     "traceback": [
      "\u001b[0;31m---------------------------------------------------------------------------\u001b[0m",
      "\u001b[0;31mTypeError\u001b[0m                                 Traceback (most recent call last)",
      "\u001b[0;32m<ipython-input-8-cb4e1385e06e>\u001b[0m in \u001b[0;36m<module>\u001b[0;34m()\u001b[0m\n\u001b[1;32m     13\u001b[0m \u001b[0;32mprint\u001b[0m \u001b[0mEmpCompany\u001b[0m\u001b[0;34m.\u001b[0m\u001b[0mb\u001b[0m\u001b[0;34m\u001b[0m\u001b[0m\n\u001b[1;32m     14\u001b[0m \u001b[0memp_instance\u001b[0m\u001b[0;34m=\u001b[0m\u001b[0mEmpCompany\u001b[0m\u001b[0;34m(\u001b[0m\u001b[0;34m)\u001b[0m\u001b[0;34m\u001b[0m\u001b[0m\n\u001b[0;32m---> 15\u001b[0;31m \u001b[0mEmpCompany\u001b[0m\u001b[0;34m.\u001b[0m\u001b[0msal_cal\u001b[0m\u001b[0;34m(\u001b[0m\u001b[0;34m{\u001b[0m\u001b[0;34m\"emp\"\u001b[0m\u001b[0;34m:\u001b[0m\u001b[0;34m\"details\"\u001b[0m\u001b[0;34m}\u001b[0m\u001b[0;34m)\u001b[0m\u001b[0;34m\u001b[0m\u001b[0m\n\u001b[0m",
      "\u001b[0;31mTypeError\u001b[0m: unbound method sal_cal() must be called with EmpCompany instance as first argument (got dict instance instead)"
     ]
    }
   ],
   "source": [
    "def fun():\n",
    "    print \"this is function\"\n",
    "    c=100\n",
    "    d=200\n",
    "class EmpCompany:\n",
    "    print \"this is class\"\n",
    "    a=10\n",
    "    b=20\n",
    "    def sal_cal(emp):\n",
    "        print \"this is method inside the class\"\n",
    "        print emp\n",
    "print EmpCompany.a\n",
    "print EmpCompany.b\n",
    "emp_instance=EmpCompany()\n",
    "EmpCompany.sal_cal({\"emp\":\"details\"})"
   ]
  },
  {
   "cell_type": "code",
   "execution_count": 9,
   "metadata": {},
   "outputs": [
    {
     "name": "stdout",
     "output_type": "stream",
     "text": [
      "this is class\n",
      "10\n",
      "20\n",
      "this is method inside the class\n",
      "<__main__.EmpCompany instance at 0x7efcd0f63e60>\n"
     ]
    }
   ],
   "source": [
    "def fun():\n",
    "    print \"this is function\"\n",
    "    c=100\n",
    "    d=200\n",
    "class EmpCompany:\n",
    "    print \"this is class\"\n",
    "    a=10\n",
    "    b=20\n",
    "    def sal_cal(emp):\n",
    "        print \"this is method inside the class\"\n",
    "        print emp\n",
    "print EmpCompany.a\n",
    "print EmpCompany.b\n",
    "emp_instance=EmpCompany()\n",
    "EmpCompany.sal_cal(emp_instance)"
   ]
  },
  {
   "cell_type": "code",
   "execution_count": 10,
   "metadata": {},
   "outputs": [
    {
     "name": "stdout",
     "output_type": "stream",
     "text": [
      "this is class\n",
      "10\n",
      "20\n",
      "this is method inside the class\n",
      "<__main__.EmpCompany instance at 0x7efcd0efc098>\n",
      "139624302681320\n",
      "139624302231704\n"
     ]
    }
   ],
   "source": [
    "def fun():\n",
    "    print \"this is function\"\n",
    "    c=100\n",
    "    d=200\n",
    "class EmpCompany:\n",
    "    print \"this is class\"\n",
    "    a=10\n",
    "    b=20\n",
    "    def sal_cal(emp):\n",
    "        print \"this is method inside the class\"\n",
    "        print emp\n",
    "print EmpCompany.a\n",
    "print EmpCompany.b\n",
    "emp_instance=EmpCompany()\n",
    "EmpCompany.sal_cal(emp_instance)\n",
    "print id(EmpCompany)\n",
    "print id(emp_instance)"
   ]
  },
  {
   "cell_type": "code",
   "execution_count": 11,
   "metadata": {},
   "outputs": [
    {
     "name": "stdout",
     "output_type": "stream",
     "text": [
      "this is class\n",
      "10\n",
      "20\n",
      "this is method inside the class\n",
      "<__main__.EmpCompany instance at 0x7efcd0efc368>\n"
     ]
    }
   ],
   "source": [
    "class EmpCompany:\n",
    "    print \"this is class\"\n",
    "    a=10\n",
    "    b=20\n",
    "    def sal_cal(emp):\n",
    "        print \"this is method inside the class\"\n",
    "        print emp\n",
    "print EmpCompany.a\n",
    "print EmpCompany.b\n",
    "emp_instance=EmpCompany()\n",
    "EmpCompany.sal_cal(emp_instance)"
   ]
  },
  {
   "cell_type": "code",
   "execution_count": 12,
   "metadata": {},
   "outputs": [
    {
     "name": "stdout",
     "output_type": "stream",
     "text": [
      "this is class\n",
      "10\n",
      "20\n",
      "this is method inside the class\n",
      "<__main__.EmpCompany instance at 0x7efcd0efc440>\n",
      "10\n",
      "20\n",
      "this is method inside the class\n",
      "<__main__.EmpCompany instance at 0x7efcd0efc440>\n"
     ]
    }
   ],
   "source": [
    "class EmpCompany:\n",
    "    print \"this is class\"\n",
    "    a=10\n",
    "    b=20\n",
    "    def sal_cal(emp):\n",
    "        print \"this is method inside the class\"\n",
    "        print emp\n",
    "print EmpCompany.a\n",
    "print EmpCompany.b\n",
    "emp_instance=EmpCompany()\n",
    "EmpCompany.sal_cal(emp_instance)\n",
    "print emp_instance.a\n",
    "print emp_instance.b\n",
    "emp_instance.sal_cal()\n",
    "#EmpCompany.sal_cal(emp_instance)"
   ]
  },
  {
   "cell_type": "code",
   "execution_count": 13,
   "metadata": {},
   "outputs": [
    {
     "name": "stdout",
     "output_type": "stream",
     "text": [
      "this is class\n",
      "10\n",
      "20\n",
      "this is method inside the class\n",
      "<__main__.EmpCompany instance at 0x7efcd0efc560>\n"
     ]
    }
   ],
   "source": [
    "class EmpCompany:\n",
    "    print \"this is class\"\n",
    "    a=10\n",
    "    b=20\n",
    "    def sal_cal(emp):\n",
    "        print \"this is method inside the class\"\n",
    "        print emp\n",
    "emp_instance=EmpCompany()\n",
    "print emp_instance.a\n",
    "print emp_instance.b\n",
    "emp_instance.sal_cal()\n",
    "#EmpCompany.sal_cal(emp_instance)"
   ]
  },
  {
   "cell_type": "code",
   "execution_count": 14,
   "metadata": {},
   "outputs": [
    {
     "name": "stdout",
     "output_type": "stream",
     "text": [
      "Khyaathi\n",
      "Khyaathi\n",
      "Khyaathi\n"
     ]
    }
   ],
   "source": [
    "class Emp:\n",
    "    company=\"Khyaathi\"\n",
    "    def get(emp):\n",
    "        print emp\n",
    "emp1=Emp()\n",
    "emp1.name=\"Emp1 name\"\n",
    "emp1.age=23\n",
    "emp1.sal=1234567\n",
    "emp2=Emp()\n",
    "emp2.name=\"Emp2 name\"\n",
    "emp2.age=23\n",
    "emp2.sal=4567890765\n",
    "print Emp.company\n",
    "print emp1.company\n",
    "print emp2.company"
   ]
  },
  {
   "cell_type": "code",
   "execution_count": 15,
   "metadata": {},
   "outputs": [
    {
     "name": "stdout",
     "output_type": "stream",
     "text": [
      "Khyaathi\n",
      "Khyaathi\n",
      "Khyaathi\n"
     ]
    },
    {
     "ename": "AttributeError",
     "evalue": "class Emp has no attribute 'name'",
     "output_type": "error",
     "traceback": [
      "\u001b[0;31m---------------------------------------------------------------------------\u001b[0m",
      "\u001b[0;31mAttributeError\u001b[0m                            Traceback (most recent call last)",
      "\u001b[0;32m<ipython-input-15-c6da048ddfcb>\u001b[0m in \u001b[0;36m<module>\u001b[0;34m()\u001b[0m\n\u001b[1;32m     14\u001b[0m \u001b[0;32mprint\u001b[0m \u001b[0memp1\u001b[0m\u001b[0;34m.\u001b[0m\u001b[0mcompany\u001b[0m\u001b[0;34m\u001b[0m\u001b[0m\n\u001b[1;32m     15\u001b[0m \u001b[0;32mprint\u001b[0m \u001b[0memp2\u001b[0m\u001b[0;34m.\u001b[0m\u001b[0mcompany\u001b[0m\u001b[0;34m\u001b[0m\u001b[0m\n\u001b[0;32m---> 16\u001b[0;31m \u001b[0;32mprint\u001b[0m \u001b[0mEmp\u001b[0m\u001b[0;34m.\u001b[0m\u001b[0mname\u001b[0m\u001b[0;34m\u001b[0m\u001b[0m\n\u001b[0m",
      "\u001b[0;31mAttributeError\u001b[0m: class Emp has no attribute 'name'"
     ]
    }
   ],
   "source": [
    "class Emp:\n",
    "    company=\"Khyaathi\"\n",
    "    def get(emp):\n",
    "        print emp\n",
    "emp1=Emp()\n",
    "emp1.name=\"Emp1 name\"\n",
    "emp1.age=23\n",
    "emp1.sal=1234567\n",
    "emp2=Emp()\n",
    "emp2.name=\"Emp2 name\"\n",
    "emp2.age=23\n",
    "emp2.sal=4567890765\n",
    "print Emp.company\n",
    "print emp1.company\n",
    "print emp2.company\n",
    "print Emp.name"
   ]
  },
  {
   "cell_type": "code",
   "execution_count": 16,
   "metadata": {},
   "outputs": [
    {
     "name": "stdout",
     "output_type": "stream",
     "text": [
      "Khyaathi\n",
      "Khyaathi\n",
      "Khyaathi\n",
      "Emp1 name\n",
      "Emp2 name\n"
     ]
    },
    {
     "ename": "AttributeError",
     "evalue": "class Emp has no attribute 'name'",
     "output_type": "error",
     "traceback": [
      "\u001b[0;31m---------------------------------------------------------------------------\u001b[0m",
      "\u001b[0;31mAttributeError\u001b[0m                            Traceback (most recent call last)",
      "\u001b[0;32m<ipython-input-16-1457fb78d39f>\u001b[0m in \u001b[0;36m<module>\u001b[0;34m()\u001b[0m\n\u001b[1;32m     16\u001b[0m \u001b[0;32mprint\u001b[0m \u001b[0memp1\u001b[0m\u001b[0;34m.\u001b[0m\u001b[0mname\u001b[0m\u001b[0;34m\u001b[0m\u001b[0m\n\u001b[1;32m     17\u001b[0m \u001b[0;32mprint\u001b[0m \u001b[0memp2\u001b[0m\u001b[0;34m.\u001b[0m\u001b[0mname\u001b[0m\u001b[0;34m\u001b[0m\u001b[0m\n\u001b[0;32m---> 18\u001b[0;31m \u001b[0;32mprint\u001b[0m \u001b[0mEmp\u001b[0m\u001b[0;34m.\u001b[0m\u001b[0mname\u001b[0m\u001b[0;34m\u001b[0m\u001b[0m\n\u001b[0m",
      "\u001b[0;31mAttributeError\u001b[0m: class Emp has no attribute 'name'"
     ]
    }
   ],
   "source": [
    "class Emp:\n",
    "    company=\"Khyaathi\"\n",
    "    def get(emp):\n",
    "        print emp\n",
    "emp1=Emp()\n",
    "emp1.name=\"Emp1 name\"\n",
    "emp1.age=23\n",
    "emp1.sal=1234567\n",
    "emp2=Emp()\n",
    "emp2.name=\"Emp2 name\"\n",
    "emp2.age=23\n",
    "emp2.sal=4567890765\n",
    "print Emp.company\n",
    "print emp1.company\n",
    "print emp2.company\n",
    "print emp1.name\n",
    "print emp2.name\n",
    "print Emp.name"
   ]
  },
  {
   "cell_type": "code",
   "execution_count": 18,
   "metadata": {},
   "outputs": [
    {
     "name": "stdout",
     "output_type": "stream",
     "text": [
      "Khyaathi\n",
      "Khyaathi\n",
      "Khyaathi\n",
      "Emp1 name\n",
      "Emp2 name\n"
     ]
    },
    {
     "ename": "AttributeError",
     "evalue": "Emp instance has no attribute 'name'",
     "output_type": "error",
     "traceback": [
      "\u001b[0;31m---------------------------------------------------------------------------\u001b[0m",
      "\u001b[0;31mAttributeError\u001b[0m                            Traceback (most recent call last)",
      "\u001b[0;32m<ipython-input-18-b2f7c4c112e7>\u001b[0m in \u001b[0;36m<module>\u001b[0;34m()\u001b[0m\n\u001b[1;32m     17\u001b[0m \u001b[0;32mprint\u001b[0m \u001b[0memp1\u001b[0m\u001b[0;34m.\u001b[0m\u001b[0mname\u001b[0m\u001b[0;34m\u001b[0m\u001b[0m\n\u001b[1;32m     18\u001b[0m \u001b[0;32mprint\u001b[0m \u001b[0memp2\u001b[0m\u001b[0;34m.\u001b[0m\u001b[0mname\u001b[0m\u001b[0;34m\u001b[0m\u001b[0m\n\u001b[0;32m---> 19\u001b[0;31m \u001b[0;32mprint\u001b[0m \u001b[0memp3\u001b[0m\u001b[0;34m.\u001b[0m\u001b[0mname\u001b[0m\u001b[0;34m\u001b[0m\u001b[0m\n\u001b[0m",
      "\u001b[0;31mAttributeError\u001b[0m: Emp instance has no attribute 'name'"
     ]
    }
   ],
   "source": [
    "class Emp:\n",
    "    company=\"Khyaathi\"\n",
    "    def get(emp):\n",
    "        print emp\n",
    "emp1=Emp()\n",
    "emp1.name=\"Emp1 name\"\n",
    "emp1.age=23\n",
    "emp1.sal=1234567\n",
    "emp2=Emp()\n",
    "emp2.name=\"Emp2 name\"\n",
    "emp2.age=23\n",
    "emp2.sal=4567890765\n",
    "emp3=Emp()\n",
    "print Emp.company\n",
    "print emp1.company\n",
    "print emp2.company\n",
    "print emp1.name\n",
    "print emp2.name\n",
    "print emp3.name"
   ]
  },
  {
   "cell_type": "code",
   "execution_count": 19,
   "metadata": {},
   "outputs": [
    {
     "name": "stdout",
     "output_type": "stream",
     "text": [
      "Emp1 name 23 1234567\n"
     ]
    }
   ],
   "source": [
    "class Emp:\n",
    "    company=\"Khyaathi\"\n",
    "    def get(emp):\n",
    "        print emp.name, emp.age, emp.sal\n",
    "emp1=Emp()\n",
    "emp1.name=\"Emp1 name\"\n",
    "emp1.age=23\n",
    "emp1.sal=1234567\n",
    "emp2=Emp()\n",
    "emp2.name=\"Emp2 name\"\n",
    "emp2.age=23\n",
    "emp2.sal=4567890765\n",
    "Emp.get(emp1)"
   ]
  },
  {
   "cell_type": "code",
   "execution_count": 20,
   "metadata": {},
   "outputs": [
    {
     "name": "stdout",
     "output_type": "stream",
     "text": [
      "Emp1 name 23 1234567\n",
      "Emp2 name 23 4567890765\n"
     ]
    }
   ],
   "source": [
    "class Emp:\n",
    "    company=\"Khyaathi\"\n",
    "    def get(emp):\n",
    "        print emp.name, emp.age, emp.sal\n",
    "emp1=Emp()\n",
    "emp1.name=\"Emp1 name\"\n",
    "emp1.age=23\n",
    "emp1.sal=1234567\n",
    "emp2=Emp()\n",
    "emp2.name=\"Emp2 name\"\n",
    "emp2.age=23\n",
    "emp2.sal=4567890765\n",
    "Emp.get(emp1)\n",
    "Emp.get(emp2)"
   ]
  },
  {
   "cell_type": "code",
   "execution_count": 21,
   "metadata": {},
   "outputs": [
    {
     "name": "stdout",
     "output_type": "stream",
     "text": [
      "Emp1 name 23 1234567\n",
      "Emp2 name 23 4567890765\n"
     ]
    }
   ],
   "source": [
    "class Emp:\n",
    "    company=\"Khyaathi\"\n",
    "    def get(emp):\n",
    "        print emp.name, emp.age, emp.sal\n",
    "emp1=Emp()\n",
    "emp1.name=\"Emp1 name\"\n",
    "emp1.age=23\n",
    "emp1.sal=1234567\n",
    "emp2=Emp()\n",
    "emp2.name=\"Emp2 name\"\n",
    "emp2.age=23\n",
    "emp2.sal=4567890765\n",
    "#Emp.get(emp1)\n",
    "emp1.get()\n",
    "#Emp.get(emp2)\n",
    "emp2.get()"
   ]
  },
  {
   "cell_type": "code",
   "execution_count": 22,
   "metadata": {},
   "outputs": [
    {
     "name": "stdout",
     "output_type": "stream",
     "text": [
      "Emp1 name 23 1234567\n",
      "Emp2 name 23 4567890765\n"
     ]
    },
    {
     "ename": "AttributeError",
     "evalue": "Emp instance has no attribute 'name'",
     "output_type": "error",
     "traceback": [
      "\u001b[0;31m---------------------------------------------------------------------------\u001b[0m",
      "\u001b[0;31mAttributeError\u001b[0m                            Traceback (most recent call last)",
      "\u001b[0;32m<ipython-input-22-36c5965012b3>\u001b[0m in \u001b[0;36m<module>\u001b[0;34m()\u001b[0m\n\u001b[1;32m     16\u001b[0m \u001b[0memp2\u001b[0m\u001b[0;34m.\u001b[0m\u001b[0mget\u001b[0m\u001b[0;34m(\u001b[0m\u001b[0;34m)\u001b[0m\u001b[0;34m\u001b[0m\u001b[0m\n\u001b[1;32m     17\u001b[0m \u001b[0memp3\u001b[0m\u001b[0;34m=\u001b[0m\u001b[0mEmp\u001b[0m\u001b[0;34m(\u001b[0m\u001b[0;34m)\u001b[0m\u001b[0;34m\u001b[0m\u001b[0m\n\u001b[0;32m---> 18\u001b[0;31m \u001b[0memp3\u001b[0m\u001b[0;34m.\u001b[0m\u001b[0mget\u001b[0m\u001b[0;34m(\u001b[0m\u001b[0;34m)\u001b[0m\u001b[0;34m\u001b[0m\u001b[0m\n\u001b[0m",
      "\u001b[0;32m<ipython-input-22-36c5965012b3>\u001b[0m in \u001b[0;36mget\u001b[0;34m(emp)\u001b[0m\n\u001b[1;32m      2\u001b[0m     \u001b[0mcompany\u001b[0m\u001b[0;34m=\u001b[0m\u001b[0;34m\"Khyaathi\"\u001b[0m\u001b[0;34m\u001b[0m\u001b[0m\n\u001b[1;32m      3\u001b[0m     \u001b[0;32mdef\u001b[0m \u001b[0mget\u001b[0m\u001b[0;34m(\u001b[0m\u001b[0memp\u001b[0m\u001b[0;34m)\u001b[0m\u001b[0;34m:\u001b[0m\u001b[0;34m\u001b[0m\u001b[0m\n\u001b[0;32m----> 4\u001b[0;31m         \u001b[0;32mprint\u001b[0m \u001b[0memp\u001b[0m\u001b[0;34m.\u001b[0m\u001b[0mname\u001b[0m\u001b[0;34m,\u001b[0m \u001b[0memp\u001b[0m\u001b[0;34m.\u001b[0m\u001b[0mage\u001b[0m\u001b[0;34m,\u001b[0m \u001b[0memp\u001b[0m\u001b[0;34m.\u001b[0m\u001b[0msal\u001b[0m\u001b[0;34m\u001b[0m\u001b[0m\n\u001b[0m\u001b[1;32m      5\u001b[0m \u001b[0memp1\u001b[0m\u001b[0;34m=\u001b[0m\u001b[0mEmp\u001b[0m\u001b[0;34m(\u001b[0m\u001b[0;34m)\u001b[0m\u001b[0;34m\u001b[0m\u001b[0m\n\u001b[1;32m      6\u001b[0m \u001b[0memp1\u001b[0m\u001b[0;34m.\u001b[0m\u001b[0mname\u001b[0m\u001b[0;34m=\u001b[0m\u001b[0;34m\"Emp1 name\"\u001b[0m\u001b[0;34m\u001b[0m\u001b[0m\n",
      "\u001b[0;31mAttributeError\u001b[0m: Emp instance has no attribute 'name'"
     ]
    }
   ],
   "source": [
    "class Emp:\n",
    "    company=\"Khyaathi\"\n",
    "    def get(emp):\n",
    "        print emp.name, emp.age, emp.sal\n",
    "emp1=Emp()\n",
    "emp1.name=\"Emp1 name\"\n",
    "emp1.age=23\n",
    "emp1.sal=1234567\n",
    "emp2=Emp()\n",
    "emp2.name=\"Emp2 name\"\n",
    "emp2.age=23\n",
    "emp2.sal=4567890765\n",
    "#Emp.get(emp1)\n",
    "emp1.get()\n",
    "#Emp.get(emp2)\n",
    "emp2.get()\n",
    "emp3=Emp()\n",
    "emp3.get()"
   ]
  },
  {
   "cell_type": "code",
   "execution_count": 24,
   "metadata": {},
   "outputs": [
    {
     "name": "stdout",
     "output_type": "stream",
     "text": [
      "Emp1 name 23 1234567\n",
      "Emp2 name 23 567890765\n"
     ]
    }
   ],
   "source": [
    "class Emp:\n",
    "    company=\"Khyaathi\"\n",
    "    def set_data(emp,emp_name,emp_age,emp_sal):\n",
    "        emp.name=emp_name\n",
    "        emp.age=emp_age\n",
    "        emp.sal=emp_sal\n",
    "    def get(emp):\n",
    "        print emp.name, emp.age, emp.sal\n",
    "emp1=Emp()\n",
    "Emp.set_data(emp1,\"Emp1 name\",23,1234567)\n",
    "#emp1.name=\"Emp1 name\"\n",
    "#emp1.age=23\n",
    "#emp1.sal=1234567\n",
    "emp2=Emp()\n",
    "#emp2.name=\"Emp2 name\"\n",
    "#emp2.age=23\n",
    "#emp2.sal=4567890765\n",
    "Emp.set_data(emp2,\"Emp2 name\",23,567890765)\n",
    "#Emp.get(emp1)\n",
    "emp1.get()\n",
    "#Emp.get(emp2)\n",
    "emp2.get()\n",
    "\n"
   ]
  },
  {
   "cell_type": "code",
   "execution_count": 25,
   "metadata": {},
   "outputs": [
    {
     "name": "stdout",
     "output_type": "stream",
     "text": [
      "Emp1 name 23 1234567\n",
      "Emp2 name 23 567890765\n"
     ]
    }
   ],
   "source": [
    "class Emp:\n",
    "    company=\"Khyaathi\"\n",
    "    def set_data(emp,emp_name,emp_age,emp_sal):\n",
    "        emp.name=emp_name\n",
    "        emp.age=emp_age\n",
    "        emp.sal=emp_sal\n",
    "    def get(emp):\n",
    "        print emp.name, emp.age, emp.sal\n",
    "emp1=Emp()\n",
    "Emp.set_data(emp1,\"Emp1 name\",23,1234567)\n",
    "emp2=Emp()\n",
    "Emp.set_data(emp2,\"Emp2 name\",23,567890765)\n",
    "emp1.get()\n",
    "emp2.get()\n",
    "\n"
   ]
  },
  {
   "cell_type": "code",
   "execution_count": 26,
   "metadata": {},
   "outputs": [
    {
     "name": "stdout",
     "output_type": "stream",
     "text": [
      "Emp1 name 23 1234567\n",
      "Emp1 name 23 1234567\n"
     ]
    }
   ],
   "source": [
    "class Emp:\n",
    "    company=\"Khyaathi\"\n",
    "    def set_data(emp,emp_name,emp_age,emp_sal):\n",
    "        emp.name=emp_name\n",
    "        emp.age=emp_age\n",
    "        emp.sal=emp_sal\n",
    "    def get(emp):\n",
    "        print emp.name, emp.age, emp.sal\n",
    "emp1=Emp()\n",
    "#Emp.set_data(emp1,\"Emp1 name\",23,1234567)\n",
    "emp1.set_data(\"Emp1 name\",23,1234567)\n",
    "emp2=Emp()\n",
    "#Emp.set_data(emp2,\"Emp2 name\",23,567890765)\n",
    "emp2.set_data(\"Emp1 name\",23,1234567)\n",
    "emp1.get()\n",
    "emp2.get()\n",
    "\n"
   ]
  },
  {
   "cell_type": "code",
   "execution_count": 27,
   "metadata": {},
   "outputs": [
    {
     "name": "stdout",
     "output_type": "stream",
     "text": [
      "Emp1 name 23 1234567\n",
      "Emp1 name 23 1234567\n"
     ]
    }
   ],
   "source": [
    "class Emp:\n",
    "    company=\"Khyaathi\"\n",
    "    def set_data(emp,emp_name,emp_age,emp_sal):\n",
    "        emp.name=emp_name\n",
    "        emp.age=emp_age\n",
    "        emp.sal=emp_sal\n",
    "    def get(emp):\n",
    "        print emp.name, emp.age, emp.sal\n",
    "emp1=Emp()\n",
    "emp1.set_data(\"Emp1 name\",23,1234567)\n",
    "emp2=Emp()\n",
    "emp2.set_data(\"Emp1 name\",23,1234567)\n",
    "emp1.get()\n",
    "emp2.get()"
   ]
  },
  {
   "cell_type": "code",
   "execution_count": 28,
   "metadata": {},
   "outputs": [
    {
     "name": "stdout",
     "output_type": "stream",
     "text": [
      "Emp1 name 23 1234567\n",
      "Emp1 name 23 1234567\n"
     ]
    },
    {
     "ename": "AttributeError",
     "evalue": "Emp instance has no attribute 'name'",
     "output_type": "error",
     "traceback": [
      "\u001b[0;31m---------------------------------------------------------------------------\u001b[0m",
      "\u001b[0;31mAttributeError\u001b[0m                            Traceback (most recent call last)",
      "\u001b[0;32m<ipython-input-28-6cd0308b9215>\u001b[0m in \u001b[0;36m<module>\u001b[0;34m()\u001b[0m\n\u001b[1;32m     14\u001b[0m \u001b[0memp2\u001b[0m\u001b[0;34m.\u001b[0m\u001b[0mget\u001b[0m\u001b[0;34m(\u001b[0m\u001b[0;34m)\u001b[0m\u001b[0;34m\u001b[0m\u001b[0m\n\u001b[1;32m     15\u001b[0m \u001b[0memp3\u001b[0m\u001b[0;34m=\u001b[0m\u001b[0mEmp\u001b[0m\u001b[0;34m(\u001b[0m\u001b[0;34m)\u001b[0m\u001b[0;34m\u001b[0m\u001b[0m\n\u001b[0;32m---> 16\u001b[0;31m \u001b[0memp3\u001b[0m\u001b[0;34m.\u001b[0m\u001b[0mget\u001b[0m\u001b[0;34m(\u001b[0m\u001b[0;34m)\u001b[0m\u001b[0;34m\u001b[0m\u001b[0m\n\u001b[0m",
      "\u001b[0;32m<ipython-input-28-6cd0308b9215>\u001b[0m in \u001b[0;36mget\u001b[0;34m(emp)\u001b[0m\n\u001b[1;32m      6\u001b[0m         \u001b[0memp\u001b[0m\u001b[0;34m.\u001b[0m\u001b[0msal\u001b[0m\u001b[0;34m=\u001b[0m\u001b[0memp_sal\u001b[0m\u001b[0;34m\u001b[0m\u001b[0m\n\u001b[1;32m      7\u001b[0m     \u001b[0;32mdef\u001b[0m \u001b[0mget\u001b[0m\u001b[0;34m(\u001b[0m\u001b[0memp\u001b[0m\u001b[0;34m)\u001b[0m\u001b[0;34m:\u001b[0m\u001b[0;34m\u001b[0m\u001b[0m\n\u001b[0;32m----> 8\u001b[0;31m         \u001b[0;32mprint\u001b[0m \u001b[0memp\u001b[0m\u001b[0;34m.\u001b[0m\u001b[0mname\u001b[0m\u001b[0;34m,\u001b[0m \u001b[0memp\u001b[0m\u001b[0;34m.\u001b[0m\u001b[0mage\u001b[0m\u001b[0;34m,\u001b[0m \u001b[0memp\u001b[0m\u001b[0;34m.\u001b[0m\u001b[0msal\u001b[0m\u001b[0;34m\u001b[0m\u001b[0m\n\u001b[0m\u001b[1;32m      9\u001b[0m \u001b[0memp1\u001b[0m\u001b[0;34m=\u001b[0m\u001b[0mEmp\u001b[0m\u001b[0;34m(\u001b[0m\u001b[0;34m)\u001b[0m\u001b[0;34m\u001b[0m\u001b[0m\n\u001b[1;32m     10\u001b[0m \u001b[0memp1\u001b[0m\u001b[0;34m.\u001b[0m\u001b[0mset_data\u001b[0m\u001b[0;34m(\u001b[0m\u001b[0;34m\"Emp1 name\"\u001b[0m\u001b[0;34m,\u001b[0m\u001b[0;36m23\u001b[0m\u001b[0;34m,\u001b[0m\u001b[0;36m1234567\u001b[0m\u001b[0;34m)\u001b[0m\u001b[0;34m\u001b[0m\u001b[0m\n",
      "\u001b[0;31mAttributeError\u001b[0m: Emp instance has no attribute 'name'"
     ]
    }
   ],
   "source": [
    "class Emp:\n",
    "    company=\"Khyaathi\"\n",
    "    def set_data(emp,emp_name,emp_age,emp_sal):\n",
    "        emp.name=emp_name\n",
    "        emp.age=emp_age\n",
    "        emp.sal=emp_sal\n",
    "    def get(emp):\n",
    "        print emp.name, emp.age, emp.sal\n",
    "emp1=Emp()\n",
    "emp1.set_data(\"Emp1 name\",23,1234567)\n",
    "emp2=Emp()\n",
    "emp2.set_data(\"Emp1 name\",23,1234567)\n",
    "emp1.get()\n",
    "emp2.get()\n",
    "emp3=Emp()\n",
    "emp3.get()"
   ]
  },
  {
   "cell_type": "code",
   "execution_count": 31,
   "metadata": {},
   "outputs": [
    {
     "name": "stdout",
     "output_type": "stream",
     "text": [
      "Emp1 name 23 1234567\n",
      "Emp1 name 23 1234567\n"
     ]
    }
   ],
   "source": [
    "class Emp:\n",
    "    company=\"Khyaathi\"\n",
    "    def set_data(self,emp_name,emp_age,emp_sal):\n",
    "        self.name=emp_name\n",
    "        self.age=emp_age\n",
    "        self.sal=emp_sal\n",
    "    def get(self):\n",
    "        print self.name, self.age, self.sal\n",
    "emp1=Emp()\n",
    "emp1.set_data(\"Emp1 name\",23,1234567)\n",
    "emp2=Emp()\n",
    "emp2.set_data(\"Emp1 name\",23,1234567)\n",
    "emp1.get()\n",
    "emp2.get()\n",
    "\n"
   ]
  },
  {
   "cell_type": "code",
   "execution_count": 32,
   "metadata": {},
   "outputs": [
    {
     "name": "stdout",
     "output_type": "stream",
     "text": [
      "Emp1 name 23 1234567\n",
      "Emp1 name 23 1234567\n"
     ]
    },
    {
     "ename": "AttributeError",
     "evalue": "Emp instance has no attribute 'name'",
     "output_type": "error",
     "traceback": [
      "\u001b[0;31m---------------------------------------------------------------------------\u001b[0m",
      "\u001b[0;31mAttributeError\u001b[0m                            Traceback (most recent call last)",
      "\u001b[0;32m<ipython-input-32-528740172a4f>\u001b[0m in \u001b[0;36m<module>\u001b[0;34m()\u001b[0m\n\u001b[1;32m     14\u001b[0m \u001b[0memp2\u001b[0m\u001b[0;34m.\u001b[0m\u001b[0mget\u001b[0m\u001b[0;34m(\u001b[0m\u001b[0;34m)\u001b[0m\u001b[0;34m\u001b[0m\u001b[0m\n\u001b[1;32m     15\u001b[0m \u001b[0memp3\u001b[0m\u001b[0;34m=\u001b[0m\u001b[0mEmp\u001b[0m\u001b[0;34m(\u001b[0m\u001b[0;34m)\u001b[0m\u001b[0;34m\u001b[0m\u001b[0m\n\u001b[0;32m---> 16\u001b[0;31m \u001b[0memp3\u001b[0m\u001b[0;34m.\u001b[0m\u001b[0mget\u001b[0m\u001b[0;34m(\u001b[0m\u001b[0;34m)\u001b[0m\u001b[0;34m\u001b[0m\u001b[0m\n\u001b[0m",
      "\u001b[0;32m<ipython-input-32-528740172a4f>\u001b[0m in \u001b[0;36mget\u001b[0;34m(self)\u001b[0m\n\u001b[1;32m      6\u001b[0m         \u001b[0mself\u001b[0m\u001b[0;34m.\u001b[0m\u001b[0msal\u001b[0m\u001b[0;34m=\u001b[0m\u001b[0memp_sal\u001b[0m\u001b[0;34m\u001b[0m\u001b[0m\n\u001b[1;32m      7\u001b[0m     \u001b[0;32mdef\u001b[0m \u001b[0mget\u001b[0m\u001b[0;34m(\u001b[0m\u001b[0mself\u001b[0m\u001b[0;34m)\u001b[0m\u001b[0;34m:\u001b[0m\u001b[0;34m\u001b[0m\u001b[0m\n\u001b[0;32m----> 8\u001b[0;31m         \u001b[0;32mprint\u001b[0m \u001b[0mself\u001b[0m\u001b[0;34m.\u001b[0m\u001b[0mname\u001b[0m\u001b[0;34m,\u001b[0m \u001b[0mself\u001b[0m\u001b[0;34m.\u001b[0m\u001b[0mage\u001b[0m\u001b[0;34m,\u001b[0m \u001b[0mself\u001b[0m\u001b[0;34m.\u001b[0m\u001b[0msal\u001b[0m\u001b[0;34m\u001b[0m\u001b[0m\n\u001b[0m\u001b[1;32m      9\u001b[0m \u001b[0memp1\u001b[0m\u001b[0;34m=\u001b[0m\u001b[0mEmp\u001b[0m\u001b[0;34m(\u001b[0m\u001b[0;34m)\u001b[0m\u001b[0;34m\u001b[0m\u001b[0m\n\u001b[1;32m     10\u001b[0m \u001b[0memp1\u001b[0m\u001b[0;34m.\u001b[0m\u001b[0mset_data\u001b[0m\u001b[0;34m(\u001b[0m\u001b[0;34m\"Emp1 name\"\u001b[0m\u001b[0;34m,\u001b[0m\u001b[0;36m23\u001b[0m\u001b[0;34m,\u001b[0m\u001b[0;36m1234567\u001b[0m\u001b[0;34m)\u001b[0m\u001b[0;34m\u001b[0m\u001b[0m\n",
      "\u001b[0;31mAttributeError\u001b[0m: Emp instance has no attribute 'name'"
     ]
    }
   ],
   "source": [
    "class Emp:\n",
    "    company=\"Khyaathi\"\n",
    "    def set_data(self,emp_name,emp_age,emp_sal):\n",
    "        self.name=emp_name\n",
    "        self.age=emp_age\n",
    "        self.sal=emp_sal\n",
    "    def get(self):\n",
    "        print self.name, self.age, self.sal\n",
    "emp1=Emp()\n",
    "emp1.set_data(\"Emp1 name\",23,1234567)\n",
    "emp2=Emp()\n",
    "emp2.set_data(\"Emp1 name\",23,1234567)\n",
    "emp1.get()\n",
    "emp2.get()\n",
    "emp3=Emp()\n",
    "emp3.get()"
   ]
  },
  {
   "cell_type": "code",
   "execution_count": 33,
   "metadata": {
    "collapsed": true
   },
   "outputs": [],
   "source": [
    "class Emp:\n",
    "    def __init__(self):\n",
    "        print \"this is constructor\"\n",
    "    def get(self):\n",
    "        print \"this is self\""
   ]
  },
  {
   "cell_type": "code",
   "execution_count": 34,
   "metadata": {},
   "outputs": [
    {
     "name": "stdout",
     "output_type": "stream",
     "text": [
      "this is constructor\n"
     ]
    }
   ],
   "source": [
    "class Emp:\n",
    "    def __init__(self):\n",
    "        print \"this is constructor\"\n",
    "    def get(self):\n",
    "        print \"this is self\"\n",
    "emp1=Emp()"
   ]
  },
  {
   "cell_type": "code",
   "execution_count": 35,
   "metadata": {},
   "outputs": [
    {
     "name": "stdout",
     "output_type": "stream",
     "text": [
      "139624302261456\n",
      "this is constructor\n",
      "139624302261456\n"
     ]
    }
   ],
   "source": [
    "class Emp:\n",
    "    def __init__(self):\n",
    "        print id(self)\n",
    "        print \"this is constructor\"\n",
    "    def get(self):\n",
    "        print \"this is self\"\n",
    "emp1=Emp()\n",
    "print id(emp1)"
   ]
  },
  {
   "cell_type": "code",
   "execution_count": 37,
   "metadata": {},
   "outputs": [
    {
     "name": "stdout",
     "output_type": "stream",
     "text": [
      "this is class\n"
     ]
    }
   ],
   "source": [
    "class Emp:\n",
    "    print \"this is class\"\n",
    "    def __init__(self):\n",
    "        print id(self)\n",
    "        print \"this is constructor\"\n",
    "    def get(self):\n",
    "        print \"this is self\"\n",
    "#emp1=Emp()\n",
    "#print id(emp1)"
   ]
  },
  {
   "cell_type": "code",
   "execution_count": 38,
   "metadata": {},
   "outputs": [
    {
     "name": "stdout",
     "output_type": "stream",
     "text": [
      "this is class\n",
      "139624302262032\n",
      "this is constructor\n",
      "139624302262392\n",
      "this is constructor\n",
      "139624302654960\n",
      "this is constructor\n"
     ]
    }
   ],
   "source": [
    "class Emp:\n",
    "    print \"this is class\"\n",
    "    def __init__(self):\n",
    "        print id(self)\n",
    "        print \"this is constructor\"\n",
    "    def get(self):\n",
    "        print \"this is self\"\n",
    "emp1=Emp()\n",
    "emp2=Emp()\n",
    "emp3=Emp()"
   ]
  },
  {
   "cell_type": "code",
   "execution_count": 39,
   "metadata": {},
   "outputs": [
    {
     "name": "stdout",
     "output_type": "stream",
     "text": [
      "this is class\n",
      "('Emp1 name', 23, 234567)\n"
     ]
    }
   ],
   "source": [
    "class Emp:\n",
    "    print \"this is class\"\n",
    "    def __init__(self,e_name,e_age,e_sal):\n",
    "        self.name=e_name\n",
    "        self.age=e_age\n",
    "        self.sal=e_sal\n",
    "    def get(self):\n",
    "        return self.name, self.age, self.sal\n",
    "emp1=Emp(\"Emp1 name\",23,234567)\n",
    "emp2=Emp(\"Emp2 name\",34,765543)\n",
    "emp3=Emp(\"Emp3 name\",45,5426776)\n",
    "print emp1.get()"
   ]
  },
  {
   "cell_type": "code",
   "execution_count": 40,
   "metadata": {},
   "outputs": [
    {
     "name": "stdout",
     "output_type": "stream",
     "text": [
      "this is class\n",
      "('Emp1 name', 23, 234567)\n",
      "('Emp2 name', 34, 765543)\n",
      "('Emp3 name', 45, 5426776)\n"
     ]
    }
   ],
   "source": [
    "class Emp:\n",
    "    print \"this is class\"\n",
    "    def __init__(self,e_name,e_age,e_sal):\n",
    "        self.name=e_name\n",
    "        self.age=e_age\n",
    "        self.sal=e_sal\n",
    "    def get(self):\n",
    "        return self.name, self.age, self.sal\n",
    "emp1=Emp(\"Emp1 name\",23,234567)\n",
    "emp2=Emp(\"Emp2 name\",34,765543)\n",
    "emp3=Emp(\"Emp3 name\",45,5426776)\n",
    "print emp1.get()\n",
    "print emp2.get()\n",
    "print emp3.get()"
   ]
  },
  {
   "cell_type": "code",
   "execution_count": 41,
   "metadata": {},
   "outputs": [
    {
     "name": "stdout",
     "output_type": "stream",
     "text": [
      "this is class\n",
      "('Emp1 name', 23, 234567)\n",
      "('Emp2 name', 34, 765543)\n",
      "('Emp3 name', 45, 5426776)\n"
     ]
    },
    {
     "ename": "TypeError",
     "evalue": "__init__() takes exactly 4 arguments (1 given)",
     "output_type": "error",
     "traceback": [
      "\u001b[0;31m---------------------------------------------------------------------------\u001b[0m",
      "\u001b[0;31mTypeError\u001b[0m                                 Traceback (most recent call last)",
      "\u001b[0;32m<ipython-input-41-291b711c6ae4>\u001b[0m in \u001b[0;36m<module>\u001b[0;34m()\u001b[0m\n\u001b[1;32m     13\u001b[0m \u001b[0;32mprint\u001b[0m \u001b[0memp2\u001b[0m\u001b[0;34m.\u001b[0m\u001b[0mget\u001b[0m\u001b[0;34m(\u001b[0m\u001b[0;34m)\u001b[0m\u001b[0;34m\u001b[0m\u001b[0m\n\u001b[1;32m     14\u001b[0m \u001b[0;32mprint\u001b[0m \u001b[0memp3\u001b[0m\u001b[0;34m.\u001b[0m\u001b[0mget\u001b[0m\u001b[0;34m(\u001b[0m\u001b[0;34m)\u001b[0m\u001b[0;34m\u001b[0m\u001b[0m\n\u001b[0;32m---> 15\u001b[0;31m \u001b[0memp4\u001b[0m\u001b[0;34m=\u001b[0m\u001b[0mEmp\u001b[0m\u001b[0;34m(\u001b[0m\u001b[0;34m)\u001b[0m\u001b[0;34m\u001b[0m\u001b[0m\n\u001b[0m",
      "\u001b[0;31mTypeError\u001b[0m: __init__() takes exactly 4 arguments (1 given)"
     ]
    }
   ],
   "source": [
    "class Emp:\n",
    "    print \"this is class\"\n",
    "    def __init__(self,e_name,e_age,e_sal):\n",
    "        self.name=e_name\n",
    "        self.age=e_age\n",
    "        self.sal=e_sal\n",
    "    def get(self):\n",
    "        return self.name, self.age, self.sal\n",
    "emp1=Emp(\"Emp1 name\",23,234567)\n",
    "emp2=Emp(\"Emp2 name\",34,765543)\n",
    "emp3=Emp(\"Emp3 name\",45,5426776)\n",
    "print emp1.get()\n",
    "print emp2.get()\n",
    "print emp3.get()\n",
    "emp4=Emp()"
   ]
  },
  {
   "cell_type": "code",
   "execution_count": 42,
   "metadata": {},
   "outputs": [
    {
     "name": "stdout",
     "output_type": "stream",
     "text": [
      "this is class\n",
      "('Emp1 name', 23, 234567)\n",
      "('Emp2 name', 34, 765543)\n",
      "('Emp3 name', 45, 5426776)\n",
      "('', 26, 30000)\n"
     ]
    }
   ],
   "source": [
    "class Emp:\n",
    "    print \"this is class\"\n",
    "    def __init__(self,e_name=\"\",e_age=26,e_sal=30000):\n",
    "        self.name=e_name\n",
    "        self.age=e_age\n",
    "        self.sal=e_sal\n",
    "    def get(self):\n",
    "        return self.name, self.age, self.sal\n",
    "emp1=Emp(\"Emp1 name\",23,234567)\n",
    "emp2=Emp(\"Emp2 name\",34,765543)\n",
    "emp3=Emp(\"Emp3 name\",45,5426776)\n",
    "print emp1.get()\n",
    "print emp2.get()\n",
    "print emp3.get()\n",
    "emp4=Emp()\n",
    "print emp4.get()"
   ]
  },
  {
   "cell_type": "code",
   "execution_count": 43,
   "metadata": {},
   "outputs": [
    {
     "name": "stdout",
     "output_type": "stream",
     "text": [
      "this is class\n"
     ]
    },
    {
     "ename": "NameError",
     "evalue": "global name 'company' is not defined",
     "output_type": "error",
     "traceback": [
      "\u001b[0;31m---------------------------------------------------------------------------\u001b[0m",
      "\u001b[0;31mNameError\u001b[0m                                 Traceback (most recent call last)",
      "\u001b[0;32m<ipython-input-43-c3a50fafba7e>\u001b[0m in \u001b[0;36m<module>\u001b[0;34m()\u001b[0m\n\u001b[1;32m     11\u001b[0m \u001b[0memp2\u001b[0m\u001b[0;34m=\u001b[0m\u001b[0mEmp\u001b[0m\u001b[0;34m(\u001b[0m\u001b[0;34m\"Emp2 name\"\u001b[0m\u001b[0;34m,\u001b[0m\u001b[0;36m34\u001b[0m\u001b[0;34m,\u001b[0m\u001b[0;36m765543\u001b[0m\u001b[0;34m)\u001b[0m\u001b[0;34m\u001b[0m\u001b[0m\n\u001b[1;32m     12\u001b[0m \u001b[0memp3\u001b[0m\u001b[0;34m=\u001b[0m\u001b[0mEmp\u001b[0m\u001b[0;34m(\u001b[0m\u001b[0;34m\"Emp3 name\"\u001b[0m\u001b[0;34m,\u001b[0m\u001b[0;36m45\u001b[0m\u001b[0;34m,\u001b[0m\u001b[0;36m5426776\u001b[0m\u001b[0;34m)\u001b[0m\u001b[0;34m\u001b[0m\u001b[0m\n\u001b[0;32m---> 13\u001b[0;31m \u001b[0;32mprint\u001b[0m \u001b[0memp1\u001b[0m\u001b[0;34m.\u001b[0m\u001b[0mget\u001b[0m\u001b[0;34m(\u001b[0m\u001b[0;34m)\u001b[0m\u001b[0;34m\u001b[0m\u001b[0m\n\u001b[0m\u001b[1;32m     14\u001b[0m \u001b[0;32mprint\u001b[0m \u001b[0memp2\u001b[0m\u001b[0;34m.\u001b[0m\u001b[0mget\u001b[0m\u001b[0;34m(\u001b[0m\u001b[0;34m)\u001b[0m\u001b[0;34m\u001b[0m\u001b[0m\n\u001b[1;32m     15\u001b[0m \u001b[0;32mprint\u001b[0m \u001b[0memp3\u001b[0m\u001b[0;34m.\u001b[0m\u001b[0mget\u001b[0m\u001b[0;34m(\u001b[0m\u001b[0;34m)\u001b[0m\u001b[0;34m\u001b[0m\u001b[0m\n",
      "\u001b[0;32m<ipython-input-43-c3a50fafba7e>\u001b[0m in \u001b[0;36mget\u001b[0;34m(self)\u001b[0m\n\u001b[1;32m      7\u001b[0m         \u001b[0mself\u001b[0m\u001b[0;34m.\u001b[0m\u001b[0msal\u001b[0m\u001b[0;34m=\u001b[0m\u001b[0me_sal\u001b[0m\u001b[0;34m\u001b[0m\u001b[0m\n\u001b[1;32m      8\u001b[0m     \u001b[0;32mdef\u001b[0m \u001b[0mget\u001b[0m\u001b[0;34m(\u001b[0m\u001b[0mself\u001b[0m\u001b[0;34m)\u001b[0m\u001b[0;34m:\u001b[0m\u001b[0;34m\u001b[0m\u001b[0m\n\u001b[0;32m----> 9\u001b[0;31m         \u001b[0;32mreturn\u001b[0m \u001b[0mself\u001b[0m\u001b[0;34m.\u001b[0m\u001b[0mname\u001b[0m\u001b[0;34m,\u001b[0m \u001b[0mself\u001b[0m\u001b[0;34m.\u001b[0m\u001b[0mage\u001b[0m\u001b[0;34m,\u001b[0m \u001b[0mself\u001b[0m\u001b[0;34m.\u001b[0m\u001b[0msal\u001b[0m\u001b[0;34m,\u001b[0m\u001b[0mcompany\u001b[0m\u001b[0;34m\u001b[0m\u001b[0m\n\u001b[0m\u001b[1;32m     10\u001b[0m \u001b[0memp1\u001b[0m\u001b[0;34m=\u001b[0m\u001b[0mEmp\u001b[0m\u001b[0;34m(\u001b[0m\u001b[0;34m\"Emp1 name\"\u001b[0m\u001b[0;34m,\u001b[0m\u001b[0;36m23\u001b[0m\u001b[0;34m,\u001b[0m\u001b[0;36m234567\u001b[0m\u001b[0;34m)\u001b[0m\u001b[0;34m\u001b[0m\u001b[0m\n\u001b[1;32m     11\u001b[0m \u001b[0memp2\u001b[0m\u001b[0;34m=\u001b[0m\u001b[0mEmp\u001b[0m\u001b[0;34m(\u001b[0m\u001b[0;34m\"Emp2 name\"\u001b[0m\u001b[0;34m,\u001b[0m\u001b[0;36m34\u001b[0m\u001b[0;34m,\u001b[0m\u001b[0;36m765543\u001b[0m\u001b[0;34m)\u001b[0m\u001b[0;34m\u001b[0m\u001b[0m\n",
      "\u001b[0;31mNameError\u001b[0m: global name 'company' is not defined"
     ]
    }
   ],
   "source": [
    "class Emp:\n",
    "    print \"this is class\"\n",
    "    company=\"KHYAATHI\"\n",
    "    print company\n",
    "    def __init__(self,e_name=\"\",e_age=26,e_sal=30000):\n",
    "        self.name=e_name\n",
    "        self.age=e_age\n",
    "        self.sal=e_sal\n",
    "    def get(self):\n",
    "        return self.name, self.age, self.sal,company\n",
    "emp1=Emp(\"Emp1 name\",23,234567)\n",
    "emp2=Emp(\"Emp2 name\",34,765543)\n",
    "emp3=Emp(\"Emp3 name\",45,5426776)\n",
    "print emp1.get()\n",
    "print emp2.get()\n",
    "print emp3.get()\n",
    "emp4=Emp()\n",
    "print emp4.get()"
   ]
  },
  {
   "cell_type": "code",
   "execution_count": 45,
   "metadata": {},
   "outputs": [
    {
     "name": "stdout",
     "output_type": "stream",
     "text": [
      "this is class\n",
      "KHYAATHI\n",
      "('Emp1 name', 23, 234567, 'KHYAATHI')\n",
      "('Emp2 name', 34, 765543, 'KHYAATHI')\n",
      "('Emp3 name', 45, 5426776, 'KHYAATHI')\n",
      "('', 26, 30000, 'KHYAATHI')\n"
     ]
    }
   ],
   "source": [
    "class Emp:\n",
    "    print \"this is class\"\n",
    "    company=\"KHYAATHI\"\n",
    "    print company\n",
    "    def __init__(self,e_name=\"\",e_age=26,e_sal=30000):\n",
    "        self.name=e_name\n",
    "        self.age=e_age\n",
    "        self.sal=e_sal\n",
    "    def get(self):\n",
    "        return self.name, self.age, self.sal, self.company\n",
    "emp1=Emp(\"Emp1 name\",23,234567)\n",
    "emp2=Emp(\"Emp2 name\",34,765543)\n",
    "emp3=Emp(\"Emp3 name\",45,5426776)\n",
    "print emp1.get()\n",
    "print emp2.get()\n",
    "print emp3.get()\n",
    "emp4=Emp()\n",
    "print emp4.get()"
   ]
  },
  {
   "cell_type": "code",
   "execution_count": 47,
   "metadata": {},
   "outputs": [
    {
     "name": "stdout",
     "output_type": "stream",
     "text": [
      "this is class\n",
      "KHYAATHI\n"
     ]
    },
    {
     "ename": "NameError",
     "evalue": "global name 'cal_sal' is not defined",
     "output_type": "error",
     "traceback": [
      "\u001b[0;31m---------------------------------------------------------------------------\u001b[0m",
      "\u001b[0;31mNameError\u001b[0m                                 Traceback (most recent call last)",
      "\u001b[0;32m<ipython-input-47-e847a709bb89>\u001b[0m in \u001b[0;36m<module>\u001b[0;34m()\u001b[0m\n\u001b[1;32m     13\u001b[0m     \u001b[0;32mdef\u001b[0m \u001b[0mget\u001b[0m\u001b[0;34m(\u001b[0m\u001b[0mself\u001b[0m\u001b[0;34m)\u001b[0m\u001b[0;34m:\u001b[0m\u001b[0;34m\u001b[0m\u001b[0m\n\u001b[1;32m     14\u001b[0m         \u001b[0;32mreturn\u001b[0m \u001b[0mself\u001b[0m\u001b[0;34m.\u001b[0m\u001b[0mname\u001b[0m\u001b[0;34m,\u001b[0m \u001b[0mself\u001b[0m\u001b[0;34m.\u001b[0m\u001b[0mage\u001b[0m\u001b[0;34m,\u001b[0m \u001b[0mself\u001b[0m\u001b[0;34m.\u001b[0m\u001b[0msal\u001b[0m\u001b[0;34m,\u001b[0m \u001b[0mself\u001b[0m\u001b[0;34m.\u001b[0m\u001b[0mcompany\u001b[0m\u001b[0;34m,\u001b[0m\u001b[0mself\u001b[0m\u001b[0;34m.\u001b[0m\u001b[0mu_sal\u001b[0m\u001b[0;34m\u001b[0m\u001b[0m\n\u001b[0;32m---> 15\u001b[0;31m \u001b[0memp1\u001b[0m\u001b[0;34m=\u001b[0m\u001b[0mEmp\u001b[0m\u001b[0;34m(\u001b[0m\u001b[0;34m\"Emp1 name\"\u001b[0m\u001b[0;34m,\u001b[0m\u001b[0;36m23\u001b[0m\u001b[0;34m,\u001b[0m\u001b[0;36m234567\u001b[0m\u001b[0;34m,\u001b[0m\u001b[0;36m10\u001b[0m\u001b[0;34m)\u001b[0m\u001b[0;34m\u001b[0m\u001b[0m\n\u001b[0m\u001b[1;32m     16\u001b[0m \u001b[0memp2\u001b[0m\u001b[0;34m=\u001b[0m\u001b[0mEmp\u001b[0m\u001b[0;34m(\u001b[0m\u001b[0;34m\"Emp2 name\"\u001b[0m\u001b[0;34m,\u001b[0m\u001b[0;36m34\u001b[0m\u001b[0;34m,\u001b[0m\u001b[0;36m765543\u001b[0m\u001b[0;34m,\u001b[0m\u001b[0;36m20\u001b[0m\u001b[0;34m)\u001b[0m\u001b[0;34m\u001b[0m\u001b[0m\n\u001b[1;32m     17\u001b[0m \u001b[0memp3\u001b[0m\u001b[0;34m=\u001b[0m\u001b[0mEmp\u001b[0m\u001b[0;34m(\u001b[0m\u001b[0;34m\"Emp3 name\"\u001b[0m\u001b[0;34m,\u001b[0m\u001b[0;36m45\u001b[0m\u001b[0;34m,\u001b[0m\u001b[0;36m5426776\u001b[0m\u001b[0;34m,\u001b[0m\u001b[0;36m30\u001b[0m\u001b[0;34m)\u001b[0m\u001b[0;34m\u001b[0m\u001b[0m\n",
      "\u001b[0;32m<ipython-input-47-e847a709bb89>\u001b[0m in \u001b[0;36m__init__\u001b[0;34m(self, e_name, e_age, e_sal, incp)\u001b[0m\n\u001b[1;32m      8\u001b[0m         \u001b[0mself\u001b[0m\u001b[0;34m.\u001b[0m\u001b[0msal\u001b[0m\u001b[0;34m=\u001b[0m\u001b[0me_sal\u001b[0m\u001b[0;34m\u001b[0m\u001b[0m\n\u001b[1;32m      9\u001b[0m         \u001b[0mself\u001b[0m\u001b[0;34m.\u001b[0m\u001b[0mincp\u001b[0m\u001b[0;34m=\u001b[0m\u001b[0mincp\u001b[0m\u001b[0;34m\u001b[0m\u001b[0m\n\u001b[0;32m---> 10\u001b[0;31m         \u001b[0mself\u001b[0m\u001b[0;34m.\u001b[0m\u001b[0mu_sal\u001b[0m\u001b[0;34m=\u001b[0m\u001b[0mcal_sal\u001b[0m\u001b[0;34m(\u001b[0m\u001b[0;34m)\u001b[0m\u001b[0;34m\u001b[0m\u001b[0m\n\u001b[0m\u001b[1;32m     11\u001b[0m     \u001b[0;32mdef\u001b[0m \u001b[0mcal_sal\u001b[0m\u001b[0;34m(\u001b[0m\u001b[0mself\u001b[0m\u001b[0;34m)\u001b[0m\u001b[0;34m:\u001b[0m\u001b[0;34m\u001b[0m\u001b[0m\n\u001b[1;32m     12\u001b[0m         \u001b[0;32mreturn\u001b[0m \u001b[0mself\u001b[0m\u001b[0;34m.\u001b[0m\u001b[0msal\u001b[0m\u001b[0;34m+\u001b[0m\u001b[0;34m(\u001b[0m\u001b[0msale\u001b[0m\u001b[0;34m.\u001b[0m\u001b[0mincp\u001b[0m\u001b[0;34m/\u001b[0m\u001b[0;36m100.0\u001b[0m\u001b[0;34m)\u001b[0m\u001b[0;34m*\u001b[0m\u001b[0mself\u001b[0m\u001b[0;34m.\u001b[0m\u001b[0msal\u001b[0m\u001b[0;34m\u001b[0m\u001b[0m\n",
      "\u001b[0;31mNameError\u001b[0m: global name 'cal_sal' is not defined"
     ]
    }
   ],
   "source": [
    "class Emp:\n",
    "    print \"this is class\"\n",
    "    company=\"KHYAATHI\"\n",
    "    print company\n",
    "    def __init__(self,e_name=\"\",e_age=26,e_sal=30000,incp=0):\n",
    "        self.name=e_name\n",
    "        self.age=e_age\n",
    "        self.sal=e_sal\n",
    "        self.incp=incp\n",
    "        self.u_sal=cal_sal()\n",
    "    def cal_sal(self):\n",
    "        return self.sal+(sale.incp/100.0)*self.sal\n",
    "    def get(self):\n",
    "        return self.name, self.age, self.sal, self.company,self.u_sal\n",
    "emp1=Emp(\"Emp1 name\",23,234567,10)\n",
    "emp2=Emp(\"Emp2 name\",34,765543,20)\n",
    "emp3=Emp(\"Emp3 name\",45,5426776,30)\n",
    "print emp1.get()\n",
    "print emp2.get()\n",
    "print emp3.get()\n",
    "emp4=Emp()\n",
    "print emp4.get()"
   ]
  },
  {
   "cell_type": "code",
   "execution_count": 49,
   "metadata": {},
   "outputs": [
    {
     "name": "stdout",
     "output_type": "stream",
     "text": [
      "this is class\n",
      "KHYAATHI\n",
      "('Emp1 name', 23, 234567, 'KHYAATHI', 258023.7)\n",
      "('Emp2 name', 34, 765543, 'KHYAATHI', 918651.6)\n",
      "('Emp3 name', 45, 5426776, 'KHYAATHI', 7054808.8)\n",
      "('', 26, 30000, 'KHYAATHI', 30000.0)\n"
     ]
    }
   ],
   "source": [
    "class Emp:\n",
    "    print \"this is class\"\n",
    "    company=\"KHYAATHI\"\n",
    "    print company\n",
    "    def __init__(self,e_name=\"\",e_age=26,e_sal=30000,incp=0):\n",
    "        self.name=e_name\n",
    "        self.age=e_age\n",
    "        self.sal=e_sal\n",
    "        self.incp=incp\n",
    "        self.u_sal=self.cal_sal()\n",
    "    def cal_sal(self):\n",
    "        return self.sal+(self.incp/100.0)*self.sal\n",
    "    def get(self):\n",
    "        return self.name, self.age, self.sal, self.company,self.u_sal\n",
    "emp1=Emp(\"Emp1 name\",23,234567,10)\n",
    "emp2=Emp(\"Emp2 name\",34,765543,20)\n",
    "emp3=Emp(\"Emp3 name\",45,5426776,30)\n",
    "print emp1.get()\n",
    "print emp2.get()\n",
    "print emp3.get()\n",
    "emp4=Emp()\n",
    "print emp4.get()"
   ]
  },
  {
   "cell_type": "code",
   "execution_count": 50,
   "metadata": {},
   "outputs": [
    {
     "name": "stdout",
     "output_type": "stream",
     "text": [
      "this is class\n",
      "KHYAATHI\n",
      "('Emp1 name', 23, 234567, 100, 'KHYAATHI', 258023.7)\n",
      "('Emp2 name', 34, 765543, 20, 'KHYAATHI', 918651.6)\n",
      "('Emp3 name', 45, 5426776, 30, 'KHYAATHI', 7054808.8)\n",
      "('', 26, 30000, 0, 'KHYAATHI', 30000.0)\n"
     ]
    }
   ],
   "source": [
    "class Emp:\n",
    "    print \"this is class\"\n",
    "    company=\"KHYAATHI\"\n",
    "    print company\n",
    "    def __init__(self,e_name=\"\",e_age=26,e_sal=30000,incp=0):\n",
    "        self.name=e_name\n",
    "        self.age=e_age\n",
    "        self.sal=e_sal\n",
    "        self.incp=incp\n",
    "        self.u_sal=self.cal_sal()\n",
    "    def cal_sal(self):\n",
    "        return self.sal+(self.incp/100.0)*self.sal\n",
    "    def get(self):\n",
    "        return self.name, self.age, self.sal,self.incp,self.company,self.u_sal\n",
    "emp1=Emp(\"Emp1 name\",23,234567,10)\n",
    "emp2=Emp(\"Emp2 name\",34,765543,20)\n",
    "emp3=Emp(\"Emp3 name\",45,5426776,30)\n",
    "if emp1.name==\"Emp1 name\":\n",
    "    emp1.incp=100\n",
    "print emp1.get()\n",
    "print emp2.get()\n",
    "print emp3.get()\n",
    "emp4=Emp()\n",
    "print emp4.get()"
   ]
  },
  {
   "cell_type": "code",
   "execution_count": 52,
   "metadata": {},
   "outputs": [
    {
     "name": "stdout",
     "output_type": "stream",
     "text": [
      "this is class\n",
      "KHYAATHI\n",
      "('Emp1 name', 23, 234567, 10, 'KHYAATHI', 258023.7)\n",
      "('Emp2 name', 34, 765543, 20, 'KHYAATHI', 918651.6)\n",
      "('Emp3 name', 45, 5426776, 30, 'KHYAATHI', 7054808.8)\n",
      "('', 26, 30000, 0, 'KHYAATHI', 30000.0)\n"
     ]
    }
   ],
   "source": [
    "class Emp:\n",
    "    print \"this is class\"\n",
    "    company=\"KHYAATHI\"\n",
    "    print company\n",
    "    def __init__(self,e_name=\"\",e_age=26,e_sal=30000,incp=0):\n",
    "        self.name=e_name\n",
    "        self.age=e_age\n",
    "        self.sal=e_sal\n",
    "        self.__incp=incp\n",
    "        self.u_sal=self.cal_sal()\n",
    "    def cal_sal(self):\n",
    "        return self.sal+(self.__incp/100.0)*self.sal\n",
    "    def get(self):\n",
    "        return self.name, self.age, self.sal,self.__incp,self.company,self.u_sal\n",
    "emp1=Emp(\"Emp1 name\",23,234567,10)\n",
    "emp2=Emp(\"Emp2 name\",34,765543,20)\n",
    "emp3=Emp(\"Emp3 name\",45,5426776,30)\n",
    "if emp1.name==\"Emp1 name\":\n",
    "    emp1.__incp=100\n",
    "print emp1.get()\n",
    "print emp2.get()\n",
    "print emp3.get()\n",
    "emp4=Emp()\n",
    "print emp4.get()"
   ]
  },
  {
   "cell_type": "code",
   "execution_count": 53,
   "metadata": {},
   "outputs": [
    {
     "ename": "AttributeError",
     "evalue": "Emp instance has no attribute '__sec'",
     "output_type": "error",
     "traceback": [
      "\u001b[0;31m---------------------------------------------------------------------------\u001b[0m",
      "\u001b[0;31mAttributeError\u001b[0m                            Traceback (most recent call last)",
      "\u001b[0;32m<ipython-input-53-c17069e68347>\u001b[0m in \u001b[0;36m<module>\u001b[0;34m()\u001b[0m\n\u001b[1;32m      3\u001b[0m         \u001b[0;32mprint\u001b[0m \u001b[0;34m\"this is secured method\"\u001b[0m\u001b[0;34m\u001b[0m\u001b[0m\n\u001b[1;32m      4\u001b[0m \u001b[0me1\u001b[0m\u001b[0;34m=\u001b[0m\u001b[0mEmp\u001b[0m\u001b[0;34m(\u001b[0m\u001b[0;34m)\u001b[0m\u001b[0;34m\u001b[0m\u001b[0m\n\u001b[0;32m----> 5\u001b[0;31m \u001b[0me1\u001b[0m\u001b[0;34m.\u001b[0m\u001b[0m__sec\u001b[0m\u001b[0;34m(\u001b[0m\u001b[0;34m)\u001b[0m\u001b[0;34m\u001b[0m\u001b[0m\n\u001b[0m",
      "\u001b[0;31mAttributeError\u001b[0m: Emp instance has no attribute '__sec'"
     ]
    }
   ],
   "source": [
    "class Emp:\n",
    "    def __sec(self):\n",
    "        print \"this is secured method\"\n",
    "e1=Emp()\n",
    "e1.__sec()"
   ]
  },
  {
   "cell_type": "code",
   "execution_count": 55,
   "metadata": {},
   "outputs": [
    {
     "name": "stdout",
     "output_type": "stream",
     "text": [
      "this is secured method\n"
     ]
    }
   ],
   "source": [
    "class Emp:\n",
    "    def __sec__(self):\n",
    "        print \"this is secured method\"\n",
    "e1=Emp()\n",
    "e1.__sec__()"
   ]
  },
  {
   "cell_type": "code",
   "execution_count": 57,
   "metadata": {},
   "outputs": [
    {
     "name": "stdout",
     "output_type": "stream",
     "text": [
      "this is secured method\n"
     ]
    }
   ],
   "source": [
    "class Emp:\n",
    "    def __init__(self):\n",
    "        self.__sec()\n",
    "    def __sec(self):\n",
    "        print \"this is secured method\"\n",
    "e1=Emp()"
   ]
  },
  {
   "cell_type": "code",
   "execution_count": null,
   "metadata": {
    "collapsed": true
   },
   "outputs": [],
   "source": []
  }
 ],
 "metadata": {
  "kernelspec": {
   "display_name": "Python 2",
   "language": "python",
   "name": "python2"
  },
  "language_info": {
   "codemirror_mode": {
    "name": "ipython",
    "version": 2
   },
   "file_extension": ".py",
   "mimetype": "text/x-python",
   "name": "python",
   "nbconvert_exporter": "python",
   "pygments_lexer": "ipython2",
   "version": "2.7.14"
  }
 },
 "nbformat": 4,
 "nbformat_minor": 2
}
