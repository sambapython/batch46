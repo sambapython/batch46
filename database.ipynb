{
 "cells": [
  {
   "cell_type": "code",
   "execution_count": 1,
   "metadata": {
    "collapsed": true
   },
   "outputs": [],
   "source": [
    "import sqlite3"
   ]
  },
  {
   "cell_type": "code",
   "execution_count": 2,
   "metadata": {
    "collapsed": true
   },
   "outputs": [],
   "source": [
    "con= sqlite3.connect(\"db1.db\")"
   ]
  },
  {
   "cell_type": "code",
   "execution_count": 3,
   "metadata": {
    "collapsed": true
   },
   "outputs": [],
   "source": [
    "cur=con.cursor()"
   ]
  },
  {
   "cell_type": "code",
   "execution_count": 4,
   "metadata": {},
   "outputs": [
    {
     "data": {
      "text/plain": [
       "<sqlite3.Cursor at 0x7f8a161e3a40>"
      ]
     },
     "execution_count": 4,
     "metadata": {},
     "output_type": "execute_result"
    }
   ],
   "source": [
    "cur.execute(\"create table customer(id int, name varchar(250))\")"
   ]
  },
  {
   "cell_type": "code",
   "execution_count": 6,
   "metadata": {},
   "outputs": [
    {
     "data": {
      "text/plain": [
       "<sqlite3.Cursor at 0x7f8a161e3a40>"
      ]
     },
     "execution_count": 6,
     "metadata": {},
     "output_type": "execute_result"
    }
   ],
   "source": [
    "q=\"insert into customer(id,name) values(1,'name1')\"\n",
    "cur.execute(q)"
   ]
  },
  {
   "cell_type": "code",
   "execution_count": 7,
   "metadata": {
    "collapsed": true
   },
   "outputs": [],
   "source": [
    "con.commit()"
   ]
  },
  {
   "cell_type": "code",
   "execution_count": 8,
   "metadata": {},
   "outputs": [
    {
     "name": "stdout",
     "output_type": "stream",
     "text": [
      "insert into customer(id,name) values(0,'jay')\n"
     ]
    }
   ],
   "source": [
    "import random\n",
    "names=[\"pavan\",\"rajesh\",\"jay\",\"sathish\",\"Naresh\"]\n",
    "for i in xrange(100):\n",
    "    q=\"insert into customer(id,name) values(%s,'%s')\"%(i,random.choice(names))\n",
    "    print q\n",
    "    break"
   ]
  },
  {
   "cell_type": "code",
   "execution_count": 9,
   "metadata": {
    "collapsed": true
   },
   "outputs": [],
   "source": [
    "import random\n",
    "names=[\"pavan\",\"rajesh\",\"jay\",\"sathish\",\"Naresh\"]\n",
    "for i in xrange(100):\n",
    "    q=\"insert into customer(id,name) values(%s,'%s')\"%(i,random.choice(names))\n",
    "    cur.execute(q)\n",
    "con.commit()"
   ]
  },
  {
   "cell_type": "code",
   "execution_count": 11,
   "metadata": {},
   "outputs": [
    {
     "data": {
      "text/plain": [
       "<sqlite3.Cursor at 0x7f8a161e3a40>"
      ]
     },
     "execution_count": 11,
     "metadata": {},
     "output_type": "execute_result"
    }
   ],
   "source": [
    "q=\"select * from customer\"\n",
    "cur.execute(q)"
   ]
  },
  {
   "cell_type": "code",
   "execution_count": 12,
   "metadata": {},
   "outputs": [
    {
     "name": "stdout",
     "output_type": "stream",
     "text": [
      "[(1, u'name1'), (0, u'jay'), (1, u'sathish'), (2, u'rajesh'), (3, u'pavan'), (4, u'Naresh'), (5, u'sathish'), (6, u'pavan'), (7, u'pavan'), (8, u'sathish'), (9, u'sathish'), (10, u'sathish'), (11, u'pavan'), (12, u'Naresh'), (13, u'pavan'), (14, u'sathish'), (15, u'Naresh'), (16, u'jay'), (17, u'sathish'), (18, u'jay'), (19, u'Naresh'), (20, u'jay'), (21, u'rajesh'), (22, u'jay'), (23, u'jay'), (24, u'rajesh'), (25, u'pavan'), (26, u'Naresh'), (27, u'sathish'), (28, u'rajesh'), (29, u'Naresh'), (30, u'Naresh'), (31, u'pavan'), (32, u'sathish'), (33, u'jay'), (34, u'rajesh'), (35, u'jay'), (36, u'sathish'), (37, u'jay'), (38, u'rajesh'), (39, u'Naresh'), (40, u'sathish'), (41, u'rajesh'), (42, u'Naresh'), (43, u'jay'), (44, u'Naresh'), (45, u'Naresh'), (46, u'pavan'), (47, u'Naresh'), (48, u'jay'), (49, u'pavan'), (50, u'pavan'), (51, u'sathish'), (52, u'pavan'), (53, u'rajesh'), (54, u'pavan'), (55, u'sathish'), (56, u'rajesh'), (57, u'jay'), (58, u'rajesh'), (59, u'rajesh'), (60, u'pavan'), (61, u'sathish'), (62, u'sathish'), (63, u'Naresh'), (64, u'rajesh'), (65, u'rajesh'), (66, u'sathish'), (67, u'sathish'), (68, u'sathish'), (69, u'Naresh'), (70, u'Naresh'), (71, u'jay'), (72, u'jay'), (73, u'sathish'), (74, u'jay'), (75, u'jay'), (76, u'Naresh'), (77, u'jay'), (78, u'pavan'), (79, u'pavan'), (80, u'pavan'), (81, u'rajesh'), (82, u'jay'), (83, u'sathish'), (84, u'rajesh'), (85, u'sathish'), (86, u'rajesh'), (87, u'Naresh'), (88, u'rajesh'), (89, u'jay'), (90, u'rajesh'), (91, u'jay'), (92, u'sathish'), (93, u'rajesh'), (94, u'jay'), (95, u'Naresh'), (96, u'pavan'), (97, u'rajesh'), (98, u'Naresh'), (99, u'Naresh')]\n"
     ]
    }
   ],
   "source": [
    "data= cur.fetchall()\n",
    "print data"
   ]
  },
  {
   "cell_type": "code",
   "execution_count": 13,
   "metadata": {},
   "outputs": [
    {
     "name": "stdout",
     "output_type": "stream",
     "text": [
      "Enter id of the person:4\n",
      "(4, u'Naresh')\n"
     ]
    }
   ],
   "source": [
    "e_id = raw_input(\"Enter id of the person:\")\n",
    "q=\"select * from customer where id=%s\"%e_id\n",
    "cur.execute(q)\n",
    "print cur.fetchone()"
   ]
  },
  {
   "cell_type": "code",
   "execution_count": 14,
   "metadata": {},
   "outputs": [
    {
     "name": "stdout",
     "output_type": "stream",
     "text": [
      "Enter id of the person:6\n",
      "(6, u'pavan')\n"
     ]
    }
   ],
   "source": [
    "e_id = raw_input(\"Enter id of the person:\")\n",
    "q=\"select * from customer where id=%s\"%e_id\n",
    "cur.execute(q)\n",
    "print cur.fetchone()"
   ]
  },
  {
   "cell_type": "code",
   "execution_count": 15,
   "metadata": {},
   "outputs": [
    {
     "name": "stdout",
     "output_type": "stream",
     "text": [
      "Enter id of the person:8\n",
      "(8, u'sathish')\n"
     ]
    }
   ],
   "source": [
    "e_id = raw_input(\"Enter id of the person:\")\n",
    "q=\"select * from customer where id=%s\"%e_id\n",
    "cur.execute(q)\n",
    "print cur.fetchone()"
   ]
  },
  {
   "cell_type": "code",
   "execution_count": 16,
   "metadata": {},
   "outputs": [
    {
     "name": "stdout",
     "output_type": "stream",
     "text": [
      "[(1, u'name1'), (0, u'jay'), (1, u'sathish'), (2, u'rajesh'), (3, u'pavan'), (4, u'Naresh'), (5, u'sathish'), (6, u'pavan'), (7, u'pavan'), (8, u'sathish'), (9, u'sathish'), (10, u'sathish'), (11, u'pavan'), (12, u'Naresh'), (13, u'pavan'), (14, u'sathish'), (15, u'Naresh'), (16, u'jay'), (17, u'sathish'), (18, u'jay'), (19, u'Naresh'), (20, u'jay'), (21, u'rajesh'), (22, u'jay'), (23, u'jay'), (24, u'rajesh'), (25, u'pavan'), (26, u'Naresh'), (27, u'sathish'), (28, u'rajesh'), (29, u'Naresh'), (30, u'Naresh'), (31, u'pavan'), (32, u'sathish'), (33, u'jay'), (34, u'rajesh'), (35, u'jay'), (36, u'sathish'), (37, u'jay'), (38, u'rajesh'), (39, u'Naresh'), (40, u'sathish'), (41, u'rajesh'), (42, u'Naresh'), (43, u'jay'), (44, u'Naresh'), (45, u'Naresh'), (46, u'pavan'), (47, u'Naresh'), (48, u'jay'), (49, u'pavan'), (50, u'pavan'), (51, u'sathish'), (52, u'pavan'), (53, u'rajesh'), (54, u'pavan'), (55, u'sathish'), (56, u'rajesh'), (57, u'jay'), (58, u'rajesh'), (59, u'rajesh'), (60, u'pavan'), (61, u'sathish'), (62, u'sathish'), (63, u'Naresh'), (64, u'rajesh'), (65, u'rajesh'), (66, u'sathish'), (67, u'sathish'), (68, u'sathish'), (69, u'Naresh'), (70, u'Naresh'), (71, u'jay'), (72, u'jay'), (73, u'sathish'), (74, u'jay'), (75, u'jay'), (76, u'Naresh'), (77, u'jay'), (78, u'pavan'), (79, u'pavan'), (80, u'pavan'), (81, u'rajesh'), (82, u'jay'), (83, u'sathish'), (84, u'rajesh'), (85, u'sathish'), (86, u'rajesh'), (87, u'Naresh'), (88, u'rajesh'), (89, u'jay'), (90, u'rajesh'), (91, u'jay'), (92, u'sathish'), (93, u'rajesh'), (94, u'jay'), (95, u'Naresh'), (96, u'pavan'), (97, u'rajesh'), (98, u'Naresh'), (99, u'Naresh')]\n",
      "********************\n",
      "[(10, u'sathish')]\n"
     ]
    }
   ],
   "source": [
    "def browse(e_id=None):\n",
    "    q=\"select * from customer\"\n",
    "    if e_id:\n",
    "        q=q+\" where id=%s\"%e_id\n",
    "    cur.execute(q)\n",
    "    return cur.fetchall()\n",
    "print browse()\n",
    "print \"*\"*20\n",
    "print browse(10)\n",
    "    "
   ]
  },
  {
   "cell_type": "code",
   "execution_count": 17,
   "metadata": {
    "collapsed": true
   },
   "outputs": [],
   "source": [
    "def browse(e_id=None):\n",
    "    q=\"select * from customer\"\n",
    "    if e_id:\n",
    "        q=q+\" where id=%s\"%e_id\n",
    "    cur.execute(q)\n",
    "    return cur.fetchall()\n",
    "q=\"update customer set name='mod_name' where id=10\"\n",
    "cur.execute(q)\n",
    "con.commit()"
   ]
  },
  {
   "cell_type": "code",
   "execution_count": 18,
   "metadata": {},
   "outputs": [
    {
     "name": "stdout",
     "output_type": "stream",
     "text": [
      "[(10, u'mod_name')]\n"
     ]
    }
   ],
   "source": [
    "def browse(e_id=None):\n",
    "    q=\"select * from customer\"\n",
    "    if e_id:\n",
    "        q=q+\" where id=%s\"%e_id\n",
    "    cur.execute(q)\n",
    "    return cur.fetchall()\n",
    "print browse(10)"
   ]
  },
  {
   "cell_type": "code",
   "execution_count": 19,
   "metadata": {},
   "outputs": [
    {
     "name": "stdout",
     "output_type": "stream",
     "text": [
      "Enter id:11\n",
      "[(11, u'pavan')]\n",
      "want to update the record?(y/n)y\n",
      "Enter name of the person:pavan_changed\n",
      "********************\n",
      "[(11, u'pavan_changed')]\n"
     ]
    }
   ],
   "source": [
    "def browse(e_id=None):\n",
    "    q=\"select * from customer\"\n",
    "    if e_id:\n",
    "        q=q+\" where id=%s\"%e_id\n",
    "    cur.execute(q)\n",
    "    return cur.fetchall()\n",
    "e_id=raw_input(\"Enter id:\")\n",
    "print browse(e_id)\n",
    "opt=raw_input(\"want to update the record?(y/n)\")\n",
    "if opt.lower()==\"y\":\n",
    "    name=raw_input(\"Enter name of the person:\")\n",
    "    q=\"update customer set name='%s' where id=%s\"%(name, e_id)\n",
    "    cur.execute(q)\n",
    "    con.commit()\n",
    "    print \"*\"*20\n",
    "    print browse(e_id)\n",
    "else:\n",
    "    print \"No operation..\""
   ]
  },
  {
   "cell_type": "code",
   "execution_count": 20,
   "metadata": {},
   "outputs": [
    {
     "name": "stdout",
     "output_type": "stream",
     "text": [
      "Enter id:11\n",
      "[(11, u'pavan_changed')]\n",
      "want to update the record?(y/n)y\n",
      "********************\n",
      "[]\n"
     ]
    }
   ],
   "source": [
    "def browse(e_id=None):\n",
    "    q=\"select * from customer\"\n",
    "    if e_id:\n",
    "        q=q+\" where id=%s\"%e_id\n",
    "    cur.execute(q)\n",
    "    return cur.fetchall()\n",
    "e_id=raw_input(\"Enter id:\")\n",
    "print browse(e_id)\n",
    "opt=raw_input(\"want to delete the record?(y/n)\")\n",
    "if opt.lower()==\"y\":\n",
    "    q=\"delete from customer where id=%s\"%e_id\n",
    "    cur.execute(q)\n",
    "    con.commit()\n",
    "    print \"*\"*20\n",
    "    print browse(e_id)\n",
    "else:\n",
    "    print \"No operation..\""
   ]
  },
  {
   "cell_type": "code",
   "execution_count": 21,
   "metadata": {
    "collapsed": true
   },
   "outputs": [],
   "source": [
    "import psycopg2"
   ]
  },
  {
   "cell_type": "code",
   "execution_count": 22,
   "metadata": {
    "collapsed": true
   },
   "outputs": [],
   "source": [
    "con=psycopg2.connect(host=\"localhost\",\n",
    "                     user=\"postgres\",\n",
    "                     password=\"root\",\n",
    "                    database=\"batch46\",\n",
    "                    port=5432)\n",
    "cur=con.cursor()\n",
    "cur.execute(\"create table customer(id int, name varchar(250))\")\n",
    "import random\n",
    "names=[\"pavan\",\"rajesh\",\"jay\",\"sathish\",\"Naresh\"]\n",
    "for i in xrange(100):\n",
    "    q=\"insert into customer(id,name) values(%s,'%s')\"%(i,random.choice(names))\n",
    "    cur.execute(q)\n",
    "con.commit()\n",
    "con.commit()"
   ]
  },
  {
   "cell_type": "code",
   "execution_count": 23,
   "metadata": {},
   "outputs": [
    {
     "name": "stdout",
     "output_type": "stream",
     "text": [
      "Enter id:10\n",
      "[(10, 'jay')]\n",
      "want to delete the record?(y/n)y\n",
      "********************\n",
      "[]\n"
     ]
    }
   ],
   "source": [
    "def browse(e_id=None):\n",
    "    q=\"select * from customer\"\n",
    "    if e_id:\n",
    "        q=q+\" where id=%s\"%e_id\n",
    "    cur.execute(q)\n",
    "    return cur.fetchall()\n",
    "e_id=raw_input(\"Enter id:\")\n",
    "print browse(e_id)\n",
    "opt=raw_input(\"want to delete the record?(y/n)\")\n",
    "if opt.lower()==\"y\":\n",
    "    q=\"delete from customer where id=%s\"%e_id\n",
    "    cur.execute(q)\n",
    "    con.commit()\n",
    "    print \"*\"*20\n",
    "    print browse(e_id)\n",
    "else:\n",
    "    print \"No operation..\""
   ]
  },
  {
   "cell_type": "code",
   "execution_count": null,
   "metadata": {
    "collapsed": true
   },
   "outputs": [],
   "source": []
  }
 ],
 "metadata": {
  "kernelspec": {
   "display_name": "Python 2",
   "language": "python",
   "name": "python2"
  },
  "language_info": {
   "codemirror_mode": {
    "name": "ipython",
    "version": 2
   },
   "file_extension": ".py",
   "mimetype": "text/x-python",
   "name": "python",
   "nbconvert_exporter": "python",
   "pygments_lexer": "ipython2",
   "version": "2.7.14"
  }
 },
 "nbformat": 4,
 "nbformat_minor": 2
}
