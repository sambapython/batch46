{
 "cells": [
  {
   "cell_type": "code",
   "execution_count": 1,
   "metadata": {},
   "outputs": [
    {
     "name": "stdout",
     "output_type": "stream",
     "text": [
      "program started\n",
      "0\n",
      "othere statements in program\n",
      "program ended\n"
     ]
    }
   ],
   "source": [
    "# while for\n",
    "print \"program started\"\n",
    "i=0\n",
    "if i<3:\n",
    "    print i\n",
    "    i=i+1\n",
    "print \"othere statements in program\"\n",
    "print \"program ended\"\n"
   ]
  },
  {
   "cell_type": "code",
   "execution_count": 2,
   "metadata": {},
   "outputs": [
    {
     "name": "stdout",
     "output_type": "stream",
     "text": [
      "program started\n",
      "0\n",
      "1\n",
      "2\n",
      "othere statements in program\n",
      "program ended\n"
     ]
    }
   ],
   "source": [
    "# while for\n",
    "print \"program started\"\n",
    "i=0\n",
    "while i<3:\n",
    "    print i\n",
    "    i=i+1\n",
    "print \"othere statements in program\"\n",
    "print \"program ended\"\n"
   ]
  },
  {
   "cell_type": "code",
   "execution_count": 3,
   "metadata": {},
   "outputs": [
    {
     "name": "stdout",
     "output_type": "stream",
     "text": [
      "program started\n",
      "othere statements in program\n",
      "program ended\n"
     ]
    }
   ],
   "source": [
    "# while for\n",
    "print \"program started\"\n",
    "i=0\n",
    "while i<-3:\n",
    "    print i\n",
    "    i=i+1\n",
    "print \"othere statements in program\"\n",
    "print \"program ended\"\n"
   ]
  },
  {
   "cell_type": "code",
   "execution_count": 4,
   "metadata": {},
   "outputs": [
    {
     "name": "stdout",
     "output_type": "stream",
     "text": [
      "program started\n",
      "othere statements in program\n",
      "program ended\n"
     ]
    }
   ],
   "source": [
    "# while for\n",
    "print \"program started\"\n",
    "i=0\n",
    "while i<-3:\n",
    "    print \"iteration strted\"\n",
    "    print i\n",
    "    i=i+1\n",
    "    print \"iteration ended\"\n",
    "print \"othere statements in program\"\n",
    "print \"program ended\"\n"
   ]
  },
  {
   "cell_type": "code",
   "execution_count": 5,
   "metadata": {},
   "outputs": [
    {
     "name": "stdout",
     "output_type": "stream",
     "text": [
      "program started\n",
      "iteration strted\n",
      "0\n",
      "iteration ended\n",
      "iteration strted\n",
      "1\n",
      "iteration ended\n",
      "iteration strted\n",
      "2\n",
      "iteration ended\n",
      "othere statements in program\n",
      "program ended\n"
     ]
    }
   ],
   "source": [
    "# while for\n",
    "print \"program started\"\n",
    "i=0\n",
    "while i<3:\n",
    "    print \"iteration strted\"\n",
    "    print i\n",
    "    i=i+1\n",
    "    print \"iteration ended\"\n",
    "print \"othere statements in program\"\n",
    "print \"program ended\"\n"
   ]
  },
  {
   "cell_type": "code",
   "execution_count": 6,
   "metadata": {},
   "outputs": [
    {
     "name": "stdout",
     "output_type": "stream",
     "text": [
      "program started\n",
      "p\n",
      "y\n",
      "t\n",
      "h\n",
      "o\n",
      "n\n",
      "othere statements in program\n",
      "program ended\n"
     ]
    }
   ],
   "source": [
    "# while for\n",
    "print \"program started\"\n",
    "for i in \"python\":\n",
    "    print i\n",
    "print \"othere statements in program\"\n",
    "print \"program ended\"\n"
   ]
  },
  {
   "cell_type": "code",
   "execution_count": 7,
   "metadata": {},
   "outputs": [
    {
     "name": "stdout",
     "output_type": "stream",
     "text": [
      "program started\n",
      "p\n",
      "y\n",
      "t\n",
      "h\n",
      "o\n",
      "n\n",
      "othere statements in program\n",
      "program ended\n"
     ]
    }
   ],
   "source": [
    "# while for\n",
    "print \"program started\"\n",
    "s=\"python\"\n",
    "i=0\n",
    "while i<len(s):\n",
    "    print s[i]\n",
    "    i=i+1\n",
    "print \"othere statements in program\"\n",
    "print \"program ended\"\n"
   ]
  },
  {
   "cell_type": "code",
   "execution_count": 8,
   "metadata": {},
   "outputs": [
    {
     "name": "stdout",
     "output_type": "stream",
     "text": [
      "program started\n",
      "Anil\n",
      "pavan\n",
      "naveen\n",
      "ashok\n",
      "praveen\n",
      "othere statements in program\n",
      "program ended\n"
     ]
    }
   ],
   "source": [
    "# while for\n",
    "print \"program started\"\n",
    "for i in [\"Anil\",\"pavan\",\"naveen\",\"ashok\",\"praveen\"]:\n",
    "    print i\n",
    "print \"othere statements in program\"\n",
    "print \"program ended\"\n"
   ]
  },
  {
   "cell_type": "code",
   "execution_count": 9,
   "metadata": {},
   "outputs": [
    {
     "name": "stdout",
     "output_type": "stream",
     "text": [
      "program started\n",
      "Anil\n",
      "pavan\n",
      "naveen\n",
      "ashok\n",
      "praveen\n",
      "othere statements in program\n",
      "program ended\n"
     ]
    }
   ],
   "source": [
    "# while for\n",
    "print \"program started\"\n",
    "for i in (\"Anil\",\"pavan\",\"naveen\",\"ashok\",\"praveen\"):\n",
    "    print i\n",
    "print \"othere statements in program\"\n",
    "print \"program ended\"\n"
   ]
  },
  {
   "cell_type": "code",
   "execution_count": 10,
   "metadata": {},
   "outputs": [
    {
     "name": "stdout",
     "output_type": "stream",
     "text": [
      "program started\n",
      "age\n",
      "name\n",
      "height\n",
      "othere statements in program\n",
      "program ended\n"
     ]
    }
   ],
   "source": [
    "# while for\n",
    "print \"program started\"\n",
    "for i in {\"name\":\"jay\",\"age\":1.3,\"height\":3}:\n",
    "    print i\n",
    "print \"othere statements in program\"\n",
    "print \"program ended\"\n"
   ]
  },
  {
   "cell_type": "code",
   "execution_count": 11,
   "metadata": {},
   "outputs": [
    {
     "name": "stdout",
     "output_type": "stream",
     "text": [
      "program started\n",
      "age 1.3\n",
      "name jay\n",
      "height 3\n",
      "othere statements in program\n",
      "program ended\n"
     ]
    }
   ],
   "source": [
    "# while for\n",
    "print \"program started\"\n",
    "d={\"name\":\"jay\",\"age\":1.3,\"height\":3}\n",
    "for i in d:\n",
    "    print i,d[i]\n",
    "print \"othere statements in program\"\n",
    "print \"program ended\"\n"
   ]
  },
  {
   "cell_type": "code",
   "execution_count": 13,
   "metadata": {},
   "outputs": [
    {
     "name": "stdout",
     "output_type": "stream",
     "text": [
      "program started\n",
      "pavan\n",
      "Anil\n",
      "ashok\n",
      "praveen\n",
      "naveen\n",
      "othere statements in program\n",
      "program ended\n"
     ]
    }
   ],
   "source": [
    "# while for\n",
    "print \"program started\"\n",
    "for i in {\"Anil\",\"pavan\",\"naveen\",\"ashok\",\"praveen\"}:\n",
    "    print i\n",
    "print \"othere statements in program\"\n",
    "print \"program ended\"\n"
   ]
  },
  {
   "cell_type": "code",
   "execution_count": 14,
   "metadata": {},
   "outputs": [
    {
     "name": "stdout",
     "output_type": "stream",
     "text": [
      "program started\n"
     ]
    },
    {
     "ename": "TypeError",
     "evalue": "'int' object is not iterable",
     "output_type": "error",
     "traceback": [
      "\u001b[0;31m---------------------------------------------------------------------------\u001b[0m",
      "\u001b[0;31mTypeError\u001b[0m                                 Traceback (most recent call last)",
      "\u001b[0;32m<ipython-input-14-3587035296f6>\u001b[0m in \u001b[0;36m<module>\u001b[0;34m()\u001b[0m\n\u001b[1;32m      1\u001b[0m \u001b[0;31m# while for\u001b[0m\u001b[0;34m\u001b[0m\u001b[0;34m\u001b[0m\u001b[0m\n\u001b[1;32m      2\u001b[0m \u001b[0;32mprint\u001b[0m \u001b[0;34m\"program started\"\u001b[0m\u001b[0;34m\u001b[0m\u001b[0m\n\u001b[0;32m----> 3\u001b[0;31m \u001b[0;32mfor\u001b[0m \u001b[0mi\u001b[0m \u001b[0;32min\u001b[0m \u001b[0;36m1000\u001b[0m\u001b[0;34m:\u001b[0m\u001b[0;34m\u001b[0m\u001b[0m\n\u001b[0m\u001b[1;32m      4\u001b[0m     \u001b[0;32mprint\u001b[0m \u001b[0mi\u001b[0m\u001b[0;34m\u001b[0m\u001b[0m\n\u001b[1;32m      5\u001b[0m \u001b[0;32mprint\u001b[0m \u001b[0;34m\"othere statements in program\"\u001b[0m\u001b[0;34m\u001b[0m\u001b[0m\n",
      "\u001b[0;31mTypeError\u001b[0m: 'int' object is not iterable"
     ]
    }
   ],
   "source": [
    "# while for\n",
    "print \"program started\"\n",
    "for i in 1000:\n",
    "    print i\n",
    "print \"othere statements in program\"\n",
    "print \"program ended\"\n"
   ]
  },
  {
   "cell_type": "code",
   "execution_count": 15,
   "metadata": {},
   "outputs": [
    {
     "name": "stdout",
     "output_type": "stream",
     "text": [
      "program started\n"
     ]
    },
    {
     "ename": "TypeError",
     "evalue": "'float' object is not iterable",
     "output_type": "error",
     "traceback": [
      "\u001b[0;31m---------------------------------------------------------------------------\u001b[0m",
      "\u001b[0;31mTypeError\u001b[0m                                 Traceback (most recent call last)",
      "\u001b[0;32m<ipython-input-15-cdd76dc1bc48>\u001b[0m in \u001b[0;36m<module>\u001b[0;34m()\u001b[0m\n\u001b[1;32m      1\u001b[0m \u001b[0;31m# while for\u001b[0m\u001b[0;34m\u001b[0m\u001b[0;34m\u001b[0m\u001b[0m\n\u001b[1;32m      2\u001b[0m \u001b[0;32mprint\u001b[0m \u001b[0;34m\"program started\"\u001b[0m\u001b[0;34m\u001b[0m\u001b[0m\n\u001b[0;32m----> 3\u001b[0;31m \u001b[0;32mfor\u001b[0m \u001b[0mi\u001b[0m \u001b[0;32min\u001b[0m \u001b[0;36m1000.23456\u001b[0m\u001b[0;34m:\u001b[0m\u001b[0;34m\u001b[0m\u001b[0m\n\u001b[0m\u001b[1;32m      4\u001b[0m     \u001b[0;32mprint\u001b[0m \u001b[0mi\u001b[0m\u001b[0;34m\u001b[0m\u001b[0m\n\u001b[1;32m      5\u001b[0m \u001b[0;32mprint\u001b[0m \u001b[0;34m\"othere statements in program\"\u001b[0m\u001b[0;34m\u001b[0m\u001b[0m\n",
      "\u001b[0;31mTypeError\u001b[0m: 'float' object is not iterable"
     ]
    }
   ],
   "source": [
    "# while for\n",
    "print \"program started\"\n",
    "for i in 1000.23456:\n",
    "    print i\n",
    "print \"othere statements in program\"\n",
    "print \"program ended\"\n"
   ]
  },
  {
   "cell_type": "code",
   "execution_count": 16,
   "metadata": {},
   "outputs": [
    {
     "name": "stdout",
     "output_type": "stream",
     "text": [
      "program started\n"
     ]
    },
    {
     "ename": "TypeError",
     "evalue": "'complex' object is not iterable",
     "output_type": "error",
     "traceback": [
      "\u001b[0;31m---------------------------------------------------------------------------\u001b[0m",
      "\u001b[0;31mTypeError\u001b[0m                                 Traceback (most recent call last)",
      "\u001b[0;32m<ipython-input-16-59530fa7ee7e>\u001b[0m in \u001b[0;36m<module>\u001b[0;34m()\u001b[0m\n\u001b[1;32m      1\u001b[0m \u001b[0;31m# while for\u001b[0m\u001b[0;34m\u001b[0m\u001b[0;34m\u001b[0m\u001b[0m\n\u001b[1;32m      2\u001b[0m \u001b[0;32mprint\u001b[0m \u001b[0;34m\"program started\"\u001b[0m\u001b[0;34m\u001b[0m\u001b[0m\n\u001b[0;32m----> 3\u001b[0;31m \u001b[0;32mfor\u001b[0m \u001b[0mi\u001b[0m \u001b[0;32min\u001b[0m \u001b[0;36m1000\u001b[0m\u001b[0;34m+\u001b[0m\u001b[0;36m2j\u001b[0m\u001b[0;34m:\u001b[0m\u001b[0;34m\u001b[0m\u001b[0m\n\u001b[0m\u001b[1;32m      4\u001b[0m     \u001b[0;32mprint\u001b[0m \u001b[0mi\u001b[0m\u001b[0;34m\u001b[0m\u001b[0m\n\u001b[1;32m      5\u001b[0m \u001b[0;32mprint\u001b[0m \u001b[0;34m\"othere statements in program\"\u001b[0m\u001b[0;34m\u001b[0m\u001b[0m\n",
      "\u001b[0;31mTypeError\u001b[0m: 'complex' object is not iterable"
     ]
    }
   ],
   "source": [
    "# while for\n",
    "print \"program started\"\n",
    "for i in 1000+2j:\n",
    "    print i\n",
    "print \"othere statements in program\"\n",
    "print \"program ended\"\n"
   ]
  },
  {
   "cell_type": "code",
   "execution_count": 17,
   "metadata": {},
   "outputs": [
    {
     "name": "stdout",
     "output_type": "stream",
     "text": [
      "program started\n"
     ]
    },
    {
     "ename": "TypeError",
     "evalue": "'bool' object is not iterable",
     "output_type": "error",
     "traceback": [
      "\u001b[0;31m---------------------------------------------------------------------------\u001b[0m",
      "\u001b[0;31mTypeError\u001b[0m                                 Traceback (most recent call last)",
      "\u001b[0;32m<ipython-input-17-a2a9da60acea>\u001b[0m in \u001b[0;36m<module>\u001b[0;34m()\u001b[0m\n\u001b[1;32m      1\u001b[0m \u001b[0;31m# while for\u001b[0m\u001b[0;34m\u001b[0m\u001b[0;34m\u001b[0m\u001b[0m\n\u001b[1;32m      2\u001b[0m \u001b[0;32mprint\u001b[0m \u001b[0;34m\"program started\"\u001b[0m\u001b[0;34m\u001b[0m\u001b[0m\n\u001b[0;32m----> 3\u001b[0;31m \u001b[0;32mfor\u001b[0m \u001b[0mi\u001b[0m \u001b[0;32min\u001b[0m \u001b[0mTrue\u001b[0m\u001b[0;34m:\u001b[0m\u001b[0;34m\u001b[0m\u001b[0m\n\u001b[0m\u001b[1;32m      4\u001b[0m     \u001b[0;32mprint\u001b[0m \u001b[0mi\u001b[0m\u001b[0;34m\u001b[0m\u001b[0m\n\u001b[1;32m      5\u001b[0m \u001b[0;32mprint\u001b[0m \u001b[0;34m\"othere statements in program\"\u001b[0m\u001b[0;34m\u001b[0m\u001b[0m\n",
      "\u001b[0;31mTypeError\u001b[0m: 'bool' object is not iterable"
     ]
    }
   ],
   "source": [
    "# while for\n",
    "print \"program started\"\n",
    "for i in True:\n",
    "    print i\n",
    "print \"othere statements in program\"\n",
    "print \"program ended\"\n"
   ]
  },
  {
   "cell_type": "code",
   "execution_count": 18,
   "metadata": {},
   "outputs": [
    {
     "name": "stdout",
     "output_type": "stream",
     "text": [
      "program started\n"
     ]
    },
    {
     "ename": "TypeError",
     "evalue": "'NoneType' object is not iterable",
     "output_type": "error",
     "traceback": [
      "\u001b[0;31m---------------------------------------------------------------------------\u001b[0m",
      "\u001b[0;31mTypeError\u001b[0m                                 Traceback (most recent call last)",
      "\u001b[0;32m<ipython-input-18-0f36d782130b>\u001b[0m in \u001b[0;36m<module>\u001b[0;34m()\u001b[0m\n\u001b[1;32m      1\u001b[0m \u001b[0;31m# while for\u001b[0m\u001b[0;34m\u001b[0m\u001b[0;34m\u001b[0m\u001b[0m\n\u001b[1;32m      2\u001b[0m \u001b[0;32mprint\u001b[0m \u001b[0;34m\"program started\"\u001b[0m\u001b[0;34m\u001b[0m\u001b[0m\n\u001b[0;32m----> 3\u001b[0;31m \u001b[0;32mfor\u001b[0m \u001b[0mi\u001b[0m \u001b[0;32min\u001b[0m \u001b[0mNone\u001b[0m\u001b[0;34m:\u001b[0m\u001b[0;34m\u001b[0m\u001b[0m\n\u001b[0m\u001b[1;32m      4\u001b[0m     \u001b[0;32mprint\u001b[0m \u001b[0mi\u001b[0m\u001b[0;34m\u001b[0m\u001b[0m\n\u001b[1;32m      5\u001b[0m \u001b[0;32mprint\u001b[0m \u001b[0;34m\"othere statements in program\"\u001b[0m\u001b[0;34m\u001b[0m\u001b[0m\n",
      "\u001b[0;31mTypeError\u001b[0m: 'NoneType' object is not iterable"
     ]
    }
   ],
   "source": [
    "# while for\n",
    "print \"program started\"\n",
    "for i in None:\n",
    "    print i\n",
    "print \"othere statements in program\"\n",
    "print \"program ended\"\n"
   ]
  },
  {
   "cell_type": "code",
   "execution_count": 19,
   "metadata": {},
   "outputs": [
    {
     "name": "stdout",
     "output_type": "stream",
     "text": [
      "program started\n",
      "1\n",
      "0\n",
      "0\n",
      "0\n",
      "0\n",
      "othere statements in program\n",
      "program ended\n"
     ]
    }
   ],
   "source": [
    "# while for\n",
    "print \"program started\"\n",
    "for i in \"10000\":\n",
    "    print i\n",
    "print \"othere statements in program\"\n",
    "print \"program ended\"\n"
   ]
  },
  {
   "cell_type": "code",
   "execution_count": 20,
   "metadata": {},
   "outputs": [
    {
     "name": "stdout",
     "output_type": "stream",
     "text": [
      "program started\n",
      "iteration started\n",
      "pavan\n",
      "iteration ended\n",
      "iteration started\n",
      "Anil\n",
      "iteration ended\n",
      "iteration started\n",
      "ashok\n",
      "iteration ended\n",
      "iteration started\n",
      "praveen\n",
      "iteration ended\n",
      "iteration started\n",
      "naveen\n",
      "iteration ended\n",
      "othere statements in program\n",
      "program ended\n"
     ]
    }
   ],
   "source": [
    "# while for\n",
    "print \"program started\"\n",
    "for i in {\"Anil\",\"pavan\",\"naveen\",\"ashok\",\"praveen\"}:\n",
    "    print \"iteration started\"\n",
    "    print i\n",
    "    print \"iteration ended\"\n",
    "    \n",
    "print \"othere statements in program\"\n",
    "print \"program ended\"\n"
   ]
  },
  {
   "cell_type": "code",
   "execution_count": 21,
   "metadata": {},
   "outputs": [
    {
     "name": "stdout",
     "output_type": "stream",
     "text": [
      "program started\n",
      "Enter a value:abcd\n",
      "a\n",
      "b\n",
      "c\n",
      "d\n",
      "othere statements in program\n",
      "program ended\n"
     ]
    }
   ],
   "source": [
    "# while for\n",
    "print \"program started\"\n",
    "s=raw_input(\"Enter a value:\")\n",
    "for i in s:\n",
    "    print i\n",
    "    \n",
    "print \"othere statements in program\"\n",
    "print \"program ended\"\n"
   ]
  },
  {
   "cell_type": "code",
   "execution_count": 22,
   "metadata": {},
   "outputs": [
    {
     "name": "stdout",
     "output_type": "stream",
     "text": [
      "program started\n",
      "Enter a value:a b c d\n",
      "a\n",
      " \n",
      "b\n",
      " \n",
      "c\n",
      " \n",
      "d\n",
      "othere statements in program\n",
      "program ended\n"
     ]
    }
   ],
   "source": [
    "# while for\n",
    "print \"program started\"\n",
    "s=raw_input(\"Enter a value:\")\n",
    "for i in s:\n",
    "    print i\n",
    "    \n",
    "print \"othere statements in program\"\n",
    "print \"program ended\"\n",
    "#<space>"
   ]
  },
  {
   "cell_type": "code",
   "execution_count": 23,
   "metadata": {},
   "outputs": [
    {
     "name": "stdout",
     "output_type": "stream",
     "text": [
      "program started\n",
      "Enter a value:abcd\n",
      "a\n",
      "b\n",
      "c\n",
      "d\n",
      "othere statements in program\n",
      "program ended\n"
     ]
    }
   ],
   "source": [
    "# while for\n",
    "#<space># \n",
    "print \"program started\"\n",
    "s=raw_input(\"Enter a value:\")\n",
    "for i in s:\n",
    "    if i==\" \":\n",
    "        print \"<SPACE>\"\n",
    "    else:\n",
    "        print i\n",
    "print \"othere statements in program\"\n",
    "print \"program ended\"\n"
   ]
  },
  {
   "cell_type": "code",
   "execution_count": 24,
   "metadata": {},
   "outputs": [
    {
     "name": "stdout",
     "output_type": "stream",
     "text": [
      "program started\n",
      "Enter a value:a b c\n",
      "a\n",
      "<SPACE>\n",
      "b\n",
      "<SPACE>\n",
      "c\n",
      "othere statements in program\n",
      "program ended\n"
     ]
    }
   ],
   "source": [
    "# while for\n",
    "#<space># \n",
    "print \"program started\"\n",
    "s=raw_input(\"Enter a value:\")\n",
    "for i in s:\n",
    "    if i==\" \":\n",
    "        print \"<SPACE>\"\n",
    "    else:\n",
    "        print i\n",
    "    \n",
    "print \"othere statements in program\"\n",
    "print \"program ended\"\n"
   ]
  },
  {
   "cell_type": "code",
   "execution_count": 25,
   "metadata": {},
   "outputs": [
    {
     "name": "stdout",
     "output_type": "stream",
     "text": [
      "program started\n",
      "Enter a value:abcd\n",
      "a\n",
      "b\n",
      "c\n",
      "d\n",
      "othere statements in program\n",
      "program ended\n"
     ]
    }
   ],
   "source": [
    "# while for=\n",
    "print \"program started\"\n",
    "s=raw_input(\"Enter a value:\")\n",
    "for i in s:\n",
    "    if i==\" \":\n",
    "        pass\n",
    "    else:\n",
    "        print i\n",
    "    \n",
    "print \"othere statements in program\"\n",
    "print \"program ended\"\n"
   ]
  },
  {
   "cell_type": "code",
   "execution_count": 26,
   "metadata": {},
   "outputs": [
    {
     "name": "stdout",
     "output_type": "stream",
     "text": [
      "program started\n",
      "Enter a value:a b c d\n",
      "a\n",
      "b\n",
      "c\n",
      "d\n",
      "othere statements in program\n",
      "program ended\n"
     ]
    }
   ],
   "source": [
    "# while for=\n",
    "print \"program started\"\n",
    "s=raw_input(\"Enter a value:\")\n",
    "for i in s:\n",
    "    if i==\" \":\n",
    "        pass\n",
    "    else:\n",
    "        print i\n",
    "    \n",
    "print \"othere statements in program\"\n",
    "print \"program ended\"\n"
   ]
  },
  {
   "cell_type": "code",
   "execution_count": 27,
   "metadata": {},
   "outputs": [
    {
     "name": "stdout",
     "output_type": "stream",
     "text": [
      "program started\n",
      "Enter a value:abcd\n",
      "a\n",
      "b\n",
      "c\n",
      "d\n",
      "othere statements in program\n",
      "program ended\n"
     ]
    }
   ],
   "source": [
    "# while for=\n",
    "print \"program started\"\n",
    "s=raw_input(\"Enter a value:\")\n",
    "for i in s:\n",
    "    if i==\" \":\n",
    "        break\n",
    "    else:\n",
    "        print i\n",
    "    \n",
    "print \"othere statements in program\"\n",
    "print \"program ended\"\n"
   ]
  },
  {
   "cell_type": "code",
   "execution_count": 28,
   "metadata": {},
   "outputs": [
    {
     "name": "stdout",
     "output_type": "stream",
     "text": [
      "program started\n",
      "Enter a value:a b c d\n",
      "a\n",
      "othere statements in program\n",
      "program ended\n"
     ]
    }
   ],
   "source": [
    "# while for=\n",
    "print \"program started\"\n",
    "s=raw_input(\"Enter a value:\")\n",
    "for i in s:\n",
    "    if i==\" \":\n",
    "        break\n",
    "    else:\n",
    "        print i\n",
    "    \n",
    "print \"othere statements in program\"\n",
    "print \"program ended\"\n"
   ]
  },
  {
   "cell_type": "code",
   "execution_count": 29,
   "metadata": {},
   "outputs": [
    {
     "name": "stdout",
     "output_type": "stream",
     "text": [
      "program started\n",
      "Enter a value:a b c\n",
      "iteration started for: a\n",
      "a\n",
      "iteration ended for: a\n",
      "iteration started for:  \n",
      "othere statements in program\n",
      "program ended\n"
     ]
    }
   ],
   "source": [
    "# while for=\n",
    "print \"program started\"\n",
    "s=raw_input(\"Enter a value:\")\n",
    "for i in s:\n",
    "    print \"iteration started for: %s\"%i\n",
    "    if i==\" \":\n",
    "        break\n",
    "        print \"<SPACE>\"\n",
    "    else:\n",
    "        print i\n",
    "    print \"iteration ended for: %s\"%i\n",
    "    \n",
    "print \"othere statements in program\"\n",
    "print \"program ended\"\n"
   ]
  },
  {
   "cell_type": "code",
   "execution_count": 30,
   "metadata": {},
   "outputs": [
    {
     "name": "stdout",
     "output_type": "stream",
     "text": [
      "program started\n",
      "Enter a value:a b c d\n",
      "iteration started for: a\n",
      "a\n",
      "iteration ended for: a\n",
      "iteration started for:  \n",
      "<SPACE>\n",
      "othere statements in program\n",
      "program ended\n"
     ]
    }
   ],
   "source": [
    "# while for=\n",
    "print \"program started\"\n",
    "s=raw_input(\"Enter a value:\")\n",
    "for i in s:\n",
    "    print \"iteration started for: %s\"%i\n",
    "    if i==\" \":\n",
    "        print \"<SPACE>\"\n",
    "        break\n",
    "    else:\n",
    "        print i\n",
    "    print \"iteration ended for: %s\"%i\n",
    "    \n",
    "print \"othere statements in program\"\n",
    "print \"program ended\"\n"
   ]
  },
  {
   "cell_type": "code",
   "execution_count": 31,
   "metadata": {},
   "outputs": [
    {
     "name": "stdout",
     "output_type": "stream",
     "text": [
      "program started\n",
      "Enter a value:abcd\n",
      "iteration started for: a\n",
      "a\n",
      "iteration ended for: a\n",
      "iteration started for: b\n",
      "b\n",
      "iteration ended for: b\n",
      "iteration started for: c\n",
      "c\n",
      "iteration ended for: c\n",
      "iteration started for: d\n",
      "d\n",
      "iteration ended for: d\n",
      "othere statements in program\n",
      "program ended\n"
     ]
    }
   ],
   "source": [
    "# while for=\n",
    "print \"program started\"\n",
    "s=raw_input(\"Enter a value:\")\n",
    "for i in s:\n",
    "    print \"iteration started for: %s\"%i\n",
    "    if i==\" \":\n",
    "        print \"<SPACE>\"\n",
    "        break\n",
    "    else:\n",
    "        print i\n",
    "    print \"iteration ended for: %s\"%i\n",
    "    \n",
    "print \"othere statements in program\"\n",
    "print \"program ended\"\n"
   ]
  },
  {
   "cell_type": "code",
   "execution_count": 32,
   "metadata": {},
   "outputs": [
    {
     "name": "stdout",
     "output_type": "stream",
     "text": [
      "program started\n",
      "Enter a value:ab c\n",
      "iteration started for: a\n",
      "a\n",
      "iteration ended for: a\n",
      "iteration started for: b\n",
      "b\n",
      "iteration ended for: b\n",
      "iteration started for:  \n",
      "<SPACE>\n",
      "othere statements in program\n",
      "program ended\n"
     ]
    }
   ],
   "source": [
    "# while for=\n",
    "print \"program started\"\n",
    "s=raw_input(\"Enter a value:\")\n",
    "for i in s:\n",
    "    print \"iteration started for: %s\"%i\n",
    "    if i==\" \":\n",
    "        print \"<SPACE>\"\n",
    "        break\n",
    "    else:\n",
    "        print i\n",
    "    print \"iteration ended for: %s\"%i\n",
    "    \n",
    "print \"othere statements in program\"\n",
    "print \"program ended\"\n"
   ]
  },
  {
   "cell_type": "code",
   "execution_count": 33,
   "metadata": {},
   "outputs": [
    {
     "name": "stdout",
     "output_type": "stream",
     "text": [
      "program started\n",
      "Enter a value:abcd\n",
      "iteration started for: a\n",
      "a\n",
      "iteration ended for: a\n",
      "iteration started for: b\n",
      "b\n",
      "iteration ended for: b\n",
      "iteration started for: c\n",
      "c\n",
      "iteration ended for: c\n",
      "iteration started for: d\n",
      "d\n",
      "iteration ended for: d\n",
      "This is else: executing beacuse completed all the iterations\n",
      "othere statements in program\n",
      "program ended\n"
     ]
    }
   ],
   "source": [
    "# while for=\n",
    "print \"program started\"\n",
    "s=raw_input(\"Enter a value:\")\n",
    "for i in s:\n",
    "    print \"iteration started for: %s\"%i\n",
    "    if i==\" \":\n",
    "        print \"<SPACE>\"\n",
    "        break\n",
    "    else:\n",
    "        print i\n",
    "    print \"iteration ended for: %s\"%i\n",
    "else:\n",
    "    print \"This is else: executing beacuse completed all the iterations\"\n",
    "    \n",
    "print \"othere statements in program\"\n",
    "print \"program ended\"\n"
   ]
  },
  {
   "cell_type": "code",
   "execution_count": 34,
   "metadata": {},
   "outputs": [
    {
     "name": "stdout",
     "output_type": "stream",
     "text": [
      "program started\n",
      "Enter a value:a b c d\n",
      "iteration started for: a\n",
      "a\n",
      "iteration ended for: a\n",
      "iteration started for:  \n",
      "<SPACE>\n",
      "othere statements in program\n",
      "program ended\n"
     ]
    }
   ],
   "source": [
    "# while for=\n",
    "print \"program started\"\n",
    "s=raw_input(\"Enter a value:\")\n",
    "for i in s:\n",
    "    print \"iteration started for: %s\"%i\n",
    "    if i==\" \":\n",
    "        print \"<SPACE>\"\n",
    "        break\n",
    "    else:\n",
    "        print i\n",
    "    print \"iteration ended for: %s\"%i\n",
    "else:\n",
    "    print \"This is else: executing beacuse completed all the iterations\"\n",
    "    \n",
    "print \"othere statements in program\"\n",
    "print \"program ended\"\n"
   ]
  },
  {
   "cell_type": "code",
   "execution_count": 35,
   "metadata": {},
   "outputs": [
    {
     "name": "stdout",
     "output_type": "stream",
     "text": [
      "program started\n",
      "Enter a value:abcd\n",
      "iteration started for: a\n",
      "a\n",
      "iteration ended for: a\n",
      "iteration started for: b\n",
      "b\n",
      "iteration ended for: b\n",
      "iteration started for: c\n",
      "c\n",
      "iteration ended for: c\n",
      "iteration started for: d\n",
      "d\n",
      "iteration ended for: d\n",
      "This is else: executing beacuse completed all the iterations\n",
      "othere statements in program\n",
      "program ended\n"
     ]
    }
   ],
   "source": [
    "# while for=\n",
    "print \"program started\"\n",
    "s=raw_input(\"Enter a value:\")\n",
    "for i in s:\n",
    "    print \"iteration started for: %s\"%i\n",
    "    print i\n",
    "    print \"iteration ended for: %s\"%i\n",
    "else:\n",
    "    print \"This is else: executing beacuse completed all the iterations\"\n",
    "    \n",
    "print \"othere statements in program\"\n",
    "print \"program ended\"\n"
   ]
  },
  {
   "cell_type": "code",
   "execution_count": 37,
   "metadata": {},
   "outputs": [
    {
     "name": "stdout",
     "output_type": "stream",
     "text": [
      "program started\n",
      "Enter a value:a b c d\n",
      "iteration started for: a\n",
      "a\n",
      "iteration ended for: a\n",
      "iteration started for:  \n",
      "iteration started for: b\n",
      "b\n",
      "iteration ended for: b\n",
      "iteration started for:  \n",
      "iteration started for: c\n",
      "c\n",
      "iteration ended for: c\n",
      "iteration started for:  \n",
      "iteration started for: d\n",
      "d\n",
      "iteration ended for: d\n",
      "This is else: executing beacuse completed all the iterations\n",
      "othere statements in program\n",
      "program ended\n"
     ]
    }
   ],
   "source": [
    "# while for=\n",
    "print \"program started\"\n",
    "s=raw_input(\"Enter a value:\")\n",
    "for i in s:\n",
    "    print \"iteration started for: %s\"%i\n",
    "    if i==\" \":\n",
    "        continue\n",
    "    else:\n",
    "        print i\n",
    "    print \"iteration ended for: %s\"%i\n",
    "else:\n",
    "    print \"This is else: executing beacuse completed all the iterations\"\n",
    "    \n",
    "print \"othere statements in program\"\n",
    "print \"program ended\"\n"
   ]
  },
  {
   "cell_type": "code",
   "execution_count": 38,
   "metadata": {},
   "outputs": [
    {
     "name": "stdout",
     "output_type": "stream",
     "text": [
      "program started\n",
      "Enter a value:a b c d\n",
      "iteration started for: a\n",
      "a\n",
      "iteration ended for: a\n",
      "iteration started for:  \n",
      "iteration ended for:  \n",
      "iteration started for: b\n",
      "b\n",
      "iteration ended for: b\n",
      "iteration started for:  \n",
      "iteration ended for:  \n",
      "iteration started for: c\n",
      "c\n",
      "iteration ended for: c\n",
      "iteration started for:  \n",
      "iteration ended for:  \n",
      "iteration started for: d\n",
      "d\n",
      "iteration ended for: d\n",
      "This is else: executing beacuse completed all the iterations\n",
      "othere statements in program\n",
      "program ended\n"
     ]
    }
   ],
   "source": [
    "# while for=\n",
    "print \"program started\"\n",
    "s=raw_input(\"Enter a value:\")\n",
    "for i in s:\n",
    "    print \"iteration started for: %s\"%i\n",
    "    if i==\" \":\n",
    "        pass\n",
    "    else:\n",
    "        print i\n",
    "    print \"iteration ended for: %s\"%i\n",
    "else:\n",
    "    print \"This is else: executing beacuse completed all the iterations\"\n",
    "    \n",
    "print \"othere statements in program\"\n",
    "print \"program ended\"\n"
   ]
  },
  {
   "cell_type": "code",
   "execution_count": 39,
   "metadata": {},
   "outputs": [
    {
     "name": "stdout",
     "output_type": "stream",
     "text": [
      "program started\n",
      "Enter a value:ab cd\n",
      "iteration started for: a\n",
      "a\n",
      "other statements in loop\n",
      "some statements in loop\n",
      "iteration ended for: a\n",
      "iteration started for: b\n",
      "b\n",
      "other statements in loop\n",
      "some statements in loop\n",
      "iteration ended for: b\n",
      "iteration started for:  \n",
      "iteration started for: c\n",
      "c\n",
      "other statements in loop\n",
      "some statements in loop\n",
      "iteration ended for: c\n",
      "iteration started for: d\n",
      "d\n",
      "other statements in loop\n",
      "some statements in loop\n",
      "iteration ended for: d\n",
      "This is else: executing beacuse completed all the iterations\n",
      "othere statements in program\n",
      "program ended\n"
     ]
    }
   ],
   "source": [
    "# while for=\n",
    "print \"program started\"\n",
    "s=raw_input(\"Enter a value:\")\n",
    "for i in s:\n",
    "    print \"iteration started for: %s\"%i\n",
    "    if i==\" \":\n",
    "        continue\n",
    "    else:\n",
    "        print i\n",
    "    print \"other statements in loop\"\n",
    "    print \"some statements in loop\"\n",
    "    print \"iteration ended for: %s\"%i\n",
    "    \n",
    "else:\n",
    "    print \"This is else: executing beacuse completed all the iterations\"\n",
    "    \n",
    "print \"othere statements in program\"\n",
    "print \"program ended\"\n"
   ]
  },
  {
   "cell_type": "code",
   "execution_count": 40,
   "metadata": {},
   "outputs": [
    {
     "name": "stdout",
     "output_type": "stream",
     "text": [
      "i outside: 0\n"
     ]
    }
   ],
   "source": [
    "i=0\n",
    "while i<10:\n",
    "    break\n",
    "    i=i+1\n",
    "print \"i outside:\",i"
   ]
  },
  {
   "cell_type": "code",
   "execution_count": 41,
   "metadata": {},
   "outputs": [
    {
     "name": "stdout",
     "output_type": "stream",
     "text": [
      "i outside: 1\n"
     ]
    }
   ],
   "source": [
    "i=0\n",
    "while i<10:\n",
    "    i=i+1\n",
    "    break\n",
    "print \"i outside:\",i"
   ]
  },
  {
   "cell_type": "code",
   "execution_count": null,
   "metadata": {
    "collapsed": true
   },
   "outputs": [],
   "source": [
    "i=0\n",
    "while i<10:\n",
    "    i=i+1\n",
    "    continue\n",
    "print \"i outside:\",i"
   ]
  },
  {
   "cell_type": "code",
   "execution_count": null,
   "metadata": {
    "collapsed": true
   },
   "outputs": [],
   "source": [
    "i=0\n",
    "while i<10:\n",
    "    continue\n",
    "    i=i+1\n",
    "print \"i outside:\",i"
   ]
  },
  {
   "cell_type": "code",
   "execution_count": null,
   "metadata": {
    "collapsed": true
   },
   "outputs": [],
   "source": [
    "i=0\n",
    "while i<10:\n",
    "    i=i-1\n",
    "print \"i outside:\",i"
   ]
  },
  {
   "cell_type": "code",
   "execution_count": null,
   "metadata": {
    "collapsed": true
   },
   "outputs": [],
   "source": [
    "for i in \"\":\n",
    "    print i\n",
    "print \"i out side loop:\",i"
   ]
  },
  {
   "cell_type": "code",
   "execution_count": null,
   "metadata": {
    "collapsed": true
   },
   "outputs": [],
   "source": [
    "for i in \"python\":\n",
    "    print i\n",
    "print \"i out side loop:\",i"
   ]
  },
  {
   "cell_type": "code",
   "execution_count": null,
   "metadata": {
    "collapsed": true
   },
   "outputs": [],
   "source": [
    "for i in \"python\":\n",
    "    print i\n",
    "    break\n",
    "print \"i out side loop:\",i"
   ]
  },
  {
   "cell_type": "code",
   "execution_count": null,
   "metadata": {
    "collapsed": true
   },
   "outputs": [],
   "source": [
    "for i in \"python\":\n",
    "    continue\n",
    "    print i\n",
    "print \"i out side loop:\",i"
   ]
  },
  {
   "cell_type": "code",
   "execution_count": 42,
   "metadata": {},
   "outputs": [
    {
     "name": "stdout",
     "output_type": "stream",
     "text": [
      "jay\n"
     ]
    }
   ],
   "source": [
    "d={\"name\":\"jay\",\"age\":1.3,\"height\":3}\n",
    "print d[\"name\"]"
   ]
  },
  {
   "cell_type": "code",
   "execution_count": 43,
   "metadata": {},
   "outputs": [
    {
     "name": "stdout",
     "output_type": "stream",
     "text": [
      "jay\n",
      "age\n",
      "name\n",
      "height\n"
     ]
    }
   ],
   "source": [
    "d={\"name\":\"jay\",\"age\":1.3,\"height\":3}\n",
    "print d[\"name\"]\n",
    "for i in d:\n",
    "    print i"
   ]
  },
  {
   "cell_type": "code",
   "execution_count": 44,
   "metadata": {},
   "outputs": [
    {
     "name": "stdout",
     "output_type": "stream",
     "text": [
      "jay\n",
      "age 1.3\n",
      "name jay\n",
      "height 3\n"
     ]
    }
   ],
   "source": [
    "d={\"name\":\"jay\",\"age\":1.3,\"height\":3}\n",
    "print d[\"name\"]\n",
    "for i in d:\n",
    "    print i,d[i]"
   ]
  },
  {
   "cell_type": "code",
   "execution_count": null,
   "metadata": {
    "collapsed": true
   },
   "outputs": [],
   "source": []
  }
 ],
 "metadata": {
  "kernelspec": {
   "display_name": "Python 2",
   "language": "python",
   "name": "python2"
  },
  "language_info": {
   "codemirror_mode": {
    "name": "ipython",
    "version": 2
   },
   "file_extension": ".py",
   "mimetype": "text/x-python",
   "name": "python",
   "nbconvert_exporter": "python",
   "pygments_lexer": "ipython2",
   "version": "2.7.14"
  }
 },
 "nbformat": 4,
 "nbformat_minor": 2
}
