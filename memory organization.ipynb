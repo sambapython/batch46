{
 "cells": [
  {
   "cell_type": "code",
   "execution_count": 1,
   "metadata": {},
   "outputs": [
    {
     "name": "stdout",
     "output_type": "stream",
     "text": [
      "st1\n",
      "st2\n",
      "st3\n",
      "st4\n"
     ]
    }
   ],
   "source": [
    "print \"st1\"\n",
    "print \"st2\"\n",
    "print \"st3\"\n",
    "print \"st4\""
   ]
  },
  {
   "cell_type": "code",
   "execution_count": 2,
   "metadata": {},
   "outputs": [
    {
     "ename": "SyntaxError",
     "evalue": "EOL while scanning string literal (<ipython-input-2-46d3ebc6cdf8>, line 3)",
     "output_type": "error",
     "traceback": [
      "\u001b[0;36m  File \u001b[0;32m\"<ipython-input-2-46d3ebc6cdf8>\"\u001b[0;36m, line \u001b[0;32m3\u001b[0m\n\u001b[0;31m    print \"st3\u001b[0m\n\u001b[0m             ^\u001b[0m\n\u001b[0;31mSyntaxError\u001b[0m\u001b[0;31m:\u001b[0m EOL while scanning string literal\n"
     ]
    }
   ],
   "source": [
    "print \"st1\"\n",
    "print \"st2\"\n",
    "print \"st3\n",
    "print \"st4\""
   ]
  },
  {
   "cell_type": "code",
   "execution_count": 3,
   "metadata": {},
   "outputs": [
    {
     "name": "stdout",
     "output_type": "stream",
     "text": [
      "st1\n",
      "st2\n",
      "st3\n"
     ]
    },
    {
     "ename": "ZeroDivisionError",
     "evalue": "integer division or modulo by zero",
     "output_type": "error",
     "traceback": [
      "\u001b[0;31m---------------------------------------------------------------------------\u001b[0m",
      "\u001b[0;31mZeroDivisionError\u001b[0m                         Traceback (most recent call last)",
      "\u001b[0;32m<ipython-input-3-c391b2cfca46>\u001b[0m in \u001b[0;36m<module>\u001b[0;34m()\u001b[0m\n\u001b[1;32m      2\u001b[0m \u001b[0;32mprint\u001b[0m \u001b[0;34m\"st2\"\u001b[0m\u001b[0;34m\u001b[0m\u001b[0m\n\u001b[1;32m      3\u001b[0m \u001b[0;32mprint\u001b[0m \u001b[0;34m\"st3\"\u001b[0m\u001b[0;34m\u001b[0m\u001b[0m\n\u001b[0;32m----> 4\u001b[0;31m \u001b[0;32mprint\u001b[0m \u001b[0;36m1\u001b[0m\u001b[0;34m/\u001b[0m\u001b[0;36m0\u001b[0m\u001b[0;34m\u001b[0m\u001b[0m\n\u001b[0m\u001b[1;32m      5\u001b[0m \u001b[0;32mprint\u001b[0m \u001b[0;34m\"st4\"\u001b[0m\u001b[0;34m\u001b[0m\u001b[0m\n",
      "\u001b[0;31mZeroDivisionError\u001b[0m: integer division or modulo by zero"
     ]
    }
   ],
   "source": [
    "print \"st1\"\n",
    "print \"st2\"\n",
    "print \"st3\"\n",
    "print 1/0\n",
    "print \"st4\""
   ]
  },
  {
   "cell_type": "code",
   "execution_count": 4,
   "metadata": {},
   "outputs": [
    {
     "name": "stdout",
     "output_type": "stream",
     "text": [
      "139636913600432\n",
      "139636913600432\n",
      "139636913601872\n"
     ]
    }
   ],
   "source": [
    "s1=\"python \"\n",
    "s2=s1\n",
    "s3=\"python \"\n",
    "print id(s1)\n",
    "print id(s2)\n",
    "print id(s3)"
   ]
  },
  {
   "cell_type": "code",
   "execution_count": 5,
   "metadata": {},
   "outputs": [
    {
     "name": "stdout",
     "output_type": "stream",
     "text": [
      "139637140537832\n",
      "139637140537832\n",
      "139637140537832\n",
      "139637140537832\n"
     ]
    }
   ],
   "source": [
    "s1=\"python \"\n",
    "s2=s1\n",
    "s3=\"python \"\n",
    "s4=\"python1\"\n",
    "print id(s1[0])\n",
    "print id(s2[0])\n",
    "print id(s3[0])\n",
    "print id(s4[0])"
   ]
  },
  {
   "cell_type": "code",
   "execution_count": 7,
   "metadata": {},
   "outputs": [
    {
     "name": "stdout",
     "output_type": "stream",
     "text": [
      "139636939647960\n",
      "139636939647960\n",
      "139636904661072\n"
     ]
    }
   ],
   "source": [
    "l1=[1000,2000,3000,4000]\n",
    "l2=l1\n",
    "l3=[1000,2000,3000,4000]\n",
    "print id(l1)\n",
    "print id(l2)\n",
    "print id(l3)"
   ]
  },
  {
   "cell_type": "code",
   "execution_count": 8,
   "metadata": {},
   "outputs": [
    {
     "name": "stdout",
     "output_type": "stream",
     "text": [
      "94800708293776 1000\n",
      "94800708293776 1000\n",
      "94800707572016 1000\n"
     ]
    }
   ],
   "source": [
    "l1=[1000,2000,3000,4000]\n",
    "l2=l1\n",
    "l3=[1000,2000,3000,4000]\n",
    "print id(l1[0]),l1[0]\n",
    "print id(l2[0]),l2[0]\n",
    "print id(l3[0]),l3[0]"
   ]
  },
  {
   "cell_type": "code",
   "execution_count": 11,
   "metadata": {},
   "outputs": [
    {
     "name": "stdout",
     "output_type": "stream",
     "text": [
      "[1000, 2000, 3000]\n",
      "[1000, 2000, 3000]\n",
      "[1000, 2000, 3000]\n",
      "[1000, 2000, 3000]\n",
      "[1000, 2000, 3000]\n"
     ]
    }
   ],
   "source": [
    "a=1000\n",
    "b=2000\n",
    "c=3000\n",
    "l1=[a,b,3000]\n",
    "l2=l1\n",
    "l3=[1000,2000,c]\n",
    "l4=[a,b,c]\n",
    "l5=[1000,2000,3000]\n",
    "print l1\n",
    "print l2\n",
    "print l3\n",
    "print l4\n",
    "print l5"
   ]
  },
  {
   "cell_type": "code",
   "execution_count": 12,
   "metadata": {},
   "outputs": [
    {
     "name": "stdout",
     "output_type": "stream",
     "text": [
      "[1000, 2000, 3000]\n",
      "[1000, 2000, 3000]\n",
      "[1000, 2000, 3000]\n",
      "[1000, 2000, 3000]\n",
      "[1000, 2000, 3000]\n",
      "94800707571728 3000\n",
      "94800707571728 3000\n"
     ]
    }
   ],
   "source": [
    "a=1000\n",
    "b=2000\n",
    "c=3000\n",
    "l1=[a,b,3000]\n",
    "l2=l1\n",
    "l3=[1000,2000,c]\n",
    "l4=[a,b,c]\n",
    "l5=[1000,2000,3000]\n",
    "print l1\n",
    "print l2\n",
    "print l3\n",
    "print l4\n",
    "print l5\n",
    "print id(l3[2]),l3[2]\n",
    "print id(c),c"
   ]
  },
  {
   "cell_type": "code",
   "execution_count": 13,
   "metadata": {},
   "outputs": [
    {
     "name": "stdout",
     "output_type": "stream",
     "text": [
      "[1000, 2000, 3000]\n",
      "[1000, 2000, 3000]\n",
      "[1000, 2000, 3000]\n",
      "[1000, 2000, 3000]\n",
      "[1000, 2000, 3000]\n",
      "94800707571752 3000\n",
      "94800707571752 3000\n",
      "94800707571320 3000\n",
      "94800707571752 3000\n"
     ]
    }
   ],
   "source": [
    "a=1000\n",
    "b=2000\n",
    "c=3000\n",
    "l1=[a,b,3000]\n",
    "l2=l1\n",
    "l3=[1000,2000,c]\n",
    "l4=[a,b,c]\n",
    "l5=[1000,2000,3000]\n",
    "print l1\n",
    "print l2\n",
    "print l3\n",
    "print l4\n",
    "print l5\n",
    "print id(l3[2]),l3[2]\n",
    "print id(c),c\n",
    "print id(l2[2]),l2[2]\n",
    "print id(c),c"
   ]
  },
  {
   "cell_type": "code",
   "execution_count": 14,
   "metadata": {
    "collapsed": true
   },
   "outputs": [],
   "source": [
    "a=1000\n",
    "b=2000\n",
    "l1=[a+b,b,c]\n",
    "l2=l1\n",
    "c=a\n",
    "l3=[a,b,c]\n",
    "s3=str(a+b) #\"3000\""
   ]
  },
  {
   "cell_type": "code",
   "execution_count": null,
   "metadata": {
    "collapsed": true
   },
   "outputs": [],
   "source": []
  }
 ],
 "metadata": {
  "kernelspec": {
   "display_name": "Python 2",
   "language": "python",
   "name": "python2"
  },
  "language_info": {
   "codemirror_mode": {
    "name": "ipython",
    "version": 2
   },
   "file_extension": ".py",
   "mimetype": "text/x-python",
   "name": "python",
   "nbconvert_exporter": "python",
   "pygments_lexer": "ipython2",
   "version": "2.7.14"
  }
 },
 "nbformat": 4,
 "nbformat_minor": 2
}
