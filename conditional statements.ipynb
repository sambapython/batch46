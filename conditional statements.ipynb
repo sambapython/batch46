{
 "cells": [
  {
   "cell_type": "code",
   "execution_count": 1,
   "metadata": {},
   "outputs": [
    {
     "name": "stdout",
     "output_type": "stream",
     "text": [
      "program started\n",
      "a is big\n",
      "b is big\n",
      "other statements in program\n",
      "program ended\n"
     ]
    }
   ],
   "source": [
    "# if .. if else... if elif .... if elif else\n",
    "print \"program started\"\n",
    "a=10\n",
    "b=20\n",
    "print \"a is big\"\n",
    "print \"b is big\"\n",
    "print \"other statements in program\"\n",
    "print \"program ended\""
   ]
  },
  {
   "cell_type": "code",
   "execution_count": 2,
   "metadata": {},
   "outputs": [
    {
     "name": "stdout",
     "output_type": "stream",
     "text": [
      "program started\n",
      "False\n",
      "b is big\n",
      "other statements in program\n",
      "program ended\n"
     ]
    }
   ],
   "source": [
    "# if .. if else... if elif .... if elif else\n",
    "print \"program started\"\n",
    "a=10\n",
    "b=20\n",
    "print a>b\n",
    "if a>b:\n",
    "    print \"a is big\"\n",
    "print \"b is big\"\n",
    "print \"other statements in program\"\n",
    "print \"program ended\""
   ]
  },
  {
   "cell_type": "code",
   "execution_count": 3,
   "metadata": {},
   "outputs": [
    {
     "name": "stdout",
     "output_type": "stream",
     "text": [
      "program started\n",
      "True\n",
      "a is big\n",
      "b is big\n",
      "other statements in program\n",
      "program ended\n"
     ]
    }
   ],
   "source": [
    "# if .. if else... if elif .... if elif else\n",
    "print \"program started\"\n",
    "a=100\n",
    "b=20\n",
    "print a>b\n",
    "if a>b:\n",
    "    print \"a is big\"\n",
    "print \"b is big\"\n",
    "print \"other statements in program\"\n",
    "print \"program ended\""
   ]
  },
  {
   "cell_type": "code",
   "execution_count": 4,
   "metadata": {},
   "outputs": [
    {
     "name": "stdout",
     "output_type": "stream",
     "text": [
      "program started\n",
      "True\n",
      "a is big\n",
      "other statements in program\n",
      "program ended\n"
     ]
    }
   ],
   "source": [
    "# if .. if else... if elif .... if elif else\n",
    "print \"program started\"\n",
    "a=100\n",
    "b=20\n",
    "print a>b\n",
    "if a>b:\n",
    "    print \"a is big\"\n",
    "if b>a:\n",
    "    print \"b is big\"\n",
    "print \"other statements in program\"\n",
    "print \"program ended\""
   ]
  },
  {
   "cell_type": "code",
   "execution_count": 5,
   "metadata": {},
   "outputs": [
    {
     "name": "stdout",
     "output_type": "stream",
     "text": [
      "program started\n",
      "True\n",
      "a is big\n",
      "other statements in program\n",
      "program ended\n"
     ]
    }
   ],
   "source": [
    "# if .. if else... if elif .... if elif else\n",
    "print \"program started\"\n",
    "a=100\n",
    "b=20\n",
    "print a>b\n",
    "if a>b:\n",
    "    print \"a is big\"\n",
    "else:\n",
    "    print \"b is big\"\n",
    "print \"other statements in program\"\n",
    "print \"program ended\""
   ]
  },
  {
   "cell_type": "code",
   "execution_count": 6,
   "metadata": {},
   "outputs": [
    {
     "name": "stdout",
     "output_type": "stream",
     "text": [
      "program started\n",
      "False\n",
      "b is big\n",
      "other statements in program\n",
      "program ended\n"
     ]
    }
   ],
   "source": [
    "# if .. if else... if elif .... if elif else\n",
    "print \"program started\"\n",
    "a=100\n",
    "b=200\n",
    "print a>b\n",
    "if a>b:\n",
    "    print \"a is big\"\n",
    "else:\n",
    "    print \"b is big\"\n",
    "print \"other statements in program\"\n",
    "print \"program ended\""
   ]
  },
  {
   "cell_type": "code",
   "execution_count": 7,
   "metadata": {},
   "outputs": [
    {
     "name": "stdout",
     "output_type": "stream",
     "text": [
      "program started\n",
      "False\n",
      "else block started\n",
      "b is big\n",
      "else block ended\n",
      "other statements in program\n",
      "program ended\n"
     ]
    }
   ],
   "source": [
    "# if .. if else... if elif .... if elif else\n",
    "print \"program started\"\n",
    "a=100\n",
    "b=200\n",
    "print a>b\n",
    "if a>b:\n",
    "    print \"if block started\"\n",
    "    print \"a is big\"\n",
    "    print \"if block ended\"\n",
    "else:\n",
    "    print \"else block started\"\n",
    "    print \"b is big\"\n",
    "    print \"else block ended\"\n",
    "print \"other statements in program\"\n",
    "print \"program ended\""
   ]
  },
  {
   "cell_type": "code",
   "execution_count": 8,
   "metadata": {},
   "outputs": [
    {
     "name": "stdout",
     "output_type": "stream",
     "text": [
      "program started\n",
      "False\n",
      "else block started\n",
      "b is big\n",
      "else block ended\n",
      "other statements in program\n",
      "program ended\n"
     ]
    }
   ],
   "source": [
    "# if .. if else... if elif .... if elif else\n",
    "print \"program started\"\n",
    "a=100\n",
    "b=200\n",
    "print a>b\n",
    "if a>b:\n",
    "    print \"if block started\"\n",
    "    print \"a is big\"\n",
    "    print \"if block ended\"\n",
    "else:\n",
    "    print \"else block started\"\n",
    "    print \"b is big\"\n",
    "print \"else block ended\"\n",
    "print \"other statements in program\"\n",
    "print \"program ended\""
   ]
  },
  {
   "cell_type": "code",
   "execution_count": 9,
   "metadata": {},
   "outputs": [
    {
     "name": "stdout",
     "output_type": "stream",
     "text": [
      "program started\n",
      "True\n",
      "if block started\n",
      "a is big\n",
      "if block ended\n",
      "else block ended\n",
      "other statements in program\n",
      "program ended\n"
     ]
    }
   ],
   "source": [
    "# if .. if else... if elif .... if elif else\n",
    "print \"program started\"\n",
    "a=1000\n",
    "b=200\n",
    "print a>b\n",
    "if a>b:\n",
    "    print \"if block started\"\n",
    "    print \"a is big\"\n",
    "    print \"if block ended\"\n",
    "else:\n",
    "    print \"else block started\"\n",
    "    print \"b is big\"\n",
    "print \"else block ended\"\n",
    "print \"other statements in program\"\n",
    "print \"program ended\""
   ]
  },
  {
   "cell_type": "code",
   "execution_count": 10,
   "metadata": {},
   "outputs": [
    {
     "name": "stdout",
     "output_type": "stream",
     "text": [
      "program started\n",
      "True\n",
      "if block started\n",
      "a is big\n",
      "if block ended\n",
      "other statements in program\n",
      "program ended\n"
     ]
    }
   ],
   "source": [
    "# if .. if else... if elif .... if elif else\n",
    "print \"program started\"\n",
    "a=1000\n",
    "b=200\n",
    "print a>b\n",
    "if a>b:\n",
    "    print \"if block started\"\n",
    "    print \"a is big\"\n",
    "    print \"if block ended\"\n",
    "else:\n",
    " print \"else block started\"\n",
    " print \"b is big\"\n",
    " print \"else block ended\"\n",
    "print \"other statements in program\"\n",
    "print \"program ended\""
   ]
  },
  {
   "cell_type": "code",
   "execution_count": 11,
   "metadata": {},
   "outputs": [
    {
     "name": "stdout",
     "output_type": "stream",
     "text": [
      "program started\n",
      "False\n",
      "else block started\n",
      "b is big\n",
      "else block ended\n",
      "other statements in program\n",
      "program ended\n"
     ]
    }
   ],
   "source": [
    "# if .. if else... if elif .... if elif else\n",
    "print \"program started\"\n",
    "a=100\n",
    "b=200\n",
    "print a>b\n",
    "if a>b:\n",
    "    print \"if block started\"\n",
    "    print \"a is big\"\n",
    "    print \"if block ended\"\n",
    "else:\n",
    " print \"else block started\"\n",
    " print \"b is big\"\n",
    " print \"else block ended\"\n",
    "print \"other statements in program\"\n",
    "print \"program ended\""
   ]
  },
  {
   "cell_type": "code",
   "execution_count": 12,
   "metadata": {},
   "outputs": [
    {
     "name": "stdout",
     "output_type": "stream",
     "text": [
      "program started\n",
      "False\n",
      "else block started\n",
      "b is big\n",
      "else block ended\n",
      "other statements in program\n",
      "program ended\n"
     ]
    }
   ],
   "source": [
    "# if .. if else... if elif .... if elif else\n",
    "print \"program started\"\n",
    "a=100\n",
    "b=200\n",
    "print a>b\n",
    "if a>b:\n",
    "    print \"if block started\"\n",
    "    print \"a is big\"\n",
    "    print \"if block ended\"\n",
    "else:\n",
    "    print \"else block started\"\n",
    "    print \"b is big\"\n",
    "    print \"else block ended\"\n",
    "print \"other statements in program\"\n",
    "print \"program ended\""
   ]
  },
  {
   "cell_type": "code",
   "execution_count": 13,
   "metadata": {},
   "outputs": [
    {
     "ename": "IndentationError",
     "evalue": "unindent does not match any outer indentation level (<ipython-input-13-f31b22a2c662>, line 12)",
     "output_type": "error",
     "traceback": [
      "\u001b[0;36m  File \u001b[0;32m\"<ipython-input-13-f31b22a2c662>\"\u001b[0;36m, line \u001b[0;32m12\u001b[0m\n\u001b[0;31m    print \"b is big\"\u001b[0m\n\u001b[0m                    ^\u001b[0m\n\u001b[0;31mIndentationError\u001b[0m\u001b[0;31m:\u001b[0m unindent does not match any outer indentation level\n"
     ]
    }
   ],
   "source": [
    "# if .. if else... if elif .... if elif else\n",
    "print \"program started\"\n",
    "a=100\n",
    "b=200\n",
    "print a>b\n",
    "if a>b:\n",
    "    print \"if block started\"\n",
    "    print \"a is big\"\n",
    "    print \"if block ended\"\n",
    "else:\n",
    "    print \"else block started\"\n",
    "  print \"b is big\"\n",
    "    print \"else block ended\"\n",
    "print \"other statements in program\"\n",
    "print \"program ended\""
   ]
  },
  {
   "cell_type": "code",
   "execution_count": 14,
   "metadata": {},
   "outputs": [
    {
     "name": "stdout",
     "output_type": "stream",
     "text": [
      "program started\n",
      "False\n",
      "else block started\n",
      "b is big\n",
      "else block ended\n",
      "other statements in program\n",
      "program ended\n"
     ]
    }
   ],
   "source": [
    "# if .. if else... if elif .... if elif else\n",
    "print \"program started\"\n",
    "a=100\n",
    "b=200\n",
    "print a>b\n",
    "if a>b:\n",
    "    print \"if block started\"\n",
    "    print \"a is big\"\n",
    "    print \"if block ended\"\n",
    "else:\n",
    "    print \"else block started\"\n",
    "    print \"b is big\"\n",
    "    print \"else block ended\"\n",
    "print \"other statements in program\"\n",
    "print \"program ended\""
   ]
  },
  {
   "cell_type": "code",
   "execution_count": 15,
   "metadata": {},
   "outputs": [
    {
     "ename": "IndentationError",
     "evalue": "unexpected indent (<ipython-input-15-f08c5b1cb79a>, line 13)",
     "output_type": "error",
     "traceback": [
      "\u001b[0;36m  File \u001b[0;32m\"<ipython-input-15-f08c5b1cb79a>\"\u001b[0;36m, line \u001b[0;32m13\u001b[0m\n\u001b[0;31m    print \"else block ended\"\u001b[0m\n\u001b[0m    ^\u001b[0m\n\u001b[0;31mIndentationError\u001b[0m\u001b[0;31m:\u001b[0m unexpected indent\n"
     ]
    }
   ],
   "source": [
    "# if .. if else... if elif .... if elif else\n",
    "print \"program started\"\n",
    "a=100\n",
    "b=200\n",
    "print a>b\n",
    "if a>b:\n",
    "    print \"if block started\"\n",
    "    print \"a is big\"\n",
    "    print \"if block ended\"\n",
    "else:\n",
    "    print \"else block started\"\n",
    "print \"b is big\"\n",
    "    print \"else block ended\"\n",
    "print \"other statements in program\"\n",
    "print \"program ended\""
   ]
  },
  {
   "cell_type": "code",
   "execution_count": 16,
   "metadata": {},
   "outputs": [
    {
     "ename": "IndentationError",
     "evalue": "unexpected indent (<ipython-input-16-1c08fe7d9e5a>, line 2)",
     "output_type": "error",
     "traceback": [
      "\u001b[0;36m  File \u001b[0;32m\"<ipython-input-16-1c08fe7d9e5a>\"\u001b[0;36m, line \u001b[0;32m2\u001b[0m\n\u001b[0;31m    print \"program started\"\u001b[0m\n\u001b[0m    ^\u001b[0m\n\u001b[0;31mIndentationError\u001b[0m\u001b[0;31m:\u001b[0m unexpected indent\n"
     ]
    }
   ],
   "source": [
    "# if .. if else... if elif .... if elif else\n",
    "    print \"program started\"\n",
    "a=100\n",
    "b=200\n",
    "print a>b\n",
    "if a>b:\n",
    "    print \"if block started\"\n",
    "    print \"a is big\"\n",
    "    print \"if block ended\"\n",
    "else:\n",
    "    print \"else block started\"\n",
    "    print \"b is big\"\n",
    "    print \"else block ended\"\n",
    "print \"other statements in program\"\n",
    "print \"program ended\""
   ]
  },
  {
   "cell_type": "code",
   "execution_count": 17,
   "metadata": {},
   "outputs": [
    {
     "name": "stdout",
     "output_type": "stream",
     "text": [
      "program started\n",
      "False\n",
      "other statements in program\n",
      "program ended\n"
     ]
    }
   ],
   "source": [
    "# if .. if else... if elif .... if elif else\n",
    "print \"program started\"\n",
    "a=100\n",
    "b=200\n",
    "print a>b\n",
    "if a>b:\n",
    "    print \"if block started\"\n",
    "    print \"a is big\"\n",
    "    print \"if block ended\"\n",
    "\n",
    "print \"other statements in program\"\n",
    "print \"program ended\""
   ]
  },
  {
   "cell_type": "code",
   "execution_count": 19,
   "metadata": {},
   "outputs": [
    {
     "name": "stdout",
     "output_type": "stream",
     "text": [
      "program started\n",
      "True\n",
      "if block started\n",
      "a is big\n",
      "if block ended\n",
      "other statements in program\n",
      "program ended\n"
     ]
    }
   ],
   "source": [
    "# if .. if else... if elif .... if elif else\n",
    "print \"program started\"\n",
    "a=1000\n",
    "b=200\n",
    "print a>b\n",
    "if a>b:\n",
    "    print \"if block started\"\n",
    "    print \"a is big\"\n",
    "    print \"if block ended\"\n",
    "\n",
    "print \"other statements in program\"\n",
    "print \"program ended\""
   ]
  },
  {
   "cell_type": "code",
   "execution_count": 20,
   "metadata": {},
   "outputs": [
    {
     "ename": "SyntaxError",
     "evalue": "invalid syntax (<ipython-input-20-bfc31ae2dafc>, line 12)",
     "output_type": "error",
     "traceback": [
      "\u001b[0;36m  File \u001b[0;32m\"<ipython-input-20-bfc31ae2dafc>\"\u001b[0;36m, line \u001b[0;32m12\u001b[0m\n\u001b[0;31m    else:\u001b[0m\n\u001b[0m       ^\u001b[0m\n\u001b[0;31mSyntaxError\u001b[0m\u001b[0;31m:\u001b[0m invalid syntax\n"
     ]
    }
   ],
   "source": [
    "# if .. if else... if elif .... if elif else\n",
    "print \"program started\"\n",
    "a=100\n",
    "b=200\n",
    "print a>b\n",
    "if a>b:\n",
    "    print \"if block started\"\n",
    "    print \"a is big\"\n",
    "\n",
    "print \"if block ended\"\n",
    "\n",
    "else:\n",
    "    print \"else block started\"\n",
    "    print \"b is big\"\n",
    "    print \"else block ended\"\n",
    "print \"other statements in program\"\n",
    "print \"program ended\""
   ]
  },
  {
   "cell_type": "code",
   "execution_count": 21,
   "metadata": {},
   "outputs": [
    {
     "name": "stdout",
     "output_type": "stream",
     "text": [
      "program started\n",
      "False\n",
      "else block started\n",
      "b is big\n",
      "else block ended\n",
      "other statements in program\n",
      "program ended\n"
     ]
    }
   ],
   "source": [
    "# if .. if else... if elif .... if elif else\n",
    "print \"program started\"\n",
    "a=100\n",
    "b=200\n",
    "print a>b\n",
    "if a>b:\n",
    "    print \"if block started\"\n",
    "    print \"a is big\"\n",
    "    print \"if block ended\"\n",
    "else:\n",
    "    print \"else block started\"\n",
    "    print \"b is big\"\n",
    "    print \"else block ended\"\n",
    "print \"other statements in program\"\n",
    "print \"program ended\""
   ]
  },
  {
   "cell_type": "code",
   "execution_count": 22,
   "metadata": {},
   "outputs": [
    {
     "name": "stdout",
     "output_type": "stream",
     "text": [
      "OPERATIONS\n",
      "\t1.ADD\n",
      "\t2.MUL\n",
      "\t3.SUB\n",
      "\t4.DIV\n"
     ]
    }
   ],
   "source": [
    "a=10\n",
    "b=20\n",
    "print \"OPERATIONS\\n\\t1.ADD\\n\\t2.MUL\\n\\t3.SUB\\n\\t4.DIV\""
   ]
  },
  {
   "cell_type": "code",
   "execution_count": 23,
   "metadata": {},
   "outputs": [
    {
     "name": "stdout",
     "output_type": "stream",
     "text": [
      "OPERATIONS\n",
      "\t1.ADD\n",
      "\t2.MUL\n",
      "\t3.SUB\n",
      "\t4.DIV\n",
      "Enter an option:1\n"
     ]
    }
   ],
   "source": [
    "a=10\n",
    "b=20\n",
    "opt=raw_input(\"OPERATIONS\\n\\t1.ADD\\n\\t2.MUL\\n\\t3.SUB\\n\\t4.DIV\\nEnter an option:\")\n"
   ]
  },
  {
   "cell_type": "code",
   "execution_count": 25,
   "metadata": {},
   "outputs": [
    {
     "name": "stdout",
     "output_type": "stream",
     "text": [
      "OPERATIONS\n",
      "\t1.ADD\n",
      "\t2.MUL\n",
      "\t3.SUB\n",
      "\t4.DIV\n",
      "Enter an option:1\n",
      "Thank you.. Have a nice day..\n"
     ]
    }
   ],
   "source": [
    "a=10\n",
    "b=20\n",
    "opt=raw_input(\"OPERATIONS\\n\\t1.ADD\\n\\t2.MUL\\n\\t3.SUB\\n\\t4.DIV\\nEnter an option:\")\n",
    "if opt==1:\n",
    "    print \"Adding a=%s, b=%s values:\"%(a,b)\n",
    "    res=a+b\n",
    "    print \"resul=%s\"%res\n",
    "if opt==2:\n",
    "    print \"multiplying a=%s, b=%s values:\"%(a,b)\n",
    "    res=a*b\n",
    "    print \"resul=%s\"%res\n",
    "if opt==3:\n",
    "    print \"substracting a=%s, b=%s values:\"%(a,b)\n",
    "    res=a+b\n",
    "    print \"resul=%s\"%res\n",
    "if opt==4:\n",
    "    print \"dividing a=%s, b=%s values:\"%(a,b)\n",
    "    res=a+b\n",
    "    print \"resul=%s\"%res\n",
    "print \"Thank you.. Have a nice day..\""
   ]
  },
  {
   "cell_type": "code",
   "execution_count": 26,
   "metadata": {},
   "outputs": [
    {
     "name": "stdout",
     "output_type": "stream",
     "text": [
      "OPERATIONS\n",
      "\t1.ADD\n",
      "\t2.MUL\n",
      "\t3.SUB\n",
      "\t4.DIV\n",
      "Enter an option:1\n",
      "Adding a=10, b=20 values:\n",
      "resul=30\n",
      "Thank you.. Have a nice day..\n"
     ]
    }
   ],
   "source": [
    "a=10\n",
    "b=20\n",
    "opt=raw_input(\"OPERATIONS\\n\\t1.ADD\\n\\t2.MUL\\n\\t3.SUB\\n\\t4.DIV\\nEnter an option:\")\n",
    "if opt==\"1\":\n",
    "    print \"Adding a=%s, b=%s values:\"%(a,b)\n",
    "    res=a+b\n",
    "    print \"resul=%s\"%res\n",
    "if opt==\"2\":\n",
    "    print \"multiplying a=%s, b=%s values:\"%(a,b)\n",
    "    res=a*b\n",
    "    print \"resul=%s\"%res\n",
    "if opt==\"3\":\n",
    "    print \"substracting a=%s, b=%s values:\"%(a,b)\n",
    "    res=a+b\n",
    "    print \"resul=%s\"%res\n",
    "if opt==\"4\":\n",
    "    print \"dividing a=%s, b=%s values:\"%(a,b)\n",
    "    res=a+b\n",
    "    print \"resul=%s\"%res\n",
    "print \"Thank you.. Have a nice day..\""
   ]
  },
  {
   "cell_type": "code",
   "execution_count": 27,
   "metadata": {},
   "outputs": [
    {
     "name": "stdout",
     "output_type": "stream",
     "text": [
      "OPERATIONS\n",
      "\t1.ADD\n",
      "\t2.MUL\n",
      "\t3.SUB\n",
      "\t4.DIV\n",
      "Enter an option:2\n",
      "multiplying a=10, b=20 values:\n",
      "resul=200\n",
      "Thank you.. Have a nice day..\n"
     ]
    }
   ],
   "source": [
    "a=10\n",
    "b=20\n",
    "opt=raw_input(\"OPERATIONS\\n\\t1.ADD\\n\\t2.MUL\\n\\t3.SUB\\n\\t4.DIV\\nEnter an option:\")\n",
    "if opt==\"1\":\n",
    "    print \"Adding a=%s, b=%s values:\"%(a,b)\n",
    "    res=a+b\n",
    "    print \"resul=%s\"%res\n",
    "if opt==\"2\":\n",
    "    print \"multiplying a=%s, b=%s values:\"%(a,b)\n",
    "    res=a*b\n",
    "    print \"resul=%s\"%res\n",
    "if opt==\"3\":\n",
    "    print \"substracting a=%s, b=%s values:\"%(a,b)\n",
    "    res=a+b\n",
    "    print \"resul=%s\"%res\n",
    "if opt==\"4\":\n",
    "    print \"dividing a=%s, b=%s values:\"%(a,b)\n",
    "    res=a+b\n",
    "    print \"resul=%s\"%res\n",
    "print \"Thank you.. Have a nice day..\""
   ]
  },
  {
   "cell_type": "code",
   "execution_count": 29,
   "metadata": {},
   "outputs": [
    {
     "name": "stdout",
     "output_type": "stream",
     "text": [
      "OPERATIONS\n",
      "\t1.ADD\n",
      "\t2.MUL\n",
      "\t3.SUB\n",
      "\t4.DIV\n",
      "Enter an option:3\n",
      "substracting a=10, b=20 values:\n",
      "resul=-10\n",
      "Thank you.. Have a nice day..\n"
     ]
    }
   ],
   "source": [
    "a=10\n",
    "b=20\n",
    "opt=raw_input(\"OPERATIONS\\n\\t1.ADD\\n\\t2.MUL\\n\\t3.SUB\\n\\t4.DIV\\nEnter an option:\")\n",
    "if opt==\"1\":\n",
    "    print \"Adding a=%s, b=%s values:\"%(a,b)\n",
    "    res=a+b\n",
    "    print \"resul=%s\"%res\n",
    "if opt==\"2\":\n",
    "    print \"multiplying a=%s, b=%s values:\"%(a,b)\n",
    "    res=a*b\n",
    "    print \"resul=%s\"%res\n",
    "if opt==\"3\":\n",
    "    print \"substracting a=%s, b=%s values:\"%(a,b)\n",
    "    res=a-b\n",
    "    print \"resul=%s\"%res\n",
    "if opt==\"4\":\n",
    "    print \"dividing a=%s, b=%s values:\"%(a,b)\n",
    "    res=a/b\n",
    "    print \"resul=%s\"%res\n",
    "print \"Thank you.. Have a nice day..\""
   ]
  },
  {
   "cell_type": "code",
   "execution_count": 30,
   "metadata": {},
   "outputs": [
    {
     "name": "stdout",
     "output_type": "stream",
     "text": [
      "OPERATIONS\n",
      "\t1.ADD\n",
      "\t2.MUL\n",
      "\t3.SUB\n",
      "\t4.DIV\n",
      "Enter an option:4\n",
      "dividing a=10, b=20 values:\n",
      "resul=0\n",
      "Thank you.. Have a nice day..\n"
     ]
    }
   ],
   "source": [
    "a=10\n",
    "b=20\n",
    "opt=raw_input(\"OPERATIONS\\n\\t1.ADD\\n\\t2.MUL\\n\\t3.SUB\\n\\t4.DIV\\nEnter an option:\")\n",
    "if opt==\"1\":\n",
    "    print \"Adding a=%s, b=%s values:\"%(a,b)\n",
    "    res=a+b\n",
    "    print \"resul=%s\"%res\n",
    "if opt==\"2\":\n",
    "    print \"multiplying a=%s, b=%s values:\"%(a,b)\n",
    "    res=a*b\n",
    "    print \"resul=%s\"%res\n",
    "if opt==\"3\":\n",
    "    print \"substracting a=%s, b=%s values:\"%(a,b)\n",
    "    res=a-b\n",
    "    print \"resul=%s\"%res\n",
    "if opt==\"4\":\n",
    "    print \"dividing a=%s, b=%s values:\"%(a,b)\n",
    "    res=a/b\n",
    "    print \"resul=%s\"%res\n",
    "print \"Thank you.. Have a nice day..\""
   ]
  },
  {
   "cell_type": "code",
   "execution_count": 31,
   "metadata": {},
   "outputs": [
    {
     "name": "stdout",
     "output_type": "stream",
     "text": [
      "OPERATIONS\n",
      "\t1.ADD\n",
      "\t2.MUL\n",
      "\t3.SUB\n",
      "\t4.DIV\n",
      "Enter an option:4\n",
      "dividing a=10, b=20 values:\n",
      "resul=0.5\n",
      "Thank you.. Have a nice day..\n"
     ]
    }
   ],
   "source": [
    "a=10\n",
    "b=20\n",
    "opt=raw_input(\"OPERATIONS\\n\\t1.ADD\\n\\t2.MUL\\n\\t3.SUB\\n\\t4.DIV\\nEnter an option:\")\n",
    "if opt==\"1\":\n",
    "    print \"Adding a=%s, b=%s values:\"%(a,b)\n",
    "    res=a+b\n",
    "    print \"resul=%s\"%res\n",
    "if opt==\"2\":\n",
    "    print \"multiplying a=%s, b=%s values:\"%(a,b)\n",
    "    res=a*b\n",
    "    print \"resul=%s\"%res\n",
    "if opt==\"3\":\n",
    "    print \"substracting a=%s, b=%s values:\"%(a,b)\n",
    "    res=a-b\n",
    "    print \"resul=%s\"%res\n",
    "if opt==\"4\":\n",
    "    print \"dividing a=%s, b=%s values:\"%(a,b)\n",
    "    res=a/float(b)\n",
    "    print \"resul=%s\"%res\n",
    "print \"Thank you.. Have a nice day..\""
   ]
  },
  {
   "cell_type": "code",
   "execution_count": 32,
   "metadata": {},
   "outputs": [
    {
     "name": "stdout",
     "output_type": "stream",
     "text": [
      "OPERATIONS\n",
      "\t1.ADD\n",
      "\t2.MUL\n",
      "\t3.SUB\n",
      "\t4.DIV\n",
      "Enter an option:5\n",
      "Thank you.. Have a nice day..\n"
     ]
    }
   ],
   "source": [
    "a=10\n",
    "b=20\n",
    "opt=raw_input(\"OPERATIONS\\n\\t1.ADD\\n\\t2.MUL\\n\\t3.SUB\\n\\t4.DIV\\nEnter an option:\")\n",
    "if opt==\"1\":\n",
    "    print \"Adding a=%s, b=%s values:\"%(a,b)\n",
    "    res=a+b\n",
    "    print \"resul=%s\"%res\n",
    "if opt==\"2\":\n",
    "    print \"multiplying a=%s, b=%s values:\"%(a,b)\n",
    "    res=a*b\n",
    "    print \"resul=%s\"%res\n",
    "if opt==\"3\":\n",
    "    print \"substracting a=%s, b=%s values:\"%(a,b)\n",
    "    res=a-b\n",
    "    print \"resul=%s\"%res\n",
    "if opt==\"4\":\n",
    "    print \"dividing a=%s, b=%s values:\"%(a,b)\n",
    "    res=a/float(b)\n",
    "    print \"resul=%s\"%res\n",
    "print \"Thank you.. Have a nice day..\""
   ]
  },
  {
   "cell_type": "code",
   "execution_count": 33,
   "metadata": {},
   "outputs": [
    {
     "name": "stdout",
     "output_type": "stream",
     "text": [
      "OPERATIONS\n",
      "\t1.ADD\n",
      "\t2.MUL\n",
      "\t3.SUB\n",
      "\t4.DIV\n",
      "Enter an option:1\n",
      "Adding a=10, b=20 values:\n",
      "resul=30\n",
      "choose 1 or 2 or 3 or 4\n",
      "Thank you.. Have a nice day..\n"
     ]
    }
   ],
   "source": [
    "a=10\n",
    "b=20\n",
    "opt=raw_input(\"OPERATIONS\\n\\t1.ADD\\n\\t2.MUL\\n\\t3.SUB\\n\\t4.DIV\\nEnter an option:\")\n",
    "if opt==\"1\":\n",
    "    print \"Adding a=%s, b=%s values:\"%(a,b)\n",
    "    res=a+b\n",
    "    print \"resul=%s\"%res\n",
    "if opt==\"2\":\n",
    "    print \"multiplying a=%s, b=%s values:\"%(a,b)\n",
    "    res=a*b\n",
    "    print \"resul=%s\"%res\n",
    "if opt==\"3\":\n",
    "    print \"substracting a=%s, b=%s values:\"%(a,b)\n",
    "    res=a-b\n",
    "    print \"resul=%s\"%res\n",
    "if opt==\"4\":\n",
    "    print \"dividing a=%s, b=%s values:\"%(a,b)\n",
    "    res=a/float(b)\n",
    "    print \"resul=%s\"%res\n",
    "print \"choose 1 or 2 or 3 or 4\"\n",
    "print \"Thank you.. Have a nice day..\""
   ]
  },
  {
   "cell_type": "code",
   "execution_count": 34,
   "metadata": {},
   "outputs": [
    {
     "name": "stdout",
     "output_type": "stream",
     "text": [
      "OPERATIONS\n",
      "\t1.ADD\n",
      "\t2.MUL\n",
      "\t3.SUB\n",
      "\t4.DIV\n",
      "Enter an option:5\n",
      "choose 1 or 2 or 3 or 4\n",
      "Thank you.. Have a nice day..\n"
     ]
    }
   ],
   "source": [
    "a=10\n",
    "b=20\n",
    "opt=raw_input(\"OPERATIONS\\n\\t1.ADD\\n\\t2.MUL\\n\\t3.SUB\\n\\t4.DIV\\nEnter an option:\")\n",
    "if opt==\"1\":\n",
    "    print \"Adding a=%s, b=%s values:\"%(a,b)\n",
    "    res=a+b\n",
    "    print \"resul=%s\"%res\n",
    "if opt==\"2\":\n",
    "    print \"multiplying a=%s, b=%s values:\"%(a,b)\n",
    "    res=a*b\n",
    "    print \"resul=%s\"%res\n",
    "if opt==\"3\":\n",
    "    print \"substracting a=%s, b=%s values:\"%(a,b)\n",
    "    res=a-b\n",
    "    print \"resul=%s\"%res\n",
    "if opt==\"4\":\n",
    "    print \"dividing a=%s, b=%s values:\"%(a,b)\n",
    "    res=a/float(b)\n",
    "    print \"resul=%s\"%res\n",
    "print \"choose 1 or 2 or 3 or 4\"\n",
    "print \"Thank you.. Have a nice day..\""
   ]
  },
  {
   "cell_type": "code",
   "execution_count": 35,
   "metadata": {},
   "outputs": [
    {
     "name": "stdout",
     "output_type": "stream",
     "text": [
      "OPERATIONS\n",
      "\t1.ADD\n",
      "\t2.MUL\n",
      "\t3.SUB\n",
      "\t4.DIV\n",
      "Enter an option:3\n",
      "substracting a=10, b=20 values:\n",
      "resul=-10\n",
      "choose 1 or 2 or 3 or 4\n",
      "Thank you.. Have a nice day..\n"
     ]
    }
   ],
   "source": [
    "a=10\n",
    "b=20\n",
    "opt=raw_input(\"OPERATIONS\\n\\t1.ADD\\n\\t2.MUL\\n\\t3.SUB\\n\\t4.DIV\\nEnter an option:\")\n",
    "if opt==\"1\":\n",
    "    print \"Adding a=%s, b=%s values:\"%(a,b)\n",
    "    res=a+b\n",
    "    print \"resul=%s\"%res\n",
    "if opt==\"2\":\n",
    "    print \"multiplying a=%s, b=%s values:\"%(a,b)\n",
    "    res=a*b\n",
    "    print \"resul=%s\"%res\n",
    "if opt==\"3\":\n",
    "    print \"substracting a=%s, b=%s values:\"%(a,b)\n",
    "    res=a-b\n",
    "    print \"resul=%s\"%res\n",
    "if opt==\"4\":\n",
    "    print \"dividing a=%s, b=%s values:\"%(a,b)\n",
    "    res=a/float(b)\n",
    "    print \"resul=%s\"%res\n",
    "print \"choose 1 or 2 or 3 or 4\"\n",
    "print \"Thank you.. Have a nice day..\""
   ]
  },
  {
   "cell_type": "code",
   "execution_count": 36,
   "metadata": {},
   "outputs": [
    {
     "name": "stdout",
     "output_type": "stream",
     "text": [
      "OPERATIONS\n",
      "\t1.ADD\n",
      "\t2.MUL\n",
      "\t3.SUB\n",
      "\t4.DIV\n",
      "Enter an option:5\n",
      "choose 1 or 2 or 3 or 4\n",
      "Thank you.. Have a nice day..\n"
     ]
    }
   ],
   "source": [
    "a=10\n",
    "b=20\n",
    "opt=raw_input(\"OPERATIONS\\n\\t1.ADD\\n\\t2.MUL\\n\\t3.SUB\\n\\t4.DIV\\nEnter an option:\")\n",
    "if opt==\"1\":\n",
    "    print \"Adding a=%s, b=%s values:\"%(a,b)\n",
    "    res=a+b\n",
    "    print \"resul=%s\"%res\n",
    "if opt==\"2\":\n",
    "    print \"multiplying a=%s, b=%s values:\"%(a,b)\n",
    "    res=a*b\n",
    "    print \"resul=%s\"%res\n",
    "if opt==\"3\":\n",
    "    print \"substracting a=%s, b=%s values:\"%(a,b)\n",
    "    res=a-b\n",
    "    print \"resul=%s\"%res\n",
    "if opt==\"4\":\n",
    "    print \"dividing a=%s, b=%s values:\"%(a,b)\n",
    "    res=a/float(b)\n",
    "    print \"resul=%s\"%res\n",
    "else:\n",
    "    print \"choose 1 or 2 or 3 or 4\"\n",
    "print \"Thank you.. Have a nice day..\""
   ]
  },
  {
   "cell_type": "code",
   "execution_count": 37,
   "metadata": {},
   "outputs": [
    {
     "name": "stdout",
     "output_type": "stream",
     "text": [
      "OPERATIONS\n",
      "\t1.ADD\n",
      "\t2.MUL\n",
      "\t3.SUB\n",
      "\t4.DIV\n",
      "Enter an option:4\n",
      "dividing a=10, b=20 values:\n",
      "resul=0.5\n",
      "Thank you.. Have a nice day..\n"
     ]
    }
   ],
   "source": [
    "a=10\n",
    "b=20\n",
    "opt=raw_input(\"OPERATIONS\\n\\t1.ADD\\n\\t2.MUL\\n\\t3.SUB\\n\\t4.DIV\\nEnter an option:\")\n",
    "if opt==\"1\":\n",
    "    print \"Adding a=%s, b=%s values:\"%(a,b)\n",
    "    res=a+b\n",
    "    print \"resul=%s\"%res\n",
    "if opt==\"2\":\n",
    "    print \"multiplying a=%s, b=%s values:\"%(a,b)\n",
    "    res=a*b\n",
    "    print \"resul=%s\"%res\n",
    "if opt==\"3\":\n",
    "    print \"substracting a=%s, b=%s values:\"%(a,b)\n",
    "    res=a-b\n",
    "    print \"resul=%s\"%res\n",
    "if opt==\"4\":\n",
    "    print \"dividing a=%s, b=%s values:\"%(a,b)\n",
    "    res=a/float(b)\n",
    "    print \"resul=%s\"%res\n",
    "else:\n",
    "    print \"choose 1 or 2 or 3 or 4\"\n",
    "print \"Thank you.. Have a nice day..\""
   ]
  },
  {
   "cell_type": "code",
   "execution_count": 38,
   "metadata": {},
   "outputs": [
    {
     "name": "stdout",
     "output_type": "stream",
     "text": [
      "OPERATIONS\n",
      "\t1.ADD\n",
      "\t2.MUL\n",
      "\t3.SUB\n",
      "\t4.DIV\n",
      "Enter an option:3\n",
      "substracting a=10, b=20 values:\n",
      "resul=-10\n",
      "choose 1 or 2 or 3 or 4\n",
      "Thank you.. Have a nice day..\n"
     ]
    }
   ],
   "source": [
    "a=10\n",
    "b=20\n",
    "opt=raw_input(\"OPERATIONS\\n\\t1.ADD\\n\\t2.MUL\\n\\t3.SUB\\n\\t4.DIV\\nEnter an option:\")\n",
    "if opt==\"1\":\n",
    "    print \"Adding a=%s, b=%s values:\"%(a,b)\n",
    "    res=a+b\n",
    "    print \"resul=%s\"%res\n",
    "if opt==\"2\":\n",
    "    print \"multiplying a=%s, b=%s values:\"%(a,b)\n",
    "    res=a*b\n",
    "    print \"resul=%s\"%res\n",
    "if opt==\"3\":\n",
    "    print \"substracting a=%s, b=%s values:\"%(a,b)\n",
    "    res=a-b\n",
    "    print \"resul=%s\"%res\n",
    "if opt==\"4\":\n",
    "    print \"dividing a=%s, b=%s values:\"%(a,b)\n",
    "    res=a/float(b)\n",
    "    print \"resul=%s\"%res\n",
    "else:\n",
    "    print \"choose 1 or 2 or 3 or 4\"\n",
    "print \"Thank you.. Have a nice day..\""
   ]
  },
  {
   "cell_type": "code",
   "execution_count": 40,
   "metadata": {},
   "outputs": [
    {
     "name": "stdout",
     "output_type": "stream",
     "text": [
      "OPERATIONS\n",
      "\t1.ADD\n",
      "\t2.MUL\n",
      "\t3.SUB\n",
      "\t4.DIV\n",
      "Enter an option:2\n",
      "multiplying a=10, b=20 values:\n",
      "resul=200\n",
      "Thank you.. Have a nice day..\n"
     ]
    }
   ],
   "source": [
    "a=10\n",
    "b=20\n",
    "opt=raw_input(\"OPERATIONS\\n\\t1.ADD\\n\\t2.MUL\\n\\t3.SUB\\n\\t4.DIV\\nEnter an option:\")\n",
    "if opt not in [\"1\",\"2\",\"3\",\"4\"]:\n",
    "    print \"Chose  1 or 2 or 3 or 4\"\n",
    "if opt==\"1\":\n",
    "    print \"Adding a=%s, b=%s values:\"%(a,b)\n",
    "    res=a+b\n",
    "    print \"resul=%s\"%res\n",
    "if opt==\"2\":\n",
    "    print \"multiplying a=%s, b=%s values:\"%(a,b)\n",
    "    res=a*b\n",
    "    print \"resul=%s\"%res\n",
    "if opt==\"3\":\n",
    "    print \"substracting a=%s, b=%s values:\"%(a,b)\n",
    "    res=a-b\n",
    "    print \"resul=%s\"%res\n",
    "if opt==\"4\":\n",
    "    print \"dividing a=%s, b=%s values:\"%(a,b)\n",
    "    res=a/float(b)\n",
    "    print \"resul=%s\"%res\n",
    "\n",
    "print \"Thank you.. Have a nice day..\""
   ]
  },
  {
   "cell_type": "code",
   "execution_count": 41,
   "metadata": {},
   "outputs": [
    {
     "name": "stdout",
     "output_type": "stream",
     "text": [
      "OPERATIONS\n",
      "\t1.ADD\n",
      "\t2.MUL\n",
      "\t3.SUB\n",
      "\t4.DIV\n",
      "Enter an option:6\n",
      "Chose  1 or 2 or 3 or 4\n",
      "Thank you.. Have a nice day..\n"
     ]
    }
   ],
   "source": [
    "a=10\n",
    "b=20\n",
    "opt=raw_input(\"OPERATIONS\\n\\t1.ADD\\n\\t2.MUL\\n\\t3.SUB\\n\\t4.DIV\\nEnter an option:\")\n",
    "if opt not in [\"1\",\"2\",\"3\",\"4\"]:\n",
    "    print \"Chose  1 or 2 or 3 or 4\"\n",
    "if opt==\"1\":\n",
    "    print \"Adding a=%s, b=%s values:\"%(a,b)\n",
    "    res=a+b\n",
    "    print \"resul=%s\"%res\n",
    "if opt==\"2\":\n",
    "    print \"multiplying a=%s, b=%s values:\"%(a,b)\n",
    "    res=a*b\n",
    "    print \"resul=%s\"%res\n",
    "if opt==\"3\":\n",
    "    print \"substracting a=%s, b=%s values:\"%(a,b)\n",
    "    res=a-b\n",
    "    print \"resul=%s\"%res\n",
    "if opt==\"4\":\n",
    "    print \"dividing a=%s, b=%s values:\"%(a,b)\n",
    "    res=a/float(b)\n",
    "    print \"resul=%s\"%res\n",
    "\n",
    "print \"Thank you.. Have a nice day..\""
   ]
  },
  {
   "cell_type": "code",
   "execution_count": 42,
   "metadata": {},
   "outputs": [
    {
     "name": "stdout",
     "output_type": "stream",
     "text": [
      "OPERATIONS\n",
      "\t1.ADD\n",
      "\t2.MUL\n",
      "\t3.SUB\n",
      "\t4.DIV\n",
      "Enter an option:2\n",
      "multiplying a=10, b=20 values:\n",
      "resul=200\n",
      "Thank you.. Have a nice day..\n"
     ]
    }
   ],
   "source": [
    "a=10\n",
    "b=20\n",
    "opt=raw_input(\"OPERATIONS\\n\\t1.ADD\\n\\t2.MUL\\n\\t3.SUB\\n\\t4.DIV\\nEnter an option:\")\n",
    "if opt in [\"1\",\"2\",\"3\",\"4\"]:\n",
    "    if opt==\"1\":\n",
    "        print \"Adding a=%s, b=%s values:\"%(a,b)\n",
    "        res=a+b\n",
    "        print \"resul=%s\"%res\n",
    "    if opt==\"2\":\n",
    "        print \"multiplying a=%s, b=%s values:\"%(a,b)\n",
    "        res=a*b\n",
    "        print \"resul=%s\"%res\n",
    "    if opt==\"3\":\n",
    "        print \"substracting a=%s, b=%s values:\"%(a,b)\n",
    "        res=a-b\n",
    "        print \"resul=%s\"%res\n",
    "    if opt==\"4\":\n",
    "        print \"dividing a=%s, b=%s values:\"%(a,b)\n",
    "        res=a/float(b)\n",
    "        print \"resul=%s\"%res\n",
    "else:\n",
    "    print \"Chose  1 or 2 or 3 or 4\"\n",
    "\n",
    "print \"Thank you.. Have a nice day..\""
   ]
  },
  {
   "cell_type": "code",
   "execution_count": 43,
   "metadata": {},
   "outputs": [
    {
     "data": {
      "text/plain": [
       "True"
      ]
     },
     "execution_count": 43,
     "metadata": {},
     "output_type": "execute_result"
    }
   ],
   "source": [
    "2 in [1,2,3,4]"
   ]
  },
  {
   "cell_type": "code",
   "execution_count": 44,
   "metadata": {},
   "outputs": [
    {
     "data": {
      "text/plain": [
       "False"
      ]
     },
     "execution_count": 44,
     "metadata": {},
     "output_type": "execute_result"
    }
   ],
   "source": [
    "20 in [1,2,3,4]"
   ]
  },
  {
   "cell_type": "code",
   "execution_count": 45,
   "metadata": {},
   "outputs": [
    {
     "name": "stdout",
     "output_type": "stream",
     "text": [
      "OPERATIONS\n",
      "\t1.ADD\n",
      "\t2.MUL\n",
      "\t3.SUB\n",
      "\t4.DIV\n",
      "Enter an option:2\n",
      "multiplying a=10, b=20 values:\n",
      "resul=200\n",
      "Thank you.. Have a nice day..\n"
     ]
    }
   ],
   "source": [
    "a=10\n",
    "b=20\n",
    "opt=raw_input(\"OPERATIONS\\n\\t1.ADD\\n\\t2.MUL\\n\\t3.SUB\\n\\t4.DIV\\nEnter an option:\")\n",
    "if opt==\"1\":\n",
    "    print \"Adding a=%s, b=%s values:\"%(a,b)\n",
    "    res=a+b\n",
    "    print \"resul=%s\"%res\n",
    "elif opt==\"2\":\n",
    "    print \"multiplying a=%s, b=%s values:\"%(a,b)\n",
    "    res=a*b\n",
    "    print \"resul=%s\"%res\n",
    "elif opt==\"3\":\n",
    "    print \"substracting a=%s, b=%s values:\"%(a,b)\n",
    "    res=a-b\n",
    "    print \"resul=%s\"%res\n",
    "elif opt==\"4\":\n",
    "    print \"dividing a=%s, b=%s values:\"%(a,b)\n",
    "    res=a/float(b)\n",
    "    print \"resul=%s\"%res\n",
    "else:\n",
    "    print \"Chose  1 or 2 or 3 or 4\"\n",
    "\n",
    "print \"Thank you.. Have a nice day..\""
   ]
  },
  {
   "cell_type": "code",
   "execution_count": 46,
   "metadata": {},
   "outputs": [
    {
     "name": "stdout",
     "output_type": "stream",
     "text": [
      "OPERATIONS\n",
      "\t1.ADD\n",
      "\t2.MUL\n",
      "\t3.SUB\n",
      "\t4.DIV\n",
      "Enter an option:5\n",
      "Chose  1 or 2 or 3 or 4\n",
      "Thank you.. Have a nice day..\n"
     ]
    }
   ],
   "source": [
    "a=10\n",
    "b=20\n",
    "opt=raw_input(\"OPERATIONS\\n\\t1.ADD\\n\\t2.MUL\\n\\t3.SUB\\n\\t4.DIV\\nEnter an option:\")\n",
    "if opt==\"1\":\n",
    "    print \"Adding a=%s, b=%s values:\"%(a,b)\n",
    "    res=a+b\n",
    "    print \"resul=%s\"%res\n",
    "elif opt==\"2\":\n",
    "    print \"multiplying a=%s, b=%s values:\"%(a,b)\n",
    "    res=a*b\n",
    "    print \"resul=%s\"%res\n",
    "elif opt==\"3\":\n",
    "    print \"substracting a=%s, b=%s values:\"%(a,b)\n",
    "    res=a-b\n",
    "    print \"resul=%s\"%res\n",
    "elif opt==\"4\":\n",
    "    print \"dividing a=%s, b=%s values:\"%(a,b)\n",
    "    res=a/float(b)\n",
    "    print \"resul=%s\"%res\n",
    "else:\n",
    "    print \"Chose  1 or 2 or 3 or 4\"\n",
    "\n",
    "print \"Thank you.. Have a nice day..\""
   ]
  },
  {
   "cell_type": "code",
   "execution_count": 47,
   "metadata": {},
   "outputs": [
    {
     "name": "stdout",
     "output_type": "stream",
     "text": [
      "OPERATIONS\n",
      "\t1.ADD\n",
      "\t2.MUL\n",
      "\t3.SUB\n",
      "\t4.DIV\n",
      "Enter an option:6\n",
      "Chose  1 or 2 or 3 or 4\n",
      "Thank you.. Have a nice day..\n"
     ]
    }
   ],
   "source": [
    "a=10\n",
    "b=20\n",
    "opt=raw_input(\"OPERATIONS\\n\\t1.ADD\\n\\t2.MUL\\n\\t3.SUB\\n\\t4.DIV\\nEnter an option:\")\n",
    "if opt in [\"1\",\"2\",\"3\",\"4\"]:\n",
    "    if opt==\"1\":\n",
    "        print \"Adding a=%s, b=%s values:\"%(a,b)\n",
    "        res=a+b\n",
    "        print \"resul=%s\"%res\n",
    "    elif opt==\"2\":\n",
    "        print \"multiplying a=%s, b=%s values:\"%(a,b)\n",
    "        res=a*b\n",
    "        print \"resul=%s\"%res\n",
    "    elif opt==\"3\":\n",
    "        print \"substracting a=%s, b=%s values:\"%(a,b)\n",
    "        res=a-b\n",
    "        print \"resul=%s\"%res\n",
    "    elif opt==\"4\":\n",
    "        print \"dividing a=%s, b=%s values:\"%(a,b)\n",
    "        res=a/float(b)\n",
    "        print \"resul=%s\"%res\n",
    "else:\n",
    "    print \"Chose  1 or 2 or 3 or 4\"\n",
    "\n",
    "print \"Thank you.. Have a nice day..\""
   ]
  },
  {
   "cell_type": "code",
   "execution_count": 48,
   "metadata": {},
   "outputs": [
    {
     "name": "stdout",
     "output_type": "stream",
     "text": [
      "OPERATIONS\n",
      "\t1.ADD\n",
      "\t2.MUL\n",
      "\t3.SUB\n",
      "\t4.DIV\n",
      "Enter an option:4\n",
      "dividing a=10, b=20 values:\n",
      "resul=0.5\n",
      "Thank you.. Have a nice day..\n"
     ]
    }
   ],
   "source": [
    "a=10\n",
    "b=20\n",
    "opt=raw_input(\"OPERATIONS\\n\\t1.ADD\\n\\t2.MUL\\n\\t3.SUB\\n\\t4.DIV\\nEnter an option:\")\n",
    "if opt in [\"1\",\"2\",\"3\",\"4\"]:\n",
    "    if opt==\"1\":\n",
    "        print \"Adding a=%s, b=%s values:\"%(a,b)\n",
    "        res=a+b\n",
    "        print \"resul=%s\"%res\n",
    "    elif opt==\"2\":\n",
    "        print \"multiplying a=%s, b=%s values:\"%(a,b)\n",
    "        res=a*b\n",
    "        print \"resul=%s\"%res\n",
    "    elif opt==\"3\":\n",
    "        print \"substracting a=%s, b=%s values:\"%(a,b)\n",
    "        res=a-b\n",
    "        print \"resul=%s\"%res\n",
    "    elif opt==\"4\":\n",
    "        print \"dividing a=%s, b=%s values:\"%(a,b)\n",
    "        res=a/float(b)\n",
    "        print \"resul=%s\"%res\n",
    "else:\n",
    "    print \"Chose  1 or 2 or 3 or 4\"\n",
    "\n",
    "print \"Thank you.. Have a nice day..\""
   ]
  },
  {
   "cell_type": "code",
   "execution_count": 49,
   "metadata": {},
   "outputs": [
    {
     "name": "stdout",
     "output_type": "stream",
     "text": [
      "OPERATIONS\n",
      "\t1.ADD\n",
      "\t2.MUL\n",
      "\t3.SUB\n",
      "\t4.DIV\n",
      "Enter an option:6\n",
      "Chose  1 or 2 or 3 or 4\n",
      "Thank you.. Have a nice day..\n"
     ]
    }
   ],
   "source": [
    "a=10\n",
    "b=20\n",
    "opt=raw_input(\"OPERATIONS\\n\\t1.ADD\\n\\t2.MUL\\n\\t3.SUB\\n\\t4.DIV\\nEnter an option:\")\n",
    "if opt in [\"1\",\"2\",\"3\",\"4\"]:\n",
    "    if opt==\"1\":\n",
    "        print \"Adding a=%s, b=%s values:\"%(a,b)\n",
    "        res=a+b\n",
    "    elif opt==\"2\":\n",
    "        print \"multiplying a=%s, b=%s values:\"%(a,b)\n",
    "        res=a*b\n",
    "    elif opt==\"3\":\n",
    "        print \"substracting a=%s, b=%s values:\"%(a,b)\n",
    "        res=a-b\n",
    "    elif opt==\"4\":\n",
    "        print \"dividing a=%s, b=%s values:\"%(a,b)\n",
    "        res=a/float(b)\n",
    "    print \"resul=%s\"%res\n",
    "else:\n",
    "    print \"Chose  1 or 2 or 3 or 4\"\n",
    "\n",
    "print \"Thank you.. Have a nice day..\""
   ]
  },
  {
   "cell_type": "code",
   "execution_count": 50,
   "metadata": {},
   "outputs": [
    {
     "name": "stdout",
     "output_type": "stream",
     "text": [
      "OPERATIONS\n",
      "\t1.ADD\n",
      "\t2.MUL\n",
      "\t3.SUB\n",
      "\t4.DIV\n",
      "Enter an option:3\n",
      "substracting a=10, b=20 values:\n",
      "resul=-10\n",
      "Thank you.. Have a nice day..\n"
     ]
    }
   ],
   "source": [
    "a=10\n",
    "b=20\n",
    "opt=raw_input(\"OPERATIONS\\n\\t1.ADD\\n\\t2.MUL\\n\\t3.SUB\\n\\t4.DIV\\nEnter an option:\")\n",
    "if opt in [\"1\",\"2\",\"3\",\"4\"]:\n",
    "    if opt==\"1\":\n",
    "        print \"Adding a=%s, b=%s values:\"%(a,b)\n",
    "        res=a+b\n",
    "    elif opt==\"2\":\n",
    "        print \"multiplying a=%s, b=%s values:\"%(a,b)\n",
    "        res=a*b\n",
    "    elif opt==\"3\":\n",
    "        print \"substracting a=%s, b=%s values:\"%(a,b)\n",
    "        res=a-b\n",
    "    elif opt==\"4\":\n",
    "        print \"dividing a=%s, b=%s values:\"%(a,b)\n",
    "        res=a/float(b)\n",
    "    print \"resul=%s\"%res\n",
    "else:\n",
    "    print \"Chose  1 or 2 or 3 or 4\"\n",
    "\n",
    "print \"Thank you.. Have a nice day..\""
   ]
  },
  {
   "cell_type": "code",
   "execution_count": 51,
   "metadata": {},
   "outputs": [
    {
     "name": "stdout",
     "output_type": "stream",
     "text": [
      "OPERATIONS\n",
      "\t1.ADD\n",
      "\t2.MUL\n",
      "\t3.SUB\n",
      "\t4.DIV\n",
      "Enter an option:1\n",
      "Adding a=10, b=20 values:\n",
      "resul=30\n",
      "Thank you.. Have a nice day..\n"
     ]
    }
   ],
   "source": [
    "a=10\n",
    "b=20\n",
    "opt=raw_input(\"OPERATIONS\\n\\t1.ADD\\n\\t2.MUL\\n\\t3.SUB\\n\\t4.DIV\\nEnter an option:\")\n",
    "if opt in [\"1\",\"2\",\"3\",\"4\"]:\n",
    "    if opt==\"1\":\n",
    "        print \"Adding\",\n",
    "        res=a+b\n",
    "    elif opt==\"2\":\n",
    "        print \"multiplying\",\n",
    "        res=a*b\n",
    "    elif opt==\"3\":\n",
    "        print \"substracting\", \n",
    "        res=a-b\n",
    "    elif opt==\"4\":\n",
    "        print \"dividing\",\n",
    "        res=a/float(b)\n",
    "    print  \"a=%s, b=%s values:\"%(a,b)\n",
    "    print \"resul=%s\"%res\n",
    "else:\n",
    "    print \"Chose  1 or 2 or 3 or 4\"\n",
    "\n",
    "print \"Thank you.. Have a nice day..\""
   ]
  },
  {
   "cell_type": "code",
   "execution_count": 52,
   "metadata": {},
   "outputs": [
    {
     "name": "stdout",
     "output_type": "stream",
     "text": [
      "sdfsdf\n",
      "dsfsdf\n"
     ]
    }
   ],
   "source": [
    "print \"sdfsdf\"\n",
    "print \"dsfsdf\""
   ]
  },
  {
   "cell_type": "code",
   "execution_count": 53,
   "metadata": {},
   "outputs": [
    {
     "name": "stdout",
     "output_type": "stream",
     "text": [
      "sdfsdf dsfsdf\n"
     ]
    }
   ],
   "source": [
    "print \"sdfsdf\",\n",
    "print \"dsfsdf\""
   ]
  },
  {
   "cell_type": "code",
   "execution_count": 54,
   "metadata": {},
   "outputs": [
    {
     "name": "stdout",
     "output_type": "stream",
     "text": [
      "OPERATIONS\n",
      "\t1.ADD\n",
      "\t2.MUL\n",
      "\t3.SUB\n",
      "\t4.DIV\n",
      "Enter an option:3\n",
      "substracting a=10, b=20 values\n",
      "resul=-10\n",
      "Thank you.. Have a nice day..\n"
     ]
    }
   ],
   "source": [
    "a=10\n",
    "b=20\n",
    "opt=raw_input(\"OPERATIONS\\n\\t1.ADD\\n\\t2.MUL\\n\\t3.SUB\\n\\t4.DIV\\nEnter an option:\")\n",
    "if opt in [\"1\",\"2\",\"3\",\"4\"]:\n",
    "    if opt==\"1\":\n",
    "        print \"Adding a=%s, b=%s values\"%(a,b)\n",
    "        res=a+b\n",
    "    elif opt==\"2\":\n",
    "        print \"multiplying a=%s, b=%s values\"%(a,b)\n",
    "        res=a*b\n",
    "    elif opt==\"3\":\n",
    "        print \"substracting a=%s, b=%s values\"%(a,b)\n",
    "        res=a-b\n",
    "    elif opt==\"4\":\n",
    "        print \"dividing a=%s, b=%s values\"%(a,b)\n",
    "        res=a/float(b)\n",
    "    print \"resul=%s\"%res\n",
    "else:\n",
    "    print \"Chose  1 or 2 or 3 or 4\"\n",
    "\n",
    "print \"Thank you.. Have a nice day..\""
   ]
  },
  {
   "cell_type": "code",
   "execution_count": 56,
   "metadata": {},
   "outputs": [
    {
     "name": "stdout",
     "output_type": "stream",
     "text": [
      "OPERATIONS\n",
      "\t1.ADD\n",
      "\t2.MUL\n",
      "\t3.SUB\n",
      "\t4.DIV\n",
      "Enter an option:3\n",
      "substracting a=10, b=20 values\n",
      "res=-10\n",
      "Thank you.. Have a nice day..\n"
     ]
    }
   ],
   "source": [
    "a=10\n",
    "b=20\n",
    "opt=raw_input(\"OPERATIONS\\n\\t1.ADD\\n\\t2.MUL\\n\\t3.SUB\\n\\t4.DIV\\nEnter an option:\")\n",
    "if opt in [\"1\",\"2\",\"3\",\"4\"]:\n",
    "    if opt==\"1\":\n",
    "        print \"Adding\",\n",
    "        res=a+b\n",
    "    elif opt==\"2\":\n",
    "        print \"multiplying\",\n",
    "        res=a*b\n",
    "    elif opt==\"3\":\n",
    "        print \"substracting\", \n",
    "        res=a-b\n",
    "    elif opt==\"4\":\n",
    "        print \"dividing\",\n",
    "        res=a/float(b)\n",
    "    print  \"a=%s, b=%s values\\nres=%s\"%(a,b,res)\n",
    "    \n",
    "else:\n",
    "    print \"Chose  1 or 2 or 3 or 4\"\n",
    "\n",
    "print \"Thank you.. Have a nice day..\""
   ]
  },
  {
   "cell_type": "code",
   "execution_count": 57,
   "metadata": {},
   "outputs": [
    {
     "name": "stdout",
     "output_type": "stream",
     "text": [
      "OPERATIONS\n",
      "\t1.ADD\n",
      "\t2.MUL\n",
      "\t3.SUB\n",
      "\t4.DIV\n",
      "Enter an option:4\n",
      "dividing a=10, b=20 values\n",
      "res=0.5\n",
      "Thank you.. Have a nice day..\n"
     ]
    }
   ],
   "source": [
    "a=10\n",
    "b=20\n",
    "opt=raw_input(\"OPERATIONS\\n\\t1.ADD\\n\\t2.MUL\\n\\t3.SUB\\n\\t4.DIV\\nEnter an option:\")\n",
    "if opt in [\"1\",\"2\",\"3\",\"4\"]:\n",
    "    if opt==\"1\":\n",
    "        print \"Adding\",\n",
    "        res=a+b\n",
    "    elif opt==\"2\":\n",
    "        print \"multiplying\",\n",
    "        res=a*b\n",
    "    elif opt==\"3\":\n",
    "        print \"substracting\", \n",
    "        res=a-b\n",
    "    elif opt==\"4\":\n",
    "        print \"dividing\",\n",
    "        res=a/float(b)\n",
    "    print  \"a=%s, b=%s values\\nres=%s\"%(a,b,res)\n",
    "    \n",
    "else:\n",
    "    print \"Chose  1 or 2 or 3 or 4\"\n",
    "\n",
    "print \"Thank you.. Have a nice day..\""
   ]
  },
  {
   "cell_type": "code",
   "execution_count": 58,
   "metadata": {},
   "outputs": [
    {
     "name": "stdout",
     "output_type": "stream",
     "text": [
      "Enter a value:2\n",
      "EVEN\n",
      "THANK YOU\n"
     ]
    }
   ],
   "source": [
    "number=raw_input(\"Enter a value:\")\n",
    "number=int(number)\n",
    "if number%2==0:\n",
    "    print \"EVEN\"\n",
    "else:\n",
    "    print \"ODD\"\n",
    "print \"THANK YOU\""
   ]
  },
  {
   "cell_type": "code",
   "execution_count": 59,
   "metadata": {},
   "outputs": [
    {
     "name": "stdout",
     "output_type": "stream",
     "text": [
      "Enter a value:3\n",
      "ODD\n",
      "THANK YOU\n"
     ]
    }
   ],
   "source": [
    "number=raw_input(\"Enter a value:\")\n",
    "number=int(number)\n",
    "if number%2==0:\n",
    "    print \"EVEN\"\n",
    "else:\n",
    "    print \"ODD\"\n",
    "print \"THANK YOU\""
   ]
  },
  {
   "cell_type": "code",
   "execution_count": 60,
   "metadata": {},
   "outputs": [
    {
     "name": "stdout",
     "output_type": "stream",
     "text": [
      "Enter a value:34\n",
      "EVEN\n",
      "THANK YOU\n"
     ]
    }
   ],
   "source": [
    "number=raw_input(\"Enter a value:\")\n",
    "number=int(number)\n",
    "print \"EVEN\" if number%2==0 else \"ODD\"\n",
    "print \"THANK YOU\""
   ]
  },
  {
   "cell_type": "code",
   "execution_count": 61,
   "metadata": {},
   "outputs": [
    {
     "name": "stdout",
     "output_type": "stream",
     "text": [
      "Enter a value:23\n",
      "ODD\n",
      "THANK YOU\n"
     ]
    }
   ],
   "source": [
    "number=raw_input(\"Enter a value:\")\n",
    "number=int(number)\n",
    "print \"EVEN\" if number%2==0 else \"ODD\"\n",
    "print \"THANK YOU\""
   ]
  },
  {
   "cell_type": "code",
   "execution_count": 62,
   "metadata": {},
   "outputs": [
    {
     "name": "stdout",
     "output_type": "stream",
     "text": [
      "c is big\n",
      "THANK YOU\n"
     ]
    }
   ],
   "source": [
    "a=10\n",
    "b=20\n",
    "c=30\n",
    "if a>b and a>c:\n",
    "    print \"a is big\"\n",
    "elif b>a and b>c:\n",
    "    print \"b is big\"\n",
    "elif c>a and c>b:\n",
    "    print \"c is big\"\n",
    "print \"THANK YOU\""
   ]
  },
  {
   "cell_type": "code",
   "execution_count": 63,
   "metadata": {},
   "outputs": [
    {
     "name": "stdout",
     "output_type": "stream",
     "text": [
      "a is big\n",
      "THANK YOU\n"
     ]
    }
   ],
   "source": [
    "a=100\n",
    "b=20\n",
    "c=30\n",
    "if a>b and a>c:\n",
    "    print \"a is big\"\n",
    "elif b>a and b>c:\n",
    "    print \"b is big\"\n",
    "elif c>a and c>b:\n",
    "    print \"c is big\"\n",
    "print \"THANK YOU\""
   ]
  },
  {
   "cell_type": "code",
   "execution_count": 64,
   "metadata": {},
   "outputs": [
    {
     "name": "stdout",
     "output_type": "stream",
     "text": [
      "b is big\n",
      "THANK YOU\n"
     ]
    }
   ],
   "source": [
    "a=100\n",
    "b=200\n",
    "c=30\n",
    "if a>b and a>c:\n",
    "    print \"a is big\"\n",
    "elif b>a and b>c:\n",
    "    print \"b is big\"\n",
    "elif c>a and c>b:\n",
    "    print \"c is big\"\n",
    "print \"THANK YOU\""
   ]
  },
  {
   "cell_type": "code",
   "execution_count": 66,
   "metadata": {},
   "outputs": [
    {
     "name": "stdout",
     "output_type": "stream",
     "text": [
      "b is big\n",
      "THANK YOU\n"
     ]
    }
   ],
   "source": [
    "a=100\n",
    "b=200\n",
    "c=30\n",
    "if a>b and a>c:\n",
    "    print \"a is big\"\n",
    "elif b>a and b>c:\n",
    "    print \"b is big\"\n",
    "else:\n",
    "    print \"c is big\"\n",
    "print \"THANK YOU\""
   ]
  },
  {
   "cell_type": "code",
   "execution_count": 67,
   "metadata": {},
   "outputs": [
    {
     "name": "stdout",
     "output_type": "stream",
     "text": [
      "c is big\n",
      "THANK YOU\n"
     ]
    }
   ],
   "source": [
    "a=100\n",
    "b=200\n",
    "c=300\n",
    "if a>b and a>c:\n",
    "    print \"a is big\"\n",
    "elif b>a and b>c:\n",
    "    print \"b is big\"\n",
    "else:\n",
    "    print \"c is big\"\n",
    "print \"THANK YOU\""
   ]
  },
  {
   "cell_type": "code",
   "execution_count": 68,
   "metadata": {},
   "outputs": [
    {
     "name": "stdout",
     "output_type": "stream",
     "text": [
      "THANK YOU\n"
     ]
    }
   ],
   "source": []
  },
  {
   "cell_type": "code",
   "execution_count": 69,
   "metadata": {},
   "outputs": [
    {
     "name": "stdout",
     "output_type": "stream",
     "text": [
      "do something\n",
      "THANK YOU\n"
     ]
    }
   ],
   "source": [
    "a=10\n",
    "b=20\n",
    "if a<b:\n",
    "    print \"do something\"\n",
    "print \"THANK YOU\""
   ]
  },
  {
   "cell_type": "code",
   "execution_count": 70,
   "metadata": {},
   "outputs": [
    {
     "ename": "IndentationError",
     "evalue": "expected an indented block (<ipython-input-70-38252959bb30>, line 7)",
     "output_type": "error",
     "traceback": [
      "\u001b[0;36m  File \u001b[0;32m\"<ipython-input-70-38252959bb30>\"\u001b[0;36m, line \u001b[0;32m7\u001b[0m\n\u001b[0;31m    print \"THANK YOU\"\u001b[0m\n\u001b[0m        ^\u001b[0m\n\u001b[0;31mIndentationError\u001b[0m\u001b[0;31m:\u001b[0m expected an indented block\n"
     ]
    }
   ],
   "source": [
    "a=10\n",
    "b=20\n",
    "if a<b:\n",
    "    print \"do something\"\n",
    "else:\n",
    "    \n",
    "print \"THANK YOU\""
   ]
  },
  {
   "cell_type": "code",
   "execution_count": 71,
   "metadata": {},
   "outputs": [
    {
     "name": "stdout",
     "output_type": "stream",
     "text": [
      "do something\n",
      "THANK YOU\n"
     ]
    }
   ],
   "source": [
    "a=10\n",
    "b=20\n",
    "if a<b:\n",
    "    print \"do something\"\n",
    "else:\n",
    "    pass\n",
    "print \"THANK YOU\""
   ]
  },
  {
   "cell_type": "code",
   "execution_count": 72,
   "metadata": {},
   "outputs": [
    {
     "name": "stdout",
     "output_type": "stream",
     "text": [
      "THANK YOU\n"
     ]
    }
   ],
   "source": [
    "a=100\n",
    "b=20\n",
    "if a<b:\n",
    "    print \"do something\"\n",
    "else:\n",
    "    pass\n",
    "print \"THANK YOU\""
   ]
  },
  {
   "cell_type": "code",
   "execution_count": 73,
   "metadata": {},
   "outputs": [
    {
     "name": "stdout",
     "output_type": "stream",
     "text": [
      "else block statements\n",
      "THANK YOU\n"
     ]
    }
   ],
   "source": [
    "a=100\n",
    "b=20\n",
    "if a<b:\n",
    "    print \"do something\"\n",
    "else:\n",
    "    pass\n",
    "    print \"else block statements\"\n",
    "print \"THANK YOU\""
   ]
  },
  {
   "cell_type": "code",
   "execution_count": 74,
   "metadata": {},
   "outputs": [
    {
     "name": "stdout",
     "output_type": "stream",
     "text": [
      "Enter a number:23\n",
      "False\n"
     ]
    }
   ],
   "source": [
    "number=int(raw_input(\"Enter a number:\"))\n",
    "print True if number%2==0 else False"
   ]
  },
  {
   "cell_type": "code",
   "execution_count": 77,
   "metadata": {},
   "outputs": [
    {
     "name": "stdout",
     "output_type": "stream",
     "text": [
      "Enter a number:23\n",
      "False\n"
     ]
    }
   ],
   "source": [
    "number=int(raw_input(\"Enter a number:\"))\n",
    "print number%2==0 or False"
   ]
  },
  {
   "cell_type": "code",
   "execution_count": 78,
   "metadata": {},
   "outputs": [
    {
     "name": "stdout",
     "output_type": "stream",
     "text": [
      "Enter a number:24\n",
      "True\n"
     ]
    }
   ],
   "source": [
    "number=int(raw_input(\"Enter a number:\"))\n",
    "print number%2==0 or False"
   ]
  },
  {
   "cell_type": "code",
   "execution_count": 79,
   "metadata": {},
   "outputs": [
    {
     "name": "stdout",
     "output_type": "stream",
     "text": [
      "Enter a number:24\n",
      "True\n"
     ]
    }
   ],
   "source": [
    "number=int(raw_input(\"Enter a number:\"))\n",
    "print number%2==0"
   ]
  },
  {
   "cell_type": "code",
   "execution_count": 80,
   "metadata": {},
   "outputs": [
    {
     "name": "stdout",
     "output_type": "stream",
     "text": [
      "Enter a number:3\n",
      "False\n"
     ]
    }
   ],
   "source": [
    "number=int(raw_input(\"Enter a number:\"))\n",
    "print number%2==0"
   ]
  },
  {
   "cell_type": "code",
   "execution_count": 81,
   "metadata": {},
   "outputs": [
    {
     "name": "stdout",
     "output_type": "stream",
     "text": [
      "Enter a string:12345\n",
      "5\n",
      "THANK YOU\n"
     ]
    }
   ],
   "source": [
    "#take a string from the user print the length. if the user not given anything show an error message\n",
    "s=raw_input(\"Enter a string:\")\n",
    "if len(s)>0:\n",
    "    print len(s)\n",
    "else:\n",
    "    print \"PLEASE GIVE PROPER STRING\"\n",
    "print \"THANK YOU\""
   ]
  },
  {
   "cell_type": "code",
   "execution_count": 82,
   "metadata": {},
   "outputs": [
    {
     "name": "stdout",
     "output_type": "stream",
     "text": [
      "Enter a string:\n",
      "PLEASE GIVE PROPER STRING\n",
      "THANK YOU\n"
     ]
    }
   ],
   "source": [
    "#take a string from the user print the length. if the user not given anything show an error message\n",
    "s=raw_input(\"Enter a string:\")\n",
    "if len(s)>0:\n",
    "    print len(s)\n",
    "else:\n",
    "    print \"PLEASE GIVE PROPER STRING\"\n",
    "print \"THANK YOU\""
   ]
  },
  {
   "cell_type": "code",
   "execution_count": 83,
   "metadata": {},
   "outputs": [
    {
     "name": "stdout",
     "output_type": "stream",
     "text": [
      "Enter a string:wertyui\n",
      "7\n",
      "THANK YOU\n"
     ]
    }
   ],
   "source": [
    "#take a string from the user print the length. if the user not given anything show an error message\n",
    "s=raw_input(\"Enter a string:\")\n",
    "if s:\n",
    "    print len(s)\n",
    "else:\n",
    "    print \"PLEASE GIVE PROPER STRING\"\n",
    "print \"THANK YOU\""
   ]
  },
  {
   "cell_type": "code",
   "execution_count": 84,
   "metadata": {},
   "outputs": [
    {
     "name": "stdout",
     "output_type": "stream",
     "text": [
      "Enter a string:\n",
      "PLEASE GIVE PROPER STRING\n",
      "THANK YOU\n"
     ]
    }
   ],
   "source": [
    "#take a string from the user print the length. if the user not given anything show an error message\n",
    "s=raw_input(\"Enter a string:\")\n",
    "if s:\n",
    "    print len(s)\n",
    "else:\n",
    "    print \"PLEASE GIVE PROPER STRING\"\n",
    "print \"THANK YOU\""
   ]
  },
  {
   "cell_type": "code",
   "execution_count": null,
   "metadata": {
    "collapsed": true
   },
   "outputs": [],
   "source": []
  }
 ],
 "metadata": {
  "kernelspec": {
   "display_name": "Python 2",
   "language": "python",
   "name": "python2"
  },
  "language_info": {
   "codemirror_mode": {
    "name": "ipython",
    "version": 2
   },
   "file_extension": ".py",
   "mimetype": "text/x-python",
   "name": "python",
   "nbconvert_exporter": "python",
   "pygments_lexer": "ipython2",
   "version": "2.7.14"
  }
 },
 "nbformat": 4,
 "nbformat_minor": 2
}
