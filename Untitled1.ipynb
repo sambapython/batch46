{
 "cells": [
  {
   "cell_type": "code",
   "execution_count": 2,
   "metadata": {},
   "outputs": [
    {
     "data": {
      "image/png": "[encoded data removed]",
      "text/plain": [
       "<matplotlib.figure.Figure at 0x7f54b02f5fd0>"
      ]
     },
     "metadata": {},
     "output_type": "display_data"
    }
   ],
   "source": [
    "x=[1,2,3,4,5]\n",
    "y=[-10,20,10,30,5]\n",
    "import matplotlib.pyplot as plt\n",
    "plt.plot(x,y)\n",
    "plt.show()"
   ]
  },
  {
   "cell_type": "code",
   "execution_count": 3,
   "metadata": {},
   "outputs": [
    {
     "data": {
      "image/png": "[encoded data removed]",
      "text/plain": [
       "<matplotlib.figure.Figure at 0x7f548a667c10>"
      ]
     },
     "metadata": {},
     "output_type": "display_data"
    }
   ],
   "source": [
    "x=[1,2,3,4,5]\n",
    "y=[-10,20,10,30,5]\n",
    "import matplotlib.pyplot as plt\n",
    "plt.plot(x,y)\n",
    "plt.savefig(\"image.png\")\n",
    "plt.show()"
   ]
  },
  {
   "cell_type": "code",
   "execution_count": 5,
   "metadata": {},
   "outputs": [
    {
     "name": "stdout",
     "output_type": "stream",
     "text": [
      "a=10, b=20\n",
      "res 30\n",
      "program ended\n"
     ]
    }
   ],
   "source": [
    "a=10\n",
    "b=20\n",
    "res=a+b\n",
    "print \"a=%s, b=%s\"%(a,b)\n",
    "print \"res\",res\n",
    "print \"program ended\""
   ]
  },
  {
   "cell_type": "code",
   "execution_count": 7,
   "metadata": {},
   "outputs": [
    {
     "ename": "SyntaxError",
     "evalue": "invalid syntax (<ipython-input-7-7c7675c9b3f2>, line 6)",
     "output_type": "error",
     "traceback": [
      "\u001b[0;36m  File \u001b[0;32m\"<ipython-input-7-7c7675c9b3f2>\"\u001b[0;36m, line \u001b[0;32m6\u001b[0m\n\u001b[0;31m    print \"res\"res\u001b[0m\n\u001b[0m                 ^\u001b[0m\n\u001b[0;31mSyntaxError\u001b[0m\u001b[0;31m:\u001b[0m invalid syntax\n"
     ]
    }
   ],
   "source": [
    "print \"program started\"\n",
    "a=10\n",
    "b=20\n",
    "res=a+b\n",
    "print \"a=%s, b=%s\"%(a,b)\n",
    "print \"res\"res\n",
    "print \"program ended\""
   ]
  },
  {
   "cell_type": "code",
   "execution_count": 8,
   "metadata": {},
   "outputs": [
    {
     "name": "stdout",
     "output_type": "stream",
     "text": [
      "program started\n",
      "a=10, b=20\n",
      "res 30\n"
     ]
    },
    {
     "ename": "ZeroDivisionError",
     "evalue": "integer division or modulo by zero",
     "output_type": "error",
     "traceback": [
      "\u001b[0;31m---------------------------------------------------------------------------\u001b[0m",
      "\u001b[0;31mZeroDivisionError\u001b[0m                         Traceback (most recent call last)",
      "\u001b[0;32m<ipython-input-8-c7ef2316db29>\u001b[0m in \u001b[0;36m<module>\u001b[0;34m()\u001b[0m\n\u001b[1;32m      5\u001b[0m \u001b[0;32mprint\u001b[0m \u001b[0;34m\"a=%s, b=%s\"\u001b[0m\u001b[0;34m%\u001b[0m\u001b[0;34m(\u001b[0m\u001b[0ma\u001b[0m\u001b[0;34m,\u001b[0m\u001b[0mb\u001b[0m\u001b[0;34m)\u001b[0m\u001b[0;34m\u001b[0m\u001b[0m\n\u001b[1;32m      6\u001b[0m \u001b[0;32mprint\u001b[0m \u001b[0;34m\"res\"\u001b[0m\u001b[0;34m,\u001b[0m\u001b[0mres\u001b[0m\u001b[0;34m\u001b[0m\u001b[0m\n\u001b[0;32m----> 7\u001b[0;31m \u001b[0;32mprint\u001b[0m \u001b[0;36m1\u001b[0m\u001b[0;34m/\u001b[0m\u001b[0;36m0\u001b[0m\u001b[0;34m\u001b[0m\u001b[0m\n\u001b[0m\u001b[1;32m      8\u001b[0m \u001b[0;32mprint\u001b[0m \u001b[0;34m\"program ended\"\u001b[0m\u001b[0;34m\u001b[0m\u001b[0m\n",
      "\u001b[0;31mZeroDivisionError\u001b[0m: integer division or modulo by zero"
     ]
    }
   ],
   "source": [
    "print \"program started\"\n",
    "a=10\n",
    "b=20\n",
    "res=a+b\n",
    "print \"a=%s, b=%s\"%(a,b)\n",
    "print \"res\",res\n",
    "print 1/0\n",
    "print \"program ended\""
   ]
  },
  {
   "cell_type": "code",
   "execution_count": 9,
   "metadata": {
    "collapsed": true
   },
   "outputs": [],
   "source": [
    "# try, except, finally, else"
   ]
  },
  {
   "cell_type": "code",
   "execution_count": 10,
   "metadata": {},
   "outputs": [
    {
     "name": "stdout",
     "output_type": "stream",
     "text": [
      "program started\n",
      "a=10, b=20\n",
      "res 30\n",
      "7\n",
      "program ended\n"
     ]
    }
   ],
   "source": [
    "print \"program started\"\n",
    "a=10\n",
    "b=20\n",
    "res=a+b\n",
    "print \"a=%s, b=%s\"%(a,b)\n",
    "print \"res\",res\n",
    "print 30/4\n",
    "print \"program ended\""
   ]
  },
  {
   "cell_type": "code",
   "execution_count": 11,
   "metadata": {},
   "outputs": [
    {
     "name": "stdout",
     "output_type": "stream",
     "text": [
      "2,name1,9676622023\n",
      "3,name2,9676622024\n",
      "4,name4,9676622025\n",
      "5,name5,9676622026\n"
     ]
    }
   ],
   "source": [
    "#re\n",
    "s=\"2,name1,9676622023\\n3,name2,9676622024\\n4,name4,9676622025\\n5,name5,9676622026\"\n",
    "print s"
   ]
  },
  {
   "cell_type": "code",
   "execution_count": 13,
   "metadata": {},
   "outputs": [
    {
     "name": "stdout",
     "output_type": "stream",
     "text": [
      "2,name1,9676622023\n",
      "3,name2,9676622024\n",
      "4,name4,9676622025\n",
      "5,name5,9676622026\n"
     ]
    }
   ],
   "source": [
    "#re\n",
    "s=\"2,name1,9676622023\\n3,name2,9676622024\\n4,name4,9676622025\\n5,name5,9676622026\"\n",
    "for row in s.split(\"\\n\"):\n",
    "    print row"
   ]
  },
  {
   "cell_type": "code",
   "execution_count": 14,
   "metadata": {},
   "outputs": [
    {
     "name": "stdout",
     "output_type": "stream",
     "text": [
      "9676622023\n",
      "9676622024\n",
      "9676622025\n",
      "9676622026\n"
     ]
    }
   ],
   "source": [
    "#re\n",
    "s=\"2,name1,9676622023\\n3,name2,9676622024\\n4,name4,9676622025\\n5,name5,9676622026\"\n",
    "for row in s.split(\"\\n\"):\n",
    "    print row.split(\",\")[-1]"
   ]
  },
  {
   "cell_type": "code",
   "execution_count": 15,
   "metadata": {},
   "outputs": [
    {
     "name": "stdout",
     "output_type": "stream",
     "text": [
      "9676622023\n",
      "9676622024\n",
      "9676622025\n",
      "9676622026\n"
     ]
    }
   ],
   "source": [
    "#re\n",
    "s=\"2,name1,9676622023\\n3,name2,9676622024\\n4,name4,9676622025\\n5,name5,9676622026\"\n",
    "for row in s.split(\"\\n\"):\n",
    "    print row.split(\",\")[-1]"
   ]
  },
  {
   "cell_type": "code",
   "execution_count": 16,
   "metadata": {},
   "outputs": [
    {
     "name": "stdout",
     "output_type": "stream",
     "text": [
      "2\n",
      "3\n",
      "4\n",
      "5\n"
     ]
    }
   ],
   "source": [
    "#re\n",
    "s=\"2,name1,9676622023\\n3,name2,9676622024\\n4,name4,9676622025\\n5,name5,9676622026\"\n",
    "for row in s.split(\"\\n\"):\n",
    "    print row.split(\",\")[0]"
   ]
  },
  {
   "cell_type": "code",
   "execution_count": 17,
   "metadata": {},
   "outputs": [
    {
     "name": "stdout",
     "output_type": "stream",
     "text": [
      "9676622023,2,name1\n",
      "3,9676622024,name2\n",
      "4,name4,9676622025\n",
      "5,name5,9676622026\n"
     ]
    }
   ],
   "source": [
    "#re\n",
    "s=\"9676622023,2,name1\\n3,9676622024,name2\\n4,name4,9676622025\\n5,name5,9676622026\"\n",
    "print s"
   ]
  },
  {
   "cell_type": "code",
   "execution_count": 20,
   "metadata": {},
   "outputs": [
    {
     "name": "stdout",
     "output_type": "stream",
     "text": [
      "name1\n",
      "name2\n",
      "9676622025\n",
      "9676622026\n"
     ]
    }
   ],
   "source": [
    "#re\n",
    "s=\"9676622023,2,name1\\n3,9676622024,name2\\n4,name4,9676622025\\n5,name5,9676622026\"\n",
    "for row in s.split(\"\\n\"):\n",
    "    print row.split(\",\")[-1]"
   ]
  },
  {
   "cell_type": "code",
   "execution_count": 21,
   "metadata": {},
   "outputs": [
    {
     "name": "stdout",
     "output_type": "stream",
     "text": [
      "['9676622023', '9676622024', '9676622025', '9676622026']\n"
     ]
    }
   ],
   "source": [
    "import re\n",
    "s=\"9676622023,2,name1\\n3,9676622024,name2\\n4,name4,9676622025\\n5,name5,9676622026\"\n",
    "print re.findall(\"[0-9]{10}\",s)"
   ]
  },
  {
   "cell_type": "code",
   "execution_count": null,
   "metadata": {
    "collapsed": true
   },
   "outputs": [],
   "source": []
  }
 ],
 "metadata": {
  "kernelspec": {
   "display_name": "Python 2",
   "language": "python",
   "name": "python2"
  },
  "language_info": {
   "codemirror_mode": {
    "name": "ipython",
    "version": 2
   },
   "file_extension": ".py",
   "mimetype": "text/x-python",
   "name": "python",
   "nbconvert_exporter": "python",
   "pygments_lexer": "ipython2",
   "version": "2.7.14"
  }
 },
 "nbformat": 4,
 "nbformat_minor": 2
}
