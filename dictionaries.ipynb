{
 "cells": [
  {
   "cell_type": "code",
   "execution_count": 1,
   "metadata": {},
   "outputs": [
    {
     "name": "stdout",
     "output_type": "stream",
     "text": [
      "{'phone': 9676622023, 'name': 'name1', 'age': 23, 'adhar': '123456543', 'pan': '23456rrt', 'height': 5.6}\n"
     ]
    }
   ],
   "source": [
    "p={\"name\":\"name1\",\"age\":23,\"height\":5.6,\"pan\":\"23456rrt\"}\n",
    "p.update({\"adhar\":\"123456543\",\"phone\":9676622023})\n",
    "print p"
   ]
  },
  {
   "cell_type": "code",
   "execution_count": 3,
   "metadata": {},
   "outputs": [
    {
     "name": "stdout",
     "output_type": "stream",
     "text": [
      "{'adhar': '345wert', 'age': 23, 'name': 'name1', 'pan': '23456rrt', 'height': 5.6}\n"
     ]
    }
   ],
   "source": [
    "p={\"name\":\"name1\",\"age\":23,\"height\":5.6,\"pan\":\"23456rrt\"}\n",
    "p.setdefault(\"adhar\",\"345wert\")\n",
    "print p"
   ]
  },
  {
   "cell_type": "code",
   "execution_count": 4,
   "metadata": {},
   "outputs": [
    {
     "name": "stdout",
     "output_type": "stream",
     "text": [
      "name1\n",
      "23\n"
     ]
    }
   ],
   "source": [
    "p={\"name\":\"name1\",\"age\":23,\"height\":5.6,\"pan\":\"23456rrt\"}\n",
    "print p[\"name\"]\n",
    "print p[\"age\"]"
   ]
  },
  {
   "cell_type": "code",
   "execution_count": 5,
   "metadata": {},
   "outputs": [
    {
     "name": "stdout",
     "output_type": "stream",
     "text": [
      "name1\n",
      "23\n",
      "name1\n",
      "23\n"
     ]
    }
   ],
   "source": [
    "p={\"name\":\"name1\",\"age\":23,\"height\":5.6,\"pan\":\"23456rrt\"}\n",
    "print p[\"name\"]\n",
    "print p[\"age\"]\n",
    "print p.get(\"name\")\n",
    "print p.get(\"age\")"
   ]
  },
  {
   "cell_type": "code",
   "execution_count": 6,
   "metadata": {},
   "outputs": [
    {
     "ename": "KeyError",
     "evalue": "'phone'",
     "output_type": "error",
     "traceback": [
      "\u001b[0;31m---------------------------------------------------------------------------\u001b[0m",
      "\u001b[0;31mKeyError\u001b[0m                                  Traceback (most recent call last)",
      "\u001b[0;32m<ipython-input-6-dcc0ddf70c74>\u001b[0m in \u001b[0;36m<module>\u001b[0;34m()\u001b[0m\n\u001b[1;32m      1\u001b[0m \u001b[0mp\u001b[0m\u001b[0;34m=\u001b[0m\u001b[0;34m{\u001b[0m\u001b[0;34m\"name\"\u001b[0m\u001b[0;34m:\u001b[0m\u001b[0;34m\"name1\"\u001b[0m\u001b[0;34m,\u001b[0m\u001b[0;34m\"age\"\u001b[0m\u001b[0;34m:\u001b[0m\u001b[0;36m23\u001b[0m\u001b[0;34m,\u001b[0m\u001b[0;34m\"height\"\u001b[0m\u001b[0;34m:\u001b[0m\u001b[0;36m5.6\u001b[0m\u001b[0;34m,\u001b[0m\u001b[0;34m\"pan\"\u001b[0m\u001b[0;34m:\u001b[0m\u001b[0;34m\"23456rrt\"\u001b[0m\u001b[0;34m}\u001b[0m\u001b[0;34m\u001b[0m\u001b[0m\n\u001b[0;32m----> 2\u001b[0;31m \u001b[0;32mprint\u001b[0m \u001b[0mp\u001b[0m\u001b[0;34m[\u001b[0m\u001b[0;34m\"phone\"\u001b[0m\u001b[0;34m]\u001b[0m\u001b[0;34m\u001b[0m\u001b[0m\n\u001b[0m",
      "\u001b[0;31mKeyError\u001b[0m: 'phone'"
     ]
    }
   ],
   "source": [
    "p={\"name\":\"name1\",\"age\":23,\"height\":5.6,\"pan\":\"23456rrt\"}\n",
    "print p[\"phone\"]"
   ]
  },
  {
   "cell_type": "code",
   "execution_count": 7,
   "metadata": {},
   "outputs": [
    {
     "name": "stdout",
     "output_type": "stream",
     "text": [
      "None\n"
     ]
    }
   ],
   "source": [
    "p={\"name\":\"name1\",\"age\":23,\"height\":5.6,\"pan\":\"23456rrt\"}\n",
    "print p.get(\"phone\")"
   ]
  },
  {
   "cell_type": "code",
   "execution_count": 8,
   "metadata": {},
   "outputs": [
    {
     "name": "stdout",
     "output_type": "stream",
     "text": [
      "defaut\n"
     ]
    }
   ],
   "source": [
    "p={\"name\":\"name1\",\"age\":23,\"height\":5.6,\"pan\":\"23456rrt\"}\n",
    "print p.get(\"phone\",\"defaut\")"
   ]
  },
  {
   "cell_type": "code",
   "execution_count": 9,
   "metadata": {},
   "outputs": [
    {
     "name": "stdout",
     "output_type": "stream",
     "text": [
      "name1\n"
     ]
    }
   ],
   "source": [
    "p={\"name\":\"name1\",\"age\":23,\"height\":5.6,\"pan\":\"23456rrt\"}\n",
    "print p.pop(\"name\")"
   ]
  },
  {
   "cell_type": "code",
   "execution_count": 10,
   "metadata": {},
   "outputs": [
    {
     "ename": "KeyError",
     "evalue": "'phone'",
     "output_type": "error",
     "traceback": [
      "\u001b[0;31m---------------------------------------------------------------------------\u001b[0m",
      "\u001b[0;31mKeyError\u001b[0m                                  Traceback (most recent call last)",
      "\u001b[0;32m<ipython-input-10-20e2488e9b6a>\u001b[0m in \u001b[0;36m<module>\u001b[0;34m()\u001b[0m\n\u001b[1;32m      1\u001b[0m \u001b[0mp\u001b[0m\u001b[0;34m=\u001b[0m\u001b[0;34m{\u001b[0m\u001b[0;34m\"name\"\u001b[0m\u001b[0;34m:\u001b[0m\u001b[0;34m\"name1\"\u001b[0m\u001b[0;34m,\u001b[0m\u001b[0;34m\"age\"\u001b[0m\u001b[0;34m:\u001b[0m\u001b[0;36m23\u001b[0m\u001b[0;34m,\u001b[0m\u001b[0;34m\"height\"\u001b[0m\u001b[0;34m:\u001b[0m\u001b[0;36m5.6\u001b[0m\u001b[0;34m,\u001b[0m\u001b[0;34m\"pan\"\u001b[0m\u001b[0;34m:\u001b[0m\u001b[0;34m\"23456rrt\"\u001b[0m\u001b[0;34m}\u001b[0m\u001b[0;34m\u001b[0m\u001b[0m\n\u001b[0;32m----> 2\u001b[0;31m \u001b[0;32mprint\u001b[0m \u001b[0mp\u001b[0m\u001b[0;34m.\u001b[0m\u001b[0mpop\u001b[0m\u001b[0;34m(\u001b[0m\u001b[0;34m\"phone\"\u001b[0m\u001b[0;34m)\u001b[0m\u001b[0;34m\u001b[0m\u001b[0m\n\u001b[0m",
      "\u001b[0;31mKeyError\u001b[0m: 'phone'"
     ]
    }
   ],
   "source": [
    "p={\"name\":\"name1\",\"age\":23,\"height\":5.6,\"pan\":\"23456rrt\"}\n",
    "print p.pop(\"phone\")"
   ]
  },
  {
   "cell_type": "code",
   "execution_count": 11,
   "metadata": {},
   "outputs": [
    {
     "name": "stdout",
     "output_type": "stream",
     "text": [
      "default value\n"
     ]
    }
   ],
   "source": [
    "p={\"name\":\"name1\",\"age\":23,\"height\":5.6,\"pan\":\"23456rrt\"}\n",
    "print p.pop(\"phone\",\"default value\")"
   ]
  },
  {
   "cell_type": "code",
   "execution_count": 12,
   "metadata": {},
   "outputs": [
    {
     "name": "stdout",
     "output_type": "stream",
     "text": [
      "23\n"
     ]
    }
   ],
   "source": [
    "p={\"name\":\"name1\",\"age\":23,\"height\":5.6,\"pan\":\"23456rrt\"}\n",
    "print p.pop(\"age\",\"default value\")"
   ]
  },
  {
   "cell_type": "code",
   "execution_count": 13,
   "metadata": {},
   "outputs": [
    {
     "name": "stdout",
     "output_type": "stream",
     "text": [
      "('age', 23)\n"
     ]
    }
   ],
   "source": [
    "p={\"name\":\"name1\",\"age\":23,\"height\":5.6,\"pan\":\"23456rrt\"}\n",
    "print p.popitem()"
   ]
  },
  {
   "cell_type": "code",
   "execution_count": 14,
   "metadata": {},
   "outputs": [
    {
     "name": "stdout",
     "output_type": "stream",
     "text": [
      "None\n",
      "{}\n"
     ]
    }
   ],
   "source": [
    "p={\"name\":\"name1\",\"age\":23,\"height\":5.6,\"pan\":\"23456rrt\"}\n",
    "print p.clear()\n",
    "print p"
   ]
  },
  {
   "cell_type": "code",
   "execution_count": 16,
   "metadata": {},
   "outputs": [
    {
     "name": "stdout",
     "output_type": "stream",
     "text": [
      "{'pan': '23456rrt'}\n"
     ]
    }
   ],
   "source": [
    "p={\"name\":\"name1\",\"age\":23,\"height\":5.6,\"pan\":\"23456rrt\"}\n",
    "del p[\"name\"],p[\"age\"],p[\"height\"]\n",
    "print p"
   ]
  },
  {
   "cell_type": "code",
   "execution_count": 17,
   "metadata": {},
   "outputs": [
    {
     "name": "stdout",
     "output_type": "stream",
     "text": [
      "{'age': 23, 'name': 'modified name1', 'pan': '23456rrt', 'height': 5.6}\n",
      "{'age': 23, 'name': 'modified name1', 'pan': '23456rrt', 'height': 5.6}\n"
     ]
    }
   ],
   "source": [
    "p={\"name\":\"name1\",\"age\":23,\"height\":5.6,\"pan\":\"23456rrt\"}\n",
    "p1=p\n",
    "p1[\"name\"]=\"modified name1\"\n",
    "print p1\n",
    "print p"
   ]
  },
  {
   "cell_type": "code",
   "execution_count": 18,
   "metadata": {},
   "outputs": [
    {
     "name": "stdout",
     "output_type": "stream",
     "text": [
      "{'age': 23, 'name': 'modified name1', 'pan': '23456rrt', 'height': 5.6}\n",
      "{'age': 23, 'name': 'name1', 'pan': '23456rrt', 'height': 5.6}\n"
     ]
    }
   ],
   "source": [
    "p={\"name\":\"name1\",\"age\":23,\"height\":5.6,\"pan\":\"23456rrt\"}\n",
    "p1=p.copy()\n",
    "p1[\"name\"]=\"modified name1\"\n",
    "print p1\n",
    "print p"
   ]
  },
  {
   "cell_type": "code",
   "execution_count": 19,
   "metadata": {},
   "outputs": [
    {
     "name": "stdout",
     "output_type": "stream",
     "text": [
      "140706691302856\n",
      "140706691302856\n",
      "{'age': 23, 'name': 'modified name1', 'pan': '23456rrt', 'height': 5.6}\n",
      "{'age': 23, 'name': 'modified name1', 'pan': '23456rrt', 'height': 5.6}\n"
     ]
    }
   ],
   "source": [
    "p={\"name\":\"name1\",\"age\":23,\"height\":5.6,\"pan\":\"23456rrt\"}\n",
    "p1=p\n",
    "print id(p)\n",
    "print id(p1)\n",
    "p1[\"name\"]=\"modified name1\"\n",
    "print p1\n",
    "print p"
   ]
  },
  {
   "cell_type": "code",
   "execution_count": 20,
   "metadata": {},
   "outputs": [
    {
     "name": "stdout",
     "output_type": "stream",
     "text": [
      "140706690527312\n",
      "140706691307232\n",
      "{'age': 23, 'name': 'modified name1', 'pan': '23456rrt', 'height': 5.6}\n",
      "{'age': 23, 'name': 'name1', 'pan': '23456rrt', 'height': 5.6}\n"
     ]
    }
   ],
   "source": [
    "p={\"name\":\"name1\",\"age\":23,\"height\":5.6,\"pan\":\"23456rrt\"}\n",
    "p1=p.copy()\n",
    "print id(p)\n",
    "print id(p1)\n",
    "p1[\"name\"]=\"modified name1\"\n",
    "print p1\n",
    "print p"
   ]
  },
  {
   "cell_type": "code",
   "execution_count": 22,
   "metadata": {},
   "outputs": [
    {
     "name": "stdout",
     "output_type": "stream",
     "text": [
      "{0: 'def', 1: 'def', 2: 'def', 3: 'def', 4: 'def', 5: 'def', 6: 'def', 7: 'def', 8: 'def', 9: 'def'}\n"
     ]
    }
   ],
   "source": [
    "p1={}\n",
    "new_dict = p1.fromkeys(range(10),\"def\")\n",
    "print new_dict"
   ]
  },
  {
   "cell_type": "code",
   "execution_count": 23,
   "metadata": {},
   "outputs": [
    {
     "name": "stdout",
     "output_type": "stream",
     "text": [
      "True\n",
      "False\n"
     ]
    }
   ],
   "source": [
    "p={\"name\":\"name1\",\"age\":23,\"height\":5.6,\"pan\":\"23456rrt\"}\n",
    "print \"name\" in p\n",
    "print \"phone\" in p"
   ]
  },
  {
   "cell_type": "code",
   "execution_count": 24,
   "metadata": {},
   "outputs": [
    {
     "name": "stdout",
     "output_type": "stream",
     "text": [
      "False\n",
      "False\n"
     ]
    }
   ],
   "source": [
    "p={\"name\":\"name1\",\"age\":23,\"height\":5.6,\"pan\":\"23456rrt\"}\n",
    "print \"name1\" in p\n",
    "print 23 in p"
   ]
  },
  {
   "cell_type": "code",
   "execution_count": 25,
   "metadata": {},
   "outputs": [
    {
     "name": "stdout",
     "output_type": "stream",
     "text": [
      "True\n",
      "False\n",
      "True\n",
      "False\n",
      "True\n",
      "False\n"
     ]
    }
   ],
   "source": [
    "p={\"name\":\"name1\",\"age\":23,\"height\":5.6,\"pan\":\"23456rrt\"}\n",
    "print \"name\" in p\n",
    "print \"phone\" in p\n",
    "print \"name\" in p.keys()\n",
    "print \"phone\" in p.keys()\n",
    "print p.has_key(\"name\")\n",
    "print p.has_key(\"phone\")"
   ]
  },
  {
   "cell_type": "code",
   "execution_count": 26,
   "metadata": {},
   "outputs": [
    {
     "name": "stdout",
     "output_type": "stream",
     "text": [
      "['age', 'name', 'pan', 'height']\n",
      "[23, 'name1', '23456rrt', 5.6]\n"
     ]
    }
   ],
   "source": [
    "p={\"name\":\"name1\",\"age\":23,\"height\":5.6,\"pan\":\"23456rrt\"}\n",
    "print p.keys()\n",
    "print p.values()"
   ]
  },
  {
   "cell_type": "code",
   "execution_count": 27,
   "metadata": {},
   "outputs": [
    {
     "name": "stdout",
     "output_type": "stream",
     "text": [
      "True\n"
     ]
    }
   ],
   "source": [
    "p={\"name\":\"name1\",\"age\":23,\"height\":5.6,\"pan\":\"23456rrt\"}\n",
    "print 23 in p.values()"
   ]
  },
  {
   "cell_type": "code",
   "execution_count": 28,
   "metadata": {},
   "outputs": [
    {
     "name": "stdout",
     "output_type": "stream",
     "text": [
      "age\n",
      "name\n",
      "pan\n",
      "height\n"
     ]
    }
   ],
   "source": [
    "p={\"name\":\"name1\",\"age\":23,\"height\":5.6,\"pan\":\"23456rrt\"}\n",
    "for i in p:\n",
    "    print i"
   ]
  },
  {
   "cell_type": "code",
   "execution_count": 29,
   "metadata": {},
   "outputs": [
    {
     "name": "stdout",
     "output_type": "stream",
     "text": [
      "[('age', 23), ('name', 'name1'), ('pan', '23456rrt'), ('height', 5.6)]\n",
      "<dictionary-itemiterator object at 0x7ff8d44d6578>\n",
      "dict_items([('age', 23), ('name', 'name1'), ('pan', '23456rrt'), ('height', 5.6)])\n"
     ]
    }
   ],
   "source": [
    "p={\"name\":\"name1\",\"age\":23,\"height\":5.6,\"pan\":\"23456rrt\"}\n",
    "print p.items()\n",
    "print p.iteritems()\n",
    "print p.viewitems()"
   ]
  },
  {
   "cell_type": "code",
   "execution_count": 30,
   "metadata": {},
   "outputs": [
    {
     "name": "stdout",
     "output_type": "stream",
     "text": [
      "('age', 23)\n",
      "('name', 'name1')\n",
      "('pan', '23456rrt')\n",
      "('height', 5.6)\n",
      "('age', 23)\n",
      "('name', 'name1')\n",
      "('pan', '23456rrt')\n",
      "('height', 5.6)\n",
      "('age', 23)\n",
      "('name', 'name1')\n",
      "('pan', '23456rrt')\n",
      "('height', 5.6)\n",
      "('age', 23)\n",
      "('name', 'name1')\n",
      "('pan', '23456rrt')\n",
      "('height', 5.6)\n"
     ]
    }
   ],
   "source": [
    "p={\"name\":\"name1\",\"age\":23,\"height\":5.6,\"pan\":\"23456rrt\"}\n",
    "items=p.items()\n",
    "for i in items:\n",
    "    print i\n",
    "for i in items:\n",
    "    print i\n",
    "for i in items:\n",
    "    print i\n",
    "for i in items:\n",
    "    print i"
   ]
  },
  {
   "cell_type": "code",
   "execution_count": 33,
   "metadata": {},
   "outputs": [
    {
     "name": "stdout",
     "output_type": "stream",
     "text": [
      "('age', 23)\n",
      "('name', 'name1')\n",
      "('pan', '23456rrt')\n",
      "('height', 5.6)\n"
     ]
    }
   ],
   "source": [
    "p={\"name\":\"name1\",\"age\":23,\"height\":5.6,\"pan\":\"23456rrt\"}\n",
    "items=p.iteritems()\n",
    "for i in items:\n",
    "    print i\n",
    "for i in items:\n",
    "    print i\n",
    "for i in items:\n",
    "    print i\n",
    "for i in items:\n",
    "    print i"
   ]
  },
  {
   "cell_type": "code",
   "execution_count": 34,
   "metadata": {},
   "outputs": [
    {
     "ename": "RuntimeError",
     "evalue": "dictionary changed size during iteration",
     "output_type": "error",
     "traceback": [
      "\u001b[0;31m---------------------------------------------------------------------------\u001b[0m",
      "\u001b[0;31mRuntimeError\u001b[0m                              Traceback (most recent call last)",
      "\u001b[0;32m<ipython-input-34-150b714eebeb>\u001b[0m in \u001b[0;36m<module>\u001b[0;34m()\u001b[0m\n\u001b[1;32m      2\u001b[0m \u001b[0mitems\u001b[0m\u001b[0;34m=\u001b[0m\u001b[0mp\u001b[0m\u001b[0;34m.\u001b[0m\u001b[0miteritems\u001b[0m\u001b[0;34m(\u001b[0m\u001b[0;34m)\u001b[0m\u001b[0;34m\u001b[0m\u001b[0m\n\u001b[1;32m      3\u001b[0m \u001b[0mp\u001b[0m\u001b[0;34m.\u001b[0m\u001b[0mpop\u001b[0m\u001b[0;34m(\u001b[0m\u001b[0;34m\"name\"\u001b[0m\u001b[0;34m)\u001b[0m\u001b[0;34m\u001b[0m\u001b[0m\n\u001b[0;32m----> 4\u001b[0;31m \u001b[0;32mfor\u001b[0m \u001b[0mi\u001b[0m \u001b[0;32min\u001b[0m \u001b[0mitems\u001b[0m\u001b[0;34m:\u001b[0m\u001b[0;34m\u001b[0m\u001b[0m\n\u001b[0m\u001b[1;32m      5\u001b[0m     \u001b[0;32mprint\u001b[0m \u001b[0mi\u001b[0m\u001b[0;34m\u001b[0m\u001b[0m\n\u001b[1;32m      6\u001b[0m \u001b[0;32mfor\u001b[0m \u001b[0mi\u001b[0m \u001b[0;32min\u001b[0m \u001b[0mitems\u001b[0m\u001b[0;34m:\u001b[0m\u001b[0;34m\u001b[0m\u001b[0m\n",
      "\u001b[0;31mRuntimeError\u001b[0m: dictionary changed size during iteration"
     ]
    }
   ],
   "source": [
    "p={\"name\":\"name1\",\"age\":23,\"height\":5.6,\"pan\":\"23456rrt\"}\n",
    "items=p.iteritems()\n",
    "p.pop(\"name\")\n",
    "for i in items:\n",
    "    print i\n",
    "for i in items:\n",
    "    print i\n",
    "for i in items:\n",
    "    print i\n",
    "for i in items:\n",
    "    print i"
   ]
  },
  {
   "cell_type": "code",
   "execution_count": 35,
   "metadata": {},
   "outputs": [
    {
     "name": "stdout",
     "output_type": "stream",
     "text": [
      "('age', 23)\n",
      "('pan', '23456rrt')\n",
      "('height', 5.6)\n"
     ]
    }
   ],
   "source": [
    "p={\"name\":\"name1\",\"age\":23,\"height\":5.6,\"pan\":\"23456rrt\"}\n",
    "items=p.iteritems()\n",
    "p.pop(\"name\")\n",
    "items=p.iteritems()\n",
    "for i in items:\n",
    "    print i\n",
    "for i in items:\n",
    "    print i\n",
    "for i in items:\n",
    "    print i\n",
    "for i in items:\n",
    "    print i"
   ]
  },
  {
   "cell_type": "code",
   "execution_count": 37,
   "metadata": {},
   "outputs": [
    {
     "name": "stdout",
     "output_type": "stream",
     "text": [
      "('age', 23)\n",
      "('pan', '23456rrt')\n",
      "('height', 5.6)\n",
      "('age', 23)\n",
      "('pan', '23456rrt')\n",
      "('height', 5.6)\n",
      "('age', 23)\n",
      "('pan', '23456rrt')\n",
      "('height', 5.6)\n",
      "('age', 23)\n",
      "('pan', '23456rrt')\n",
      "('height', 5.6)\n"
     ]
    }
   ],
   "source": [
    "p={\"name\":\"name1\",\"age\":23,\"height\":5.6,\"pan\":\"23456rrt\"}\n",
    "items=p.viewitems()\n",
    "p.pop(\"name\")\n",
    "for i in items:\n",
    "    print i\n",
    "for i in items:\n",
    "    print i\n",
    "for i in items:\n",
    "    print i\n",
    "for i in items:\n",
    "    print i"
   ]
  },
  {
   "cell_type": "code",
   "execution_count": 38,
   "metadata": {},
   "outputs": [
    {
     "name": "stdout",
     "output_type": "stream",
     "text": [
      "{'set': set([1, 2, 3, 4]), 'tuple': (1, 2, 3, 4), 'int': 10, 'float': 1.2, 'list': [1, 2, 3, 4], 'com': (1+2j)}\n"
     ]
    }
   ],
   "source": [
    "d={\"int\":10,\"float\":1.2,\"com\":1+2j,\"list\":[1,2,3,4],\"tuple\":(1,2,3,4),\"set\":{1,2,3,4}}\n",
    "print d"
   ]
  },
  {
   "cell_type": "code",
   "execution_count": 40,
   "metadata": {
    "collapsed": true
   },
   "outputs": [],
   "source": [
    "d={1:\"int\",1.2:\"float\",(1,2,3):\"tuple\",1+2j:\"comp\",\"str\":\"string\"}"
   ]
  },
  {
   "cell_type": "code",
   "execution_count": 41,
   "metadata": {},
   "outputs": [
    {
     "ename": "TypeError",
     "evalue": "unhashable type: 'list'",
     "output_type": "error",
     "traceback": [
      "\u001b[0;31m---------------------------------------------------------------------------\u001b[0m",
      "\u001b[0;31mTypeError\u001b[0m                                 Traceback (most recent call last)",
      "\u001b[0;32m<ipython-input-41-25aafa289d27>\u001b[0m in \u001b[0;36m<module>\u001b[0;34m()\u001b[0m\n\u001b[0;32m----> 1\u001b[0;31m \u001b[0md\u001b[0m\u001b[0;34m=\u001b[0m\u001b[0;34m{\u001b[0m\u001b[0;36m1\u001b[0m\u001b[0;34m:\u001b[0m\u001b[0;34m\"int\"\u001b[0m\u001b[0;34m,\u001b[0m\u001b[0;36m1.2\u001b[0m\u001b[0;34m:\u001b[0m\u001b[0;34m\"float\"\u001b[0m\u001b[0;34m,\u001b[0m\u001b[0;34m(\u001b[0m\u001b[0;36m1\u001b[0m\u001b[0;34m,\u001b[0m\u001b[0;36m2\u001b[0m\u001b[0;34m,\u001b[0m\u001b[0;36m3\u001b[0m\u001b[0;34m)\u001b[0m\u001b[0;34m:\u001b[0m\u001b[0;34m\"tuple\"\u001b[0m\u001b[0;34m,\u001b[0m\u001b[0;36m1\u001b[0m\u001b[0;34m+\u001b[0m\u001b[0;36m2j\u001b[0m\u001b[0;34m:\u001b[0m\u001b[0;34m\"comp\"\u001b[0m\u001b[0;34m,\u001b[0m\u001b[0;34m\"str\"\u001b[0m\u001b[0;34m:\u001b[0m\u001b[0;34m\"string\"\u001b[0m\u001b[0;34m,\u001b[0m\u001b[0;34m[\u001b[0m\u001b[0;36m1\u001b[0m\u001b[0;34m,\u001b[0m\u001b[0;36m2\u001b[0m\u001b[0;34m,\u001b[0m\u001b[0;36m3\u001b[0m\u001b[0;34m,\u001b[0m\u001b[0;36m4\u001b[0m\u001b[0;34m]\u001b[0m\u001b[0;34m:\u001b[0m\u001b[0;34m\"list\"\u001b[0m\u001b[0;34m}\u001b[0m\u001b[0;34m\u001b[0m\u001b[0m\n\u001b[0m",
      "\u001b[0;31mTypeError\u001b[0m: unhashable type: 'list'"
     ]
    }
   ],
   "source": [
    "d={1:\"int\",1.2:\"float\",(1,2,3):\"tuple\",1+2j:\"comp\",\"str\":\"string\",[1,2,3,4]:\"list\"}"
   ]
  },
  {
   "cell_type": "code",
   "execution_count": 42,
   "metadata": {},
   "outputs": [
    {
     "ename": "TypeError",
     "evalue": "unhashable type: 'set'",
     "output_type": "error",
     "traceback": [
      "\u001b[0;31m---------------------------------------------------------------------------\u001b[0m",
      "\u001b[0;31mTypeError\u001b[0m                                 Traceback (most recent call last)",
      "\u001b[0;32m<ipython-input-42-b9cdf01d56a9>\u001b[0m in \u001b[0;36m<module>\u001b[0;34m()\u001b[0m\n\u001b[0;32m----> 1\u001b[0;31m \u001b[0md\u001b[0m\u001b[0;34m=\u001b[0m\u001b[0;34m{\u001b[0m\u001b[0;36m1\u001b[0m\u001b[0;34m:\u001b[0m\u001b[0;34m\"int\"\u001b[0m\u001b[0;34m,\u001b[0m\u001b[0;36m1.2\u001b[0m\u001b[0;34m:\u001b[0m\u001b[0;34m\"float\"\u001b[0m\u001b[0;34m,\u001b[0m\u001b[0;34m(\u001b[0m\u001b[0;36m1\u001b[0m\u001b[0;34m,\u001b[0m\u001b[0;36m2\u001b[0m\u001b[0;34m,\u001b[0m\u001b[0;36m3\u001b[0m\u001b[0;34m)\u001b[0m\u001b[0;34m:\u001b[0m\u001b[0;34m\"tuple\"\u001b[0m\u001b[0;34m,\u001b[0m\u001b[0;36m1\u001b[0m\u001b[0;34m+\u001b[0m\u001b[0;36m2j\u001b[0m\u001b[0;34m:\u001b[0m\u001b[0;34m\"comp\"\u001b[0m\u001b[0;34m,\u001b[0m\u001b[0;34m\"str\"\u001b[0m\u001b[0;34m:\u001b[0m\u001b[0;34m\"string\"\u001b[0m\u001b[0;34m,\u001b[0m\u001b[0;34m{\u001b[0m\u001b[0;36m1\u001b[0m\u001b[0;34m,\u001b[0m\u001b[0;36m2\u001b[0m\u001b[0;34m,\u001b[0m\u001b[0;36m3\u001b[0m\u001b[0;34m,\u001b[0m\u001b[0;36m4\u001b[0m\u001b[0;34m}\u001b[0m\u001b[0;34m:\u001b[0m\u001b[0;34m\"list\"\u001b[0m\u001b[0;34m}\u001b[0m\u001b[0;34m\u001b[0m\u001b[0m\n\u001b[0m",
      "\u001b[0;31mTypeError\u001b[0m: unhashable type: 'set'"
     ]
    }
   ],
   "source": [
    "d={1:\"int\",1.2:\"float\",(1,2,3):\"tuple\",1+2j:\"comp\",\"str\":\"string\",{1,2,3,4}:\"list\"}"
   ]
  },
  {
   "cell_type": "code",
   "execution_count": 43,
   "metadata": {},
   "outputs": [
    {
     "ename": "TypeError",
     "evalue": "unhashable type: 'dict'",
     "output_type": "error",
     "traceback": [
      "\u001b[0;31m---------------------------------------------------------------------------\u001b[0m",
      "\u001b[0;31mTypeError\u001b[0m                                 Traceback (most recent call last)",
      "\u001b[0;32m<ipython-input-43-f4c8c9caa5ab>\u001b[0m in \u001b[0;36m<module>\u001b[0;34m()\u001b[0m\n\u001b[0;32m----> 1\u001b[0;31m \u001b[0md\u001b[0m\u001b[0;34m=\u001b[0m\u001b[0;34m{\u001b[0m\u001b[0;36m1\u001b[0m\u001b[0;34m:\u001b[0m\u001b[0;34m\"int\"\u001b[0m\u001b[0;34m,\u001b[0m\u001b[0;36m1.2\u001b[0m\u001b[0;34m:\u001b[0m\u001b[0;34m\"float\"\u001b[0m\u001b[0;34m,\u001b[0m\u001b[0;34m(\u001b[0m\u001b[0;36m1\u001b[0m\u001b[0;34m,\u001b[0m\u001b[0;36m2\u001b[0m\u001b[0;34m,\u001b[0m\u001b[0;36m3\u001b[0m\u001b[0;34m)\u001b[0m\u001b[0;34m:\u001b[0m\u001b[0;34m\"tuple\"\u001b[0m\u001b[0;34m,\u001b[0m\u001b[0;36m1\u001b[0m\u001b[0;34m+\u001b[0m\u001b[0;36m2j\u001b[0m\u001b[0;34m:\u001b[0m\u001b[0;34m\"comp\"\u001b[0m\u001b[0;34m,\u001b[0m\u001b[0;34m\"str\"\u001b[0m\u001b[0;34m:\u001b[0m\u001b[0;34m\"string\"\u001b[0m\u001b[0;34m,\u001b[0m\u001b[0;34m{\u001b[0m\u001b[0;36m1\u001b[0m\u001b[0;34m:\u001b[0m\u001b[0;36m2\u001b[0m\u001b[0;34m}\u001b[0m\u001b[0;34m:\u001b[0m\u001b[0;34m\"list\"\u001b[0m\u001b[0;34m}\u001b[0m\u001b[0;34m\u001b[0m\u001b[0m\n\u001b[0m",
      "\u001b[0;31mTypeError\u001b[0m: unhashable type: 'dict'"
     ]
    }
   ],
   "source": [
    "d={1:\"int\",1.2:\"float\",(1,2,3):\"tuple\",1+2j:\"comp\",\"str\":\"string\",{1:2}:\"list\"}"
   ]
  },
  {
   "cell_type": "code",
   "execution_count": 44,
   "metadata": {
    "collapsed": true
   },
   "outputs": [],
   "source": [
    "d={1:\"int\",1.2:\"float\",(1,2,3):\"tuple\",1+2j:\"comp\",\"str\":\"string\",True:\"bool\"}"
   ]
  },
  {
   "cell_type": "code",
   "execution_count": 45,
   "metadata": {
    "collapsed": true
   },
   "outputs": [],
   "source": [
    "d={1:\"int\",1.2:\"float\",(1,2,3):\"tuple\",1+2j:\"comp\",\"str\":\"string\",True:\"bool\",None:\"none\"}"
   ]
  },
  {
   "cell_type": "code",
   "execution_count": 46,
   "metadata": {},
   "outputs": [
    {
     "name": "stdout",
     "output_type": "stream",
     "text": [
      "['a', 'd', 'b', 'c', 'a', 'd', 'b', 'c', 'a', 'd', 'b', 'c', 'a', 'd', 'b', 'c']\n"
     ]
    }
   ],
   "source": [
    "s=\"adbcadbcadbcadbc\"\n",
    "l=list(s)\n",
    "print l"
   ]
  },
  {
   "cell_type": "code",
   "execution_count": 47,
   "metadata": {},
   "outputs": [
    {
     "name": "stdout",
     "output_type": "stream",
     "text": [
      "['a', 'a', 'a', 'a', 'b', 'b', 'b', 'b', 'c', 'c', 'c', 'c', 'd', 'd', 'd', 'd']\n"
     ]
    }
   ],
   "source": [
    "s=\"adbcadbcadbcadbc\"\n",
    "l=list(s)\n",
    "l.sort()\n",
    "print l"
   ]
  },
  {
   "cell_type": "code",
   "execution_count": 48,
   "metadata": {},
   "outputs": [
    {
     "name": "stdout",
     "output_type": "stream",
     "text": [
      "aaaabbbbccccdddd\n"
     ]
    }
   ],
   "source": [
    "s=\"adbcadbcadbcadbc\"\n",
    "l=list(s)\n",
    "l.sort()\n",
    "print \"\".join(l)"
   ]
  },
  {
   "cell_type": "code",
   "execution_count": 50,
   "metadata": {},
   "outputs": [
    {
     "name": "stdout",
     "output_type": "stream",
     "text": [
      "aaaabbbbccccdddd\n"
     ]
    }
   ],
   "source": [
    "s=\"adbcadbcadbcadbc\"\n",
    "l=list(s)\n",
    "l.sort()\n",
    "print \"\".join(l)"
   ]
  },
  {
   "cell_type": "code",
   "execution_count": 52,
   "metadata": {},
   "outputs": [
    {
     "name": "stdout",
     "output_type": "stream",
     "text": [
      "aaaabbbbccccdddd\n"
     ]
    }
   ],
   "source": [
    "s=\"adbcadbcadbcadbc\"\n",
    "l=list(s)\n",
    "l.sort()\n",
    "print \"\".join(l)"
   ]
  },
  {
   "cell_type": "code",
   "execution_count": 53,
   "metadata": {},
   "outputs": [
    {
     "name": "stdout",
     "output_type": "stream",
     "text": [
      "is language object oriented programing pure python\n"
     ]
    }
   ],
   "source": [
    "s=\"python is pure object oriented programing language\"\n",
    "l=s.split()\n",
    "l.sort()\n",
    "print \" \".join(l)"
   ]
  },
  {
   "cell_type": "code",
   "execution_count": 59,
   "metadata": {},
   "outputs": [
    {
     "ename": "TypeError",
     "evalue": "'str' object is not callable",
     "output_type": "error",
     "traceback": [
      "\u001b[0;31m---------------------------------------------------------------------------\u001b[0m",
      "\u001b[0;31mTypeError\u001b[0m                                 Traceback (most recent call last)",
      "\u001b[0;32m<ipython-input-59-953cd22d9017>\u001b[0m in \u001b[0;36m<module>\u001b[0;34m()\u001b[0m\n\u001b[1;32m      1\u001b[0m \u001b[0ml\u001b[0m\u001b[0;34m=\u001b[0m\u001b[0;34m[\u001b[0m\u001b[0;34m{\u001b[0m\u001b[0;34m\"name\"\u001b[0m\u001b[0;34m:\u001b[0m\u001b[0;34m\"1\"\u001b[0m\u001b[0;34m,\u001b[0m\u001b[0;34m\"age\"\u001b[0m\u001b[0;34m:\u001b[0m\u001b[0;36m23\u001b[0m\u001b[0;34m}\u001b[0m\u001b[0;34m,\u001b[0m\u001b[0;34m{\u001b[0m\u001b[0;34m\"name\"\u001b[0m\u001b[0;34m:\u001b[0m\u001b[0;34m\"2\"\u001b[0m\u001b[0;34m,\u001b[0m\u001b[0;34m\"age\"\u001b[0m\u001b[0;34m:\u001b[0m\u001b[0;36m22\u001b[0m\u001b[0;34m}\u001b[0m\u001b[0;34m]\u001b[0m\u001b[0;34m\u001b[0m\u001b[0m\n\u001b[0;32m----> 2\u001b[0;31m \u001b[0ml\u001b[0m\u001b[0;34m.\u001b[0m\u001b[0msort\u001b[0m\u001b[0;34m(\u001b[0m\u001b[0mkey\u001b[0m\u001b[0;34m=\u001b[0m\u001b[0;34m\"name\"\u001b[0m\u001b[0;34m)\u001b[0m\u001b[0;34m\u001b[0m\u001b[0m\n\u001b[0m",
      "\u001b[0;31mTypeError\u001b[0m: 'str' object is not callable"
     ]
    }
   ],
   "source": [
    "l=[{\"name\":\"1\",\"age\":23},{\"name\":\"2\",\"age\":22}]\n",
    "l.sort(key=\"name\")"
   ]
  },
  {
   "cell_type": "code",
   "execution_count": 60,
   "metadata": {},
   "outputs": [
    {
     "name": "stdout",
     "output_type": "stream",
     "text": [
      "[{'age': 23, 'name': '1'}, {'age': 22, 'name': '2'}]\n"
     ]
    }
   ],
   "source": [
    "l=[{\"name\":\"1\",\"age\":23},{\"name\":\"2\",\"age\":22}]\n",
    "print l"
   ]
  },
  {
   "cell_type": "code",
   "execution_count": 64,
   "metadata": {},
   "outputs": [
    {
     "ename": "TypeError",
     "evalue": "'str' object is not callable",
     "output_type": "error",
     "traceback": [
      "\u001b[0;31m---------------------------------------------------------------------------\u001b[0m",
      "\u001b[0;31mTypeError\u001b[0m                                 Traceback (most recent call last)",
      "\u001b[0;32m<ipython-input-64-05e2b9b3a2fb>\u001b[0m in \u001b[0;36m<module>\u001b[0;34m()\u001b[0m\n\u001b[1;32m      1\u001b[0m \u001b[0ml\u001b[0m\u001b[0;34m=\u001b[0m\u001b[0;34m[\u001b[0m\u001b[0;34m{\u001b[0m\u001b[0;34m\"name\"\u001b[0m\u001b[0;34m:\u001b[0m\u001b[0;36m1\u001b[0m\u001b[0;34m,\u001b[0m\u001b[0;34m\"age\"\u001b[0m\u001b[0;34m:\u001b[0m\u001b[0;36m23\u001b[0m\u001b[0;34m}\u001b[0m\u001b[0;34m,\u001b[0m\u001b[0;34m{\u001b[0m\u001b[0;34m\"name\"\u001b[0m\u001b[0;34m:\u001b[0m\u001b[0;36m2\u001b[0m\u001b[0;34m,\u001b[0m\u001b[0;34m\"age\"\u001b[0m\u001b[0;34m:\u001b[0m\u001b[0;36m22\u001b[0m\u001b[0;34m}\u001b[0m\u001b[0;34m]\u001b[0m\u001b[0;34m\u001b[0m\u001b[0m\n\u001b[0;32m----> 2\u001b[0;31m \u001b[0ml\u001b[0m\u001b[0;34m.\u001b[0m\u001b[0msort\u001b[0m\u001b[0;34m(\u001b[0m\u001b[0mkey\u001b[0m\u001b[0;34m=\u001b[0m\u001b[0;34m'name'\u001b[0m\u001b[0;34m)\u001b[0m\u001b[0;34m\u001b[0m\u001b[0m\n\u001b[0m",
      "\u001b[0;31mTypeError\u001b[0m: 'str' object is not callable"
     ]
    }
   ],
   "source": [
    "l=[{\"name\":1,\"age\":23},{\"name\":2,\"age\":22}]\n",
    "l.sort(key='name')"
   ]
  },
  {
   "cell_type": "code",
   "execution_count": 65,
   "metadata": {},
   "outputs": [
    {
     "name": "stdout",
     "output_type": "stream",
     "text": [
      "['d', 'd', 'e', 'f', 'g', 'g', 'h', 'h', 'q', 'r', 'r', 's', 't', 'w']\n"
     ]
    }
   ],
   "source": [
    "l=[{\"name\":1,\"age\":23},{\"name\":2,\"age\":22}]\n",
    "print sorted(\"sdtrewqdfghhgr\")"
   ]
  },
  {
   "cell_type": "code",
   "execution_count": 66,
   "metadata": {},
   "outputs": [
    {
     "name": "stdout",
     "output_type": "stream",
     "text": [
      "[{'age': 22, 'name': 2}, {'age': 23, 'name': 1}]\n"
     ]
    }
   ],
   "source": [
    "l=[{\"name\":1,\"age\":23},{\"name\":2,\"age\":22}]\n",
    "print sorted(l)"
   ]
  },
  {
   "cell_type": "code",
   "execution_count": 67,
   "metadata": {
    "collapsed": true
   },
   "outputs": [],
   "source": [
    "l=[{\"name\":1,\"age\":23},{\"name\":2,\"age\":22}]\n",
    "print sorted?"
   ]
  },
  {
   "cell_type": "code",
   "execution_count": 69,
   "metadata": {},
   "outputs": [
    {
     "ename": "TypeError",
     "evalue": "'str' object is not callable",
     "output_type": "error",
     "traceback": [
      "\u001b[0;31m---------------------------------------------------------------------------\u001b[0m",
      "\u001b[0;31mTypeError\u001b[0m                                 Traceback (most recent call last)",
      "\u001b[0;32m<ipython-input-69-a867996d6c6c>\u001b[0m in \u001b[0;36m<module>\u001b[0;34m()\u001b[0m\n\u001b[0;32m----> 1\u001b[0;31m \u001b[0;32mprint\u001b[0m \u001b[0msorted\u001b[0m\u001b[0;34m(\u001b[0m\u001b[0ml\u001b[0m\u001b[0;34m,\u001b[0m\u001b[0mkey\u001b[0m\u001b[0;34m=\u001b[0m\u001b[0;34m\"name\"\u001b[0m\u001b[0;34m)\u001b[0m\u001b[0;34m\u001b[0m\u001b[0m\n\u001b[0m",
      "\u001b[0;31mTypeError\u001b[0m: 'str' object is not callable"
     ]
    }
   ],
   "source": [
    "print sorted(l,key=\"name\")"
   ]
  },
  {
   "cell_type": "code",
   "execution_count": 70,
   "metadata": {},
   "outputs": [
    {
     "name": "stdout",
     "output_type": "stream",
     "text": [
      "7\n"
     ]
    }
   ],
   "source": [
    "l1=[\"12\",\"23\",\"45\",\"45\",\"34\",\"6\",\"7\"]\n",
    "print max(l1)"
   ]
  },
  {
   "cell_type": "code",
   "execution_count": 71,
   "metadata": {},
   "outputs": [
    {
     "name": "stdout",
     "output_type": "stream",
     "text": [
      "12\n",
      "23\n",
      "45\n",
      "45\n",
      "34\n",
      "6\n",
      "7\n",
      "7\n"
     ]
    }
   ],
   "source": [
    "l1=[\"12\",\"23\",\"45\",\"45\",\"34\",\"6\",\"7\"]\n",
    "res=[]\n",
    "for i in l1:\n",
    "    print i\n",
    "print max(l1)"
   ]
  },
  {
   "cell_type": "code",
   "execution_count": 72,
   "metadata": {},
   "outputs": [
    {
     "name": "stdout",
     "output_type": "stream",
     "text": [
      "12\n",
      "23\n",
      "45\n",
      "45\n",
      "34\n",
      "6\n",
      "7\n",
      "7\n"
     ]
    }
   ],
   "source": [
    "l1=[\"12\",\"23\",\"45\",\"45\",\"34\",\"6\",\"7\"]\n",
    "res=[]\n",
    "for i in l1:\n",
    "    print int(i)\n",
    "print max(l1)"
   ]
  },
  {
   "cell_type": "code",
   "execution_count": 74,
   "metadata": {},
   "outputs": [
    {
     "name": "stdout",
     "output_type": "stream",
     "text": [
      "[12, 23, 45, 45, 34, 6, 7]\n",
      "45\n"
     ]
    }
   ],
   "source": [
    "l1=[\"12\",\"23\",\"45\",\"45\",\"34\",\"6\",\"7\"]\n",
    "res=[]\n",
    "for i in l1:\n",
    "    res.append(int(i))\n",
    "print res\n",
    "print max(res)"
   ]
  },
  {
   "cell_type": "code",
   "execution_count": 76,
   "metadata": {},
   "outputs": [
    {
     "name": "stdout",
     "output_type": "stream",
     "text": [
      "[12, 23, 45, 45, 34, 6, 7]\n",
      "45\n"
     ]
    }
   ],
   "source": [
    "l1=[\"12\",\"23\",\"45\",\"45\",\"34\",\"6\",\"7\"]\n",
    "res=[int(i) for i in l1]\n",
    "print res\n",
    "print max(res)"
   ]
  },
  {
   "cell_type": "code",
   "execution_count": 77,
   "metadata": {},
   "outputs": [
    {
     "name": "stdout",
     "output_type": "stream",
     "text": [
      "[12, 23, 45, 45, 34, 6, 7]\n"
     ]
    },
    {
     "ename": "TypeError",
     "evalue": "max expected 1 arguments, got 0",
     "output_type": "error",
     "traceback": [
      "\u001b[0;31m---------------------------------------------------------------------------\u001b[0m",
      "\u001b[0;31mTypeError\u001b[0m                                 Traceback (most recent call last)",
      "\u001b[0;32m<ipython-input-77-79d143ec726c>\u001b[0m in \u001b[0;36m<module>\u001b[0;34m()\u001b[0m\n\u001b[1;32m      2\u001b[0m \u001b[0mres\u001b[0m\u001b[0;34m=\u001b[0m\u001b[0;34m[\u001b[0m\u001b[0mint\u001b[0m\u001b[0;34m(\u001b[0m\u001b[0mi\u001b[0m\u001b[0;34m)\u001b[0m \u001b[0;32mfor\u001b[0m \u001b[0mi\u001b[0m \u001b[0;32min\u001b[0m \u001b[0ml1\u001b[0m\u001b[0;34m]\u001b[0m\u001b[0;34m\u001b[0m\u001b[0m\n\u001b[1;32m      3\u001b[0m \u001b[0;32mprint\u001b[0m \u001b[0mres\u001b[0m\u001b[0;34m\u001b[0m\u001b[0m\n\u001b[0;32m----> 4\u001b[0;31m \u001b[0;32mprint\u001b[0m \u001b[0mmax\u001b[0m\u001b[0;34m(\u001b[0m\u001b[0;34m)\u001b[0m\u001b[0;34m\u001b[0m\u001b[0m\n\u001b[0m",
      "\u001b[0;31mTypeError\u001b[0m: max expected 1 arguments, got 0"
     ]
    }
   ],
   "source": [
    "l1=[\"12\",\"23\",\"45\",\"45\",\"34\",\"6\",\"7\"]\n",
    "res=[int(i) for i in l1]\n",
    "print res\n",
    "print max()"
   ]
  },
  {
   "cell_type": "code",
   "execution_count": 78,
   "metadata": {},
   "outputs": [
    {
     "name": "stdout",
     "output_type": "stream",
     "text": [
      "<generator object <genexpr> at 0x7ff8d45759b0>\n",
      "45\n"
     ]
    }
   ],
   "source": [
    "l1=[\"12\",\"23\",\"45\",\"45\",\"34\",\"6\",\"7\"]\n",
    "res=(int(i) for i in l1)\n",
    "print res\n",
    "print max(res)"
   ]
  },
  {
   "cell_type": "code",
   "execution_count": 79,
   "metadata": {},
   "outputs": [
    {
     "name": "stdout",
     "output_type": "stream",
     "text": [
      "0 10\n",
      "1 11\n",
      "2 12\n",
      "3 13\n",
      "4 14\n",
      "5 15\n",
      "6 16\n",
      "7 17\n",
      "8 18\n",
      "9 19\n"
     ]
    }
   ],
   "source": [
    "keys=range(10)\n",
    "values=range(10,20)\n",
    "d={}\n",
    "for i,j in zip(keys, values):\n",
    "    print i,j"
   ]
  },
  {
   "cell_type": "code",
   "execution_count": 81,
   "metadata": {},
   "outputs": [
    {
     "name": "stdout",
     "output_type": "stream",
     "text": [
      "[0, 1, 2, 3, 4, 5, 6, 7, 8, 9]\n",
      "[10, 11, 12, 13, 14, 15, 16, 17, 18, 19]\n",
      "[(0, 10), (1, 11), (2, 12), (3, 13), (4, 14), (5, 15), (6, 16), (7, 17), (8, 18), (9, 19)]\n"
     ]
    }
   ],
   "source": [
    "keys=range(10)\n",
    "values=range(10,20)\n",
    "print keys\n",
    "print values\n",
    "print zip(keys, values)"
   ]
  },
  {
   "cell_type": "code",
   "execution_count": 82,
   "metadata": {},
   "outputs": [
    {
     "name": "stdout",
     "output_type": "stream",
     "text": [
      "0\n",
      "1\n",
      "2\n",
      "3\n",
      "4\n",
      "5\n",
      "6\n",
      "7\n",
      "8\n",
      "9\n"
     ]
    }
   ],
   "source": [
    "keys=range(10)\n",
    "values=range(10,20)\n",
    "for i in keys:\n",
    "    print i"
   ]
  },
  {
   "cell_type": "code",
   "execution_count": 83,
   "metadata": {},
   "outputs": [
    {
     "name": "stdout",
     "output_type": "stream",
     "text": [
      "100\n",
      "101\n",
      "102\n",
      "103\n",
      "104\n",
      "105\n",
      "106\n",
      "107\n",
      "108\n",
      "109\n"
     ]
    }
   ],
   "source": [
    "keys=range(100,110)\n",
    "values=range(10,20)\n",
    "for i in keys:\n",
    "    print i"
   ]
  },
  {
   "cell_type": "code",
   "execution_count": 84,
   "metadata": {},
   "outputs": [
    {
     "name": "stdout",
     "output_type": "stream",
     "text": [
      "(0, 100)\n",
      "(1, 101)\n",
      "(2, 102)\n",
      "(3, 103)\n",
      "(4, 104)\n",
      "(5, 105)\n",
      "(6, 106)\n",
      "(7, 107)\n",
      "(8, 108)\n",
      "(9, 109)\n"
     ]
    }
   ],
   "source": [
    "keys=range(100,110)\n",
    "values=range(10,20)\n",
    "for i in enumerate(keys):\n",
    "    print i"
   ]
  },
  {
   "cell_type": "code",
   "execution_count": 85,
   "metadata": {},
   "outputs": [
    {
     "name": "stdout",
     "output_type": "stream",
     "text": [
      "0 100\n",
      "1 101\n",
      "2 102\n",
      "3 103\n",
      "4 104\n",
      "5 105\n",
      "6 106\n",
      "7 107\n",
      "8 108\n",
      "9 109\n"
     ]
    }
   ],
   "source": [
    "keys=range(100,110)\n",
    "values=range(10,20)\n",
    "for i,v in enumerate(keys):\n",
    "    print i,v"
   ]
  },
  {
   "cell_type": "code",
   "execution_count": 86,
   "metadata": {},
   "outputs": [
    {
     "name": "stdout",
     "output_type": "stream",
     "text": [
      "100 10\n",
      "101 11\n",
      "102 12\n",
      "103 13\n",
      "104 14\n",
      "105 15\n",
      "106 16\n",
      "107 17\n",
      "108 18\n",
      "109 19\n"
     ]
    }
   ],
   "source": [
    "keys=range(100,110)\n",
    "values=range(10,20)\n",
    "d={}\n",
    "for i,v in enumerate(keys):\n",
    "    print v,values[i]"
   ]
  },
  {
   "cell_type": "code",
   "execution_count": 88,
   "metadata": {},
   "outputs": [
    {
     "name": "stdout",
     "output_type": "stream",
     "text": [
      "{100: 10, 101: 11, 102: 12, 103: 13, 104: 14, 105: 15, 106: 16, 107: 17, 108: 18, 109: 19}\n"
     ]
    }
   ],
   "source": [
    "keys=range(100,110)\n",
    "values=range(10,20)\n",
    "d={}\n",
    "for i,v in enumerate(keys):\n",
    "    d.update({v:values[i]})\n",
    "print d"
   ]
  },
  {
   "cell_type": "code",
   "execution_count": 89,
   "metadata": {},
   "outputs": [
    {
     "name": "stdout",
     "output_type": "stream",
     "text": [
      "{100: 10, 101: 11, 102: 12, 103: 13, 104: 14, 105: 15, 106: 16, 107: 17, 108: 18, 109: 19}\n"
     ]
    }
   ],
   "source": [
    "keys=range(100,110)\n",
    "values=range(10,20)\n",
    "d={}\n",
    "[d.update({v:values[i]}) for i,v in enumerate(keys)]\n",
    "print d"
   ]
  },
  {
   "cell_type": "code",
   "execution_count": 91,
   "metadata": {},
   "outputs": [
    {
     "name": "stdout",
     "output_type": "stream",
     "text": [
      "<generator object <genexpr> at 0x7ff8d45757d0>\n",
      "None\n",
      "None\n",
      "None\n",
      "None\n",
      "None\n",
      "None\n",
      "None\n",
      "None\n",
      "None\n",
      "None\n",
      "{100: 10, 101: 11, 102: 12, 103: 13, 104: 14, 105: 15, 106: 16, 107: 17, 108: 18, 109: 19}\n"
     ]
    }
   ],
   "source": [
    "keys=range(100,110)\n",
    "values=range(10,20)\n",
    "d={}\n",
    "res = (d.update({v:values[i]}) for i,v in enumerate(keys))\n",
    "print res\n",
    "for i in res:\n",
    "    print i\n",
    "print d"
   ]
  },
  {
   "cell_type": "code",
   "execution_count": 93,
   "metadata": {},
   "outputs": [
    {
     "name": "stdout",
     "output_type": "stream",
     "text": [
      "{100: 10, 101: 11, 102: 12, 103: 13, 104: 14, 105: 15, 106: 16, 107: 17, 108: 18, 109: 19}\n"
     ]
    }
   ],
   "source": [
    "keys=range(100,110)\n",
    "values=range(10,20)\n",
    "d={k:v for k,v in zip(keys, values)}\n",
    "print d"
   ]
  },
  {
   "cell_type": "code",
   "execution_count": 95,
   "metadata": {},
   "outputs": [
    {
     "name": "stdout",
     "output_type": "stream",
     "text": [
      "[(100, 10), (101, 11), (102, 12), (103, 13), (104, 14), (105, 15), (106, 16), (107, 17), (108, 18), (109, 19)]\n",
      "{100: 10, 101: 11, 102: 12, 103: 13, 104: 14, 105: 15, 106: 16, 107: 17, 108: 18, 109: 19}\n"
     ]
    }
   ],
   "source": [
    "keys=range(100,110)\n",
    "values=range(10,20)\n",
    "r=zip(keys, values)\n",
    "print r\n",
    "d=dict(r)\n",
    "print d"
   ]
  },
  {
   "cell_type": "code",
   "execution_count": 96,
   "metadata": {},
   "outputs": [
    {
     "name": "stdout",
     "output_type": "stream",
     "text": [
      "<type 'function'>\n",
      "<type 'function'>\n",
      "<type 'function'>\n"
     ]
    }
   ],
   "source": [
    "def even(x):\n",
    "    if x%2==0:\n",
    "        return True\n",
    "    else:\n",
    "        return Falss\n",
    "def fun1(x):\n",
    "    return True if x%2==0 else False\n",
    "fun2=lambda x: True if x%2==0 else False\n",
    "print type(fun2)\n",
    "print type(fun1)\n",
    "print type(even)"
   ]
  },
  {
   "cell_type": "code",
   "execution_count": 97,
   "metadata": {},
   "outputs": [
    {
     "name": "stdout",
     "output_type": "stream",
     "text": [
      "False\n"
     ]
    }
   ],
   "source": [
    "def even(x):\n",
    "    if x%2==0:\n",
    "        return True\n",
    "    else:\n",
    "        return Falss\n",
    "def fun1(x):\n",
    "    return True if x%2==0 else False\n",
    "fun2=lambda x: True if x%2==0 else False\n",
    "print fun2(23)"
   ]
  },
  {
   "cell_type": "code",
   "execution_count": null,
   "metadata": {
    "collapsed": true
   },
   "outputs": [],
   "source": []
  }
 ],
 "metadata": {
  "kernelspec": {
   "display_name": "Python 2",
   "language": "python",
   "name": "python2"
  },
  "language_info": {
   "codemirror_mode": {
    "name": "ipython",
    "version": 2
   },
   "file_extension": ".py",
   "mimetype": "text/x-python",
   "name": "python",
   "nbconvert_exporter": "python",
   "pygments_lexer": "ipython2",
   "version": "2.7.14"
  }
 },
 "nbformat": 4,
 "nbformat_minor": 2
}
